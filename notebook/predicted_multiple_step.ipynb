{
  "cells": [
    {
      "cell_type": "code",
      "execution_count": null,
      "metadata": {
        "id": "eOP4px8RyPVE"
      },
      "outputs": [],
      "source": []
    },
    {
      "cell_type": "code",
      "execution_count": null,
      "metadata": {
        "colab": {
          "base_uri": "https://localhost:8080/"
        },
        "id": "ct5eHvvQBjpN",
        "outputId": "c17fa089-7717-4559-9852-3384ddf509f4"
      },
      "outputs": [
        {
          "name": "stdout",
          "output_type": "stream",
          "text": [
            "Cloning into 'Tidal_try'...\n",
            "remote: Enumerating objects: 460, done.\u001b[K\n",
            "remote: Counting objects: 100% (105/105), done.\u001b[K\n",
            "remote: Compressing objects: 100% (105/105), done.\u001b[K\n",
            "remote: Total 460 (delta 50), reused 0 (delta 0), pack-reused 355 (from 1)\u001b[K\n",
            "Receiving objects: 100% (460/460), 59.30 MiB | 6.95 MiB/s, done.\n",
            "Resolving deltas: 100% (181/181), done.\n"
          ]
        }
      ],
      "source": [
        "!git clone https://github.com/zhn66776/Tidal_try.git"
      ]
    },
    {
      "cell_type": "code",
      "execution_count": null,
      "metadata": {
        "colab": {
          "base_uri": "https://localhost:8080/"
        },
        "id": "OH4Rq7W82b-T",
        "outputId": "24580570-e34f-4780-8dec-a080162f72c7"
      },
      "outputs": [
        {
          "name": "stdout",
          "output_type": "stream",
          "text": [
            "/content/Tidal_try\n"
          ]
        }
      ],
      "source": [
        "cd Tidal_try/"
      ]
    },
    {
      "cell_type": "code",
      "execution_count": null,
      "metadata": {
        "colab": {
          "base_uri": "https://localhost:8080/",
          "height": 292
        },
        "id": "6K5XLDam2gla",
        "outputId": "058ad3b0-583c-4780-e730-d1e6c044a32d"
      },
      "outputs": [
        {
          "name": "stderr",
          "output_type": "stream",
          "text": [
            "<ipython-input-3-222c38f42ae7>:7: FutureWarning: The 'delim_whitespace' keyword in pd.read_csv is deprecated and will be removed in a future version. Use ``sep='\\s+'`` instead\n",
            "  obs = pd.read_csv(\n"
          ]
        },
        {
          "data": {
            "application/vnd.google.colaboratory.intrinsic+json": {
              "summary": "{\n  \"name\": \"obs\",\n  \"rows\": 8760,\n  \"fields\": [\n    {\n      \"column\": \"time\",\n      \"properties\": {\n        \"dtype\": \"date\",\n        \"min\": \"1998-01-01 00:00:00\",\n        \"max\": \"1998-12-31 23:00:00\",\n        \"num_unique_values\": 8760,\n        \"samples\": [\n          \"1998-09-10 08:00:00\",\n          \"1998-08-20 12:00:00\",\n          \"1998-09-07 14:00:00\"\n        ],\n        \"semantic_type\": \"\",\n        \"description\": \"\"\n      }\n    },\n    {\n      \"column\": \"seconds\",\n      \"properties\": {\n        \"dtype\": \"number\",\n        \"std\": 9104178,\n        \"min\": 0,\n        \"max\": 31532400,\n        \"num_unique_values\": 8760,\n        \"samples\": [\n          21801600,\n          20001600,\n          21564000\n        ],\n        \"semantic_type\": \"\",\n        \"description\": \"\"\n      }\n    },\n    {\n      \"column\": \"Water_Level_LAT\",\n      \"properties\": {\n        \"dtype\": \"number\",\n        \"std\": 0.39399806050913644,\n        \"min\": 0.63,\n        \"max\": 3.13,\n        \"num_unique_values\": 227,\n        \"samples\": [\n          1.67,\n          2.44,\n          2.28\n        ],\n        \"semantic_type\": \"\",\n        \"description\": \"\"\n      }\n    },\n    {\n      \"column\": \"flag\",\n      \"properties\": {\n        \"dtype\": \"number\",\n        \"std\": 0,\n        \"min\": 0,\n        \"max\": 2,\n        \"num_unique_values\": 3,\n        \"samples\": [\n          0,\n          1,\n          2\n        ],\n        \"semantic_type\": \"\",\n        \"description\": \"\"\n      }\n    }\n  ]\n}",
              "type": "dataframe",
              "variable_name": "obs"
            },
            "text/html": [
              "\n",
              "  <div id=\"df-316c0694-a047-446f-a0ed-0a65eaaaa549\" class=\"colab-df-container\">\n",
              "    <div>\n",
              "<style scoped>\n",
              "    .dataframe tbody tr th:only-of-type {\n",
              "        vertical-align: middle;\n",
              "    }\n",
              "\n",
              "    .dataframe tbody tr th {\n",
              "        vertical-align: top;\n",
              "    }\n",
              "\n",
              "    .dataframe thead th {\n",
              "        text-align: right;\n",
              "    }\n",
              "</style>\n",
              "<table border=\"1\" class=\"dataframe\">\n",
              "  <thead>\n",
              "    <tr style=\"text-align: right;\">\n",
              "      <th></th>\n",
              "      <th>seconds</th>\n",
              "      <th>Water_Level_LAT</th>\n",
              "      <th>flag</th>\n",
              "    </tr>\n",
              "    <tr>\n",
              "      <th>time</th>\n",
              "      <th></th>\n",
              "      <th></th>\n",
              "      <th></th>\n",
              "    </tr>\n",
              "  </thead>\n",
              "  <tbody>\n",
              "    <tr>\n",
              "      <th>1998-01-01 00:00:00</th>\n",
              "      <td>0</td>\n",
              "      <td>1.20</td>\n",
              "      <td>0</td>\n",
              "    </tr>\n",
              "    <tr>\n",
              "      <th>1998-01-01 01:00:00</th>\n",
              "      <td>3600</td>\n",
              "      <td>1.43</td>\n",
              "      <td>0</td>\n",
              "    </tr>\n",
              "    <tr>\n",
              "      <th>1998-01-01 02:00:00</th>\n",
              "      <td>7200</td>\n",
              "      <td>1.73</td>\n",
              "      <td>0</td>\n",
              "    </tr>\n",
              "    <tr>\n",
              "      <th>1998-01-01 03:00:00</th>\n",
              "      <td>10800</td>\n",
              "      <td>2.03</td>\n",
              "      <td>0</td>\n",
              "    </tr>\n",
              "    <tr>\n",
              "      <th>1998-01-01 04:00:00</th>\n",
              "      <td>14400</td>\n",
              "      <td>2.38</td>\n",
              "      <td>0</td>\n",
              "    </tr>\n",
              "  </tbody>\n",
              "</table>\n",
              "</div>\n",
              "    <div class=\"colab-df-buttons\">\n",
              "\n",
              "  <div class=\"colab-df-container\">\n",
              "    <button class=\"colab-df-convert\" onclick=\"convertToInteractive('df-316c0694-a047-446f-a0ed-0a65eaaaa549')\"\n",
              "            title=\"Convert this dataframe to an interactive table.\"\n",
              "            style=\"display:none;\">\n",
              "\n",
              "  <svg xmlns=\"http://www.w3.org/2000/svg\" height=\"24px\" viewBox=\"0 -960 960 960\">\n",
              "    <path d=\"M120-120v-720h720v720H120Zm60-500h600v-160H180v160Zm220 220h160v-160H400v160Zm0 220h160v-160H400v160ZM180-400h160v-160H180v160Zm440 0h160v-160H620v160ZM180-180h160v-160H180v160Zm440 0h160v-160H620v160Z\"/>\n",
              "  </svg>\n",
              "    </button>\n",
              "\n",
              "  <style>\n",
              "    .colab-df-container {\n",
              "      display:flex;\n",
              "      gap: 12px;\n",
              "    }\n",
              "\n",
              "    .colab-df-convert {\n",
              "      background-color: #E8F0FE;\n",
              "      border: none;\n",
              "      border-radius: 50%;\n",
              "      cursor: pointer;\n",
              "      display: none;\n",
              "      fill: #1967D2;\n",
              "      height: 32px;\n",
              "      padding: 0 0 0 0;\n",
              "      width: 32px;\n",
              "    }\n",
              "\n",
              "    .colab-df-convert:hover {\n",
              "      background-color: #E2EBFA;\n",
              "      box-shadow: 0px 1px 2px rgba(60, 64, 67, 0.3), 0px 1px 3px 1px rgba(60, 64, 67, 0.15);\n",
              "      fill: #174EA6;\n",
              "    }\n",
              "\n",
              "    .colab-df-buttons div {\n",
              "      margin-bottom: 4px;\n",
              "    }\n",
              "\n",
              "    [theme=dark] .colab-df-convert {\n",
              "      background-color: #3B4455;\n",
              "      fill: #D2E3FC;\n",
              "    }\n",
              "\n",
              "    [theme=dark] .colab-df-convert:hover {\n",
              "      background-color: #434B5C;\n",
              "      box-shadow: 0px 1px 3px 1px rgba(0, 0, 0, 0.15);\n",
              "      filter: drop-shadow(0px 1px 2px rgba(0, 0, 0, 0.3));\n",
              "      fill: #FFFFFF;\n",
              "    }\n",
              "  </style>\n",
              "\n",
              "    <script>\n",
              "      const buttonEl =\n",
              "        document.querySelector('#df-316c0694-a047-446f-a0ed-0a65eaaaa549 button.colab-df-convert');\n",
              "      buttonEl.style.display =\n",
              "        google.colab.kernel.accessAllowed ? 'block' : 'none';\n",
              "\n",
              "      async function convertToInteractive(key) {\n",
              "        const element = document.querySelector('#df-316c0694-a047-446f-a0ed-0a65eaaaa549');\n",
              "        const dataTable =\n",
              "          await google.colab.kernel.invokeFunction('convertToInteractive',\n",
              "                                                    [key], {});\n",
              "        if (!dataTable) return;\n",
              "\n",
              "        const docLinkHtml = 'Like what you see? Visit the ' +\n",
              "          '<a target=\"_blank\" href=https://colab.research.google.com/notebooks/data_table.ipynb>data table notebook</a>'\n",
              "          + ' to learn more about interactive tables.';\n",
              "        element.innerHTML = '';\n",
              "        dataTable['output_type'] = 'display_data';\n",
              "        await google.colab.output.renderOutput(dataTable, element);\n",
              "        const docLink = document.createElement('div');\n",
              "        docLink.innerHTML = docLinkHtml;\n",
              "        element.appendChild(docLink);\n",
              "      }\n",
              "    </script>\n",
              "  </div>\n",
              "\n",
              "\n",
              "<div id=\"df-7bc03437-4581-43b0-84c4-b2fd64a88256\">\n",
              "  <button class=\"colab-df-quickchart\" onclick=\"quickchart('df-7bc03437-4581-43b0-84c4-b2fd64a88256')\"\n",
              "            title=\"Suggest charts\"\n",
              "            style=\"display:none;\">\n",
              "\n",
              "<svg xmlns=\"http://www.w3.org/2000/svg\" height=\"24px\"viewBox=\"0 0 24 24\"\n",
              "     width=\"24px\">\n",
              "    <g>\n",
              "        <path d=\"M19 3H5c-1.1 0-2 .9-2 2v14c0 1.1.9 2 2 2h14c1.1 0 2-.9 2-2V5c0-1.1-.9-2-2-2zM9 17H7v-7h2v7zm4 0h-2V7h2v10zm4 0h-2v-4h2v4z\"/>\n",
              "    </g>\n",
              "</svg>\n",
              "  </button>\n",
              "\n",
              "<style>\n",
              "  .colab-df-quickchart {\n",
              "      --bg-color: #E8F0FE;\n",
              "      --fill-color: #1967D2;\n",
              "      --hover-bg-color: #E2EBFA;\n",
              "      --hover-fill-color: #174EA6;\n",
              "      --disabled-fill-color: #AAA;\n",
              "      --disabled-bg-color: #DDD;\n",
              "  }\n",
              "\n",
              "  [theme=dark] .colab-df-quickchart {\n",
              "      --bg-color: #3B4455;\n",
              "      --fill-color: #D2E3FC;\n",
              "      --hover-bg-color: #434B5C;\n",
              "      --hover-fill-color: #FFFFFF;\n",
              "      --disabled-bg-color: #3B4455;\n",
              "      --disabled-fill-color: #666;\n",
              "  }\n",
              "\n",
              "  .colab-df-quickchart {\n",
              "    background-color: var(--bg-color);\n",
              "    border: none;\n",
              "    border-radius: 50%;\n",
              "    cursor: pointer;\n",
              "    display: none;\n",
              "    fill: var(--fill-color);\n",
              "    height: 32px;\n",
              "    padding: 0;\n",
              "    width: 32px;\n",
              "  }\n",
              "\n",
              "  .colab-df-quickchart:hover {\n",
              "    background-color: var(--hover-bg-color);\n",
              "    box-shadow: 0 1px 2px rgba(60, 64, 67, 0.3), 0 1px 3px 1px rgba(60, 64, 67, 0.15);\n",
              "    fill: var(--button-hover-fill-color);\n",
              "  }\n",
              "\n",
              "  .colab-df-quickchart-complete:disabled,\n",
              "  .colab-df-quickchart-complete:disabled:hover {\n",
              "    background-color: var(--disabled-bg-color);\n",
              "    fill: var(--disabled-fill-color);\n",
              "    box-shadow: none;\n",
              "  }\n",
              "\n",
              "  .colab-df-spinner {\n",
              "    border: 2px solid var(--fill-color);\n",
              "    border-color: transparent;\n",
              "    border-bottom-color: var(--fill-color);\n",
              "    animation:\n",
              "      spin 1s steps(1) infinite;\n",
              "  }\n",
              "\n",
              "  @keyframes spin {\n",
              "    0% {\n",
              "      border-color: transparent;\n",
              "      border-bottom-color: var(--fill-color);\n",
              "      border-left-color: var(--fill-color);\n",
              "    }\n",
              "    20% {\n",
              "      border-color: transparent;\n",
              "      border-left-color: var(--fill-color);\n",
              "      border-top-color: var(--fill-color);\n",
              "    }\n",
              "    30% {\n",
              "      border-color: transparent;\n",
              "      border-left-color: var(--fill-color);\n",
              "      border-top-color: var(--fill-color);\n",
              "      border-right-color: var(--fill-color);\n",
              "    }\n",
              "    40% {\n",
              "      border-color: transparent;\n",
              "      border-right-color: var(--fill-color);\n",
              "      border-top-color: var(--fill-color);\n",
              "    }\n",
              "    60% {\n",
              "      border-color: transparent;\n",
              "      border-right-color: var(--fill-color);\n",
              "    }\n",
              "    80% {\n",
              "      border-color: transparent;\n",
              "      border-right-color: var(--fill-color);\n",
              "      border-bottom-color: var(--fill-color);\n",
              "    }\n",
              "    90% {\n",
              "      border-color: transparent;\n",
              "      border-bottom-color: var(--fill-color);\n",
              "    }\n",
              "  }\n",
              "</style>\n",
              "\n",
              "  <script>\n",
              "    async function quickchart(key) {\n",
              "      const quickchartButtonEl =\n",
              "        document.querySelector('#' + key + ' button');\n",
              "      quickchartButtonEl.disabled = true;  // To prevent multiple clicks.\n",
              "      quickchartButtonEl.classList.add('colab-df-spinner');\n",
              "      try {\n",
              "        const charts = await google.colab.kernel.invokeFunction(\n",
              "            'suggestCharts', [key], {});\n",
              "      } catch (error) {\n",
              "        console.error('Error during call to suggestCharts:', error);\n",
              "      }\n",
              "      quickchartButtonEl.classList.remove('colab-df-spinner');\n",
              "      quickchartButtonEl.classList.add('colab-df-quickchart-complete');\n",
              "    }\n",
              "    (() => {\n",
              "      let quickchartButtonEl =\n",
              "        document.querySelector('#df-7bc03437-4581-43b0-84c4-b2fd64a88256 button');\n",
              "      quickchartButtonEl.style.display =\n",
              "        google.colab.kernel.accessAllowed ? 'block' : 'none';\n",
              "    })();\n",
              "  </script>\n",
              "</div>\n",
              "\n",
              "    </div>\n",
              "  </div>\n"
            ],
            "text/plain": [
              "                     seconds  Water_Level_LAT  flag\n",
              "time                                               \n",
              "1998-01-01 00:00:00        0             1.20     0\n",
              "1998-01-01 01:00:00     3600             1.43     0\n",
              "1998-01-01 02:00:00     7200             1.73     0\n",
              "1998-01-01 03:00:00    10800             2.03     0\n",
              "1998-01-01 04:00:00    14400             2.38     0"
            ]
          },
          "execution_count": 3,
          "metadata": {},
          "output_type": "execute_result"
        }
      ],
      "source": [
        "import pandas as pd\n",
        "\n",
        "\n",
        "names = [\"seconds\", \"year\", \"month\", \"day\", \"hour\", \"Water_Level_LAT\", \"flag\"]\n",
        "\n",
        "obs = pd.read_csv(\n",
        "    \"./dataProcessed/can1998\",\n",
        "    names=names,\n",
        "    skipinitialspace=True,\n",
        "    delim_whitespace=True,\n",
        "    na_values=\"9.990\",\n",
        ")\n",
        "\n",
        "obs['time'] = pd.to_datetime(obs[['year', 'month', 'day', 'hour']])\n",
        "\n",
        "obs = obs.drop(columns=[\"year\", \"month\", \"day\", \"hour\"])\n",
        "\n",
        "obs = obs.set_index('time')\n",
        "\n",
        "obs.head(5)"
      ]
    },
    {
      "cell_type": "code",
      "execution_count": null,
      "metadata": {
        "id": "jafnxEjB2rOG"
      },
      "outputs": [],
      "source": [
        "obs.to_csv('./dataProcessed/cannew.csv', index=True)\n"
      ]
    },
    {
      "cell_type": "code",
      "execution_count": null,
      "metadata": {
        "id": "LmU0rxEA2thR"
      },
      "outputs": [],
      "source": [
        "import pandas as pd\n",
        "import numpy as np\n",
        "\n",
        "obs = pd.read_csv('./dataProcessed/cannew.csv')\n",
        "bad = obs[\"flag\"] == 2\n",
        "corrected = obs[\"flag\"] == 1\n",
        "\n",
        "obs.loc[bad, \"elev\"] = np.nan\n",
        "\n",
        "obs[\"anomaly\"] = obs[\"elev\"] - obs[\"elev\"].mean()\n",
        "\n",
        "obs[\"anomaly\"] = obs[\"anomaly\"].interpolate()\n",
        "\n",
        "obs.to_csv('./dataProcessed/procan.csv', index=False)"
      ]
    },
    {
      "cell_type": "code",
      "execution_count": null,
      "metadata": {
        "colab": {
          "base_uri": "https://localhost:8080/",
          "height": 1000
        },
        "id": "yIi0s0LY3Bhd",
        "outputId": "e27ba263-9a62-4a5a-9dd8-c36d0a3e35ad"
      },
      "outputs": [
        {
          "name": "stdout",
          "output_type": "stream",
          "text": [
            "Data loading...\n"
          ]
        },
        {
          "name": "stderr",
          "output_type": "stream",
          "text": [
            "100%|██████████| 8740/8740 [00:00<00:00, 215570.63it/s]"
          ]
        },
        {
          "name": "stdout",
          "output_type": "stream",
          "text": [
            "测试集大小为437\n"
          ]
        },
        {
          "name": "stderr",
          "output_type": "stream",
          "text": [
            "\n",
            "/usr/local/lib/python3.10/dist-packages/torch/utils/data/dataloader.py:617: UserWarning: This DataLoader will create 4 worker processes in total. Our suggested max number of worker in current system is 2, which is smaller than what this DataLoader is going to create. Please be aware that excessive worker creation might get DataLoader running slow or even freeze, lower the worker number to avoid potential slowness/freeze if necessary.\n",
            "  warnings.warn(\n"
          ]
        },
        {
          "name": "stdout",
          "output_type": "stream",
          "text": [
            "Model loading...\n",
            "Configuration Parameters:\n",
            " - Batch size: 20\n",
            " - Lookback: 20\n",
            " - Epochs: 7\n",
            " - Learning rate: 0.01\n",
            " - Weight decay: 1e-05\n",
            "Training...\n"
          ]
        },
        {
          "name": "stderr",
          "output_type": "stream",
          "text": [
            "/usr/local/lib/python3.10/dist-packages/torch/utils/data/dataloader.py:617: UserWarning: This DataLoader will create 4 worker processes in total. Our suggested max number of worker in current system is 2, which is smaller than what this DataLoader is going to create. Please be aware that excessive worker creation might get DataLoader running slow or even freeze, lower the worker number to avoid potential slowness/freeze if necessary.\n",
            "  warnings.warn(\n",
            "/usr/local/lib/python3.10/dist-packages/torch/nn/modules/loss.py:608: UserWarning: Using a target size (torch.Size([20, 1])) that is different to the input size (torch.Size([20])). This will likely lead to incorrect results due to broadcasting. Please ensure they have the same size.\n",
            "  return F.mse_loss(input, target, reduction=self.reduction)\n"
          ]
        },
        {
          "name": "stdout",
          "output_type": "stream",
          "text": [
            "Epoch: 0 Batch: 0 | Loss: 0.18829938769340515\n",
            "Epoch: 0 Batch: 10 | Loss: 0.02147017791867256\n",
            "Epoch: 0 Batch: 20 | Loss: 0.012600318528711796\n",
            "Epoch: 0 Batch: 30 | Loss: 0.03724517673254013\n",
            "Epoch: 0 Batch: 40 | Loss: 0.005623013246804476\n",
            "Epoch: 0 Batch: 50 | Loss: 0.061892613768577576\n",
            "Epoch: 0 Batch: 60 | Loss: 0.008939328603446484\n",
            "Epoch: 0 Batch: 70 | Loss: 0.03439734876155853\n",
            "Epoch: 0 Batch: 80 | Loss: 0.02768213115632534\n",
            "Epoch: 0 Batch: 90 | Loss: 0.049707330763339996\n",
            "Epoch: 0 Batch: 100 | Loss: 0.10921996831893921\n",
            "Epoch: 0 Batch: 110 | Loss: 0.0039038502145558596\n",
            "Epoch: 0 Batch: 120 | Loss: 0.04053090140223503\n",
            "Epoch: 0 Batch: 130 | Loss: 0.018946398049592972\n",
            "Epoch: 0 Batch: 140 | Loss: 0.021685490384697914\n",
            "Epoch: 0 Batch: 150 | Loss: 0.01825702376663685\n",
            "Epoch: 0 Batch: 160 | Loss: 0.025304600596427917\n",
            "Epoch: 0 Batch: 170 | Loss: 0.027578439563512802\n",
            "Epoch: 0 Batch: 180 | Loss: 0.006175732705742121\n",
            "Epoch: 0 Batch: 190 | Loss: 0.03139441832900047\n",
            "Epoch: 0 Batch: 200 | Loss: 0.01828869991004467\n",
            "Epoch: 0 Batch: 210 | Loss: 0.02286774478852749\n",
            "Epoch: 0 Batch: 220 | Loss: 0.01222013309597969\n",
            "Epoch: 0 Batch: 230 | Loss: 0.023867981508374214\n",
            "Epoch: 0 Batch: 240 | Loss: 0.022990357130765915\n",
            "Epoch: 0 Batch: 250 | Loss: 0.017363248392939568\n",
            "Epoch: 0 Batch: 260 | Loss: 0.024719931185245514\n",
            "Epoch: 0 Batch: 270 | Loss: 0.005955634173005819\n",
            "Epoch: 0 Batch: 280 | Loss: 0.04367036372423172\n",
            "Epoch: 0 Batch: 290 | Loss: 0.009406988508999348\n",
            "Epoch: 0 Batch: 300 | Loss: 0.024622008204460144\n",
            "Epoch: 0 Batch: 310 | Loss: 0.01886509172618389\n",
            "Epoch: 0 Batch: 320 | Loss: 0.027577724307775497\n",
            "Epoch: 0 Batch: 330 | Loss: 0.05060073360800743\n",
            "Epoch: 0 Batch: 340 | Loss: 0.009882481768727303\n",
            "Epoch: 0 Batch: 350 | Loss: 0.03498359024524689\n",
            "Epoch: 0 Batch: 360 | Loss: 0.011419134214520454\n",
            "Epoch: 0 Batch: 370 | Loss: 0.02395486645400524\n",
            "Epoch: 0 Batch: 380 | Loss: 0.014323209412395954\n",
            "Epoch: 0 Batch: 390 | Loss: 0.020048661157488823\n"
          ]
        },
        {
          "name": "stderr",
          "output_type": "stream",
          "text": [
            "22it [00:00, 93.48it/s] "
          ]
        },
        {
          "name": "stdout",
          "output_type": "stream",
          "text": [
            "Epoch: 0 Validation Loss: 0.01788277722951025\n"
          ]
        },
        {
          "name": "stderr",
          "output_type": "stream",
          "text": [
            "\n",
            "/usr/local/lib/python3.10/dist-packages/torch/utils/data/dataloader.py:617: UserWarning: This DataLoader will create 4 worker processes in total. Our suggested max number of worker in current system is 2, which is smaller than what this DataLoader is going to create. Please be aware that excessive worker creation might get DataLoader running slow or even freeze, lower the worker number to avoid potential slowness/freeze if necessary.\n",
            "  warnings.warn(\n",
            "/usr/local/lib/python3.10/dist-packages/torch/nn/modules/loss.py:608: UserWarning: Using a target size (torch.Size([20, 1])) that is different to the input size (torch.Size([20])). This will likely lead to incorrect results due to broadcasting. Please ensure they have the same size.\n",
            "  return F.mse_loss(input, target, reduction=self.reduction)\n"
          ]
        },
        {
          "name": "stdout",
          "output_type": "stream",
          "text": [
            "Epoch: 1 Batch: 0 | Loss: 0.0227593295276165\n",
            "Epoch: 1 Batch: 10 | Loss: 0.02515113167464733\n",
            "Epoch: 1 Batch: 20 | Loss: 0.013570308685302734\n",
            "Epoch: 1 Batch: 30 | Loss: 0.03705119341611862\n",
            "Epoch: 1 Batch: 40 | Loss: 0.003848694497719407\n",
            "Epoch: 1 Batch: 50 | Loss: 0.05048749968409538\n",
            "Epoch: 1 Batch: 60 | Loss: 0.004635176621377468\n",
            "Epoch: 1 Batch: 70 | Loss: 0.03852640092372894\n",
            "Epoch: 1 Batch: 80 | Loss: 0.023125359788537025\n",
            "Epoch: 1 Batch: 90 | Loss: 0.0359957255423069\n",
            "Epoch: 1 Batch: 100 | Loss: 0.08720619231462479\n",
            "Epoch: 1 Batch: 110 | Loss: 0.0035774949938058853\n",
            "Epoch: 1 Batch: 120 | Loss: 0.042178887873888016\n",
            "Epoch: 1 Batch: 130 | Loss: 0.019220098853111267\n",
            "Epoch: 1 Batch: 140 | Loss: 0.021528806537389755\n",
            "Epoch: 1 Batch: 150 | Loss: 0.0184608343988657\n",
            "Epoch: 1 Batch: 160 | Loss: 0.02493339776992798\n",
            "Epoch: 1 Batch: 170 | Loss: 0.027705473825335503\n",
            "Epoch: 1 Batch: 180 | Loss: 0.00591736426576972\n",
            "Epoch: 1 Batch: 190 | Loss: 0.03139354661107063\n",
            "Epoch: 1 Batch: 200 | Loss: 0.017448127269744873\n",
            "Epoch: 1 Batch: 210 | Loss: 0.02193528600037098\n",
            "Epoch: 1 Batch: 220 | Loss: 0.010854528285562992\n",
            "Epoch: 1 Batch: 230 | Loss: 0.024929899722337723\n",
            "Epoch: 1 Batch: 240 | Loss: 0.02315940149128437\n",
            "Epoch: 1 Batch: 250 | Loss: 0.017676863819360733\n",
            "Epoch: 1 Batch: 260 | Loss: 0.0250634104013443\n",
            "Epoch: 1 Batch: 270 | Loss: 0.005664455704391003\n",
            "Epoch: 1 Batch: 280 | Loss: 0.043480947613716125\n",
            "Epoch: 1 Batch: 290 | Loss: 0.00983352679759264\n",
            "Epoch: 1 Batch: 300 | Loss: 0.0244904775172472\n",
            "Epoch: 1 Batch: 310 | Loss: 0.01847034879028797\n",
            "Epoch: 1 Batch: 320 | Loss: 0.029755061492323875\n",
            "Epoch: 1 Batch: 330 | Loss: 0.051184553653001785\n",
            "Epoch: 1 Batch: 340 | Loss: 0.006510097999125719\n",
            "Epoch: 1 Batch: 350 | Loss: 0.03591672331094742\n",
            "Epoch: 1 Batch: 360 | Loss: 0.01322760246694088\n",
            "Epoch: 1 Batch: 370 | Loss: 0.024228429421782494\n",
            "Epoch: 1 Batch: 380 | Loss: 0.01685359515249729\n",
            "Epoch: 1 Batch: 390 | Loss: 0.020898401737213135\n"
          ]
        },
        {
          "name": "stderr",
          "output_type": "stream",
          "text": [
            "22it [00:00, 106.30it/s]"
          ]
        },
        {
          "name": "stdout",
          "output_type": "stream",
          "text": [
            "Epoch: 1 Validation Loss: 0.01837276020737354\n"
          ]
        },
        {
          "name": "stderr",
          "output_type": "stream",
          "text": [
            "\n",
            "/usr/local/lib/python3.10/dist-packages/torch/utils/data/dataloader.py:617: UserWarning: This DataLoader will create 4 worker processes in total. Our suggested max number of worker in current system is 2, which is smaller than what this DataLoader is going to create. Please be aware that excessive worker creation might get DataLoader running slow or even freeze, lower the worker number to avoid potential slowness/freeze if necessary.\n",
            "  warnings.warn(\n",
            "/usr/local/lib/python3.10/dist-packages/torch/nn/modules/loss.py:608: UserWarning: Using a target size (torch.Size([20, 1])) that is different to the input size (torch.Size([20])). This will likely lead to incorrect results due to broadcasting. Please ensure they have the same size.\n",
            "  return F.mse_loss(input, target, reduction=self.reduction)\n"
          ]
        },
        {
          "name": "stdout",
          "output_type": "stream",
          "text": [
            "Epoch: 2 Batch: 0 | Loss: 0.023293234407901764\n",
            "Epoch: 2 Batch: 10 | Loss: 0.028302185237407684\n",
            "Epoch: 2 Batch: 20 | Loss: 0.013685955666005611\n",
            "Epoch: 2 Batch: 30 | Loss: 0.037294913083314896\n",
            "Epoch: 2 Batch: 40 | Loss: 0.003991857636719942\n",
            "Epoch: 2 Batch: 50 | Loss: 0.046156711876392365\n",
            "Epoch: 2 Batch: 60 | Loss: 0.004210084211081266\n",
            "Epoch: 2 Batch: 70 | Loss: 0.0380571074783802\n",
            "Epoch: 2 Batch: 80 | Loss: 0.02327866479754448\n",
            "Epoch: 2 Batch: 90 | Loss: 0.03345061466097832\n",
            "Epoch: 2 Batch: 100 | Loss: 0.07534496486186981\n",
            "Epoch: 2 Batch: 110 | Loss: 0.0030877774115651846\n",
            "Epoch: 2 Batch: 120 | Loss: 0.04305173084139824\n",
            "Epoch: 2 Batch: 130 | Loss: 0.01852189563214779\n",
            "Epoch: 2 Batch: 140 | Loss: 0.02137068286538124\n",
            "Epoch: 2 Batch: 150 | Loss: 0.01832159236073494\n",
            "Epoch: 2 Batch: 160 | Loss: 0.024517325684428215\n",
            "Epoch: 2 Batch: 170 | Loss: 0.027523433789610863\n",
            "Epoch: 2 Batch: 180 | Loss: 0.005862044170498848\n",
            "Epoch: 2 Batch: 190 | Loss: 0.03097592294216156\n",
            "Epoch: 2 Batch: 200 | Loss: 0.016259577125310898\n",
            "Epoch: 2 Batch: 210 | Loss: 0.02206808514893055\n",
            "Epoch: 2 Batch: 220 | Loss: 0.010426254011690617\n",
            "Epoch: 2 Batch: 230 | Loss: 0.02517487108707428\n",
            "Epoch: 2 Batch: 240 | Loss: 0.02323070913553238\n",
            "Epoch: 2 Batch: 250 | Loss: 0.017161278054118156\n",
            "Epoch: 2 Batch: 260 | Loss: 0.02499406412243843\n",
            "Epoch: 2 Batch: 270 | Loss: 0.005749834701418877\n",
            "Epoch: 2 Batch: 280 | Loss: 0.04351745545864105\n",
            "Epoch: 2 Batch: 290 | Loss: 0.01003093272447586\n",
            "Epoch: 2 Batch: 300 | Loss: 0.024138856679201126\n",
            "Epoch: 2 Batch: 310 | Loss: 0.019724175333976746\n",
            "Epoch: 2 Batch: 320 | Loss: 0.02551226131618023\n",
            "Epoch: 2 Batch: 330 | Loss: 0.050451040267944336\n",
            "Epoch: 2 Batch: 340 | Loss: 0.004504534415900707\n",
            "Epoch: 2 Batch: 350 | Loss: 0.0365925170481205\n",
            "Epoch: 2 Batch: 360 | Loss: 0.013801231049001217\n",
            "Epoch: 2 Batch: 370 | Loss: 0.02348170429468155\n",
            "Epoch: 2 Batch: 380 | Loss: 0.01718219928443432\n",
            "Epoch: 2 Batch: 390 | Loss: 0.020780574530363083\n"
          ]
        },
        {
          "name": "stderr",
          "output_type": "stream",
          "text": [
            "22it [00:00, 101.78it/s]"
          ]
        },
        {
          "name": "stdout",
          "output_type": "stream",
          "text": [
            "Epoch: 2 Validation Loss: 0.018661521851770054\n"
          ]
        },
        {
          "name": "stderr",
          "output_type": "stream",
          "text": [
            "\n",
            "/usr/local/lib/python3.10/dist-packages/torch/utils/data/dataloader.py:617: UserWarning: This DataLoader will create 4 worker processes in total. Our suggested max number of worker in current system is 2, which is smaller than what this DataLoader is going to create. Please be aware that excessive worker creation might get DataLoader running slow or even freeze, lower the worker number to avoid potential slowness/freeze if necessary.\n",
            "  warnings.warn(\n",
            "/usr/local/lib/python3.10/dist-packages/torch/nn/modules/loss.py:608: UserWarning: Using a target size (torch.Size([20, 1])) that is different to the input size (torch.Size([20])). This will likely lead to incorrect results due to broadcasting. Please ensure they have the same size.\n",
            "  return F.mse_loss(input, target, reduction=self.reduction)\n"
          ]
        },
        {
          "name": "stdout",
          "output_type": "stream",
          "text": [
            "Epoch: 3 Batch: 0 | Loss: 0.023297905921936035\n",
            "Epoch: 3 Batch: 10 | Loss: 0.028868041932582855\n",
            "Epoch: 3 Batch: 20 | Loss: 0.013620260171592236\n",
            "Epoch: 3 Batch: 30 | Loss: 0.03773057833313942\n",
            "Epoch: 3 Batch: 40 | Loss: 0.0038858181796967983\n",
            "Epoch: 3 Batch: 50 | Loss: 0.045725222676992416\n",
            "Epoch: 3 Batch: 60 | Loss: 0.007196072954684496\n",
            "Epoch: 3 Batch: 70 | Loss: 0.03288764879107475\n",
            "Epoch: 3 Batch: 80 | Loss: 0.023635143414139748\n",
            "Epoch: 3 Batch: 90 | Loss: 0.029565881937742233\n",
            "Epoch: 3 Batch: 100 | Loss: 0.06105794757604599\n",
            "Epoch: 3 Batch: 110 | Loss: 0.002848125994205475\n",
            "Epoch: 3 Batch: 120 | Loss: 0.05527288466691971\n",
            "Epoch: 3 Batch: 130 | Loss: 0.02124015800654888\n",
            "Epoch: 3 Batch: 140 | Loss: 0.020674273371696472\n",
            "Epoch: 3 Batch: 150 | Loss: 0.01874568499624729\n",
            "Epoch: 3 Batch: 160 | Loss: 0.02439180389046669\n",
            "Epoch: 3 Batch: 170 | Loss: 0.027815749868750572\n",
            "Epoch: 3 Batch: 180 | Loss: 0.005957377143204212\n",
            "Epoch: 3 Batch: 190 | Loss: 0.03085995279252529\n",
            "Epoch: 3 Batch: 200 | Loss: 0.015918567776679993\n",
            "Epoch: 3 Batch: 210 | Loss: 0.023160098120570183\n",
            "Epoch: 3 Batch: 220 | Loss: 0.010971981100738049\n",
            "Epoch: 3 Batch: 230 | Loss: 0.025014789775013924\n",
            "Epoch: 3 Batch: 240 | Loss: 0.02366461046040058\n",
            "Epoch: 3 Batch: 250 | Loss: 0.01649228297173977\n",
            "Epoch: 3 Batch: 260 | Loss: 0.024748794734477997\n",
            "Epoch: 3 Batch: 270 | Loss: 0.0070224725641310215\n",
            "Epoch: 3 Batch: 280 | Loss: 0.043906573206186295\n",
            "Epoch: 3 Batch: 290 | Loss: 0.010211761109530926\n",
            "Epoch: 3 Batch: 300 | Loss: 0.023699050769209862\n",
            "Epoch: 3 Batch: 310 | Loss: 0.019105538725852966\n",
            "Epoch: 3 Batch: 320 | Loss: 0.022164124995470047\n",
            "Epoch: 3 Batch: 330 | Loss: 0.050488829612731934\n",
            "Epoch: 3 Batch: 340 | Loss: 0.0033643844071775675\n",
            "Epoch: 3 Batch: 350 | Loss: 0.03526364639401436\n",
            "Epoch: 3 Batch: 360 | Loss: 0.012484150938689709\n",
            "Epoch: 3 Batch: 370 | Loss: 0.022368602454662323\n",
            "Epoch: 3 Batch: 380 | Loss: 0.01472490280866623\n",
            "Epoch: 3 Batch: 390 | Loss: 0.020280690863728523\n"
          ]
        },
        {
          "name": "stderr",
          "output_type": "stream",
          "text": [
            "22it [00:00, 92.79it/s] "
          ]
        },
        {
          "name": "stdout",
          "output_type": "stream",
          "text": [
            "Epoch: 3 Validation Loss: 0.016954825259235026\n"
          ]
        },
        {
          "name": "stderr",
          "output_type": "stream",
          "text": [
            "\n",
            "/usr/local/lib/python3.10/dist-packages/torch/utils/data/dataloader.py:617: UserWarning: This DataLoader will create 4 worker processes in total. Our suggested max number of worker in current system is 2, which is smaller than what this DataLoader is going to create. Please be aware that excessive worker creation might get DataLoader running slow or even freeze, lower the worker number to avoid potential slowness/freeze if necessary.\n",
            "  warnings.warn(\n",
            "/usr/local/lib/python3.10/dist-packages/torch/nn/modules/loss.py:608: UserWarning: Using a target size (torch.Size([20, 1])) that is different to the input size (torch.Size([20])). This will likely lead to incorrect results due to broadcasting. Please ensure they have the same size.\n",
            "  return F.mse_loss(input, target, reduction=self.reduction)\n"
          ]
        },
        {
          "name": "stdout",
          "output_type": "stream",
          "text": [
            "Epoch: 4 Batch: 0 | Loss: 0.024778103455901146\n",
            "Epoch: 4 Batch: 10 | Loss: 0.025176744908094406\n",
            "Epoch: 4 Batch: 20 | Loss: 0.013156379573047161\n",
            "Epoch: 4 Batch: 30 | Loss: 0.037645358592271805\n",
            "Epoch: 4 Batch: 40 | Loss: 0.004192857537418604\n",
            "Epoch: 4 Batch: 50 | Loss: 0.03922773525118828\n",
            "Epoch: 4 Batch: 60 | Loss: 0.006967355031520128\n",
            "Epoch: 4 Batch: 70 | Loss: 0.030624689534306526\n",
            "Epoch: 4 Batch: 80 | Loss: 0.02343573607504368\n",
            "Epoch: 4 Batch: 90 | Loss: 0.026894038543105125\n",
            "Epoch: 4 Batch: 100 | Loss: 0.04422575980424881\n",
            "Epoch: 4 Batch: 110 | Loss: 0.007085571996867657\n",
            "Epoch: 4 Batch: 120 | Loss: 0.04517264664173126\n",
            "Epoch: 4 Batch: 130 | Loss: 0.010351670905947685\n",
            "Epoch: 4 Batch: 140 | Loss: 0.02112511172890663\n",
            "Epoch: 4 Batch: 150 | Loss: 0.01825300231575966\n",
            "Epoch: 4 Batch: 160 | Loss: 0.024900928139686584\n",
            "Epoch: 4 Batch: 170 | Loss: 0.0271921344101429\n",
            "Epoch: 4 Batch: 180 | Loss: 0.00663167517632246\n",
            "Epoch: 4 Batch: 190 | Loss: 0.03100479580461979\n",
            "Epoch: 4 Batch: 200 | Loss: 0.016840709373354912\n",
            "Epoch: 4 Batch: 210 | Loss: 0.024653663858771324\n",
            "Epoch: 4 Batch: 220 | Loss: 0.009983093477785587\n",
            "Epoch: 4 Batch: 230 | Loss: 0.024384694173932076\n",
            "Epoch: 4 Batch: 240 | Loss: 0.02361464500427246\n",
            "Epoch: 4 Batch: 250 | Loss: 0.01800091192126274\n",
            "Epoch: 4 Batch: 260 | Loss: 0.025116248056292534\n",
            "Epoch: 4 Batch: 270 | Loss: 0.006915010046213865\n",
            "Epoch: 4 Batch: 280 | Loss: 0.04588685557246208\n",
            "Epoch: 4 Batch: 290 | Loss: 0.009869121946394444\n",
            "Epoch: 4 Batch: 300 | Loss: 0.024708984419703484\n",
            "Epoch: 4 Batch: 310 | Loss: 0.01876731589436531\n",
            "Epoch: 4 Batch: 320 | Loss: 0.020232386887073517\n",
            "Epoch: 4 Batch: 330 | Loss: 0.050857435911893845\n",
            "Epoch: 4 Batch: 340 | Loss: 0.0039690718986094\n",
            "Epoch: 4 Batch: 350 | Loss: 0.03524121269583702\n",
            "Epoch: 4 Batch: 360 | Loss: 0.010344138368964195\n",
            "Epoch: 4 Batch: 370 | Loss: 0.02226533181965351\n",
            "Epoch: 4 Batch: 380 | Loss: 0.012578511610627174\n",
            "Epoch: 4 Batch: 390 | Loss: 0.020196277648210526\n"
          ]
        },
        {
          "name": "stderr",
          "output_type": "stream",
          "text": [
            "22it [00:00, 73.01it/s]\n",
            "/usr/local/lib/python3.10/dist-packages/torch/utils/data/dataloader.py:617: UserWarning: This DataLoader will create 4 worker processes in total. Our suggested max number of worker in current system is 2, which is smaller than what this DataLoader is going to create. Please be aware that excessive worker creation might get DataLoader running slow or even freeze, lower the worker number to avoid potential slowness/freeze if necessary.\n",
            "  warnings.warn(\n"
          ]
        },
        {
          "name": "stdout",
          "output_type": "stream",
          "text": [
            "Epoch: 4 Validation Loss: 0.01688095637374901\n"
          ]
        },
        {
          "name": "stderr",
          "output_type": "stream",
          "text": [
            "/usr/local/lib/python3.10/dist-packages/torch/nn/modules/loss.py:608: UserWarning: Using a target size (torch.Size([20, 1])) that is different to the input size (torch.Size([20])). This will likely lead to incorrect results due to broadcasting. Please ensure they have the same size.\n",
            "  return F.mse_loss(input, target, reduction=self.reduction)\n"
          ]
        },
        {
          "name": "stdout",
          "output_type": "stream",
          "text": [
            "Epoch: 5 Batch: 0 | Loss: 0.025227472186088562\n",
            "Epoch: 5 Batch: 10 | Loss: 0.026581205427646637\n",
            "Epoch: 5 Batch: 20 | Loss: 0.012762968428432941\n",
            "Epoch: 5 Batch: 30 | Loss: 0.036874737590551376\n",
            "Epoch: 5 Batch: 40 | Loss: 0.004548919387161732\n",
            "Epoch: 5 Batch: 50 | Loss: 0.037009984254837036\n",
            "Epoch: 5 Batch: 60 | Loss: 0.006964331492781639\n",
            "Epoch: 5 Batch: 70 | Loss: 0.02910441905260086\n",
            "Epoch: 5 Batch: 80 | Loss: 0.022954752668738365\n",
            "Epoch: 5 Batch: 90 | Loss: 0.021205460652709007\n",
            "Epoch: 5 Batch: 100 | Loss: 0.04112061485648155\n",
            "Epoch: 5 Batch: 110 | Loss: 0.004749410320073366\n",
            "Epoch: 5 Batch: 120 | Loss: 0.0443446971476078\n",
            "Epoch: 5 Batch: 130 | Loss: 0.010374779812991619\n",
            "Epoch: 5 Batch: 140 | Loss: 0.021467916667461395\n",
            "Epoch: 5 Batch: 150 | Loss: 0.01806243136525154\n",
            "Epoch: 5 Batch: 160 | Loss: 0.024954751133918762\n",
            "Epoch: 5 Batch: 170 | Loss: 0.02734021469950676\n",
            "Epoch: 5 Batch: 180 | Loss: 0.006518506910651922\n",
            "Epoch: 5 Batch: 190 | Loss: 0.0310555100440979\n",
            "Epoch: 5 Batch: 200 | Loss: 0.01708749681711197\n",
            "Epoch: 5 Batch: 210 | Loss: 0.025223247706890106\n",
            "Epoch: 5 Batch: 220 | Loss: 0.010623139329254627\n",
            "Epoch: 5 Batch: 230 | Loss: 0.02461487054824829\n",
            "Epoch: 5 Batch: 240 | Loss: 0.02400449477136135\n",
            "Epoch: 5 Batch: 250 | Loss: 0.018420303240418434\n",
            "Epoch: 5 Batch: 260 | Loss: 0.02432708442211151\n",
            "Epoch: 5 Batch: 270 | Loss: 0.007326189428567886\n",
            "Epoch: 5 Batch: 280 | Loss: 0.045165251940488815\n",
            "Epoch: 5 Batch: 290 | Loss: 0.009841684252023697\n",
            "Epoch: 5 Batch: 300 | Loss: 0.024486396461725235\n",
            "Epoch: 5 Batch: 310 | Loss: 0.018405845388770103\n",
            "Epoch: 5 Batch: 320 | Loss: 0.01990537904202938\n",
            "Epoch: 5 Batch: 330 | Loss: 0.05085963383316994\n",
            "Epoch: 5 Batch: 340 | Loss: 0.00318658584728837\n",
            "Epoch: 5 Batch: 350 | Loss: 0.03542451933026314\n",
            "Epoch: 5 Batch: 360 | Loss: 0.009820198640227318\n",
            "Epoch: 5 Batch: 370 | Loss: 0.02222996950149536\n",
            "Epoch: 5 Batch: 380 | Loss: 0.012371853925287724\n",
            "Epoch: 5 Batch: 390 | Loss: 0.020235657691955566\n"
          ]
        },
        {
          "name": "stderr",
          "output_type": "stream",
          "text": [
            "22it [00:00, 101.45it/s]"
          ]
        },
        {
          "name": "stdout",
          "output_type": "stream",
          "text": [
            "Epoch: 5 Validation Loss: 0.017132248075208044\n"
          ]
        },
        {
          "name": "stderr",
          "output_type": "stream",
          "text": [
            "\n",
            "/usr/local/lib/python3.10/dist-packages/torch/utils/data/dataloader.py:617: UserWarning: This DataLoader will create 4 worker processes in total. Our suggested max number of worker in current system is 2, which is smaller than what this DataLoader is going to create. Please be aware that excessive worker creation might get DataLoader running slow or even freeze, lower the worker number to avoid potential slowness/freeze if necessary.\n",
            "  warnings.warn(\n",
            "/usr/local/lib/python3.10/dist-packages/torch/nn/modules/loss.py:608: UserWarning: Using a target size (torch.Size([20, 1])) that is different to the input size (torch.Size([20])). This will likely lead to incorrect results due to broadcasting. Please ensure they have the same size.\n",
            "  return F.mse_loss(input, target, reduction=self.reduction)\n"
          ]
        },
        {
          "name": "stdout",
          "output_type": "stream",
          "text": [
            "Epoch: 6 Batch: 0 | Loss: 0.02579801343381405\n",
            "Epoch: 6 Batch: 10 | Loss: 0.026475554332137108\n",
            "Epoch: 6 Batch: 20 | Loss: 0.01243422832340002\n",
            "Epoch: 6 Batch: 30 | Loss: 0.03729034960269928\n",
            "Epoch: 6 Batch: 40 | Loss: 0.004402428865432739\n",
            "Epoch: 6 Batch: 50 | Loss: 0.035133447498083115\n",
            "Epoch: 6 Batch: 60 | Loss: 0.006179783493280411\n",
            "Epoch: 6 Batch: 70 | Loss: 0.029700331389904022\n",
            "Epoch: 6 Batch: 80 | Loss: 0.022780191153287888\n",
            "Epoch: 6 Batch: 90 | Loss: 0.02092876471579075\n",
            "Epoch: 6 Batch: 100 | Loss: 0.04231999069452286\n",
            "Epoch: 6 Batch: 110 | Loss: 0.005698658060282469\n",
            "Epoch: 6 Batch: 120 | Loss: 0.04454469680786133\n",
            "Epoch: 6 Batch: 130 | Loss: 0.011088409461081028\n",
            "Epoch: 6 Batch: 140 | Loss: 0.02123812399804592\n",
            "Epoch: 6 Batch: 150 | Loss: 0.01798463612794876\n",
            "Epoch: 6 Batch: 160 | Loss: 0.024796724319458008\n",
            "Epoch: 6 Batch: 170 | Loss: 0.02719513140618801\n",
            "Epoch: 6 Batch: 180 | Loss: 0.006588924676179886\n",
            "Epoch: 6 Batch: 190 | Loss: 0.03078102134168148\n",
            "Epoch: 6 Batch: 200 | Loss: 0.016843529418110847\n",
            "Epoch: 6 Batch: 210 | Loss: 0.024239636957645416\n",
            "Epoch: 6 Batch: 220 | Loss: 0.009956150315701962\n",
            "Epoch: 6 Batch: 230 | Loss: 0.024658750742673874\n",
            "Epoch: 6 Batch: 240 | Loss: 0.023683685809373856\n",
            "Epoch: 6 Batch: 250 | Loss: 0.017570845782756805\n",
            "Epoch: 6 Batch: 260 | Loss: 0.024573974311351776\n",
            "Epoch: 6 Batch: 270 | Loss: 0.007990342564880848\n",
            "Epoch: 6 Batch: 280 | Loss: 0.045638881623744965\n",
            "Epoch: 6 Batch: 290 | Loss: 0.009755782783031464\n",
            "Epoch: 6 Batch: 300 | Loss: 0.024715468287467957\n",
            "Epoch: 6 Batch: 310 | Loss: 0.018698761239647865\n",
            "Epoch: 6 Batch: 320 | Loss: 0.019938327372074127\n",
            "Epoch: 6 Batch: 330 | Loss: 0.050800029188394547\n",
            "Epoch: 6 Batch: 340 | Loss: 0.003837581491097808\n",
            "Epoch: 6 Batch: 350 | Loss: 0.035267896950244904\n",
            "Epoch: 6 Batch: 360 | Loss: 0.010162756778299809\n",
            "Epoch: 6 Batch: 370 | Loss: 0.022191228345036507\n",
            "Epoch: 6 Batch: 380 | Loss: 0.012399478815495968\n",
            "Epoch: 6 Batch: 390 | Loss: 0.020273908972740173\n"
          ]
        },
        {
          "name": "stderr",
          "output_type": "stream",
          "text": [
            "22it [00:00, 94.76it/s] "
          ]
        },
        {
          "name": "stdout",
          "output_type": "stream",
          "text": [
            "Epoch: 6 Validation Loss: 0.016800170896813713\n",
            "Testing...\n"
          ]
        },
        {
          "name": "stderr",
          "output_type": "stream",
          "text": [
            "\n",
            "/usr/local/lib/python3.10/dist-packages/torch/utils/data/dataloader.py:617: UserWarning: This DataLoader will create 4 worker processes in total. Our suggested max number of worker in current system is 2, which is smaller than what this DataLoader is going to create. Please be aware that excessive worker creation might get DataLoader running slow or even freeze, lower the worker number to avoid potential slowness/freeze if necessary.\n",
            "  warnings.warn(\n",
            "22it [00:00, 60.52it/s]\n"
          ]
        },
        {
          "name": "stdout",
          "output_type": "stream",
          "text": [
            "r2Score:  0.19194297559499074\n",
            "meanSquaredError:  0.02065036421265138\n",
            "RMSE:  0.14370234588430134\n",
            "meanAbsoluteError:  0.12031591247161957\n"
          ]
        },
        {
          "data": {
            "image/png": "[encoded data removed]",
            "text/plain": [
              "<Figure size 1000x300 with 1 Axes>"
            ]
          },
          "metadata": {},
          "output_type": "display_data"
        }
      ],
      "source": [
        "import torch\n",
        "from torch.utils.data import DataLoader\n",
        "from config import Config\n",
        "\n",
        "from utils.dataTools import *\n",
        "from utils.models import CNNBiLSTM\n",
        "from utils.trainer import CNNBiLstm_evaluate,CNNBiLstmtrain\n",
        "if __name__ == '__main__':\n",
        "    config = Config()\n",
        "\n",
        "    print(\"Data loading...\")\n",
        "    dataset = mydataReader(\"./dataProcessed/procan.csv\")\n",
        "\n",
        "    (train_X, train_Y), (val_X, val_Y), (test_X, test_Y) = dataset.split(\n",
        "        lookback=config.lookback, n_steps=config.n_steps, trainSet_ratio=0.9, valSet_ratio=0.05)\n",
        "\n",
        "    trainSet = custom_dataset(train_X, train_Y)\n",
        "    valSet = custom_dataset(val_X, val_Y)\n",
        "    testSet = custom_dataset(test_X, test_Y)\n",
        "\n",
        "    train_loader = DataLoader(trainSet, batch_size=config.batch_size,\n",
        "                              shuffle=False, pin_memory=True, num_workers=4, drop_last=True)\n",
        "    val_loader = DataLoader(valSet, batch_size=config.batch_size,\n",
        "                            shuffle=False, pin_memory=True, num_workers=4, drop_last=False)\n",
        "    test_loader = DataLoader(testSet, batch_size=config.batch_size,\n",
        "                             shuffle=False, pin_memory=True, num_workers=4, drop_last=False)\n",
        "\n",
        "    print(\"Model loading...\")\n",
        "    model = CNNBiLSTM(hidden_size=15, num_layers=2).to(config.device)\n",
        "    criterion = torch.nn.MSELoss()\n",
        "    optimizer = torch.optim.AdamW(model.parameters(),\n",
        "                                  lr=config.learning_rate, weight_decay=config.weight_decay)\n",
        "    # optimizer = torch.optim.SGD(model.parameters(),\n",
        "    #                         lr=config.learning_rate,\n",
        "    #                         momentum=0.9,\n",
        "    #                         weight_decay=config.weight_decay)\n",
        "\n",
        "    print(f\"Configuration Parameters:\")\n",
        "    print(f\" - Batch size: {config.batch_size}\")\n",
        "    print(f\" - Lookback: {config.lookback}\")\n",
        "    print(f\" - Epochs: {config.epoch_size}\")\n",
        "    print(f\" - Learning rate: {config.learning_rate}\")\n",
        "    print(f\" - Weight decay: {config.weight_decay}\")\n",
        "\n",
        "    print(\"Training...\")\n",
        "    model = CNNBiLstmtrain(model,\n",
        "                           trainloader=train_loader,\n",
        "                           valloader=val_loader,\n",
        "                           criterion=criterion,\n",
        "                           optimizer=optimizer,\n",
        "                           config=config)\n",
        "\n",
        "    print(\"Testing...\")\n",
        "    CNNBiLstm_evaluate(model, test_loader, config)\n"
      ]
    },
    {
      "cell_type": "markdown",
      "metadata": {
        "id": "MVdHLVX1x2Ot"
      },
      "source": [
        "## multistep\n"
      ]
    },
    {
      "cell_type": "code",
      "execution_count": null,
      "metadata": {
        "colab": {
          "base_uri": "https://localhost:8080/",
          "height": 1000
        },
        "id": "FxAIrsg4Ubci",
        "outputId": "0d3894ed-ea49-4493-945f-21b38d7d22e9"
      },
      "outputs": [
        {
          "name": "stdout",
          "output_type": "stream",
          "text": [
            "Data loading...\n"
          ]
        },
        {
          "name": "stderr",
          "output_type": "stream",
          "text": [
            "100%|██████████| 8736/8736 [00:00<00:00, 266743.15it/s]"
          ]
        },
        {
          "name": "stdout",
          "output_type": "stream",
          "text": [
            "测试集大小为1748\n",
            "Model loading...\n"
          ]
        },
        {
          "name": "stderr",
          "output_type": "stream",
          "text": [
            "\n",
            "/usr/local/lib/python3.10/dist-packages/torch/utils/data/dataloader.py:617: UserWarning: This DataLoader will create 4 worker processes in total. Our suggested max number of worker in current system is 2, which is smaller than what this DataLoader is going to create. Please be aware that excessive worker creation might get DataLoader running slow or even freeze, lower the worker number to avoid potential slowness/freeze if necessary.\n",
            "  warnings.warn(\n"
          ]
        },
        {
          "name": "stdout",
          "output_type": "stream",
          "text": [
            "Training...\n"
          ]
        },
        {
          "name": "stderr",
          "output_type": "stream",
          "text": [
            "/usr/local/lib/python3.10/dist-packages/torch/utils/data/dataloader.py:617: UserWarning: This DataLoader will create 4 worker processes in total. Our suggested max number of worker in current system is 2, which is smaller than what this DataLoader is going to create. Please be aware that excessive worker creation might get DataLoader running slow or even freeze, lower the worker number to avoid potential slowness/freeze if necessary.\n",
            "  warnings.warn(\n",
            "/usr/local/lib/python3.10/dist-packages/torch/nn/modules/loss.py:608: UserWarning: Using a target size (torch.Size([30, 1])) that is different to the input size (torch.Size([30])). This will likely lead to incorrect results due to broadcasting. Please ensure they have the same size.\n",
            "  return F.mse_loss(input, target, reduction=self.reduction)\n"
          ]
        },
        {
          "name": "stdout",
          "output_type": "stream",
          "text": [
            "Epoch: 0 Batch: 0 | Loss: 0.3745391845703125\n",
            "Epoch: 0 Batch: 10 | Loss: 0.06996577978134155\n",
            "Epoch: 0 Batch: 20 | Loss: 0.04395844340324402\n",
            "Epoch: 0 Batch: 30 | Loss: 0.02229577898979187\n",
            "Epoch: 0 Batch: 40 | Loss: 0.007793935388326645\n",
            "Epoch: 0 Batch: 50 | Loss: 0.0068630814552307125\n",
            "Epoch: 0 Batch: 60 | Loss: 0.040649181604385375\n",
            "Epoch: 0 Batch: 70 | Loss: 0.021620170772075654\n",
            "Epoch: 0 Batch: 80 | Loss: 0.048785412311553956\n",
            "Epoch: 0 Batch: 90 | Loss: 0.05050415992736816\n",
            "Epoch: 0 Batch: 100 | Loss: 0.030699461698532104\n",
            "Epoch: 0 Batch: 110 | Loss: 0.01475107967853546\n",
            "Epoch: 0 Batch: 120 | Loss: 0.005139243602752685\n",
            "Epoch: 0 Batch: 130 | Loss: 0.0255665123462677\n",
            "Epoch: 0 Batch: 140 | Loss: 0.02158387899398804\n",
            "Epoch: 0 Batch: 150 | Loss: 0.0537428617477417\n",
            "Epoch: 0 Batch: 160 | Loss: 0.02217835485935211\n",
            "Epoch: 0 Batch: 170 | Loss: 0.012077407538890838\n",
            "Epoch: 0 Batch: 180 | Loss: 0.004279232397675514\n",
            "Epoch: 0 Batch: 190 | Loss: 0.02133035659790039\n",
            "Epoch: 0 Batch: 200 | Loss: 0.021396192908287048\n"
          ]
        },
        {
          "name": "stderr",
          "output_type": "stream",
          "text": [
            "30it [00:01, 19.28it/s]"
          ]
        },
        {
          "name": "stdout",
          "output_type": "stream",
          "text": [
            "Epoch: 0 Validation Loss: 0.025997202113995643\n"
          ]
        },
        {
          "name": "stderr",
          "output_type": "stream",
          "text": [
            "\n",
            "/usr/local/lib/python3.10/dist-packages/torch/utils/data/dataloader.py:617: UserWarning: This DataLoader will create 4 worker processes in total. Our suggested max number of worker in current system is 2, which is smaller than what this DataLoader is going to create. Please be aware that excessive worker creation might get DataLoader running slow or even freeze, lower the worker number to avoid potential slowness/freeze if necessary.\n",
            "  warnings.warn(\n",
            "/usr/local/lib/python3.10/dist-packages/torch/nn/modules/loss.py:608: UserWarning: Using a target size (torch.Size([30, 1])) that is different to the input size (torch.Size([30])). This will likely lead to incorrect results due to broadcasting. Please ensure they have the same size.\n",
            "  return F.mse_loss(input, target, reduction=self.reduction)\n"
          ]
        },
        {
          "name": "stdout",
          "output_type": "stream",
          "text": [
            "Epoch: 1 Batch: 0 | Loss: 0.023477812111377717\n",
            "Epoch: 1 Batch: 10 | Loss: 0.028086906671524046\n",
            "Epoch: 1 Batch: 20 | Loss: 0.04179895520210266\n",
            "Epoch: 1 Batch: 30 | Loss: 0.023025967180728912\n",
            "Epoch: 1 Batch: 40 | Loss: 0.008789680898189545\n",
            "Epoch: 1 Batch: 50 | Loss: 0.005019612982869149\n",
            "Epoch: 1 Batch: 60 | Loss: 0.044384852051734924\n",
            "Epoch: 1 Batch: 70 | Loss: 0.021381542086601257\n",
            "Epoch: 1 Batch: 80 | Loss: 0.04318499565124512\n",
            "Epoch: 1 Batch: 90 | Loss: 0.04204685986042023\n",
            "Epoch: 1 Batch: 100 | Loss: 0.02580278515815735\n",
            "Epoch: 1 Batch: 110 | Loss: 0.012227791547775268\n",
            "Epoch: 1 Batch: 120 | Loss: 0.004565101116895676\n",
            "Epoch: 1 Batch: 130 | Loss: 0.024143910408020018\n",
            "Epoch: 1 Batch: 140 | Loss: 0.022113452851772308\n",
            "Epoch: 1 Batch: 150 | Loss: 0.05228187441825867\n",
            "Epoch: 1 Batch: 160 | Loss: 0.021522919833660125\n",
            "Epoch: 1 Batch: 170 | Loss: 0.0109013132750988\n",
            "Epoch: 1 Batch: 180 | Loss: 0.004117746651172638\n",
            "Epoch: 1 Batch: 190 | Loss: 0.020597928762435914\n",
            "Epoch: 1 Batch: 200 | Loss: 0.023048010468482972\n"
          ]
        },
        {
          "name": "stderr",
          "output_type": "stream",
          "text": [
            "30it [00:01, 25.95it/s]"
          ]
        },
        {
          "name": "stdout",
          "output_type": "stream",
          "text": [
            "Epoch: 1 Validation Loss: 0.02647868232001697\n",
            "Testing...\n"
          ]
        },
        {
          "name": "stderr",
          "output_type": "stream",
          "text": [
            "\n",
            "/usr/local/lib/python3.10/dist-packages/torch/utils/data/dataloader.py:617: UserWarning: This DataLoader will create 4 worker processes in total. Our suggested max number of worker in current system is 2, which is smaller than what this DataLoader is going to create. Please be aware that excessive worker creation might get DataLoader running slow or even freeze, lower the worker number to avoid potential slowness/freeze if necessary.\n",
            "  warnings.warn(\n",
            "59it [00:02, 25.78it/s]\n"
          ]
        },
        {
          "name": "stdout",
          "output_type": "stream",
          "text": [
            "r2Score:  -0.004179494518364191\n",
            "meanSquaredError:  0.024189000292098375\n",
            "RMSE:  0.15552813344246877\n",
            "meanAbsoluteError:  0.12699073312284095\n"
          ]
        },
        {
          "data": {
            "image/png": "[encoded data removed]",
            "text/plain": [
              "<Figure size 640x480 with 1 Axes>"
            ]
          },
          "metadata": {},
          "output_type": "display_data"
        }
      ],
      "source": [
        "import torch\n",
        "from torch.utils.data import DataLoader\n",
        "from config import Config\n",
        "\n",
        "from utils.dataTools import *\n",
        "from utils.models import CNNBiLSTM\n",
        "from utils.trainer import CNNBiLstm_evaluate,CNNBiLstmtrain\n",
        "if __name__ == '__main__':\n",
        "    config = Config()\n",
        "\n",
        "    print(\"Data loading...\")\n",
        "    dataset = mydataReader(\"./dataProcessed/procan.csv\")\n",
        "\n",
        "\n",
        "    (train_X, train_Y), (val_X, val_Y), (test_X, test_Y) = dataset.split(\n",
        "        lookback=config.lookback, n_steps=config.n_steps, trainSet_ratio=0.7, valSet_ratio=0.1)\n",
        "\n",
        "    trainSet = custom_dataset(train_X, train_Y)\n",
        "    valSet = custom_dataset(val_X, val_Y)\n",
        "    testSet = custom_dataset(test_X, test_Y)\n",
        "\n",
        "    train_loader = DataLoader(trainSet, batch_size=config.batch_size,\n",
        "                              shuffle=False, pin_memory=True, num_workers=4, drop_last=True)\n",
        "    val_loader = DataLoader(valSet, batch_size=config.batch_size,\n",
        "                            shuffle=False, pin_memory=True, num_workers=4, drop_last=False)\n",
        "    test_loader = DataLoader(testSet, batch_size=config.batch_size,\n",
        "                             shuffle=False, pin_memory=True, num_workers=4, drop_last=False)\n",
        "\n",
        "    print(\"Model loading...\")\n",
        "    model = CNNBiLSTM(hidden_size=12, num_layers=3).to(config.device)\n",
        "    criterion = torch.nn.MSELoss()\n",
        "    optimizer = torch.optim.AdamW(model.parameters(),\n",
        "                                  lr=config.learning_rate, weight_decay=config.weight_decay)\n",
        "\n",
        "    print(\"Training...\")\n",
        "    model = CNNBiLstmtrain(model,\n",
        "                           trainloader=train_loader,\n",
        "                           valloader=val_loader,\n",
        "                           criterion=criterion,\n",
        "                           optimizer=optimizer,\n",
        "                           config=config)\n",
        "\n",
        "    print(\"Testing...\")\n",
        "    CNNBiLstm_evaluate(model, test_loader, config)\n"
      ]
    },
    {
      "cell_type": "code",
      "execution_count": null,
      "metadata": {
        "colab": {
          "base_uri": "https://localhost:8080/",
          "height": 1000
        },
        "id": "omt4ZZeOS46_",
        "outputId": "050a302b-9deb-472d-b177-acfe9a2dfa34"
      },
      "outputs": [
        {
          "name": "stdout",
          "output_type": "stream",
          "text": [
            "Data loading...\n"
          ]
        },
        {
          "name": "stderr",
          "output_type": "stream",
          "text": [
            "100%|██████████| 8750/8750 [00:00<00:00, 235230.29it/s]"
          ]
        },
        {
          "name": "stdout",
          "output_type": "stream",
          "text": [
            "测试集大小为1750\n",
            "Model loading...\n"
          ]
        },
        {
          "name": "stderr",
          "output_type": "stream",
          "text": [
            "\n",
            "/usr/local/lib/python3.10/dist-packages/torch/utils/data/dataloader.py:617: UserWarning: This DataLoader will create 4 worker processes in total. Our suggested max number of worker in current system is 2, which is smaller than what this DataLoader is going to create. Please be aware that excessive worker creation might get DataLoader running slow or even freeze, lower the worker number to avoid potential slowness/freeze if necessary.\n",
            "  warnings.warn(\n"
          ]
        },
        {
          "name": "stdout",
          "output_type": "stream",
          "text": [
            "Training...\n"
          ]
        },
        {
          "name": "stderr",
          "output_type": "stream",
          "text": [
            "/usr/local/lib/python3.10/dist-packages/torch/utils/data/dataloader.py:617: UserWarning: This DataLoader will create 4 worker processes in total. Our suggested max number of worker in current system is 2, which is smaller than what this DataLoader is going to create. Please be aware that excessive worker creation might get DataLoader running slow or even freeze, lower the worker number to avoid potential slowness/freeze if necessary.\n",
            "  warnings.warn(\n"
          ]
        },
        {
          "name": "stdout",
          "output_type": "stream",
          "text": [
            "Epoch: 0 batch: 0 | loss: 0.37048080563545227\n",
            "Epoch: 0 batch: 10 | loss: 0.35216668248176575\n",
            "Epoch: 0 batch: 20 | loss: 0.2419089525938034\n",
            "Epoch: 0 batch: 30 | loss: 0.20684541761875153\n",
            "Epoch: 0 batch: 40 | loss: 0.14661169052124023\n",
            "Epoch: 0 batch: 50 | loss: 0.07439924776554108\n",
            "Epoch: 0 batch: 60 | loss: 0.04903411120176315\n",
            "Epoch: 0 batch: 70 | loss: 0.07374612987041473\n",
            "Epoch: 0 batch: 80 | loss: 0.03481635823845863\n",
            "Epoch: 0 batch: 90 | loss: 0.04891548305749893\n",
            "Epoch: 0 batch: 100 | loss: 0.025575974956154823\n",
            "Epoch: 0 batch: 110 | loss: 0.01093794871121645\n",
            "Epoch: 0 batch: 120 | loss: 0.012801499105989933\n",
            "Epoch: 0 batch: 130 | loss: 0.030919047072529793\n",
            "Epoch: 0 batch: 140 | loss: 0.027889151126146317\n",
            "Epoch: 0 batch: 150 | loss: 0.029558813199400902\n",
            "Epoch: 0 batch: 160 | loss: 0.023773085325956345\n",
            "Epoch: 0 batch: 170 | loss: 0.007063393015414476\n",
            "Epoch: 0 batch: 180 | loss: 0.012210969813168049\n",
            "Epoch: 0 batch: 190 | loss: 0.02491161599755287\n",
            "Epoch: 0 batch: 200 | loss: 0.03657721355557442\n"
          ]
        },
        {
          "name": "stderr",
          "output_type": "stream",
          "text": [
            "30it [00:00, 121.09it/s]"
          ]
        },
        {
          "name": "stdout",
          "output_type": "stream",
          "text": [
            "Epoch: 0 valLoss: 0.025717262118836272\n"
          ]
        },
        {
          "name": "stderr",
          "output_type": "stream",
          "text": [
            "\n",
            "/usr/local/lib/python3.10/dist-packages/torch/utils/data/dataloader.py:617: UserWarning: This DataLoader will create 4 worker processes in total. Our suggested max number of worker in current system is 2, which is smaller than what this DataLoader is going to create. Please be aware that excessive worker creation might get DataLoader running slow or even freeze, lower the worker number to avoid potential slowness/freeze if necessary.\n",
            "  warnings.warn(\n"
          ]
        },
        {
          "name": "stdout",
          "output_type": "stream",
          "text": [
            "Epoch: 1 batch: 0 | loss: 0.025085952132940292\n",
            "Epoch: 1 batch: 10 | loss: 0.03513346239924431\n",
            "Epoch: 1 batch: 20 | loss: 0.04306581988930702\n",
            "Epoch: 1 batch: 30 | loss: 0.02916915901005268\n",
            "Epoch: 1 batch: 40 | loss: 0.008858051151037216\n",
            "Epoch: 1 batch: 50 | loss: 0.007587912026792765\n",
            "Epoch: 1 batch: 60 | loss: 0.024232205003499985\n",
            "Epoch: 1 batch: 70 | loss: 0.03622480481863022\n",
            "Epoch: 1 batch: 80 | loss: 0.053461313247680664\n",
            "Epoch: 1 batch: 90 | loss: 0.041142869740724564\n",
            "Epoch: 1 batch: 100 | loss: 0.019187724217772484\n",
            "Epoch: 1 batch: 110 | loss: 0.01292666420340538\n",
            "Epoch: 1 batch: 120 | loss: 0.011574102565646172\n",
            "Epoch: 1 batch: 130 | loss: 0.021784061565995216\n",
            "Epoch: 1 batch: 140 | loss: 0.03880530223250389\n",
            "Epoch: 1 batch: 150 | loss: 0.03206668794155121\n",
            "Epoch: 1 batch: 160 | loss: 0.022729268297553062\n",
            "Epoch: 1 batch: 170 | loss: 0.0064369263127446175\n",
            "Epoch: 1 batch: 180 | loss: 0.009326408617198467\n",
            "Epoch: 1 batch: 190 | loss: 0.017451297491788864\n",
            "Epoch: 1 batch: 200 | loss: 0.03378869965672493\n"
          ]
        },
        {
          "name": "stderr",
          "output_type": "stream",
          "text": [
            "30it [00:00, 132.29it/s]"
          ]
        },
        {
          "name": "stdout",
          "output_type": "stream",
          "text": [
            "Epoch: 1 valLoss: 0.02548672414868354\n",
            "Testing... 58\n"
          ]
        },
        {
          "name": "stderr",
          "output_type": "stream",
          "text": [
            "\n",
            "/usr/local/lib/python3.10/dist-packages/torch/utils/data/dataloader.py:617: UserWarning: This DataLoader will create 4 worker processes in total. Our suggested max number of worker in current system is 2, which is smaller than what this DataLoader is going to create. Please be aware that excessive worker creation might get DataLoader running slow or even freeze, lower the worker number to avoid potential slowness/freeze if necessary.\n",
            "  warnings.warn(\n",
            "59it [00:00, 143.63it/s]\n"
          ]
        },
        {
          "name": "stdout",
          "output_type": "stream",
          "text": [
            "r2Score:  -0.04794046116242656\n",
            "meanSquaredError:  0.025240644121785033\n",
            "RMSE:  0.15887304403763727\n",
            "meanAbsoluteError:  0.13078445345269782\n"
          ]
        },
        {
          "data": {
            "image/png": "[encoded data removed]",
            "text/plain": [
              "<Figure size 640x480 with 1 Axes>"
            ]
          },
          "metadata": {},
          "output_type": "display_data"
        }
      ],
      "source": [
        "import torch\n",
        "from torch.utils.data import DataLoader\n",
        "from config import Config\n",
        "\n",
        "from utils.dataTools import *\n",
        "from utils.models import CNNBiLSTM\n",
        "from utils.trainer import CNNBiLstm_evaluate,CNNBiLstmtrain\n",
        "\n",
        "if __name__ == '__main__':\n",
        "    config = Config()\n",
        "\n",
        "    print(\"Data loading...\")\n",
        "\n",
        "    dataset = mydataReader(\"./dataProcessed/procan.csv\")\n",
        "\n",
        "    (train_X ,train_Y ), (val_X,val_Y), (test_X ,test_Y )= dataset.split(lookback=config.lookback,trainSet_ratio=0.7,valSet_ratio=0.1)\n",
        "\n",
        "    trainSet = custom_dataset(train_X,train_Y)\n",
        "    valSet = custom_dataset(val_X,val_Y)\n",
        "    testSet = custom_dataset(test_X,test_Y)\n",
        "\n",
        "    train_loader = DataLoader(trainSet, batch_size = config.batch_size,\n",
        "                              shuffle=False, pin_memory=True, num_workers=4, drop_last=True)\n",
        "    val_loader = DataLoader(valSet, batch_size = config.batch_size,\n",
        "                              shuffle=False, pin_memory=True, num_workers=4, drop_last=False)\n",
        "    test_loader = DataLoader(testSet, batch_size = config.batch_size,\n",
        "                            shuffle=False, pin_memory=True, num_workers=4, drop_last=False)\n",
        "\n",
        "\n",
        "    print(\"Model loading...\")\n",
        "    model = CNNBiLSTM(hidden_size=12,num_layers=2).to(config.device)\n",
        "    criterion = torch.nn.MSELoss()\n",
        "    optimizer = torch.optim.AdamW(model.parameters(),\n",
        "                                 lr=config.learning_rate, weight_decay=config.weight_decay)\n",
        "\n",
        "    print(\"Training...\")\n",
        "    model = CNNBiLstmtrain(model,\n",
        "                  trainloader=train_loader,\n",
        "                  valloader=val_loader,\n",
        "                  criterion=criterion,\n",
        "                  optimizer=optimizer,\n",
        "                  config=config)\n",
        "\n",
        "    print(\"Testing...\", round(len(testSet)/config.batch_size))\n",
        "    CNNBiLstm_evaluate(model, test_loader, config)\n"
      ]
    },
    {
      "cell_type": "code",
      "execution_count": null,
      "metadata": {
        "colab": {
          "base_uri": "https://localhost:8080/",
          "height": 1000
        },
        "id": "43ZsB4t9Ucet",
        "outputId": "bfa4d16b-256e-474e-c09e-fd73ee2dcb0e"
      },
      "outputs": [
        {
          "name": "stdout",
          "output_type": "stream",
          "text": [
            "Data loading...\n"
          ]
        },
        {
          "name": "stderr",
          "output_type": "stream",
          "text": [
            "100%|██████████| 2946/2946 [00:00<00:00, 247138.28it/s]"
          ]
        },
        {
          "name": "stdout",
          "output_type": "stream",
          "text": [
            "测试集大小为590\n",
            "Model loading...\n"
          ]
        },
        {
          "name": "stderr",
          "output_type": "stream",
          "text": [
            "\n",
            "/usr/local/lib/python3.10/dist-packages/torch/utils/data/dataloader.py:617: UserWarning: This DataLoader will create 4 worker processes in total. Our suggested max number of worker in current system is 2, which is smaller than what this DataLoader is going to create. Please be aware that excessive worker creation might get DataLoader running slow or even freeze, lower the worker number to avoid potential slowness/freeze if necessary.\n",
            "  warnings.warn(\n"
          ]
        },
        {
          "name": "stdout",
          "output_type": "stream",
          "text": [
            "Training...\n"
          ]
        },
        {
          "name": "stderr",
          "output_type": "stream",
          "text": [
            "/usr/local/lib/python3.10/dist-packages/torch/utils/data/dataloader.py:617: UserWarning: This DataLoader will create 4 worker processes in total. Our suggested max number of worker in current system is 2, which is smaller than what this DataLoader is going to create. Please be aware that excessive worker creation might get DataLoader running slow or even freeze, lower the worker number to avoid potential slowness/freeze if necessary.\n",
            "  warnings.warn(\n",
            "/usr/local/lib/python3.10/dist-packages/torch/nn/modules/loss.py:608: UserWarning: Using a target size (torch.Size([10, 1])) that is different to the input size (torch.Size([10])). This will likely lead to incorrect results due to broadcasting. Please ensure they have the same size.\n",
            "  return F.mse_loss(input, target, reduction=self.reduction)\n"
          ]
        },
        {
          "name": "stdout",
          "output_type": "stream",
          "text": [
            "Epoch: 0 Batch: 0 | Loss: 0.08949194103479385\n",
            "Epoch: 0 Batch: 10 | Loss: 0.0511748269200325\n",
            "Epoch: 0 Batch: 20 | Loss: 0.037265654653310776\n",
            "Epoch: 0 Batch: 30 | Loss: 0.005869606044143438\n",
            "Epoch: 0 Batch: 40 | Loss: 0.003164602443575859\n",
            "Epoch: 0 Batch: 50 | Loss: 0.011637452058494091\n",
            "Epoch: 0 Batch: 60 | Loss: 0.03606419637799263\n",
            "Epoch: 0 Batch: 70 | Loss: 0.04188055917620659\n",
            "Epoch: 0 Batch: 80 | Loss: 0.04817206412553787\n",
            "Epoch: 0 Batch: 90 | Loss: 0.07001892477273941\n",
            "Epoch: 0 Batch: 100 | Loss: 0.1461859792470932\n",
            "Epoch: 0 Batch: 110 | Loss: 0.17179173231124878\n",
            "Epoch: 0 Batch: 120 | Loss: 0.20650844275951385\n",
            "Epoch: 0 Batch: 130 | Loss: 0.21926532685756683\n",
            "Epoch: 0 Batch: 140 | Loss: 0.21416506171226501\n",
            "Epoch: 0 Batch: 150 | Loss: 0.13879327476024628\n",
            "Epoch: 0 Batch: 160 | Loss: 0.11068591475486755\n",
            "Epoch: 0 Batch: 170 | Loss: 0.08235716074705124\n",
            "Epoch: 0 Batch: 180 | Loss: 0.059990428388118744\n",
            "Epoch: 0 Batch: 190 | Loss: 0.0543595589697361\n",
            "Epoch: 0 Batch: 200 | Loss: 0.0425943098962307\n"
          ]
        },
        {
          "name": "stderr",
          "output_type": "stream",
          "text": [
            "30it [00:00, 131.71it/s]"
          ]
        },
        {
          "name": "stdout",
          "output_type": "stream",
          "text": [
            "Epoch: 0 Validation Loss: 0.05436199904676475\n"
          ]
        },
        {
          "name": "stderr",
          "output_type": "stream",
          "text": [
            "\n",
            "/usr/local/lib/python3.10/dist-packages/torch/utils/data/dataloader.py:617: UserWarning: This DataLoader will create 4 worker processes in total. Our suggested max number of worker in current system is 2, which is smaller than what this DataLoader is going to create. Please be aware that excessive worker creation might get DataLoader running slow or even freeze, lower the worker number to avoid potential slowness/freeze if necessary.\n",
            "  warnings.warn(\n",
            "/usr/local/lib/python3.10/dist-packages/torch/nn/modules/loss.py:608: UserWarning: Using a target size (torch.Size([10, 1])) that is different to the input size (torch.Size([10])). This will likely lead to incorrect results due to broadcasting. Please ensure they have the same size.\n",
            "  return F.mse_loss(input, target, reduction=self.reduction)\n"
          ]
        },
        {
          "name": "stdout",
          "output_type": "stream",
          "text": [
            "Epoch: 1 Batch: 0 | Loss: 0.05512635409832001\n",
            "Epoch: 1 Batch: 10 | Loss: 0.05850657448172569\n",
            "Epoch: 1 Batch: 20 | Loss: 0.019582774490118027\n",
            "Epoch: 1 Batch: 30 | Loss: 0.02104596048593521\n",
            "Epoch: 1 Batch: 40 | Loss: 0.024869946762919426\n",
            "Epoch: 1 Batch: 50 | Loss: 0.011282218620181084\n",
            "Epoch: 1 Batch: 60 | Loss: 0.02174914814531803\n",
            "Epoch: 1 Batch: 70 | Loss: 0.037250787019729614\n",
            "Epoch: 1 Batch: 80 | Loss: 0.056500621140003204\n",
            "Epoch: 1 Batch: 90 | Loss: 0.09514160454273224\n",
            "Epoch: 1 Batch: 100 | Loss: 0.1405792385339737\n",
            "Epoch: 1 Batch: 110 | Loss: 0.16590048372745514\n",
            "Epoch: 1 Batch: 120 | Loss: 0.1756305694580078\n",
            "Epoch: 1 Batch: 130 | Loss: 0.18364986777305603\n",
            "Epoch: 1 Batch: 140 | Loss: 0.2150237113237381\n",
            "Epoch: 1 Batch: 150 | Loss: 0.14361631870269775\n",
            "Epoch: 1 Batch: 160 | Loss: 0.10906115174293518\n",
            "Epoch: 1 Batch: 170 | Loss: 0.07125984877347946\n",
            "Epoch: 1 Batch: 180 | Loss: 0.056920479983091354\n",
            "Epoch: 1 Batch: 190 | Loss: 0.03837743401527405\n",
            "Epoch: 1 Batch: 200 | Loss: 0.03574494272470474\n"
          ]
        },
        {
          "name": "stderr",
          "output_type": "stream",
          "text": [
            "30it [00:00, 139.48it/s]"
          ]
        },
        {
          "name": "stdout",
          "output_type": "stream",
          "text": [
            "Epoch: 1 Validation Loss: 0.04356040270994516\n"
          ]
        },
        {
          "name": "stderr",
          "output_type": "stream",
          "text": [
            "\n",
            "/usr/local/lib/python3.10/dist-packages/torch/utils/data/dataloader.py:617: UserWarning: This DataLoader will create 4 worker processes in total. Our suggested max number of worker in current system is 2, which is smaller than what this DataLoader is going to create. Please be aware that excessive worker creation might get DataLoader running slow or even freeze, lower the worker number to avoid potential slowness/freeze if necessary.\n",
            "  warnings.warn(\n",
            "/usr/local/lib/python3.10/dist-packages/torch/nn/modules/loss.py:608: UserWarning: Using a target size (torch.Size([10, 1])) that is different to the input size (torch.Size([10])). This will likely lead to incorrect results due to broadcasting. Please ensure they have the same size.\n",
            "  return F.mse_loss(input, target, reduction=self.reduction)\n"
          ]
        },
        {
          "name": "stdout",
          "output_type": "stream",
          "text": [
            "Epoch: 2 Batch: 0 | Loss: 0.0636754110455513\n",
            "Epoch: 2 Batch: 10 | Loss: 0.034113384783267975\n",
            "Epoch: 2 Batch: 20 | Loss: 0.014803780242800713\n",
            "Epoch: 2 Batch: 30 | Loss: 0.019915809854865074\n",
            "Epoch: 2 Batch: 40 | Loss: 0.021038921549916267\n",
            "Epoch: 2 Batch: 50 | Loss: 0.01549474336206913\n",
            "Epoch: 2 Batch: 60 | Loss: 0.016406914219260216\n",
            "Epoch: 2 Batch: 70 | Loss: 0.022341541945934296\n",
            "Epoch: 2 Batch: 80 | Loss: 0.0592607706785202\n",
            "Epoch: 2 Batch: 90 | Loss: 0.08119044452905655\n",
            "Epoch: 2 Batch: 100 | Loss: 0.1260058730840683\n",
            "Epoch: 2 Batch: 110 | Loss: 0.09994296729564667\n",
            "Epoch: 2 Batch: 120 | Loss: 0.10249777883291245\n",
            "Epoch: 2 Batch: 130 | Loss: 0.07028532773256302\n",
            "Epoch: 2 Batch: 140 | Loss: 0.04956144466996193\n",
            "Epoch: 2 Batch: 150 | Loss: 0.008071322925388813\n",
            "Epoch: 2 Batch: 160 | Loss: 0.004325524438172579\n",
            "Epoch: 2 Batch: 170 | Loss: 0.006677290890365839\n",
            "Epoch: 2 Batch: 180 | Loss: 0.004000442568212748\n",
            "Epoch: 2 Batch: 190 | Loss: 0.0037299273535609245\n",
            "Epoch: 2 Batch: 200 | Loss: 0.005329890642315149\n"
          ]
        },
        {
          "name": "stderr",
          "output_type": "stream",
          "text": [
            "30it [00:00, 83.60it/s]"
          ]
        },
        {
          "name": "stdout",
          "output_type": "stream",
          "text": [
            "Epoch: 2 Validation Loss: 0.007320492351905277\n"
          ]
        },
        {
          "name": "stderr",
          "output_type": "stream",
          "text": [
            "\n",
            "/usr/local/lib/python3.10/dist-packages/torch/utils/data/dataloader.py:617: UserWarning: This DataLoader will create 4 worker processes in total. Our suggested max number of worker in current system is 2, which is smaller than what this DataLoader is going to create. Please be aware that excessive worker creation might get DataLoader running slow or even freeze, lower the worker number to avoid potential slowness/freeze if necessary.\n",
            "  warnings.warn(\n",
            "/usr/local/lib/python3.10/dist-packages/torch/nn/modules/loss.py:608: UserWarning: Using a target size (torch.Size([10, 1])) that is different to the input size (torch.Size([10])). This will likely lead to incorrect results due to broadcasting. Please ensure they have the same size.\n",
            "  return F.mse_loss(input, target, reduction=self.reduction)\n"
          ]
        },
        {
          "name": "stdout",
          "output_type": "stream",
          "text": [
            "Epoch: 3 Batch: 0 | Loss: 0.030423026531934738\n",
            "Epoch: 3 Batch: 10 | Loss: 0.007075245957821608\n",
            "Epoch: 3 Batch: 20 | Loss: 0.003911256790161133\n",
            "Epoch: 3 Batch: 30 | Loss: 0.004592256620526314\n",
            "Epoch: 3 Batch: 40 | Loss: 0.004289169795811176\n",
            "Epoch: 3 Batch: 50 | Loss: 0.003747550304979086\n",
            "Epoch: 3 Batch: 60 | Loss: 0.00874307844787836\n",
            "Epoch: 3 Batch: 70 | Loss: 0.00735795684158802\n",
            "Epoch: 3 Batch: 80 | Loss: 0.008950596675276756\n",
            "Epoch: 3 Batch: 90 | Loss: 0.01741699129343033\n",
            "Epoch: 3 Batch: 100 | Loss: 0.028036026284098625\n",
            "Epoch: 3 Batch: 110 | Loss: 0.023034963756799698\n",
            "Epoch: 3 Batch: 120 | Loss: 0.01696995086967945\n",
            "Epoch: 3 Batch: 130 | Loss: 0.03153698518872261\n",
            "Epoch: 3 Batch: 140 | Loss: 0.02847721055150032\n",
            "Epoch: 3 Batch: 150 | Loss: 0.006841120310127735\n",
            "Epoch: 3 Batch: 160 | Loss: 0.005689400248229504\n",
            "Epoch: 3 Batch: 170 | Loss: 0.002071759896352887\n",
            "Epoch: 3 Batch: 180 | Loss: 0.0011552615324035287\n",
            "Epoch: 3 Batch: 190 | Loss: 0.002355335745960474\n",
            "Epoch: 3 Batch: 200 | Loss: 0.005269593093544245\n"
          ]
        },
        {
          "name": "stderr",
          "output_type": "stream",
          "text": [
            "30it [00:00, 123.75it/s]"
          ]
        },
        {
          "name": "stdout",
          "output_type": "stream",
          "text": [
            "Epoch: 3 Validation Loss: 0.006901927512462744\n"
          ]
        },
        {
          "name": "stderr",
          "output_type": "stream",
          "text": [
            "\n",
            "/usr/local/lib/python3.10/dist-packages/torch/utils/data/dataloader.py:617: UserWarning: This DataLoader will create 4 worker processes in total. Our suggested max number of worker in current system is 2, which is smaller than what this DataLoader is going to create. Please be aware that excessive worker creation might get DataLoader running slow or even freeze, lower the worker number to avoid potential slowness/freeze if necessary.\n",
            "  warnings.warn(\n",
            "/usr/local/lib/python3.10/dist-packages/torch/nn/modules/loss.py:608: UserWarning: Using a target size (torch.Size([10, 1])) that is different to the input size (torch.Size([10])). This will likely lead to incorrect results due to broadcasting. Please ensure they have the same size.\n",
            "  return F.mse_loss(input, target, reduction=self.reduction)\n"
          ]
        },
        {
          "name": "stdout",
          "output_type": "stream",
          "text": [
            "Epoch: 4 Batch: 0 | Loss: 0.02189994975924492\n",
            "Epoch: 4 Batch: 10 | Loss: 0.01300683245062828\n",
            "Epoch: 4 Batch: 20 | Loss: 0.003981198184192181\n",
            "Epoch: 4 Batch: 30 | Loss: 0.00783494021743536\n",
            "Epoch: 4 Batch: 40 | Loss: 0.0030970193911343813\n",
            "Epoch: 4 Batch: 50 | Loss: 0.0055663506500422955\n",
            "Epoch: 4 Batch: 60 | Loss: 0.00576852448284626\n",
            "Epoch: 4 Batch: 70 | Loss: 0.007226326037198305\n",
            "Epoch: 4 Batch: 80 | Loss: 0.009682120755314827\n",
            "Epoch: 4 Batch: 90 | Loss: 0.012284215539693832\n",
            "Epoch: 4 Batch: 100 | Loss: 0.02384467050433159\n",
            "Epoch: 4 Batch: 110 | Loss: 0.025044195353984833\n",
            "Epoch: 4 Batch: 120 | Loss: 0.017607465386390686\n",
            "Epoch: 4 Batch: 130 | Loss: 0.015604418702423573\n",
            "Epoch: 4 Batch: 140 | Loss: 0.021303817629814148\n",
            "Epoch: 4 Batch: 150 | Loss: 0.007642218377441168\n",
            "Epoch: 4 Batch: 160 | Loss: 0.010881795547902584\n",
            "Epoch: 4 Batch: 170 | Loss: 0.0033799288794398308\n",
            "Epoch: 4 Batch: 180 | Loss: 0.001978939864784479\n",
            "Epoch: 4 Batch: 190 | Loss: 0.001311224652454257\n",
            "Epoch: 4 Batch: 200 | Loss: 0.00756670581176877\n"
          ]
        },
        {
          "name": "stderr",
          "output_type": "stream",
          "text": [
            "30it [00:00, 134.92it/s]"
          ]
        },
        {
          "name": "stdout",
          "output_type": "stream",
          "text": [
            "Epoch: 4 Validation Loss: 0.005813000649444592\n"
          ]
        },
        {
          "name": "stderr",
          "output_type": "stream",
          "text": [
            "\n",
            "/usr/local/lib/python3.10/dist-packages/torch/utils/data/dataloader.py:617: UserWarning: This DataLoader will create 4 worker processes in total. Our suggested max number of worker in current system is 2, which is smaller than what this DataLoader is going to create. Please be aware that excessive worker creation might get DataLoader running slow or even freeze, lower the worker number to avoid potential slowness/freeze if necessary.\n",
            "  warnings.warn(\n",
            "/usr/local/lib/python3.10/dist-packages/torch/nn/modules/loss.py:608: UserWarning: Using a target size (torch.Size([10, 1])) that is different to the input size (torch.Size([10])). This will likely lead to incorrect results due to broadcasting. Please ensure they have the same size.\n",
            "  return F.mse_loss(input, target, reduction=self.reduction)\n"
          ]
        },
        {
          "name": "stdout",
          "output_type": "stream",
          "text": [
            "Epoch: 5 Batch: 0 | Loss: 0.02141285501420498\n",
            "Epoch: 5 Batch: 10 | Loss: 0.012566547840833664\n",
            "Epoch: 5 Batch: 20 | Loss: 0.005265640094876289\n",
            "Epoch: 5 Batch: 30 | Loss: 0.006829928141087294\n",
            "Epoch: 5 Batch: 40 | Loss: 0.002724466845393181\n",
            "Epoch: 5 Batch: 50 | Loss: 0.004011977463960648\n",
            "Epoch: 5 Batch: 60 | Loss: 0.004014467354863882\n",
            "Epoch: 5 Batch: 70 | Loss: 0.0066569652408361435\n",
            "Epoch: 5 Batch: 80 | Loss: 0.008749113418161869\n",
            "Epoch: 5 Batch: 90 | Loss: 0.012399120256304741\n",
            "Epoch: 5 Batch: 100 | Loss: 0.0200443584471941\n",
            "Epoch: 5 Batch: 110 | Loss: 0.014466427266597748\n",
            "Epoch: 5 Batch: 120 | Loss: 0.014128196984529495\n",
            "Epoch: 5 Batch: 130 | Loss: 0.014108252711594105\n",
            "Epoch: 5 Batch: 140 | Loss: 0.023183459416031837\n",
            "Epoch: 5 Batch: 150 | Loss: 0.003970154095441103\n",
            "Epoch: 5 Batch: 160 | Loss: 0.010424930602312088\n",
            "Epoch: 5 Batch: 170 | Loss: 0.006867358461022377\n",
            "Epoch: 5 Batch: 180 | Loss: 0.0015033993404358625\n",
            "Epoch: 5 Batch: 190 | Loss: 0.0022493882570415735\n",
            "Epoch: 5 Batch: 200 | Loss: 0.005936113651841879\n"
          ]
        },
        {
          "name": "stderr",
          "output_type": "stream",
          "text": [
            "30it [00:00, 126.52it/s]"
          ]
        },
        {
          "name": "stdout",
          "output_type": "stream",
          "text": [
            "Epoch: 5 Validation Loss: 0.005743264708344137\n"
          ]
        },
        {
          "name": "stderr",
          "output_type": "stream",
          "text": [
            "\n",
            "/usr/local/lib/python3.10/dist-packages/torch/utils/data/dataloader.py:617: UserWarning: This DataLoader will create 4 worker processes in total. Our suggested max number of worker in current system is 2, which is smaller than what this DataLoader is going to create. Please be aware that excessive worker creation might get DataLoader running slow or even freeze, lower the worker number to avoid potential slowness/freeze if necessary.\n",
            "  warnings.warn(\n",
            "/usr/local/lib/python3.10/dist-packages/torch/nn/modules/loss.py:608: UserWarning: Using a target size (torch.Size([10, 1])) that is different to the input size (torch.Size([10])). This will likely lead to incorrect results due to broadcasting. Please ensure they have the same size.\n",
            "  return F.mse_loss(input, target, reduction=self.reduction)\n"
          ]
        },
        {
          "name": "stdout",
          "output_type": "stream",
          "text": [
            "Epoch: 6 Batch: 0 | Loss: 0.024520982056856155\n",
            "Epoch: 6 Batch: 10 | Loss: 0.010955155827105045\n",
            "Epoch: 6 Batch: 20 | Loss: 0.0063868556171655655\n",
            "Epoch: 6 Batch: 30 | Loss: 0.005391696467995644\n",
            "Epoch: 6 Batch: 40 | Loss: 0.002432167762890458\n",
            "Epoch: 6 Batch: 50 | Loss: 0.002808109624311328\n",
            "Epoch: 6 Batch: 60 | Loss: 0.005719140637665987\n",
            "Epoch: 6 Batch: 70 | Loss: 0.008388311602175236\n",
            "Epoch: 6 Batch: 80 | Loss: 0.010555800050497055\n",
            "Epoch: 6 Batch: 90 | Loss: 0.011176355183124542\n",
            "Epoch: 6 Batch: 100 | Loss: 0.017282675951719284\n",
            "Epoch: 6 Batch: 110 | Loss: 0.019322378560900688\n",
            "Epoch: 6 Batch: 120 | Loss: 0.01578531600534916\n",
            "Epoch: 6 Batch: 130 | Loss: 0.013555731624364853\n",
            "Epoch: 6 Batch: 140 | Loss: 0.026415277272462845\n",
            "Epoch: 6 Batch: 150 | Loss: 0.005892513785511255\n",
            "Epoch: 6 Batch: 160 | Loss: 0.00738902110606432\n",
            "Epoch: 6 Batch: 170 | Loss: 0.0035053566098213196\n",
            "Epoch: 6 Batch: 180 | Loss: 0.001709719654172659\n",
            "Epoch: 6 Batch: 190 | Loss: 0.001611938001587987\n",
            "Epoch: 6 Batch: 200 | Loss: 0.00861011166125536\n"
          ]
        },
        {
          "name": "stderr",
          "output_type": "stream",
          "text": [
            "30it [00:00, 88.67it/s] "
          ]
        },
        {
          "name": "stdout",
          "output_type": "stream",
          "text": [
            "Epoch: 6 Validation Loss: 0.006547314294594587\n"
          ]
        },
        {
          "name": "stderr",
          "output_type": "stream",
          "text": [
            "\n",
            "/usr/local/lib/python3.10/dist-packages/torch/utils/data/dataloader.py:617: UserWarning: This DataLoader will create 4 worker processes in total. Our suggested max number of worker in current system is 2, which is smaller than what this DataLoader is going to create. Please be aware that excessive worker creation might get DataLoader running slow or even freeze, lower the worker number to avoid potential slowness/freeze if necessary.\n",
            "  warnings.warn(\n",
            "/usr/local/lib/python3.10/dist-packages/torch/nn/modules/loss.py:608: UserWarning: Using a target size (torch.Size([10, 1])) that is different to the input size (torch.Size([10])). This will likely lead to incorrect results due to broadcasting. Please ensure they have the same size.\n",
            "  return F.mse_loss(input, target, reduction=self.reduction)\n"
          ]
        },
        {
          "name": "stdout",
          "output_type": "stream",
          "text": [
            "Epoch: 7 Batch: 0 | Loss: 0.03346549719572067\n",
            "Epoch: 7 Batch: 10 | Loss: 0.00806795060634613\n",
            "Epoch: 7 Batch: 20 | Loss: 0.004299532156437635\n",
            "Epoch: 7 Batch: 30 | Loss: 0.007586706429719925\n",
            "Epoch: 7 Batch: 40 | Loss: 0.0028238696977496147\n",
            "Epoch: 7 Batch: 50 | Loss: 0.0037286218721419573\n",
            "Epoch: 7 Batch: 60 | Loss: 0.0054810489527881145\n",
            "Epoch: 7 Batch: 70 | Loss: 0.007317326031625271\n",
            "Epoch: 7 Batch: 80 | Loss: 0.009204533882439137\n",
            "Epoch: 7 Batch: 90 | Loss: 0.010283375158905983\n",
            "Epoch: 7 Batch: 100 | Loss: 0.016597727313637733\n",
            "Epoch: 7 Batch: 110 | Loss: 0.017826871946454048\n",
            "Epoch: 7 Batch: 120 | Loss: 0.018411295488476753\n",
            "Epoch: 7 Batch: 130 | Loss: 0.013036936521530151\n",
            "Epoch: 7 Batch: 140 | Loss: 0.01970369927585125\n",
            "Epoch: 7 Batch: 150 | Loss: 0.0032591847702860832\n",
            "Epoch: 7 Batch: 160 | Loss: 0.005577710457146168\n",
            "Epoch: 7 Batch: 170 | Loss: 0.004090566188097\n",
            "Epoch: 7 Batch: 180 | Loss: 0.0015070135705173016\n",
            "Epoch: 7 Batch: 190 | Loss: 0.002600671723484993\n",
            "Epoch: 7 Batch: 200 | Loss: 0.006822098512202501\n"
          ]
        },
        {
          "name": "stderr",
          "output_type": "stream",
          "text": [
            "30it [00:00, 136.58it/s]"
          ]
        },
        {
          "name": "stdout",
          "output_type": "stream",
          "text": [
            "Epoch: 7 Validation Loss: 0.005342293072542054\n"
          ]
        },
        {
          "name": "stderr",
          "output_type": "stream",
          "text": [
            "\n",
            "/usr/local/lib/python3.10/dist-packages/torch/utils/data/dataloader.py:617: UserWarning: This DataLoader will create 4 worker processes in total. Our suggested max number of worker in current system is 2, which is smaller than what this DataLoader is going to create. Please be aware that excessive worker creation might get DataLoader running slow or even freeze, lower the worker number to avoid potential slowness/freeze if necessary.\n",
            "  warnings.warn(\n",
            "/usr/local/lib/python3.10/dist-packages/torch/nn/modules/loss.py:608: UserWarning: Using a target size (torch.Size([10, 1])) that is different to the input size (torch.Size([10])). This will likely lead to incorrect results due to broadcasting. Please ensure they have the same size.\n",
            "  return F.mse_loss(input, target, reduction=self.reduction)\n"
          ]
        },
        {
          "name": "stdout",
          "output_type": "stream",
          "text": [
            "Epoch: 8 Batch: 0 | Loss: 0.026897670701146126\n",
            "Epoch: 8 Batch: 10 | Loss: 0.010718774050474167\n",
            "Epoch: 8 Batch: 20 | Loss: 0.004684950225055218\n",
            "Epoch: 8 Batch: 30 | Loss: 0.006038638297468424\n",
            "Epoch: 8 Batch: 40 | Loss: 0.00321621960029006\n",
            "Epoch: 8 Batch: 50 | Loss: 0.0032162971328943968\n",
            "Epoch: 8 Batch: 60 | Loss: 0.004768800921738148\n",
            "Epoch: 8 Batch: 70 | Loss: 0.007426688447594643\n",
            "Epoch: 8 Batch: 80 | Loss: 0.0076654390431940556\n",
            "Epoch: 8 Batch: 90 | Loss: 0.014016108587384224\n",
            "Epoch: 8 Batch: 100 | Loss: 0.023610904812812805\n",
            "Epoch: 8 Batch: 110 | Loss: 0.01387133076786995\n",
            "Epoch: 8 Batch: 120 | Loss: 0.018396273255348206\n",
            "Epoch: 8 Batch: 130 | Loss: 0.016420818865299225\n",
            "Epoch: 8 Batch: 140 | Loss: 0.022997401654720306\n",
            "Epoch: 8 Batch: 150 | Loss: 0.005203964654356241\n",
            "Epoch: 8 Batch: 160 | Loss: 0.0058456724509596825\n",
            "Epoch: 8 Batch: 170 | Loss: 0.004839466884732246\n",
            "Epoch: 8 Batch: 180 | Loss: 0.0024181667249649763\n",
            "Epoch: 8 Batch: 190 | Loss: 0.001896711764857173\n",
            "Epoch: 8 Batch: 200 | Loss: 0.007592328358441591\n"
          ]
        },
        {
          "name": "stderr",
          "output_type": "stream",
          "text": [
            "30it [00:00, 132.85it/s]"
          ]
        },
        {
          "name": "stdout",
          "output_type": "stream",
          "text": [
            "Epoch: 8 Validation Loss: 0.005277758809724555\n"
          ]
        },
        {
          "name": "stderr",
          "output_type": "stream",
          "text": [
            "\n",
            "/usr/local/lib/python3.10/dist-packages/torch/utils/data/dataloader.py:617: UserWarning: This DataLoader will create 4 worker processes in total. Our suggested max number of worker in current system is 2, which is smaller than what this DataLoader is going to create. Please be aware that excessive worker creation might get DataLoader running slow or even freeze, lower the worker number to avoid potential slowness/freeze if necessary.\n",
            "  warnings.warn(\n",
            "/usr/local/lib/python3.10/dist-packages/torch/nn/modules/loss.py:608: UserWarning: Using a target size (torch.Size([10, 1])) that is different to the input size (torch.Size([10])). This will likely lead to incorrect results due to broadcasting. Please ensure they have the same size.\n",
            "  return F.mse_loss(input, target, reduction=self.reduction)\n"
          ]
        },
        {
          "name": "stdout",
          "output_type": "stream",
          "text": [
            "Epoch: 9 Batch: 0 | Loss: 0.022138945758342743\n",
            "Epoch: 9 Batch: 10 | Loss: 0.011021340265870094\n",
            "Epoch: 9 Batch: 20 | Loss: 0.003179300809279084\n",
            "Epoch: 9 Batch: 30 | Loss: 0.005070663057267666\n",
            "Epoch: 9 Batch: 40 | Loss: 0.0028017896693199873\n",
            "Epoch: 9 Batch: 50 | Loss: 0.004012821242213249\n",
            "Epoch: 9 Batch: 60 | Loss: 0.005709466990083456\n",
            "Epoch: 9 Batch: 70 | Loss: 0.006887171417474747\n",
            "Epoch: 9 Batch: 80 | Loss: 0.009597716853022575\n",
            "Epoch: 9 Batch: 90 | Loss: 0.010527988895773888\n",
            "Epoch: 9 Batch: 100 | Loss: 0.019665487110614777\n",
            "Epoch: 9 Batch: 110 | Loss: 0.009383859112858772\n",
            "Epoch: 9 Batch: 120 | Loss: 0.014674174599349499\n",
            "Epoch: 9 Batch: 130 | Loss: 0.011994194239377975\n",
            "Epoch: 9 Batch: 140 | Loss: 0.019392680376768112\n",
            "Epoch: 9 Batch: 150 | Loss: 0.004852961748838425\n",
            "Epoch: 9 Batch: 160 | Loss: 0.0061080981977283955\n",
            "Epoch: 9 Batch: 170 | Loss: 0.002598273102194071\n",
            "Epoch: 9 Batch: 180 | Loss: 0.0016000006580725312\n",
            "Epoch: 9 Batch: 190 | Loss: 0.0023705502972006798\n",
            "Epoch: 9 Batch: 200 | Loss: 0.00796681921929121\n"
          ]
        },
        {
          "name": "stderr",
          "output_type": "stream",
          "text": [
            "30it [00:00, 138.90it/s]"
          ]
        },
        {
          "name": "stdout",
          "output_type": "stream",
          "text": [
            "Epoch: 9 Validation Loss: 0.005868861569329212\n",
            "Testing...\n"
          ]
        },
        {
          "name": "stderr",
          "output_type": "stream",
          "text": [
            "\n",
            "/usr/local/lib/python3.10/dist-packages/torch/utils/data/dataloader.py:617: UserWarning: This DataLoader will create 4 worker processes in total. Our suggested max number of worker in current system is 2, which is smaller than what this DataLoader is going to create. Please be aware that excessive worker creation might get DataLoader running slow or even freeze, lower the worker number to avoid potential slowness/freeze if necessary.\n",
            "  warnings.warn(\n",
            "59it [00:00, 131.75it/s]\n"
          ]
        },
        {
          "name": "stdout",
          "output_type": "stream",
          "text": [
            "r2Score:  0.9122991663000206\n",
            "meanSquaredError:  0.00563460399368511\n",
            "RMSE:  0.07506399931848229\n",
            "meanAbsoluteError:  0.06087832846126314\n"
          ]
        },
        {
          "data": {
            "image/png": "[encoded data removed]",
            "text/plain": [
              "<Figure size 1000x600 with 1 Axes>"
            ]
          },
          "metadata": {},
          "output_type": "display_data"
        }
      ],
      "source": [
        "import torch\n",
        "from torch.utils.data import DataLoader\n",
        "from config import Config\n",
        "\n",
        "from utils.dataTools import *\n",
        "from utils.models import CNNBiLSTM\n",
        "from utils.trainer import CNNBiLstm_evaluate,CNNBiLstmtrain\n",
        "if __name__ == '__main__':\n",
        "    config = Config()\n",
        "\n",
        "    print(\"Data loading...\")\n",
        "    dataset = mydataReader(\"./dataProcessed/janu.csv\")\n",
        "\n",
        "    (train_X, train_Y), (val_X, val_Y), (test_X, test_Y) = dataset.split(\n",
        "        lookback=config.lookback, n_steps=config.n_steps, trainSet_ratio=0.7, valSet_ratio=0.1)\n",
        "\n",
        "    trainSet = custom_dataset(train_X, train_Y)\n",
        "    valSet = custom_dataset(val_X, val_Y)\n",
        "    testSet = custom_dataset(test_X, test_Y)\n",
        "\n",
        "    train_loader = DataLoader(trainSet, batch_size=config.batch_size,\n",
        "                              shuffle=False, pin_memory=True, num_workers=4, drop_last=True)\n",
        "    val_loader = DataLoader(valSet, batch_size=config.batch_size,\n",
        "                            shuffle=False, pin_memory=True, num_workers=4, drop_last=False)\n",
        "    test_loader = DataLoader(testSet, batch_size=config.batch_size,\n",
        "                             shuffle=False, pin_memory=True, num_workers=4, drop_last=False)\n",
        "\n",
        "    print(\"Model loading...\")\n",
        "    model = CNNBiLSTM(hidden_size=12, num_layers=2).to(config.device)\n",
        "    criterion = torch.nn.MSELoss()\n",
        "    optimizer = torch.optim.AdamW(model.parameters(),\n",
        "                                  lr=config.learning_rate, weight_decay=config.weight_decay)\n",
        "\n",
        "    print(\"Training...\")\n",
        "    model = CNNBiLstmtrain(model,\n",
        "                           trainloader=train_loader,\n",
        "                           valloader=val_loader,\n",
        "                           criterion=criterion,\n",
        "                           optimizer=optimizer,\n",
        "                           config=config)\n",
        "\n",
        "    print(\"Testing...\")\n",
        "    CNNBiLstm_evaluate(model, test_loader, config)\n"
      ]
    }
  ],
  "metadata": {
    "colab": {
      "provenance": []
    },
    "kernelspec": {
      "display_name": "Python 3",
      "name": "python3"
    },
    "language_info": {
      "name": "python"
    }
  },
  "nbformat": 4,
  "nbformat_minor": 0
}
