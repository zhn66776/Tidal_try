{
  "nbformat": 4,
  "nbformat_minor": 0,
  "metadata": {
    "colab": {
      "provenance": []
    },
    "kernelspec": {
      "name": "python3",
      "display_name": "Python 3"
    },
    "language_info": {
      "name": "python"
    }
  },
  "cells": [
    {
      "cell_type": "code",
      "execution_count": null,
      "metadata": {
        "colab": {
          "base_uri": "https://localhost:8080/"
        },
        "id": "l88jhpbZiPXh",
        "outputId": "836528da-31d6-45a3-f43d-567a769e9015"
      },
      "outputs": [
        {
          "output_type": "stream",
          "name": "stdout",
          "text": [
            "Cloning into 'Tidal_try'...\n",
            "remote: Enumerating objects: 519, done.\u001b[K\n",
            "remote: Counting objects: 100% (164/164), done.\u001b[K\n",
            "remote: Compressing objects: 100% (164/164), done.\u001b[K\n",
            "remote: Total 519 (delta 87), reused 0 (delta 0), pack-reused 355 (from 1)\u001b[K\n",
            "Receiving objects: 100% (519/519), 59.47 MiB | 8.47 MiB/s, done.\n",
            "Resolving deltas: 100% (218/218), done.\n"
          ]
        }
      ],
      "source": [
        "!git clone https://github.com/zhn66776/Tidal_try.git"
      ]
    },
    {
      "cell_type": "code",
      "source": [
        "cd Tidal_try"
      ],
      "metadata": {
        "colab": {
          "base_uri": "https://localhost:8080/"
        },
        "id": "1Osl4J0dmEhH",
        "outputId": "0bc993e8-1aa9-483b-d8a0-1320d7572c33"
      },
      "execution_count": null,
      "outputs": [
        {
          "output_type": "stream",
          "name": "stdout",
          "text": [
            "/content/Tidal_try/Tidal_try/Tidal_try\n"
          ]
        }
      ]
    },
    {
      "cell_type": "code",
      "source": [
        "import torch\n",
        "from torch.utils.data import DataLoader\n",
        "from config import Config\n",
        "\n",
        "from utils.datatool_autoreg import mydataReader, custom_dataset\n",
        "from utils.model_autoreg import CNNBiLSTM\n",
        "from utils.trainer_autoreg import CNNBiLstm_evaluate, CNNBiLstmtrain\n",
        "\n",
        "if __name__ == '__main__':\n",
        "    config = Config()\n",
        "\n",
        "    print(\"Data loading...\")\n",
        "    dataset = mydataReader(\"./dataProcessed/procan.csv\")\n",
        "\n",
        "    (train_X, train_Y), (val_X, val_Y), (test_X, test_Y) = dataset.split(lookback=config.lookback, trainSet_ratio=0.833, valSet_ratio=0.08)\n",
        "\n",
        "    trainSet = custom_dataset(train_X, train_Y)\n",
        "    valSet = custom_dataset(val_X, val_Y)\n",
        "\n",
        "    train_loader = DataLoader(trainSet, batch_size=config.batch_size,\n",
        "                              shuffle=False, pin_memory=True, num_workers=4, drop_last=True)\n",
        "    val_loader = DataLoader(valSet, batch_size=config.batch_size,\n",
        "                            shuffle=False, pin_memory=True, num_workers=4, drop_last=False)\n",
        "    print(\"Model loading...\")\n",
        "    model = CNNBiLSTM(hidden_size=12, num_layers=3).to(config.device)\n",
        "    criterion = torch.nn.MSELoss()\n",
        "    optimizer = torch.optim.AdamW(model.parameters(),\n",
        "                                  lr=config.learning_rate, weight_decay=config.weight_decay)\n",
        "\n",
        "    print(\"Training...\")\n",
        "    model = CNNBiLstmtrain(model,\n",
        "                           trainloader=train_loader,\n",
        "                           valloader=val_loader,\n",
        "                           criterion=criterion,\n",
        "                           optimizer=optimizer,\n",
        "                           config=config)\n",
        "\n",
        "    print(\"Testing...\")\n",
        "    initial_sequence = test_X[0]\n",
        "\n",
        "    y_pred, y_true = CNNBiLstm_evaluate(model, initial_sequence, test_Y, config)\n",
        "    ## lookback20 batch64 learningrate0.004\n",
        "\n"
      ],
      "metadata": {
        "colab": {
          "base_uri": "https://localhost:8080/",
          "height": 1000
        },
        "id": "Lrt5FCyGmKlW",
        "outputId": "375669b4-d626-4ad5-f53e-ceb041274138"
      },
      "execution_count": null,
      "outputs": [
        {
          "output_type": "stream",
          "name": "stdout",
          "text": [
            "Data loading...\n"
          ]
        },
        {
          "output_type": "stream",
          "name": "stderr",
          "text": [
            "100%|██████████| 8740/8740 [00:00<00:00, 376282.74it/s]"
          ]
        },
        {
          "output_type": "stream",
          "name": "stdout",
          "text": [
            "测试集大小为761\n",
            "Model loading...\n"
          ]
        },
        {
          "output_type": "stream",
          "name": "stderr",
          "text": [
            "\n",
            "/usr/local/lib/python3.10/dist-packages/torch/utils/data/dataloader.py:617: UserWarning: This DataLoader will create 4 worker processes in total. Our suggested max number of worker in current system is 2, which is smaller than what this DataLoader is going to create. Please be aware that excessive worker creation might get DataLoader running slow or even freeze, lower the worker number to avoid potential slowness/freeze if necessary.\n",
            "  warnings.warn(\n"
          ]
        },
        {
          "output_type": "stream",
          "name": "stdout",
          "text": [
            "Training...\n"
          ]
        },
        {
          "output_type": "stream",
          "name": "stderr",
          "text": [
            "/usr/local/lib/python3.10/dist-packages/torch/utils/data/dataloader.py:617: UserWarning: This DataLoader will create 4 worker processes in total. Our suggested max number of worker in current system is 2, which is smaller than what this DataLoader is going to create. Please be aware that excessive worker creation might get DataLoader running slow or even freeze, lower the worker number to avoid potential slowness/freeze if necessary.\n",
            "  warnings.warn(\n"
          ]
        },
        {
          "output_type": "stream",
          "name": "stdout",
          "text": [
            "Epoch: 0 batch: 0 | loss: 0.18198901414871216\n",
            "Epoch: 0 batch: 10 | loss: 0.1279732584953308\n",
            "Epoch: 0 batch: 20 | loss: 0.05431103706359863\n",
            "Epoch: 0 batch: 30 | loss: 0.02503781020641327\n",
            "Epoch: 0 batch: 40 | loss: 0.019568586722016335\n",
            "Epoch: 0 batch: 50 | loss: 0.01861085742712021\n",
            "Epoch: 0 batch: 60 | loss: 0.04473397880792618\n",
            "Epoch: 0 batch: 70 | loss: 0.03806651011109352\n",
            "Epoch: 0 batch: 80 | loss: 0.021449517458677292\n",
            "Epoch: 0 batch: 90 | loss: 0.011745564639568329\n",
            "Epoch: 0 batch: 100 | loss: 0.01947725936770439\n",
            "Epoch: 0 batch: 110 | loss: 0.0387391597032547\n",
            "Epoch: 0 valLoss: 0.02480702076574701\n"
          ]
        },
        {
          "output_type": "stream",
          "name": "stderr",
          "text": [
            "/usr/local/lib/python3.10/dist-packages/torch/utils/data/dataloader.py:617: UserWarning: This DataLoader will create 4 worker processes in total. Our suggested max number of worker in current system is 2, which is smaller than what this DataLoader is going to create. Please be aware that excessive worker creation might get DataLoader running slow or even freeze, lower the worker number to avoid potential slowness/freeze if necessary.\n",
            "  warnings.warn(\n"
          ]
        },
        {
          "output_type": "stream",
          "name": "stdout",
          "text": [
            "Epoch: 1 batch: 0 | loss: 0.020269466564059258\n",
            "Epoch: 1 batch: 10 | loss: 0.04033362865447998\n",
            "Epoch: 1 batch: 20 | loss: 0.047625832259655\n",
            "Epoch: 1 batch: 30 | loss: 0.023409854620695114\n",
            "Epoch: 1 batch: 40 | loss: 0.012771102599799633\n",
            "Epoch: 1 batch: 50 | loss: 0.018663832917809486\n",
            "Epoch: 1 batch: 60 | loss: 0.0403708852827549\n",
            "Epoch: 1 batch: 70 | loss: 0.03608930855989456\n",
            "Epoch: 1 batch: 80 | loss: 0.020521879196166992\n",
            "Epoch: 1 batch: 90 | loss: 0.010862099006772041\n",
            "Epoch: 1 batch: 100 | loss: 0.019985869526863098\n",
            "Epoch: 1 batch: 110 | loss: 0.036804527044296265\n",
            "Epoch: 1 valLoss: 0.024545440521965882\n"
          ]
        },
        {
          "output_type": "stream",
          "name": "stderr",
          "text": [
            "/usr/local/lib/python3.10/dist-packages/torch/utils/data/dataloader.py:617: UserWarning: This DataLoader will create 4 worker processes in total. Our suggested max number of worker in current system is 2, which is smaller than what this DataLoader is going to create. Please be aware that excessive worker creation might get DataLoader running slow or even freeze, lower the worker number to avoid potential slowness/freeze if necessary.\n",
            "  warnings.warn(\n"
          ]
        },
        {
          "output_type": "stream",
          "name": "stdout",
          "text": [
            "Epoch: 2 batch: 0 | loss: 0.020905056968331337\n",
            "Epoch: 2 batch: 10 | loss: 0.040115851908922195\n",
            "Epoch: 2 batch: 20 | loss: 0.048902738839387894\n",
            "Epoch: 2 batch: 30 | loss: 0.022948216646909714\n",
            "Epoch: 2 batch: 40 | loss: 0.011523755267262459\n",
            "Epoch: 2 batch: 50 | loss: 0.016456112265586853\n",
            "Epoch: 2 batch: 60 | loss: 0.0390610545873642\n",
            "Epoch: 2 batch: 70 | loss: 0.03225736692547798\n",
            "Epoch: 2 batch: 80 | loss: 0.019410017877817154\n",
            "Epoch: 2 batch: 90 | loss: 0.012199031189084053\n",
            "Epoch: 2 batch: 100 | loss: 0.020256292074918747\n",
            "Epoch: 2 batch: 110 | loss: 0.033522799611091614\n",
            "Epoch: 2 valLoss: 0.023725446251041397\n"
          ]
        },
        {
          "output_type": "stream",
          "name": "stderr",
          "text": [
            "/usr/local/lib/python3.10/dist-packages/torch/utils/data/dataloader.py:617: UserWarning: This DataLoader will create 4 worker processes in total. Our suggested max number of worker in current system is 2, which is smaller than what this DataLoader is going to create. Please be aware that excessive worker creation might get DataLoader running slow or even freeze, lower the worker number to avoid potential slowness/freeze if necessary.\n",
            "  warnings.warn(\n"
          ]
        },
        {
          "output_type": "stream",
          "name": "stdout",
          "text": [
            "Epoch: 3 batch: 0 | loss: 0.019591663032770157\n",
            "Epoch: 3 batch: 10 | loss: 0.04018344730138779\n",
            "Epoch: 3 batch: 20 | loss: 0.04758394882082939\n",
            "Epoch: 3 batch: 30 | loss: 0.022286297753453255\n",
            "Epoch: 3 batch: 40 | loss: 0.01172935962677002\n",
            "Epoch: 3 batch: 50 | loss: 0.015366249717772007\n",
            "Epoch: 3 batch: 60 | loss: 0.036883555352687836\n",
            "Epoch: 3 batch: 70 | loss: 0.031229283660650253\n",
            "Epoch: 3 batch: 80 | loss: 0.018826141953468323\n",
            "Epoch: 3 batch: 90 | loss: 0.008631271310150623\n",
            "Epoch: 3 batch: 100 | loss: 0.016357455402612686\n",
            "Epoch: 3 batch: 110 | loss: 0.023401161655783653\n",
            "Epoch: 3 valLoss: 0.012739451196889982\n"
          ]
        },
        {
          "output_type": "stream",
          "name": "stderr",
          "text": [
            "/usr/local/lib/python3.10/dist-packages/torch/utils/data/dataloader.py:617: UserWarning: This DataLoader will create 4 worker processes in total. Our suggested max number of worker in current system is 2, which is smaller than what this DataLoader is going to create. Please be aware that excessive worker creation might get DataLoader running slow or even freeze, lower the worker number to avoid potential slowness/freeze if necessary.\n",
            "  warnings.warn(\n"
          ]
        },
        {
          "output_type": "stream",
          "name": "stdout",
          "text": [
            "Epoch: 4 batch: 0 | loss: 0.011546566151082516\n",
            "Epoch: 4 batch: 10 | loss: 0.01603788137435913\n",
            "Epoch: 4 batch: 20 | loss: 0.01564735174179077\n",
            "Epoch: 4 batch: 30 | loss: 0.007264678832143545\n",
            "Epoch: 4 batch: 40 | loss: 0.004552810452878475\n",
            "Epoch: 4 batch: 50 | loss: 0.00592423602938652\n",
            "Epoch: 4 batch: 60 | loss: 0.007374068722128868\n",
            "Epoch: 4 batch: 70 | loss: 0.00713968463242054\n",
            "Epoch: 4 batch: 80 | loss: 0.005395899992436171\n",
            "Epoch: 4 batch: 90 | loss: 0.005562866106629372\n",
            "Epoch: 4 batch: 100 | loss: 0.0038451619911938906\n",
            "Epoch: 4 batch: 110 | loss: 0.008486110717058182\n",
            "Epoch: 4 valLoss: 0.004075617298225623\n"
          ]
        },
        {
          "output_type": "stream",
          "name": "stderr",
          "text": [
            "/usr/local/lib/python3.10/dist-packages/torch/utils/data/dataloader.py:617: UserWarning: This DataLoader will create 4 worker processes in total. Our suggested max number of worker in current system is 2, which is smaller than what this DataLoader is going to create. Please be aware that excessive worker creation might get DataLoader running slow or even freeze, lower the worker number to avoid potential slowness/freeze if necessary.\n",
            "  warnings.warn(\n"
          ]
        },
        {
          "output_type": "stream",
          "name": "stdout",
          "text": [
            "Epoch: 5 batch: 0 | loss: 0.005591091699898243\n",
            "Epoch: 5 batch: 10 | loss: 0.007497139275074005\n",
            "Epoch: 5 batch: 20 | loss: 0.012415601871907711\n",
            "Epoch: 5 batch: 30 | loss: 0.003470461117103696\n",
            "Epoch: 5 batch: 40 | loss: 0.0051279012113809586\n",
            "Epoch: 5 batch: 50 | loss: 0.006206342950463295\n",
            "Epoch: 5 batch: 60 | loss: 0.009249220602214336\n",
            "Epoch: 5 batch: 70 | loss: 0.00710598798468709\n",
            "Epoch: 5 batch: 80 | loss: 0.0032604301813989878\n",
            "Epoch: 5 batch: 90 | loss: 0.005075852386653423\n",
            "Epoch: 5 batch: 100 | loss: 0.004216737113893032\n",
            "Epoch: 5 batch: 110 | loss: 0.007317144423723221\n",
            "Epoch: 5 valLoss: 0.00348465573623219\n"
          ]
        },
        {
          "output_type": "stream",
          "name": "stderr",
          "text": [
            "/usr/local/lib/python3.10/dist-packages/torch/utils/data/dataloader.py:617: UserWarning: This DataLoader will create 4 worker processes in total. Our suggested max number of worker in current system is 2, which is smaller than what this DataLoader is going to create. Please be aware that excessive worker creation might get DataLoader running slow or even freeze, lower the worker number to avoid potential slowness/freeze if necessary.\n",
            "  warnings.warn(\n"
          ]
        },
        {
          "output_type": "stream",
          "name": "stdout",
          "text": [
            "Epoch: 6 batch: 0 | loss: 0.0056819734163582325\n",
            "Epoch: 6 batch: 10 | loss: 0.00678247818723321\n",
            "Epoch: 6 batch: 20 | loss: 0.009528957307338715\n",
            "Epoch: 6 batch: 30 | loss: 0.0028362106531858444\n",
            "Epoch: 6 batch: 40 | loss: 0.0037704179994761944\n",
            "Epoch: 6 batch: 50 | loss: 0.004149675834923983\n",
            "Epoch: 6 batch: 60 | loss: 0.009432334452867508\n",
            "Epoch: 6 batch: 70 | loss: 0.007506796158850193\n",
            "Epoch: 6 batch: 80 | loss: 0.003784641856327653\n",
            "Epoch: 6 batch: 90 | loss: 0.0032555859070271254\n",
            "Epoch: 6 batch: 100 | loss: 0.003535754047334194\n",
            "Epoch: 6 batch: 110 | loss: 0.00669520627707243\n",
            "Epoch: 6 valLoss: 0.003275398839927747\n"
          ]
        },
        {
          "output_type": "stream",
          "name": "stderr",
          "text": [
            "/usr/local/lib/python3.10/dist-packages/torch/utils/data/dataloader.py:617: UserWarning: This DataLoader will create 4 worker processes in total. Our suggested max number of worker in current system is 2, which is smaller than what this DataLoader is going to create. Please be aware that excessive worker creation might get DataLoader running slow or even freeze, lower the worker number to avoid potential slowness/freeze if necessary.\n",
            "  warnings.warn(\n"
          ]
        },
        {
          "output_type": "stream",
          "name": "stdout",
          "text": [
            "Epoch: 7 batch: 0 | loss: 0.004620583262294531\n",
            "Epoch: 7 batch: 10 | loss: 0.0060323202051222324\n",
            "Epoch: 7 batch: 20 | loss: 0.011757861822843552\n",
            "Epoch: 7 batch: 30 | loss: 0.004110188223421574\n",
            "Epoch: 7 batch: 40 | loss: 0.003516138531267643\n",
            "Epoch: 7 batch: 50 | loss: 0.003638901747763157\n",
            "Epoch: 7 batch: 60 | loss: 0.007095446810126305\n",
            "Epoch: 7 batch: 70 | loss: 0.006954534910619259\n",
            "Epoch: 7 batch: 80 | loss: 0.003075655084103346\n",
            "Epoch: 7 batch: 90 | loss: 0.00421155197545886\n",
            "Epoch: 7 batch: 100 | loss: 0.0025143190287053585\n",
            "Epoch: 7 batch: 110 | loss: 0.006097308360040188\n",
            "Epoch: 7 valLoss: 0.003097555814122485\n"
          ]
        },
        {
          "output_type": "stream",
          "name": "stderr",
          "text": [
            "/usr/local/lib/python3.10/dist-packages/torch/utils/data/dataloader.py:617: UserWarning: This DataLoader will create 4 worker processes in total. Our suggested max number of worker in current system is 2, which is smaller than what this DataLoader is going to create. Please be aware that excessive worker creation might get DataLoader running slow or even freeze, lower the worker number to avoid potential slowness/freeze if necessary.\n",
            "  warnings.warn(\n"
          ]
        },
        {
          "output_type": "stream",
          "name": "stdout",
          "text": [
            "Epoch: 8 batch: 0 | loss: 0.0040068551898002625\n",
            "Epoch: 8 batch: 10 | loss: 0.005456715356558561\n",
            "Epoch: 8 batch: 20 | loss: 0.00823946576565504\n",
            "Epoch: 8 batch: 30 | loss: 0.0032720216549932957\n",
            "Epoch: 8 batch: 40 | loss: 0.003641868708655238\n",
            "Epoch: 8 batch: 50 | loss: 0.003990223631262779\n",
            "Epoch: 8 batch: 60 | loss: 0.0063545117154717445\n",
            "Epoch: 8 batch: 70 | loss: 0.005183999426662922\n",
            "Epoch: 8 batch: 80 | loss: 0.002868174808099866\n",
            "Epoch: 8 batch: 90 | loss: 0.0037549929693341255\n",
            "Epoch: 8 batch: 100 | loss: 0.0035864163655787706\n",
            "Epoch: 8 batch: 110 | loss: 0.005772248841822147\n",
            "Epoch: 8 valLoss: 0.002913424748300776\n"
          ]
        },
        {
          "output_type": "stream",
          "name": "stderr",
          "text": [
            "/usr/local/lib/python3.10/dist-packages/torch/utils/data/dataloader.py:617: UserWarning: This DataLoader will create 4 worker processes in total. Our suggested max number of worker in current system is 2, which is smaller than what this DataLoader is going to create. Please be aware that excessive worker creation might get DataLoader running slow or even freeze, lower the worker number to avoid potential slowness/freeze if necessary.\n",
            "  warnings.warn(\n"
          ]
        },
        {
          "output_type": "stream",
          "name": "stdout",
          "text": [
            "Epoch: 9 batch: 0 | loss: 0.004142806865274906\n",
            "Epoch: 9 batch: 10 | loss: 0.00606172252446413\n",
            "Epoch: 9 batch: 20 | loss: 0.010660489089787006\n",
            "Epoch: 9 batch: 30 | loss: 0.0030951532535254955\n",
            "Epoch: 9 batch: 40 | loss: 0.0028582741506397724\n",
            "Epoch: 9 batch: 50 | loss: 0.0035033205058425665\n",
            "Epoch: 9 batch: 60 | loss: 0.006851552054286003\n",
            "Epoch: 9 batch: 70 | loss: 0.005060691852122545\n",
            "Epoch: 9 batch: 80 | loss: 0.003042141441255808\n",
            "Epoch: 9 batch: 90 | loss: 0.003668650286272168\n",
            "Epoch: 9 batch: 100 | loss: 0.0036576935090124607\n",
            "Epoch: 9 batch: 110 | loss: 0.005346355959773064\n",
            "Epoch: 9 valLoss: 0.002705006281416803\n"
          ]
        },
        {
          "output_type": "stream",
          "name": "stderr",
          "text": [
            "/usr/local/lib/python3.10/dist-packages/torch/utils/data/dataloader.py:617: UserWarning: This DataLoader will create 4 worker processes in total. Our suggested max number of worker in current system is 2, which is smaller than what this DataLoader is going to create. Please be aware that excessive worker creation might get DataLoader running slow or even freeze, lower the worker number to avoid potential slowness/freeze if necessary.\n",
            "  warnings.warn(\n"
          ]
        },
        {
          "output_type": "stream",
          "name": "stdout",
          "text": [
            "Epoch: 10 batch: 0 | loss: 0.0043305219151079655\n",
            "Epoch: 10 batch: 10 | loss: 0.004263833165168762\n",
            "Epoch: 10 batch: 20 | loss: 0.00817851908504963\n",
            "Epoch: 10 batch: 30 | loss: 0.0029631417710334063\n",
            "Epoch: 10 batch: 40 | loss: 0.002737912116572261\n",
            "Epoch: 10 batch: 50 | loss: 0.003880562260746956\n",
            "Epoch: 10 batch: 60 | loss: 0.007192759774625301\n",
            "Epoch: 10 batch: 70 | loss: 0.0054414160549640656\n",
            "Epoch: 10 batch: 80 | loss: 0.00289097405038774\n",
            "Epoch: 10 batch: 90 | loss: 0.002729899249970913\n",
            "Epoch: 10 batch: 100 | loss: 0.003017277689650655\n",
            "Epoch: 10 batch: 110 | loss: 0.004439128562808037\n",
            "Epoch: 10 valLoss: 0.0027450850609070402\n"
          ]
        },
        {
          "output_type": "stream",
          "name": "stderr",
          "text": [
            "/usr/local/lib/python3.10/dist-packages/torch/utils/data/dataloader.py:617: UserWarning: This DataLoader will create 4 worker processes in total. Our suggested max number of worker in current system is 2, which is smaller than what this DataLoader is going to create. Please be aware that excessive worker creation might get DataLoader running slow or even freeze, lower the worker number to avoid potential slowness/freeze if necessary.\n",
            "  warnings.warn(\n"
          ]
        },
        {
          "output_type": "stream",
          "name": "stdout",
          "text": [
            "Epoch: 11 batch: 0 | loss: 0.004428926855325699\n",
            "Epoch: 11 batch: 10 | loss: 0.005759762600064278\n",
            "Epoch: 11 batch: 20 | loss: 0.007708863355219364\n",
            "Epoch: 11 batch: 30 | loss: 0.001840958371758461\n",
            "Epoch: 11 batch: 40 | loss: 0.003547887783497572\n",
            "Epoch: 11 batch: 50 | loss: 0.003823828184977174\n",
            "Epoch: 11 batch: 60 | loss: 0.007518995087593794\n",
            "Epoch: 11 batch: 70 | loss: 0.004761355929076672\n",
            "Epoch: 11 batch: 80 | loss: 0.002110907342284918\n",
            "Epoch: 11 batch: 90 | loss: 0.003021739888936281\n",
            "Epoch: 11 batch: 100 | loss: 0.0036406542640179396\n",
            "Epoch: 11 batch: 110 | loss: 0.0044324626214802265\n",
            "Epoch: 11 valLoss: 0.0026294567094879875\n"
          ]
        },
        {
          "output_type": "stream",
          "name": "stderr",
          "text": [
            "/usr/local/lib/python3.10/dist-packages/torch/utils/data/dataloader.py:617: UserWarning: This DataLoader will create 4 worker processes in total. Our suggested max number of worker in current system is 2, which is smaller than what this DataLoader is going to create. Please be aware that excessive worker creation might get DataLoader running slow or even freeze, lower the worker number to avoid potential slowness/freeze if necessary.\n",
            "  warnings.warn(\n"
          ]
        },
        {
          "output_type": "stream",
          "name": "stdout",
          "text": [
            "Epoch: 12 batch: 0 | loss: 0.003970026504248381\n",
            "Epoch: 12 batch: 10 | loss: 0.004660189151763916\n",
            "Epoch: 12 batch: 20 | loss: 0.008316503837704659\n",
            "Epoch: 12 batch: 30 | loss: 0.0024404472205787897\n",
            "Epoch: 12 batch: 40 | loss: 0.0029177318792790174\n",
            "Epoch: 12 batch: 50 | loss: 0.0028711389750242233\n",
            "Epoch: 12 batch: 60 | loss: 0.00760059105232358\n",
            "Epoch: 12 batch: 70 | loss: 0.004680910613387823\n",
            "Epoch: 12 batch: 80 | loss: 0.0020919027738273144\n",
            "Epoch: 12 batch: 90 | loss: 0.003072701394557953\n",
            "Epoch: 12 batch: 100 | loss: 0.003514832817018032\n",
            "Epoch: 12 batch: 110 | loss: 0.005216172896325588\n",
            "Epoch: 12 valLoss: 0.00262179669783802\n"
          ]
        },
        {
          "output_type": "stream",
          "name": "stderr",
          "text": [
            "/usr/local/lib/python3.10/dist-packages/torch/utils/data/dataloader.py:617: UserWarning: This DataLoader will create 4 worker processes in total. Our suggested max number of worker in current system is 2, which is smaller than what this DataLoader is going to create. Please be aware that excessive worker creation might get DataLoader running slow or even freeze, lower the worker number to avoid potential slowness/freeze if necessary.\n",
            "  warnings.warn(\n"
          ]
        },
        {
          "output_type": "stream",
          "name": "stdout",
          "text": [
            "Epoch: 13 batch: 0 | loss: 0.003092419356107712\n",
            "Epoch: 13 batch: 10 | loss: 0.004734695423394442\n",
            "Epoch: 13 batch: 20 | loss: 0.008167889900505543\n",
            "Epoch: 13 batch: 30 | loss: 0.0020423876121640205\n",
            "Epoch: 13 batch: 40 | loss: 0.0029274646658450365\n",
            "Epoch: 13 batch: 50 | loss: 0.0032178321853280067\n",
            "Epoch: 13 batch: 60 | loss: 0.006760382559150457\n",
            "Epoch: 13 batch: 70 | loss: 0.003914291504770517\n",
            "Epoch: 13 batch: 80 | loss: 0.0028622241225093603\n",
            "Epoch: 13 batch: 90 | loss: 0.003120335517451167\n",
            "Epoch: 13 batch: 100 | loss: 0.003241949714720249\n",
            "Epoch: 13 batch: 110 | loss: 0.004735885187983513\n",
            "Epoch: 13 valLoss: 0.0026620980504677505\n"
          ]
        },
        {
          "output_type": "stream",
          "name": "stderr",
          "text": [
            "/usr/local/lib/python3.10/dist-packages/torch/utils/data/dataloader.py:617: UserWarning: This DataLoader will create 4 worker processes in total. Our suggested max number of worker in current system is 2, which is smaller than what this DataLoader is going to create. Please be aware that excessive worker creation might get DataLoader running slow or even freeze, lower the worker number to avoid potential slowness/freeze if necessary.\n",
            "  warnings.warn(\n"
          ]
        },
        {
          "output_type": "stream",
          "name": "stdout",
          "text": [
            "Epoch: 14 batch: 0 | loss: 0.004055398516356945\n",
            "Epoch: 14 batch: 10 | loss: 0.005430039018392563\n",
            "Epoch: 14 batch: 20 | loss: 0.009102292358875275\n",
            "Epoch: 14 batch: 30 | loss: 0.0025394661352038383\n",
            "Epoch: 14 batch: 40 | loss: 0.002654637675732374\n",
            "Epoch: 14 batch: 50 | loss: 0.0028193264733999968\n",
            "Epoch: 14 batch: 60 | loss: 0.007261275313794613\n",
            "Epoch: 14 batch: 70 | loss: 0.004843795206397772\n",
            "Epoch: 14 batch: 80 | loss: 0.001981751061975956\n",
            "Epoch: 14 batch: 90 | loss: 0.002707667415961623\n",
            "Epoch: 14 batch: 100 | loss: 0.0036506319884210825\n",
            "Epoch: 14 batch: 110 | loss: 0.004313115030527115\n",
            "Epoch: 14 valLoss: 0.002508442727917253\n"
          ]
        },
        {
          "output_type": "stream",
          "name": "stderr",
          "text": [
            "/usr/local/lib/python3.10/dist-packages/torch/utils/data/dataloader.py:617: UserWarning: This DataLoader will create 4 worker processes in total. Our suggested max number of worker in current system is 2, which is smaller than what this DataLoader is going to create. Please be aware that excessive worker creation might get DataLoader running slow or even freeze, lower the worker number to avoid potential slowness/freeze if necessary.\n",
            "  warnings.warn(\n"
          ]
        },
        {
          "output_type": "stream",
          "name": "stdout",
          "text": [
            "Epoch: 15 batch: 0 | loss: 0.003604601137340069\n",
            "Epoch: 15 batch: 10 | loss: 0.003979657776653767\n",
            "Epoch: 15 batch: 20 | loss: 0.008583559654653072\n",
            "Epoch: 15 batch: 30 | loss: 0.0020609041675925255\n",
            "Epoch: 15 batch: 40 | loss: 0.0024612993001937866\n",
            "Epoch: 15 batch: 50 | loss: 0.0028291349299252033\n",
            "Epoch: 15 batch: 60 | loss: 0.005991253536194563\n",
            "Epoch: 15 batch: 70 | loss: 0.004381990060210228\n",
            "Epoch: 15 batch: 80 | loss: 0.002809650730341673\n",
            "Epoch: 15 batch: 90 | loss: 0.0027367996517568827\n",
            "Epoch: 15 batch: 100 | loss: 0.0036555007100105286\n",
            "Epoch: 15 batch: 110 | loss: 0.004288527648895979\n",
            "Epoch: 15 valLoss: 0.0026185596779522585\n"
          ]
        },
        {
          "output_type": "stream",
          "name": "stderr",
          "text": [
            "/usr/local/lib/python3.10/dist-packages/torch/utils/data/dataloader.py:617: UserWarning: This DataLoader will create 4 worker processes in total. Our suggested max number of worker in current system is 2, which is smaller than what this DataLoader is going to create. Please be aware that excessive worker creation might get DataLoader running slow or even freeze, lower the worker number to avoid potential slowness/freeze if necessary.\n",
            "  warnings.warn(\n"
          ]
        },
        {
          "output_type": "stream",
          "name": "stdout",
          "text": [
            "Epoch: 16 batch: 0 | loss: 0.0034819229040294886\n",
            "Epoch: 16 batch: 10 | loss: 0.004704754333943129\n",
            "Epoch: 16 batch: 20 | loss: 0.007967885583639145\n",
            "Epoch: 16 batch: 30 | loss: 0.0021417359821498394\n",
            "Epoch: 16 batch: 40 | loss: 0.003140887012705207\n",
            "Epoch: 16 batch: 50 | loss: 0.002567860297858715\n",
            "Epoch: 16 batch: 60 | loss: 0.005701959133148193\n",
            "Epoch: 16 batch: 70 | loss: 0.0043281069956719875\n",
            "Epoch: 16 batch: 80 | loss: 0.002153565641492605\n",
            "Epoch: 16 batch: 90 | loss: 0.0030814793426543474\n",
            "Epoch: 16 batch: 100 | loss: 0.004110867623239756\n",
            "Epoch: 16 batch: 110 | loss: 0.0053357696160674095\n",
            "Epoch: 16 valLoss: 0.002466262211908084\n"
          ]
        },
        {
          "output_type": "stream",
          "name": "stderr",
          "text": [
            "/usr/local/lib/python3.10/dist-packages/torch/utils/data/dataloader.py:617: UserWarning: This DataLoader will create 4 worker processes in total. Our suggested max number of worker in current system is 2, which is smaller than what this DataLoader is going to create. Please be aware that excessive worker creation might get DataLoader running slow or even freeze, lower the worker number to avoid potential slowness/freeze if necessary.\n",
            "  warnings.warn(\n"
          ]
        },
        {
          "output_type": "stream",
          "name": "stdout",
          "text": [
            "Epoch: 17 batch: 0 | loss: 0.0035641086287796497\n",
            "Epoch: 17 batch: 10 | loss: 0.0043083177879452705\n",
            "Epoch: 17 batch: 20 | loss: 0.006916218437254429\n",
            "Epoch: 17 batch: 30 | loss: 0.00226304167881608\n",
            "Epoch: 17 batch: 40 | loss: 0.0030952717643231153\n",
            "Epoch: 17 batch: 50 | loss: 0.0031006301287561655\n",
            "Epoch: 17 batch: 60 | loss: 0.00471821753308177\n",
            "Epoch: 17 batch: 70 | loss: 0.0044943843968212605\n",
            "Epoch: 17 batch: 80 | loss: 0.0022696806117892265\n",
            "Epoch: 17 batch: 90 | loss: 0.0025025345385074615\n",
            "Epoch: 17 batch: 100 | loss: 0.0037660254165530205\n",
            "Epoch: 17 batch: 110 | loss: 0.005387398414313793\n",
            "Epoch: 17 valLoss: 0.0024991168025354274\n"
          ]
        },
        {
          "output_type": "stream",
          "name": "stderr",
          "text": [
            "/usr/local/lib/python3.10/dist-packages/torch/utils/data/dataloader.py:617: UserWarning: This DataLoader will create 4 worker processes in total. Our suggested max number of worker in current system is 2, which is smaller than what this DataLoader is going to create. Please be aware that excessive worker creation might get DataLoader running slow or even freeze, lower the worker number to avoid potential slowness/freeze if necessary.\n",
            "  warnings.warn(\n"
          ]
        },
        {
          "output_type": "stream",
          "name": "stdout",
          "text": [
            "Epoch: 18 batch: 0 | loss: 0.0036427995655685663\n",
            "Epoch: 18 batch: 10 | loss: 0.0039108144119381905\n",
            "Epoch: 18 batch: 20 | loss: 0.008655432611703873\n",
            "Epoch: 18 batch: 30 | loss: 0.0018644080264493823\n",
            "Epoch: 18 batch: 40 | loss: 0.0029441388323903084\n",
            "Epoch: 18 batch: 50 | loss: 0.0033064738381654024\n",
            "Epoch: 18 batch: 60 | loss: 0.005925795063376427\n",
            "Epoch: 18 batch: 70 | loss: 0.004809010308235884\n",
            "Epoch: 18 batch: 80 | loss: 0.001995156053453684\n",
            "Epoch: 18 batch: 90 | loss: 0.0027548635844141245\n",
            "Epoch: 18 batch: 100 | loss: 0.003407748183235526\n",
            "Epoch: 18 batch: 110 | loss: 0.004353327676653862\n",
            "Epoch: 18 valLoss: 0.0024554783154265803\n"
          ]
        },
        {
          "output_type": "stream",
          "name": "stderr",
          "text": [
            "/usr/local/lib/python3.10/dist-packages/torch/utils/data/dataloader.py:617: UserWarning: This DataLoader will create 4 worker processes in total. Our suggested max number of worker in current system is 2, which is smaller than what this DataLoader is going to create. Please be aware that excessive worker creation might get DataLoader running slow or even freeze, lower the worker number to avoid potential slowness/freeze if necessary.\n",
            "  warnings.warn(\n"
          ]
        },
        {
          "output_type": "stream",
          "name": "stdout",
          "text": [
            "Epoch: 19 batch: 0 | loss: 0.0037291008047759533\n",
            "Epoch: 19 batch: 10 | loss: 0.004760880954563618\n",
            "Epoch: 19 batch: 20 | loss: 0.00865338183939457\n",
            "Epoch: 19 batch: 30 | loss: 0.0018864806042984128\n",
            "Epoch: 19 batch: 40 | loss: 0.0026215026155114174\n",
            "Epoch: 19 batch: 50 | loss: 0.002882184460759163\n",
            "Epoch: 19 batch: 60 | loss: 0.005509381648153067\n",
            "Epoch: 19 batch: 70 | loss: 0.0036377054639160633\n",
            "Epoch: 19 batch: 80 | loss: 0.0024643540382385254\n",
            "Epoch: 19 batch: 90 | loss: 0.0026892232708632946\n",
            "Epoch: 19 batch: 100 | loss: 0.004267808049917221\n",
            "Epoch: 19 batch: 110 | loss: 0.003803666215389967\n",
            "Epoch: 19 valLoss: 0.002476981377343307\n"
          ]
        },
        {
          "output_type": "stream",
          "name": "stderr",
          "text": [
            "/usr/local/lib/python3.10/dist-packages/torch/utils/data/dataloader.py:617: UserWarning: This DataLoader will create 4 worker processes in total. Our suggested max number of worker in current system is 2, which is smaller than what this DataLoader is going to create. Please be aware that excessive worker creation might get DataLoader running slow or even freeze, lower the worker number to avoid potential slowness/freeze if necessary.\n",
            "  warnings.warn(\n"
          ]
        },
        {
          "output_type": "stream",
          "name": "stdout",
          "text": [
            "Epoch: 20 batch: 0 | loss: 0.003276980249211192\n",
            "Epoch: 20 batch: 10 | loss: 0.004773181397467852\n",
            "Epoch: 20 batch: 20 | loss: 0.00762966088950634\n",
            "Epoch: 20 batch: 30 | loss: 0.002053899923339486\n",
            "Epoch: 20 batch: 40 | loss: 0.0021594748832285404\n",
            "Epoch: 20 batch: 50 | loss: 0.0026971830520778894\n",
            "Epoch: 20 batch: 60 | loss: 0.005475882440805435\n",
            "Epoch: 20 batch: 70 | loss: 0.003941859118640423\n",
            "Epoch: 20 batch: 80 | loss: 0.0020812777802348137\n",
            "Epoch: 20 batch: 90 | loss: 0.002491698134690523\n",
            "Epoch: 20 batch: 100 | loss: 0.003343357006087899\n",
            "Epoch: 20 batch: 110 | loss: 0.004186540842056274\n",
            "Epoch: 20 valLoss: 0.002426742676196825\n"
          ]
        },
        {
          "output_type": "stream",
          "name": "stderr",
          "text": [
            "/usr/local/lib/python3.10/dist-packages/torch/utils/data/dataloader.py:617: UserWarning: This DataLoader will create 4 worker processes in total. Our suggested max number of worker in current system is 2, which is smaller than what this DataLoader is going to create. Please be aware that excessive worker creation might get DataLoader running slow or even freeze, lower the worker number to avoid potential slowness/freeze if necessary.\n",
            "  warnings.warn(\n"
          ]
        },
        {
          "output_type": "stream",
          "name": "stdout",
          "text": [
            "Epoch: 21 batch: 0 | loss: 0.0037679693195968866\n",
            "Epoch: 21 batch: 10 | loss: 0.004519605077803135\n",
            "Epoch: 21 batch: 20 | loss: 0.009446749463677406\n",
            "Epoch: 21 batch: 30 | loss: 0.0022500911727547646\n",
            "Epoch: 21 batch: 40 | loss: 0.003406208474189043\n",
            "Epoch: 21 batch: 50 | loss: 0.00301748001947999\n",
            "Epoch: 21 batch: 60 | loss: 0.005440098699182272\n",
            "Epoch: 21 batch: 70 | loss: 0.0033398389350622892\n",
            "Epoch: 21 batch: 80 | loss: 0.0021218673791736364\n",
            "Epoch: 21 batch: 90 | loss: 0.00225942418910563\n",
            "Epoch: 21 batch: 100 | loss: 0.0030131430830806494\n",
            "Epoch: 21 batch: 110 | loss: 0.005224148742854595\n",
            "Epoch: 21 valLoss: 0.0024048274664353036\n"
          ]
        },
        {
          "output_type": "stream",
          "name": "stderr",
          "text": [
            "/usr/local/lib/python3.10/dist-packages/torch/utils/data/dataloader.py:617: UserWarning: This DataLoader will create 4 worker processes in total. Our suggested max number of worker in current system is 2, which is smaller than what this DataLoader is going to create. Please be aware that excessive worker creation might get DataLoader running slow or even freeze, lower the worker number to avoid potential slowness/freeze if necessary.\n",
            "  warnings.warn(\n"
          ]
        },
        {
          "output_type": "stream",
          "name": "stdout",
          "text": [
            "Epoch: 22 batch: 0 | loss: 0.003418420674279332\n",
            "Epoch: 22 batch: 10 | loss: 0.0038438127376139164\n",
            "Epoch: 22 batch: 20 | loss: 0.006845291703939438\n",
            "Epoch: 22 batch: 30 | loss: 0.0019903075881302357\n",
            "Epoch: 22 batch: 40 | loss: 0.002824024762958288\n",
            "Epoch: 22 batch: 50 | loss: 0.0019125374965369701\n",
            "Epoch: 22 batch: 60 | loss: 0.006433407310396433\n",
            "Epoch: 22 batch: 70 | loss: 0.003243474755436182\n",
            "Epoch: 22 batch: 80 | loss: 0.002056179801002145\n",
            "Epoch: 22 batch: 90 | loss: 0.0027154742274433374\n",
            "Epoch: 22 batch: 100 | loss: 0.0030431365594267845\n",
            "Epoch: 22 batch: 110 | loss: 0.003535275347530842\n",
            "Epoch: 22 valLoss: 0.002418387265148121\n"
          ]
        },
        {
          "output_type": "stream",
          "name": "stderr",
          "text": [
            "/usr/local/lib/python3.10/dist-packages/torch/utils/data/dataloader.py:617: UserWarning: This DataLoader will create 4 worker processes in total. Our suggested max number of worker in current system is 2, which is smaller than what this DataLoader is going to create. Please be aware that excessive worker creation might get DataLoader running slow or even freeze, lower the worker number to avoid potential slowness/freeze if necessary.\n",
            "  warnings.warn(\n"
          ]
        },
        {
          "output_type": "stream",
          "name": "stdout",
          "text": [
            "Epoch: 23 batch: 0 | loss: 0.003559976350516081\n",
            "Epoch: 23 batch: 10 | loss: 0.0040870183147490025\n",
            "Epoch: 23 batch: 20 | loss: 0.006782681681215763\n",
            "Epoch: 23 batch: 30 | loss: 0.0021370318718254566\n",
            "Epoch: 23 batch: 40 | loss: 0.002804545219987631\n",
            "Epoch: 23 batch: 50 | loss: 0.002642837120220065\n",
            "Epoch: 23 batch: 60 | loss: 0.005902822595089674\n",
            "Epoch: 23 batch: 70 | loss: 0.0037142024375498295\n",
            "Epoch: 23 batch: 80 | loss: 0.001957434695214033\n",
            "Epoch: 23 batch: 90 | loss: 0.0020843008533120155\n",
            "Epoch: 23 batch: 100 | loss: 0.0033503484446555376\n",
            "Epoch: 23 batch: 110 | loss: 0.0036964276805520058\n",
            "Epoch: 23 valLoss: 0.0023410002384082747\n"
          ]
        },
        {
          "output_type": "stream",
          "name": "stderr",
          "text": [
            "/usr/local/lib/python3.10/dist-packages/torch/utils/data/dataloader.py:617: UserWarning: This DataLoader will create 4 worker processes in total. Our suggested max number of worker in current system is 2, which is smaller than what this DataLoader is going to create. Please be aware that excessive worker creation might get DataLoader running slow or even freeze, lower the worker number to avoid potential slowness/freeze if necessary.\n",
            "  warnings.warn(\n"
          ]
        },
        {
          "output_type": "stream",
          "name": "stdout",
          "text": [
            "Epoch: 24 batch: 0 | loss: 0.0028037722222507\n",
            "Epoch: 24 batch: 10 | loss: 0.0034359563142061234\n",
            "Epoch: 24 batch: 20 | loss: 0.006342961918562651\n",
            "Epoch: 24 batch: 30 | loss: 0.002074415562674403\n",
            "Epoch: 24 batch: 40 | loss: 0.0026395306922495365\n",
            "Epoch: 24 batch: 50 | loss: 0.0030067835468798876\n",
            "Epoch: 24 batch: 60 | loss: 0.006187109276652336\n",
            "Epoch: 24 batch: 70 | loss: 0.0034306824672967196\n",
            "Epoch: 24 batch: 80 | loss: 0.0022042919881641865\n",
            "Epoch: 24 batch: 90 | loss: 0.0020225283224135637\n",
            "Epoch: 24 batch: 100 | loss: 0.003282183315604925\n",
            "Epoch: 24 batch: 110 | loss: 0.0035397412721067667\n",
            "Epoch: 24 valLoss: 0.0023713330560681473\n"
          ]
        },
        {
          "output_type": "stream",
          "name": "stderr",
          "text": [
            "/usr/local/lib/python3.10/dist-packages/torch/utils/data/dataloader.py:617: UserWarning: This DataLoader will create 4 worker processes in total. Our suggested max number of worker in current system is 2, which is smaller than what this DataLoader is going to create. Please be aware that excessive worker creation might get DataLoader running slow or even freeze, lower the worker number to avoid potential slowness/freeze if necessary.\n",
            "  warnings.warn(\n"
          ]
        },
        {
          "output_type": "stream",
          "name": "stdout",
          "text": [
            "Epoch: 25 batch: 0 | loss: 0.0038701065350323915\n",
            "Epoch: 25 batch: 10 | loss: 0.0036847908049821854\n",
            "Epoch: 25 batch: 20 | loss: 0.006347392685711384\n",
            "Epoch: 25 batch: 30 | loss: 0.0026967863086611032\n",
            "Epoch: 25 batch: 40 | loss: 0.00290506100282073\n",
            "Epoch: 25 batch: 50 | loss: 0.0026832963339984417\n",
            "Epoch: 25 batch: 60 | loss: 0.00487190205603838\n",
            "Epoch: 25 batch: 70 | loss: 0.003477085381746292\n",
            "Epoch: 25 batch: 80 | loss: 0.0014389127027243376\n",
            "Epoch: 25 batch: 90 | loss: 0.0019781903829425573\n",
            "Epoch: 25 batch: 100 | loss: 0.0028319875709712505\n",
            "Epoch: 25 batch: 110 | loss: 0.00338002759963274\n",
            "Epoch: 25 valLoss: 0.0023541287256622005\n"
          ]
        },
        {
          "output_type": "stream",
          "name": "stderr",
          "text": [
            "/usr/local/lib/python3.10/dist-packages/torch/utils/data/dataloader.py:617: UserWarning: This DataLoader will create 4 worker processes in total. Our suggested max number of worker in current system is 2, which is smaller than what this DataLoader is going to create. Please be aware that excessive worker creation might get DataLoader running slow or even freeze, lower the worker number to avoid potential slowness/freeze if necessary.\n",
            "  warnings.warn(\n"
          ]
        },
        {
          "output_type": "stream",
          "name": "stdout",
          "text": [
            "Epoch: 26 batch: 0 | loss: 0.0031688446179032326\n",
            "Epoch: 26 batch: 10 | loss: 0.0037025860510766506\n",
            "Epoch: 26 batch: 20 | loss: 0.007033744361251593\n",
            "Epoch: 26 batch: 30 | loss: 0.0019579289946705103\n",
            "Epoch: 26 batch: 40 | loss: 0.002462678821757436\n",
            "Epoch: 26 batch: 50 | loss: 0.0027642440982162952\n",
            "Epoch: 26 batch: 60 | loss: 0.005244453437626362\n",
            "Epoch: 26 batch: 70 | loss: 0.003819884965196252\n",
            "Epoch: 26 batch: 80 | loss: 0.0018135400023311377\n",
            "Epoch: 26 batch: 90 | loss: 0.0016175778582692146\n",
            "Epoch: 26 batch: 100 | loss: 0.0029251701198518276\n",
            "Epoch: 26 batch: 110 | loss: 0.004322849214076996\n",
            "Epoch: 26 valLoss: 0.0023250058954260916\n"
          ]
        },
        {
          "output_type": "stream",
          "name": "stderr",
          "text": [
            "/usr/local/lib/python3.10/dist-packages/torch/utils/data/dataloader.py:617: UserWarning: This DataLoader will create 4 worker processes in total. Our suggested max number of worker in current system is 2, which is smaller than what this DataLoader is going to create. Please be aware that excessive worker creation might get DataLoader running slow or even freeze, lower the worker number to avoid potential slowness/freeze if necessary.\n",
            "  warnings.warn(\n"
          ]
        },
        {
          "output_type": "stream",
          "name": "stdout",
          "text": [
            "Epoch: 27 batch: 0 | loss: 0.0033089579083025455\n",
            "Epoch: 27 batch: 10 | loss: 0.0036633461713790894\n",
            "Epoch: 27 batch: 20 | loss: 0.006659981794655323\n",
            "Epoch: 27 batch: 30 | loss: 0.0020552710629999638\n",
            "Epoch: 27 batch: 40 | loss: 0.0023162495344877243\n",
            "Epoch: 27 batch: 50 | loss: 0.0024346623104065657\n",
            "Epoch: 27 batch: 60 | loss: 0.005518937483429909\n",
            "Epoch: 27 batch: 70 | loss: 0.0034938608296215534\n",
            "Epoch: 27 batch: 80 | loss: 0.0018639368936419487\n",
            "Epoch: 27 batch: 90 | loss: 0.002150376792997122\n",
            "Epoch: 27 batch: 100 | loss: 0.002789562800899148\n",
            "Epoch: 27 batch: 110 | loss: 0.004200690891593695\n",
            "Epoch: 27 valLoss: 0.0022204311877161652\n"
          ]
        },
        {
          "output_type": "stream",
          "name": "stderr",
          "text": [
            "/usr/local/lib/python3.10/dist-packages/torch/utils/data/dataloader.py:617: UserWarning: This DataLoader will create 4 worker processes in total. Our suggested max number of worker in current system is 2, which is smaller than what this DataLoader is going to create. Please be aware that excessive worker creation might get DataLoader running slow or even freeze, lower the worker number to avoid potential slowness/freeze if necessary.\n",
            "  warnings.warn(\n"
          ]
        },
        {
          "output_type": "stream",
          "name": "stdout",
          "text": [
            "Epoch: 28 batch: 0 | loss: 0.0034192793536931276\n",
            "Epoch: 28 batch: 10 | loss: 0.0042967284098267555\n",
            "Epoch: 28 batch: 20 | loss: 0.007027709856629372\n",
            "Epoch: 28 batch: 30 | loss: 0.0020699382293969393\n",
            "Epoch: 28 batch: 40 | loss: 0.0023390718270093203\n",
            "Epoch: 28 batch: 50 | loss: 0.002467937534675002\n",
            "Epoch: 28 batch: 60 | loss: 0.006088682916015387\n",
            "Epoch: 28 batch: 70 | loss: 0.0032157646492123604\n",
            "Epoch: 28 batch: 80 | loss: 0.0015385227743536234\n",
            "Epoch: 28 batch: 90 | loss: 0.0022516651079058647\n",
            "Epoch: 28 batch: 100 | loss: 0.002788518788293004\n",
            "Epoch: 28 batch: 110 | loss: 0.003762174630537629\n",
            "Epoch: 28 valLoss: 0.0022513232061791726\n"
          ]
        },
        {
          "output_type": "stream",
          "name": "stderr",
          "text": [
            "/usr/local/lib/python3.10/dist-packages/torch/utils/data/dataloader.py:617: UserWarning: This DataLoader will create 4 worker processes in total. Our suggested max number of worker in current system is 2, which is smaller than what this DataLoader is going to create. Please be aware that excessive worker creation might get DataLoader running slow or even freeze, lower the worker number to avoid potential slowness/freeze if necessary.\n",
            "  warnings.warn(\n"
          ]
        },
        {
          "output_type": "stream",
          "name": "stdout",
          "text": [
            "Epoch: 29 batch: 0 | loss: 0.0030679393094033003\n",
            "Epoch: 29 batch: 10 | loss: 0.004143910016864538\n",
            "Epoch: 29 batch: 20 | loss: 0.006637034937739372\n",
            "Epoch: 29 batch: 30 | loss: 0.0021760258823633194\n",
            "Epoch: 29 batch: 40 | loss: 0.003023835364729166\n",
            "Epoch: 29 batch: 50 | loss: 0.002720290794968605\n",
            "Epoch: 29 batch: 60 | loss: 0.006588594056665897\n",
            "Epoch: 29 batch: 70 | loss: 0.0030519498977810144\n",
            "Epoch: 29 batch: 80 | loss: 0.0014897043583914638\n",
            "Epoch: 29 batch: 90 | loss: 0.0021495716646313667\n",
            "Epoch: 29 batch: 100 | loss: 0.0028789308853447437\n",
            "Epoch: 29 batch: 110 | loss: 0.003663028823211789\n",
            "Epoch: 29 valLoss: 0.0022923337210643004\n"
          ]
        },
        {
          "output_type": "stream",
          "name": "stderr",
          "text": [
            "/usr/local/lib/python3.10/dist-packages/torch/utils/data/dataloader.py:617: UserWarning: This DataLoader will create 4 worker processes in total. Our suggested max number of worker in current system is 2, which is smaller than what this DataLoader is going to create. Please be aware that excessive worker creation might get DataLoader running slow or even freeze, lower the worker number to avoid potential slowness/freeze if necessary.\n",
            "  warnings.warn(\n"
          ]
        },
        {
          "output_type": "stream",
          "name": "stdout",
          "text": [
            "Epoch: 30 batch: 0 | loss: 0.0033594854176044464\n",
            "Epoch: 30 batch: 10 | loss: 0.002701702993363142\n",
            "Epoch: 30 batch: 20 | loss: 0.0067809573374688625\n",
            "Epoch: 30 batch: 30 | loss: 0.001989692682400346\n",
            "Epoch: 30 batch: 40 | loss: 0.0026330272667109966\n",
            "Epoch: 30 batch: 50 | loss: 0.002224970841780305\n",
            "Epoch: 30 batch: 60 | loss: 0.0065925889648497105\n",
            "Epoch: 30 batch: 70 | loss: 0.0033211540430784225\n",
            "Epoch: 30 batch: 80 | loss: 0.002043074229732156\n",
            "Epoch: 30 batch: 90 | loss: 0.00171440071426332\n",
            "Epoch: 30 batch: 100 | loss: 0.003345525823533535\n",
            "Epoch: 30 batch: 110 | loss: 0.003045284654945135\n",
            "Epoch: 30 valLoss: 0.002159572867026772\n"
          ]
        },
        {
          "output_type": "stream",
          "name": "stderr",
          "text": [
            "/usr/local/lib/python3.10/dist-packages/torch/utils/data/dataloader.py:617: UserWarning: This DataLoader will create 4 worker processes in total. Our suggested max number of worker in current system is 2, which is smaller than what this DataLoader is going to create. Please be aware that excessive worker creation might get DataLoader running slow or even freeze, lower the worker number to avoid potential slowness/freeze if necessary.\n",
            "  warnings.warn(\n"
          ]
        },
        {
          "output_type": "stream",
          "name": "stdout",
          "text": [
            "Epoch: 31 batch: 0 | loss: 0.003470571245998144\n",
            "Epoch: 31 batch: 10 | loss: 0.0028001884929835796\n",
            "Epoch: 31 batch: 20 | loss: 0.006301173474639654\n",
            "Epoch: 31 batch: 30 | loss: 0.001826507388614118\n",
            "Epoch: 31 batch: 40 | loss: 0.002384762279689312\n",
            "Epoch: 31 batch: 50 | loss: 0.002515021711587906\n",
            "Epoch: 31 batch: 60 | loss: 0.005423530004918575\n",
            "Epoch: 31 batch: 70 | loss: 0.0027626941446214914\n",
            "Epoch: 31 batch: 80 | loss: 0.0021975738927721977\n",
            "Epoch: 31 batch: 90 | loss: 0.0017258420120924711\n",
            "Epoch: 31 batch: 100 | loss: 0.0026970109902322292\n",
            "Epoch: 31 batch: 110 | loss: 0.002994045615196228\n",
            "Epoch: 31 valLoss: 0.002292951644224811\n"
          ]
        },
        {
          "output_type": "stream",
          "name": "stderr",
          "text": [
            "/usr/local/lib/python3.10/dist-packages/torch/utils/data/dataloader.py:617: UserWarning: This DataLoader will create 4 worker processes in total. Our suggested max number of worker in current system is 2, which is smaller than what this DataLoader is going to create. Please be aware that excessive worker creation might get DataLoader running slow or even freeze, lower the worker number to avoid potential slowness/freeze if necessary.\n",
            "  warnings.warn(\n"
          ]
        },
        {
          "output_type": "stream",
          "name": "stdout",
          "text": [
            "Epoch: 32 batch: 0 | loss: 0.0036774510517716408\n",
            "Epoch: 32 batch: 10 | loss: 0.0028548482805490494\n",
            "Epoch: 32 batch: 20 | loss: 0.008428171277046204\n",
            "Epoch: 32 batch: 30 | loss: 0.001923903007991612\n",
            "Epoch: 32 batch: 40 | loss: 0.00226205843500793\n",
            "Epoch: 32 batch: 50 | loss: 0.0024290569126605988\n",
            "Epoch: 32 batch: 60 | loss: 0.0050806705839931965\n",
            "Epoch: 32 batch: 70 | loss: 0.0035734751727432013\n",
            "Epoch: 32 batch: 80 | loss: 0.001885358477011323\n",
            "Epoch: 32 batch: 90 | loss: 0.0018910609651356936\n",
            "Epoch: 32 batch: 100 | loss: 0.0021454498637467623\n",
            "Epoch: 32 batch: 110 | loss: 0.004163288976997137\n",
            "Epoch: 32 valLoss: 0.002230867306359578\n"
          ]
        },
        {
          "output_type": "stream",
          "name": "stderr",
          "text": [
            "/usr/local/lib/python3.10/dist-packages/torch/utils/data/dataloader.py:617: UserWarning: This DataLoader will create 4 worker processes in total. Our suggested max number of worker in current system is 2, which is smaller than what this DataLoader is going to create. Please be aware that excessive worker creation might get DataLoader running slow or even freeze, lower the worker number to avoid potential slowness/freeze if necessary.\n",
            "  warnings.warn(\n"
          ]
        },
        {
          "output_type": "stream",
          "name": "stdout",
          "text": [
            "Epoch: 33 batch: 0 | loss: 0.0031797466799616814\n",
            "Epoch: 33 batch: 10 | loss: 0.003561435965821147\n",
            "Epoch: 33 batch: 20 | loss: 0.00677912775427103\n",
            "Epoch: 33 batch: 30 | loss: 0.0020936615765094757\n",
            "Epoch: 33 batch: 40 | loss: 0.0019552912563085556\n",
            "Epoch: 33 batch: 50 | loss: 0.0025711206253618\n",
            "Epoch: 33 batch: 60 | loss: 0.005281695164740086\n",
            "Epoch: 33 batch: 70 | loss: 0.00322364317253232\n",
            "Epoch: 33 batch: 80 | loss: 0.0014106991002336144\n",
            "Epoch: 33 batch: 90 | loss: 0.002000529086217284\n",
            "Epoch: 33 batch: 100 | loss: 0.0029484208207577467\n",
            "Epoch: 33 batch: 110 | loss: 0.0041976445354521275\n",
            "Epoch: 33 valLoss: 0.002113299040654049\n"
          ]
        },
        {
          "output_type": "stream",
          "name": "stderr",
          "text": [
            "/usr/local/lib/python3.10/dist-packages/torch/utils/data/dataloader.py:617: UserWarning: This DataLoader will create 4 worker processes in total. Our suggested max number of worker in current system is 2, which is smaller than what this DataLoader is going to create. Please be aware that excessive worker creation might get DataLoader running slow or even freeze, lower the worker number to avoid potential slowness/freeze if necessary.\n",
            "  warnings.warn(\n"
          ]
        },
        {
          "output_type": "stream",
          "name": "stdout",
          "text": [
            "Epoch: 34 batch: 0 | loss: 0.0031651731114834547\n",
            "Epoch: 34 batch: 10 | loss: 0.003279754426330328\n",
            "Epoch: 34 batch: 20 | loss: 0.006315574981272221\n",
            "Epoch: 34 batch: 30 | loss: 0.001864902675151825\n",
            "Epoch: 34 batch: 40 | loss: 0.0025087748654186726\n",
            "Epoch: 34 batch: 50 | loss: 0.002531222766265273\n",
            "Epoch: 34 batch: 60 | loss: 0.005850820802152157\n",
            "Epoch: 34 batch: 70 | loss: 0.0028647552244365215\n",
            "Epoch: 34 batch: 80 | loss: 0.0017913066549226642\n",
            "Epoch: 34 batch: 90 | loss: 0.001785222440958023\n",
            "Epoch: 34 batch: 100 | loss: 0.00274669099599123\n",
            "Epoch: 34 batch: 110 | loss: 0.003461423795670271\n",
            "Epoch: 34 valLoss: 0.002057963881082816\n"
          ]
        },
        {
          "output_type": "stream",
          "name": "stderr",
          "text": [
            "/usr/local/lib/python3.10/dist-packages/torch/utils/data/dataloader.py:617: UserWarning: This DataLoader will create 4 worker processes in total. Our suggested max number of worker in current system is 2, which is smaller than what this DataLoader is going to create. Please be aware that excessive worker creation might get DataLoader running slow or even freeze, lower the worker number to avoid potential slowness/freeze if necessary.\n",
            "  warnings.warn(\n"
          ]
        },
        {
          "output_type": "stream",
          "name": "stdout",
          "text": [
            "Epoch: 35 batch: 0 | loss: 0.0031973898876458406\n",
            "Epoch: 35 batch: 10 | loss: 0.0032118801027536392\n",
            "Epoch: 35 batch: 20 | loss: 0.007904230616986752\n",
            "Epoch: 35 batch: 30 | loss: 0.0016845492646098137\n",
            "Epoch: 35 batch: 40 | loss: 0.0023449198342859745\n",
            "Epoch: 35 batch: 50 | loss: 0.0024704316165298223\n",
            "Epoch: 35 batch: 60 | loss: 0.005371583625674248\n",
            "Epoch: 35 batch: 70 | loss: 0.002944851526990533\n",
            "Epoch: 35 batch: 80 | loss: 0.0010822447948157787\n",
            "Epoch: 35 batch: 90 | loss: 0.0018434056546539068\n",
            "Epoch: 35 batch: 100 | loss: 0.003456058446317911\n",
            "Epoch: 35 batch: 110 | loss: 0.004122168757021427\n",
            "Epoch: 35 valLoss: 0.0021743618134228335\n"
          ]
        },
        {
          "output_type": "stream",
          "name": "stderr",
          "text": [
            "/usr/local/lib/python3.10/dist-packages/torch/utils/data/dataloader.py:617: UserWarning: This DataLoader will create 4 worker processes in total. Our suggested max number of worker in current system is 2, which is smaller than what this DataLoader is going to create. Please be aware that excessive worker creation might get DataLoader running slow or even freeze, lower the worker number to avoid potential slowness/freeze if necessary.\n",
            "  warnings.warn(\n"
          ]
        },
        {
          "output_type": "stream",
          "name": "stdout",
          "text": [
            "Epoch: 36 batch: 0 | loss: 0.00275227939710021\n",
            "Epoch: 36 batch: 10 | loss: 0.0038482944946736097\n",
            "Epoch: 36 batch: 20 | loss: 0.0054631829261779785\n",
            "Epoch: 36 batch: 30 | loss: 0.0022870274260640144\n",
            "Epoch: 36 batch: 40 | loss: 0.002074670512229204\n",
            "Epoch: 36 batch: 50 | loss: 0.0021574129350483418\n",
            "Epoch: 36 batch: 60 | loss: 0.004405088257044554\n",
            "Epoch: 36 batch: 70 | loss: 0.002351714763790369\n",
            "Epoch: 36 batch: 80 | loss: 0.0013101957738399506\n",
            "Epoch: 36 batch: 90 | loss: 0.002014115219935775\n",
            "Epoch: 36 batch: 100 | loss: 0.002283768029883504\n",
            "Epoch: 36 batch: 110 | loss: 0.003747910028323531\n",
            "Epoch: 36 valLoss: 0.002053393425247766\n"
          ]
        },
        {
          "output_type": "stream",
          "name": "stderr",
          "text": [
            "/usr/local/lib/python3.10/dist-packages/torch/utils/data/dataloader.py:617: UserWarning: This DataLoader will create 4 worker processes in total. Our suggested max number of worker in current system is 2, which is smaller than what this DataLoader is going to create. Please be aware that excessive worker creation might get DataLoader running slow or even freeze, lower the worker number to avoid potential slowness/freeze if necessary.\n",
            "  warnings.warn(\n"
          ]
        },
        {
          "output_type": "stream",
          "name": "stdout",
          "text": [
            "Epoch: 37 batch: 0 | loss: 0.0031726795714348555\n",
            "Epoch: 37 batch: 10 | loss: 0.0031116569880396128\n",
            "Epoch: 37 batch: 20 | loss: 0.006096679251641035\n",
            "Epoch: 37 batch: 30 | loss: 0.0017520512919873\n",
            "Epoch: 37 batch: 40 | loss: 0.0020510207396000624\n",
            "Epoch: 37 batch: 50 | loss: 0.002487379591912031\n",
            "Epoch: 37 batch: 60 | loss: 0.005032555665820837\n",
            "Epoch: 37 batch: 70 | loss: 0.002831239253282547\n",
            "Epoch: 37 batch: 80 | loss: 0.0016244816360995173\n",
            "Epoch: 37 batch: 90 | loss: 0.0020663472823798656\n",
            "Epoch: 37 batch: 100 | loss: 0.0025582483503967524\n",
            "Epoch: 37 batch: 110 | loss: 0.003706942079588771\n",
            "Epoch: 37 valLoss: 0.002009870596242619\n"
          ]
        },
        {
          "output_type": "stream",
          "name": "stderr",
          "text": [
            "/usr/local/lib/python3.10/dist-packages/torch/utils/data/dataloader.py:617: UserWarning: This DataLoader will create 4 worker processes in total. Our suggested max number of worker in current system is 2, which is smaller than what this DataLoader is going to create. Please be aware that excessive worker creation might get DataLoader running slow or even freeze, lower the worker number to avoid potential slowness/freeze if necessary.\n",
            "  warnings.warn(\n"
          ]
        },
        {
          "output_type": "stream",
          "name": "stdout",
          "text": [
            "Epoch: 38 batch: 0 | loss: 0.0032152505591511726\n",
            "Epoch: 38 batch: 10 | loss: 0.003001202829182148\n",
            "Epoch: 38 batch: 20 | loss: 0.005532540380954742\n",
            "Epoch: 38 batch: 30 | loss: 0.0018101392779499292\n",
            "Epoch: 38 batch: 40 | loss: 0.0022859855089336634\n",
            "Epoch: 38 batch: 50 | loss: 0.0023950450122356415\n",
            "Epoch: 38 batch: 60 | loss: 0.005648200865834951\n",
            "Epoch: 38 batch: 70 | loss: 0.003028018167242408\n",
            "Epoch: 38 batch: 80 | loss: 0.0016861330950632691\n",
            "Epoch: 38 batch: 90 | loss: 0.0016786206979304552\n",
            "Epoch: 38 batch: 100 | loss: 0.0026069949381053448\n",
            "Epoch: 38 batch: 110 | loss: 0.0032907903660088778\n",
            "Epoch: 38 valLoss: 0.0019431469482604816\n"
          ]
        },
        {
          "output_type": "stream",
          "name": "stderr",
          "text": [
            "/usr/local/lib/python3.10/dist-packages/torch/utils/data/dataloader.py:617: UserWarning: This DataLoader will create 4 worker processes in total. Our suggested max number of worker in current system is 2, which is smaller than what this DataLoader is going to create. Please be aware that excessive worker creation might get DataLoader running slow or even freeze, lower the worker number to avoid potential slowness/freeze if necessary.\n",
            "  warnings.warn(\n"
          ]
        },
        {
          "output_type": "stream",
          "name": "stdout",
          "text": [
            "Epoch: 39 batch: 0 | loss: 0.0024980101734399796\n",
            "Epoch: 39 batch: 10 | loss: 0.0025732829235494137\n",
            "Epoch: 39 batch: 20 | loss: 0.006383961997926235\n",
            "Epoch: 39 batch: 30 | loss: 0.0018722300883382559\n",
            "Epoch: 39 batch: 40 | loss: 0.0023216763511300087\n",
            "Epoch: 39 batch: 50 | loss: 0.0028889933601021767\n",
            "Epoch: 39 batch: 60 | loss: 0.005862361751496792\n",
            "Epoch: 39 batch: 70 | loss: 0.0028791739605367184\n",
            "Epoch: 39 batch: 80 | loss: 0.001464666100218892\n",
            "Epoch: 39 batch: 90 | loss: 0.0018250718712806702\n",
            "Epoch: 39 batch: 100 | loss: 0.002623069565743208\n",
            "Epoch: 39 batch: 110 | loss: 0.0037886868230998516\n",
            "Epoch: 39 valLoss: 0.001929655254832558\n"
          ]
        },
        {
          "output_type": "stream",
          "name": "stderr",
          "text": [
            "/usr/local/lib/python3.10/dist-packages/torch/utils/data/dataloader.py:617: UserWarning: This DataLoader will create 4 worker processes in total. Our suggested max number of worker in current system is 2, which is smaller than what this DataLoader is going to create. Please be aware that excessive worker creation might get DataLoader running slow or even freeze, lower the worker number to avoid potential slowness/freeze if necessary.\n",
            "  warnings.warn(\n"
          ]
        },
        {
          "output_type": "stream",
          "name": "stdout",
          "text": [
            "Epoch: 40 batch: 0 | loss: 0.0030938114505261183\n",
            "Epoch: 40 batch: 10 | loss: 0.003146944334730506\n",
            "Epoch: 40 batch: 20 | loss: 0.005501687992364168\n",
            "Epoch: 40 batch: 30 | loss: 0.0015587403904646635\n",
            "Epoch: 40 batch: 40 | loss: 0.0021446028258651495\n",
            "Epoch: 40 batch: 50 | loss: 0.002528612967580557\n",
            "Epoch: 40 batch: 60 | loss: 0.004613322205841541\n",
            "Epoch: 40 batch: 70 | loss: 0.0026265368796885014\n",
            "Epoch: 40 batch: 80 | loss: 0.0013274122029542923\n",
            "Epoch: 40 batch: 90 | loss: 0.0016692557837814093\n",
            "Epoch: 40 batch: 100 | loss: 0.0024003619328141212\n",
            "Epoch: 40 batch: 110 | loss: 0.0031327223405241966\n",
            "Epoch: 40 valLoss: 0.0019614803285928537\n"
          ]
        },
        {
          "output_type": "stream",
          "name": "stderr",
          "text": [
            "/usr/local/lib/python3.10/dist-packages/torch/utils/data/dataloader.py:617: UserWarning: This DataLoader will create 4 worker processes in total. Our suggested max number of worker in current system is 2, which is smaller than what this DataLoader is going to create. Please be aware that excessive worker creation might get DataLoader running slow or even freeze, lower the worker number to avoid potential slowness/freeze if necessary.\n",
            "  warnings.warn(\n"
          ]
        },
        {
          "output_type": "stream",
          "name": "stdout",
          "text": [
            "Epoch: 41 batch: 0 | loss: 0.002696169074624777\n",
            "Epoch: 41 batch: 10 | loss: 0.0029619212727993727\n",
            "Epoch: 41 batch: 20 | loss: 0.006274969317018986\n",
            "Epoch: 41 batch: 30 | loss: 0.0012760229874402285\n",
            "Epoch: 41 batch: 40 | loss: 0.002331134397536516\n",
            "Epoch: 41 batch: 50 | loss: 0.0025964495725929737\n",
            "Epoch: 41 batch: 60 | loss: 0.0048089525662362576\n",
            "Epoch: 41 batch: 70 | loss: 0.0024887733161449432\n",
            "Epoch: 41 batch: 80 | loss: 0.0014516408555209637\n",
            "Epoch: 41 batch: 90 | loss: 0.0015327743021771312\n",
            "Epoch: 41 batch: 100 | loss: 0.0025535221211612225\n",
            "Epoch: 41 batch: 110 | loss: 0.0032032823655754328\n",
            "Epoch: 41 valLoss: 0.0017934192715790152\n"
          ]
        },
        {
          "output_type": "stream",
          "name": "stderr",
          "text": [
            "/usr/local/lib/python3.10/dist-packages/torch/utils/data/dataloader.py:617: UserWarning: This DataLoader will create 4 worker processes in total. Our suggested max number of worker in current system is 2, which is smaller than what this DataLoader is going to create. Please be aware that excessive worker creation might get DataLoader running slow or even freeze, lower the worker number to avoid potential slowness/freeze if necessary.\n",
            "  warnings.warn(\n"
          ]
        },
        {
          "output_type": "stream",
          "name": "stdout",
          "text": [
            "Epoch: 42 batch: 0 | loss: 0.002199572743847966\n",
            "Epoch: 42 batch: 10 | loss: 0.0023787468671798706\n",
            "Epoch: 42 batch: 20 | loss: 0.003959815949201584\n",
            "Epoch: 42 batch: 30 | loss: 0.0019285848829895258\n",
            "Epoch: 42 batch: 40 | loss: 0.0021920916624367237\n",
            "Epoch: 42 batch: 50 | loss: 0.0027057973202317953\n",
            "Epoch: 42 batch: 60 | loss: 0.005529789254069328\n",
            "Epoch: 42 batch: 70 | loss: 0.002694032620638609\n",
            "Epoch: 42 batch: 80 | loss: 0.0013048633700236678\n",
            "Epoch: 42 batch: 90 | loss: 0.002123459940776229\n",
            "Epoch: 42 batch: 100 | loss: 0.0020575174130499363\n",
            "Epoch: 42 batch: 110 | loss: 0.0033198923338204622\n",
            "Epoch: 42 valLoss: 0.00186865828052968\n"
          ]
        },
        {
          "output_type": "stream",
          "name": "stderr",
          "text": [
            "/usr/local/lib/python3.10/dist-packages/torch/utils/data/dataloader.py:617: UserWarning: This DataLoader will create 4 worker processes in total. Our suggested max number of worker in current system is 2, which is smaller than what this DataLoader is going to create. Please be aware that excessive worker creation might get DataLoader running slow or even freeze, lower the worker number to avoid potential slowness/freeze if necessary.\n",
            "  warnings.warn(\n"
          ]
        },
        {
          "output_type": "stream",
          "name": "stdout",
          "text": [
            "Epoch: 43 batch: 0 | loss: 0.00239820615388453\n",
            "Epoch: 43 batch: 10 | loss: 0.0025826143100857735\n",
            "Epoch: 43 batch: 20 | loss: 0.004229858983308077\n",
            "Epoch: 43 batch: 30 | loss: 0.0015792316989973187\n",
            "Epoch: 43 batch: 40 | loss: 0.00300899357534945\n",
            "Epoch: 43 batch: 50 | loss: 0.0026799365878105164\n",
            "Epoch: 43 batch: 60 | loss: 0.0060343071818351746\n",
            "Epoch: 43 batch: 70 | loss: 0.003163506044074893\n",
            "Epoch: 43 batch: 80 | loss: 0.001152097713202238\n",
            "Epoch: 43 batch: 90 | loss: 0.002150715095922351\n",
            "Epoch: 43 batch: 100 | loss: 0.0023538751993328333\n",
            "Epoch: 43 batch: 110 | loss: 0.002692555543035269\n",
            "Epoch: 43 valLoss: 0.0016741482499040782\n"
          ]
        },
        {
          "output_type": "stream",
          "name": "stderr",
          "text": [
            "/usr/local/lib/python3.10/dist-packages/torch/utils/data/dataloader.py:617: UserWarning: This DataLoader will create 4 worker processes in total. Our suggested max number of worker in current system is 2, which is smaller than what this DataLoader is going to create. Please be aware that excessive worker creation might get DataLoader running slow or even freeze, lower the worker number to avoid potential slowness/freeze if necessary.\n",
            "  warnings.warn(\n"
          ]
        },
        {
          "output_type": "stream",
          "name": "stdout",
          "text": [
            "Epoch: 44 batch: 0 | loss: 0.0027910019271075726\n",
            "Epoch: 44 batch: 10 | loss: 0.002619420411065221\n",
            "Epoch: 44 batch: 20 | loss: 0.004064859822392464\n",
            "Epoch: 44 batch: 30 | loss: 0.0014863627729937434\n",
            "Epoch: 44 batch: 40 | loss: 0.002473248867318034\n",
            "Epoch: 44 batch: 50 | loss: 0.00245620496571064\n",
            "Epoch: 44 batch: 60 | loss: 0.004941433202475309\n",
            "Epoch: 44 batch: 70 | loss: 0.003118879860267043\n",
            "Epoch: 44 batch: 80 | loss: 0.001526106963865459\n",
            "Epoch: 44 batch: 90 | loss: 0.0018740866798907518\n",
            "Epoch: 44 batch: 100 | loss: 0.002008468843996525\n",
            "Epoch: 44 batch: 110 | loss: 0.0031601234804838896\n",
            "Epoch: 44 valLoss: 0.0017172680810662382\n"
          ]
        },
        {
          "output_type": "stream",
          "name": "stderr",
          "text": [
            "/usr/local/lib/python3.10/dist-packages/torch/utils/data/dataloader.py:617: UserWarning: This DataLoader will create 4 worker processes in total. Our suggested max number of worker in current system is 2, which is smaller than what this DataLoader is going to create. Please be aware that excessive worker creation might get DataLoader running slow or even freeze, lower the worker number to avoid potential slowness/freeze if necessary.\n",
            "  warnings.warn(\n"
          ]
        },
        {
          "output_type": "stream",
          "name": "stdout",
          "text": [
            "Epoch: 45 batch: 0 | loss: 0.002603876870125532\n",
            "Epoch: 45 batch: 10 | loss: 0.0029894281178712845\n",
            "Epoch: 45 batch: 20 | loss: 0.005281159654259682\n",
            "Epoch: 45 batch: 30 | loss: 0.0015652618603780866\n",
            "Epoch: 45 batch: 40 | loss: 0.0027581597678363323\n",
            "Epoch: 45 batch: 50 | loss: 0.0029100431129336357\n",
            "Epoch: 45 batch: 60 | loss: 0.0051463027484714985\n",
            "Epoch: 45 batch: 70 | loss: 0.002564044203609228\n",
            "Epoch: 45 batch: 80 | loss: 0.0011105573503300548\n",
            "Epoch: 45 batch: 90 | loss: 0.0021719392389059067\n",
            "Epoch: 45 batch: 100 | loss: 0.0018136142753064632\n",
            "Epoch: 45 batch: 110 | loss: 0.003317414317280054\n",
            "Epoch: 45 valLoss: 0.0017053166304416482\n"
          ]
        },
        {
          "output_type": "stream",
          "name": "stderr",
          "text": [
            "/usr/local/lib/python3.10/dist-packages/torch/utils/data/dataloader.py:617: UserWarning: This DataLoader will create 4 worker processes in total. Our suggested max number of worker in current system is 2, which is smaller than what this DataLoader is going to create. Please be aware that excessive worker creation might get DataLoader running slow or even freeze, lower the worker number to avoid potential slowness/freeze if necessary.\n",
            "  warnings.warn(\n"
          ]
        },
        {
          "output_type": "stream",
          "name": "stdout",
          "text": [
            "Epoch: 46 batch: 0 | loss: 0.0028821625746786594\n",
            "Epoch: 46 batch: 10 | loss: 0.0028746766038239002\n",
            "Epoch: 46 batch: 20 | loss: 0.00433599716052413\n",
            "Epoch: 46 batch: 30 | loss: 0.0017049947055056691\n",
            "Epoch: 46 batch: 40 | loss: 0.0023529441095888615\n",
            "Epoch: 46 batch: 50 | loss: 0.0027632033452391624\n",
            "Epoch: 46 batch: 60 | loss: 0.0038069142028689384\n",
            "Epoch: 46 batch: 70 | loss: 0.0027825026772916317\n",
            "Epoch: 46 batch: 80 | loss: 0.001166439731605351\n",
            "Epoch: 46 batch: 90 | loss: 0.0017395403701812029\n",
            "Epoch: 46 batch: 100 | loss: 0.0021066635381430387\n",
            "Epoch: 46 batch: 110 | loss: 0.0034875310957431793\n",
            "Epoch: 46 valLoss: 0.001588321123619547\n"
          ]
        },
        {
          "output_type": "stream",
          "name": "stderr",
          "text": [
            "/usr/local/lib/python3.10/dist-packages/torch/utils/data/dataloader.py:617: UserWarning: This DataLoader will create 4 worker processes in total. Our suggested max number of worker in current system is 2, which is smaller than what this DataLoader is going to create. Please be aware that excessive worker creation might get DataLoader running slow or even freeze, lower the worker number to avoid potential slowness/freeze if necessary.\n",
            "  warnings.warn(\n"
          ]
        },
        {
          "output_type": "stream",
          "name": "stdout",
          "text": [
            "Epoch: 47 batch: 0 | loss: 0.002090404275804758\n",
            "Epoch: 47 batch: 10 | loss: 0.002851261291652918\n",
            "Epoch: 47 batch: 20 | loss: 0.00435962900519371\n",
            "Epoch: 47 batch: 30 | loss: 0.0016626163851469755\n",
            "Epoch: 47 batch: 40 | loss: 0.0024817255325615406\n",
            "Epoch: 47 batch: 50 | loss: 0.002380287041887641\n",
            "Epoch: 47 batch: 60 | loss: 0.004085383843630552\n",
            "Epoch: 47 batch: 70 | loss: 0.0025865810457617044\n",
            "Epoch: 47 batch: 80 | loss: 0.0013756657717749476\n",
            "Epoch: 47 batch: 90 | loss: 0.0019100732170045376\n",
            "Epoch: 47 batch: 100 | loss: 0.0020960108377039433\n",
            "Epoch: 47 batch: 110 | loss: 0.0029966833535581827\n",
            "Epoch: 47 valLoss: 0.001791823321215624\n"
          ]
        },
        {
          "output_type": "stream",
          "name": "stderr",
          "text": [
            "/usr/local/lib/python3.10/dist-packages/torch/utils/data/dataloader.py:617: UserWarning: This DataLoader will create 4 worker processes in total. Our suggested max number of worker in current system is 2, which is smaller than what this DataLoader is going to create. Please be aware that excessive worker creation might get DataLoader running slow or even freeze, lower the worker number to avoid potential slowness/freeze if necessary.\n",
            "  warnings.warn(\n"
          ]
        },
        {
          "output_type": "stream",
          "name": "stdout",
          "text": [
            "Epoch: 48 batch: 0 | loss: 0.0024282517842948437\n",
            "Epoch: 48 batch: 10 | loss: 0.002833422739058733\n",
            "Epoch: 48 batch: 20 | loss: 0.0048597888089716434\n",
            "Epoch: 48 batch: 30 | loss: 0.0016423783963546157\n",
            "Epoch: 48 batch: 40 | loss: 0.00298648071475327\n",
            "Epoch: 48 batch: 50 | loss: 0.0025117762852460146\n",
            "Epoch: 48 batch: 60 | loss: 0.004218880087137222\n",
            "Epoch: 48 batch: 70 | loss: 0.0021777949295938015\n",
            "Epoch: 48 batch: 80 | loss: 0.0010672586504369974\n",
            "Epoch: 48 batch: 90 | loss: 0.002055217744782567\n",
            "Epoch: 48 batch: 100 | loss: 0.0018298022914677858\n",
            "Epoch: 48 batch: 110 | loss: 0.0027481336146593094\n",
            "Epoch: 48 valLoss: 0.0016409320418743522\n"
          ]
        },
        {
          "output_type": "stream",
          "name": "stderr",
          "text": [
            "/usr/local/lib/python3.10/dist-packages/torch/utils/data/dataloader.py:617: UserWarning: This DataLoader will create 4 worker processes in total. Our suggested max number of worker in current system is 2, which is smaller than what this DataLoader is going to create. Please be aware that excessive worker creation might get DataLoader running slow or even freeze, lower the worker number to avoid potential slowness/freeze if necessary.\n",
            "  warnings.warn(\n"
          ]
        },
        {
          "output_type": "stream",
          "name": "stdout",
          "text": [
            "Epoch: 49 batch: 0 | loss: 0.0022686016745865345\n",
            "Epoch: 49 batch: 10 | loss: 0.0024203143548220396\n",
            "Epoch: 49 batch: 20 | loss: 0.003366861492395401\n",
            "Epoch: 49 batch: 30 | loss: 0.0015484908362850547\n",
            "Epoch: 49 batch: 40 | loss: 0.0025333354715257883\n",
            "Epoch: 49 batch: 50 | loss: 0.0027426809538155794\n",
            "Epoch: 49 batch: 60 | loss: 0.0045467158779501915\n",
            "Epoch: 49 batch: 70 | loss: 0.002179257571697235\n",
            "Epoch: 49 batch: 80 | loss: 0.0015687111299484968\n",
            "Epoch: 49 batch: 90 | loss: 0.0020609451457858086\n",
            "Epoch: 49 batch: 100 | loss: 0.0016676288796588778\n",
            "Epoch: 49 batch: 110 | loss: 0.0029242655728012323\n",
            "Epoch: 49 valLoss: 0.0014700284592698036\n"
          ]
        },
        {
          "output_type": "stream",
          "name": "stderr",
          "text": [
            "/usr/local/lib/python3.10/dist-packages/torch/utils/data/dataloader.py:617: UserWarning: This DataLoader will create 4 worker processes in total. Our suggested max number of worker in current system is 2, which is smaller than what this DataLoader is going to create. Please be aware that excessive worker creation might get DataLoader running slow or even freeze, lower the worker number to avoid potential slowness/freeze if necessary.\n",
            "  warnings.warn(\n"
          ]
        },
        {
          "output_type": "stream",
          "name": "stdout",
          "text": [
            "Epoch: 50 batch: 0 | loss: 0.0023648825008422136\n",
            "Epoch: 50 batch: 10 | loss: 0.0028725569136440754\n",
            "Epoch: 50 batch: 20 | loss: 0.004056429490447044\n",
            "Epoch: 50 batch: 30 | loss: 0.0014534762594848871\n",
            "Epoch: 50 batch: 40 | loss: 0.0033275934401899576\n",
            "Epoch: 50 batch: 50 | loss: 0.0029291491955518723\n",
            "Epoch: 50 batch: 60 | loss: 0.003540770150721073\n",
            "Epoch: 50 batch: 70 | loss: 0.0022128084674477577\n",
            "Epoch: 50 batch: 80 | loss: 0.0010927091352641582\n",
            "Epoch: 50 batch: 90 | loss: 0.001889524282887578\n",
            "Epoch: 50 batch: 100 | loss: 0.0017377502517774701\n",
            "Epoch: 50 batch: 110 | loss: 0.0027839841786772013\n",
            "Epoch: 50 valLoss: 0.001397964802617354\n"
          ]
        },
        {
          "output_type": "stream",
          "name": "stderr",
          "text": [
            "/usr/local/lib/python3.10/dist-packages/torch/utils/data/dataloader.py:617: UserWarning: This DataLoader will create 4 worker processes in total. Our suggested max number of worker in current system is 2, which is smaller than what this DataLoader is going to create. Please be aware that excessive worker creation might get DataLoader running slow or even freeze, lower the worker number to avoid potential slowness/freeze if necessary.\n",
            "  warnings.warn(\n"
          ]
        },
        {
          "output_type": "stream",
          "name": "stdout",
          "text": [
            "Epoch: 51 batch: 0 | loss: 0.0020603903103619814\n",
            "Epoch: 51 batch: 10 | loss: 0.0022045879159122705\n",
            "Epoch: 51 batch: 20 | loss: 0.0034797603730112314\n",
            "Epoch: 51 batch: 30 | loss: 0.0010862683411687613\n",
            "Epoch: 51 batch: 40 | loss: 0.002942862221971154\n",
            "Epoch: 51 batch: 50 | loss: 0.002401349600404501\n",
            "Epoch: 51 batch: 60 | loss: 0.0028422256000339985\n",
            "Epoch: 51 batch: 70 | loss: 0.0020037787035107613\n",
            "Epoch: 51 batch: 80 | loss: 0.0013268454931676388\n",
            "Epoch: 51 batch: 90 | loss: 0.002132042311131954\n",
            "Epoch: 51 batch: 100 | loss: 0.001645245705731213\n",
            "Epoch: 51 batch: 110 | loss: 0.00276197399944067\n",
            "Epoch: 51 valLoss: 0.0015328436352860153\n"
          ]
        },
        {
          "output_type": "stream",
          "name": "stderr",
          "text": [
            "/usr/local/lib/python3.10/dist-packages/torch/utils/data/dataloader.py:617: UserWarning: This DataLoader will create 4 worker processes in total. Our suggested max number of worker in current system is 2, which is smaller than what this DataLoader is going to create. Please be aware that excessive worker creation might get DataLoader running slow or even freeze, lower the worker number to avoid potential slowness/freeze if necessary.\n",
            "  warnings.warn(\n"
          ]
        },
        {
          "output_type": "stream",
          "name": "stdout",
          "text": [
            "Epoch: 52 batch: 0 | loss: 0.002634084317833185\n",
            "Epoch: 52 batch: 10 | loss: 0.0019669923931360245\n",
            "Epoch: 52 batch: 20 | loss: 0.003026180202141404\n",
            "Epoch: 52 batch: 30 | loss: 0.001178147504106164\n",
            "Epoch: 52 batch: 40 | loss: 0.002627098700031638\n",
            "Epoch: 52 batch: 50 | loss: 0.0030077698174864054\n",
            "Epoch: 52 batch: 60 | loss: 0.0032862520311027765\n",
            "Epoch: 52 batch: 70 | loss: 0.002305300673469901\n",
            "Epoch: 52 batch: 80 | loss: 0.001193367294035852\n",
            "Epoch: 52 batch: 90 | loss: 0.002306202659383416\n",
            "Epoch: 52 batch: 100 | loss: 0.0018967862706631422\n",
            "Epoch: 52 batch: 110 | loss: 0.00231349328532815\n",
            "Epoch: 52 valLoss: 0.0013121232989392988\n"
          ]
        },
        {
          "output_type": "stream",
          "name": "stderr",
          "text": [
            "/usr/local/lib/python3.10/dist-packages/torch/utils/data/dataloader.py:617: UserWarning: This DataLoader will create 4 worker processes in total. Our suggested max number of worker in current system is 2, which is smaller than what this DataLoader is going to create. Please be aware that excessive worker creation might get DataLoader running slow or even freeze, lower the worker number to avoid potential slowness/freeze if necessary.\n",
            "  warnings.warn(\n"
          ]
        },
        {
          "output_type": "stream",
          "name": "stdout",
          "text": [
            "Epoch: 53 batch: 0 | loss: 0.002193697029724717\n",
            "Epoch: 53 batch: 10 | loss: 0.0023565611336380243\n",
            "Epoch: 53 batch: 20 | loss: 0.0032593379728496075\n",
            "Epoch: 53 batch: 30 | loss: 0.0015646959654986858\n",
            "Epoch: 53 batch: 40 | loss: 0.0024616289883852005\n",
            "Epoch: 53 batch: 50 | loss: 0.00225640251301229\n",
            "Epoch: 53 batch: 60 | loss: 0.0023635351099073887\n",
            "Epoch: 53 batch: 70 | loss: 0.0021162074990570545\n",
            "Epoch: 53 batch: 80 | loss: 0.0010749180801212788\n",
            "Epoch: 53 batch: 90 | loss: 0.0020205823238939047\n",
            "Epoch: 53 batch: 100 | loss: 0.0013846480287611485\n",
            "Epoch: 53 batch: 110 | loss: 0.0024061971344053745\n",
            "Epoch: 53 valLoss: 0.001313998113658411\n"
          ]
        },
        {
          "output_type": "stream",
          "name": "stderr",
          "text": [
            "/usr/local/lib/python3.10/dist-packages/torch/utils/data/dataloader.py:617: UserWarning: This DataLoader will create 4 worker processes in total. Our suggested max number of worker in current system is 2, which is smaller than what this DataLoader is going to create. Please be aware that excessive worker creation might get DataLoader running slow or even freeze, lower the worker number to avoid potential slowness/freeze if necessary.\n",
            "  warnings.warn(\n"
          ]
        },
        {
          "output_type": "stream",
          "name": "stdout",
          "text": [
            "Epoch: 54 batch: 0 | loss: 0.002135612303391099\n",
            "Epoch: 54 batch: 10 | loss: 0.0017648378852754831\n",
            "Epoch: 54 batch: 20 | loss: 0.002933070994913578\n",
            "Epoch: 54 batch: 30 | loss: 0.0012665748363360763\n",
            "Epoch: 54 batch: 40 | loss: 0.0027717924676835537\n",
            "Epoch: 54 batch: 50 | loss: 0.0024812964256852865\n",
            "Epoch: 54 batch: 60 | loss: 0.0020030548330396414\n",
            "Epoch: 54 batch: 70 | loss: 0.0023135237861424685\n",
            "Epoch: 54 batch: 80 | loss: 0.0010625747963786125\n",
            "Epoch: 54 batch: 90 | loss: 0.001306252903304994\n",
            "Epoch: 54 batch: 100 | loss: 0.0011709650279954076\n",
            "Epoch: 54 batch: 110 | loss: 0.0024508682545274496\n",
            "Epoch: 54 valLoss: 0.0011942484664701567\n"
          ]
        },
        {
          "output_type": "stream",
          "name": "stderr",
          "text": [
            "/usr/local/lib/python3.10/dist-packages/torch/utils/data/dataloader.py:617: UserWarning: This DataLoader will create 4 worker processes in total. Our suggested max number of worker in current system is 2, which is smaller than what this DataLoader is going to create. Please be aware that excessive worker creation might get DataLoader running slow or even freeze, lower the worker number to avoid potential slowness/freeze if necessary.\n",
            "  warnings.warn(\n"
          ]
        },
        {
          "output_type": "stream",
          "name": "stdout",
          "text": [
            "Epoch: 55 batch: 0 | loss: 0.002200910821557045\n",
            "Epoch: 55 batch: 10 | loss: 0.001728160073980689\n",
            "Epoch: 55 batch: 20 | loss: 0.003512029303237796\n",
            "Epoch: 55 batch: 30 | loss: 0.001302230404689908\n",
            "Epoch: 55 batch: 40 | loss: 0.002073230454698205\n",
            "Epoch: 55 batch: 50 | loss: 0.0021433765068650246\n",
            "Epoch: 55 batch: 60 | loss: 0.0013739861315116286\n",
            "Epoch: 55 batch: 70 | loss: 0.0019526341930031776\n",
            "Epoch: 55 batch: 80 | loss: 0.000971719971857965\n",
            "Epoch: 55 batch: 90 | loss: 0.001584786456078291\n",
            "Epoch: 55 batch: 100 | loss: 0.0009843191364780068\n",
            "Epoch: 55 batch: 110 | loss: 0.0022155516780912876\n",
            "Epoch: 55 valLoss: 0.0012050619662714594\n"
          ]
        },
        {
          "output_type": "stream",
          "name": "stderr",
          "text": [
            "/usr/local/lib/python3.10/dist-packages/torch/utils/data/dataloader.py:617: UserWarning: This DataLoader will create 4 worker processes in total. Our suggested max number of worker in current system is 2, which is smaller than what this DataLoader is going to create. Please be aware that excessive worker creation might get DataLoader running slow or even freeze, lower the worker number to avoid potential slowness/freeze if necessary.\n",
            "  warnings.warn(\n"
          ]
        },
        {
          "output_type": "stream",
          "name": "stdout",
          "text": [
            "Epoch: 56 batch: 0 | loss: 0.0020283875055611134\n",
            "Epoch: 56 batch: 10 | loss: 0.001893931650556624\n",
            "Epoch: 56 batch: 20 | loss: 0.0026053546462208033\n",
            "Epoch: 56 batch: 30 | loss: 0.0016312426887452602\n",
            "Epoch: 56 batch: 40 | loss: 0.0023788800463080406\n",
            "Epoch: 56 batch: 50 | loss: 0.0029135739896446466\n",
            "Epoch: 56 batch: 60 | loss: 0.001606208854354918\n",
            "Epoch: 56 batch: 70 | loss: 0.0023581013083457947\n",
            "Epoch: 56 batch: 80 | loss: 0.0011746345553547144\n",
            "Epoch: 56 batch: 90 | loss: 0.0015681537333875895\n",
            "Epoch: 56 batch: 100 | loss: 0.0014113488141447306\n",
            "Epoch: 56 batch: 110 | loss: 0.0016975665930658579\n",
            "Epoch: 56 valLoss: 0.0011822462033225832\n"
          ]
        },
        {
          "output_type": "stream",
          "name": "stderr",
          "text": [
            "/usr/local/lib/python3.10/dist-packages/torch/utils/data/dataloader.py:617: UserWarning: This DataLoader will create 4 worker processes in total. Our suggested max number of worker in current system is 2, which is smaller than what this DataLoader is going to create. Please be aware that excessive worker creation might get DataLoader running slow or even freeze, lower the worker number to avoid potential slowness/freeze if necessary.\n",
            "  warnings.warn(\n"
          ]
        },
        {
          "output_type": "stream",
          "name": "stdout",
          "text": [
            "Epoch: 57 batch: 0 | loss: 0.0023135009687393904\n",
            "Epoch: 57 batch: 10 | loss: 0.00226402934640646\n",
            "Epoch: 57 batch: 20 | loss: 0.003345313249155879\n",
            "Epoch: 57 batch: 30 | loss: 0.0011111757485195994\n",
            "Epoch: 57 batch: 40 | loss: 0.0018881508149206638\n",
            "Epoch: 57 batch: 50 | loss: 0.0024834275245666504\n",
            "Epoch: 57 batch: 60 | loss: 0.0017360843485221267\n",
            "Epoch: 57 batch: 70 | loss: 0.0018166126683354378\n",
            "Epoch: 57 batch: 80 | loss: 0.0009077223367057741\n",
            "Epoch: 57 batch: 90 | loss: 0.0018921950832009315\n",
            "Epoch: 57 batch: 100 | loss: 0.001338684232905507\n",
            "Epoch: 57 batch: 110 | loss: 0.002041294937953353\n",
            "Epoch: 57 valLoss: 0.001171700911671229\n"
          ]
        },
        {
          "output_type": "stream",
          "name": "stderr",
          "text": [
            "/usr/local/lib/python3.10/dist-packages/torch/utils/data/dataloader.py:617: UserWarning: This DataLoader will create 4 worker processes in total. Our suggested max number of worker in current system is 2, which is smaller than what this DataLoader is going to create. Please be aware that excessive worker creation might get DataLoader running slow or even freeze, lower the worker number to avoid potential slowness/freeze if necessary.\n",
            "  warnings.warn(\n"
          ]
        },
        {
          "output_type": "stream",
          "name": "stdout",
          "text": [
            "Epoch: 58 batch: 0 | loss: 0.002776297042146325\n",
            "Epoch: 58 batch: 10 | loss: 0.0019563366658985615\n",
            "Epoch: 58 batch: 20 | loss: 0.0026725155767053366\n",
            "Epoch: 58 batch: 30 | loss: 0.0010220636613667011\n",
            "Epoch: 58 batch: 40 | loss: 0.0024428798351436853\n",
            "Epoch: 58 batch: 50 | loss: 0.0021818168461322784\n",
            "Epoch: 58 batch: 60 | loss: 0.0014147183392196894\n",
            "Epoch: 58 batch: 70 | loss: 0.0020611979998648167\n",
            "Epoch: 58 batch: 80 | loss: 0.0012828728649765253\n",
            "Epoch: 58 batch: 90 | loss: 0.0017262682085856795\n",
            "Epoch: 58 batch: 100 | loss: 0.0014808240812271833\n",
            "Epoch: 58 batch: 110 | loss: 0.0016262020217254758\n",
            "Epoch: 58 valLoss: 0.001168232115119763\n"
          ]
        },
        {
          "output_type": "stream",
          "name": "stderr",
          "text": [
            "/usr/local/lib/python3.10/dist-packages/torch/utils/data/dataloader.py:617: UserWarning: This DataLoader will create 4 worker processes in total. Our suggested max number of worker in current system is 2, which is smaller than what this DataLoader is going to create. Please be aware that excessive worker creation might get DataLoader running slow or even freeze, lower the worker number to avoid potential slowness/freeze if necessary.\n",
            "  warnings.warn(\n"
          ]
        },
        {
          "output_type": "stream",
          "name": "stdout",
          "text": [
            "Epoch: 59 batch: 0 | loss: 0.0021698575001209974\n",
            "Epoch: 59 batch: 10 | loss: 0.0019070813432335854\n",
            "Epoch: 59 batch: 20 | loss: 0.0025073611177504063\n",
            "Epoch: 59 batch: 30 | loss: 0.001012402935884893\n",
            "Epoch: 59 batch: 40 | loss: 0.0025708104949444532\n",
            "Epoch: 59 batch: 50 | loss: 0.002138547832146287\n",
            "Epoch: 59 batch: 60 | loss: 0.0019285548478364944\n",
            "Epoch: 59 batch: 70 | loss: 0.0015915734693408012\n",
            "Epoch: 59 batch: 80 | loss: 0.0009367164457216859\n",
            "Epoch: 59 batch: 90 | loss: 0.0015975856222212315\n",
            "Epoch: 59 batch: 100 | loss: 0.0015182883944362402\n",
            "Epoch: 59 batch: 110 | loss: 0.002188534941524267\n",
            "Epoch: 59 valLoss: 0.001108626422041459\n"
          ]
        },
        {
          "output_type": "stream",
          "name": "stderr",
          "text": [
            "/usr/local/lib/python3.10/dist-packages/torch/utils/data/dataloader.py:617: UserWarning: This DataLoader will create 4 worker processes in total. Our suggested max number of worker in current system is 2, which is smaller than what this DataLoader is going to create. Please be aware that excessive worker creation might get DataLoader running slow or even freeze, lower the worker number to avoid potential slowness/freeze if necessary.\n",
            "  warnings.warn(\n"
          ]
        },
        {
          "output_type": "stream",
          "name": "stdout",
          "text": [
            "Epoch: 60 batch: 0 | loss: 0.0020598473493009806\n",
            "Epoch: 60 batch: 10 | loss: 0.0020776367746293545\n",
            "Epoch: 60 batch: 20 | loss: 0.002644146094098687\n",
            "Epoch: 60 batch: 30 | loss: 0.0012048074277117848\n",
            "Epoch: 60 batch: 40 | loss: 0.0021530925296247005\n",
            "Epoch: 60 batch: 50 | loss: 0.0019811256788671017\n",
            "Epoch: 60 batch: 60 | loss: 0.0011484320275485516\n",
            "Epoch: 60 batch: 70 | loss: 0.0015846187015995383\n",
            "Epoch: 60 batch: 80 | loss: 0.001051473431289196\n",
            "Epoch: 60 batch: 90 | loss: 0.00125633564312011\n",
            "Epoch: 60 batch: 100 | loss: 0.0016442006453871727\n",
            "Epoch: 60 batch: 110 | loss: 0.002497161738574505\n",
            "Epoch: 60 valLoss: 0.0011123623696266632\n"
          ]
        },
        {
          "output_type": "stream",
          "name": "stderr",
          "text": [
            "/usr/local/lib/python3.10/dist-packages/torch/utils/data/dataloader.py:617: UserWarning: This DataLoader will create 4 worker processes in total. Our suggested max number of worker in current system is 2, which is smaller than what this DataLoader is going to create. Please be aware that excessive worker creation might get DataLoader running slow or even freeze, lower the worker number to avoid potential slowness/freeze if necessary.\n",
            "  warnings.warn(\n"
          ]
        },
        {
          "output_type": "stream",
          "name": "stdout",
          "text": [
            "Epoch: 61 batch: 0 | loss: 0.0017467960715293884\n",
            "Epoch: 61 batch: 10 | loss: 0.0016413142438977957\n",
            "Epoch: 61 batch: 20 | loss: 0.002539459615945816\n",
            "Epoch: 61 batch: 30 | loss: 0.0012779971584677696\n",
            "Epoch: 61 batch: 40 | loss: 0.0029178073164075613\n",
            "Epoch: 61 batch: 50 | loss: 0.002037620870396495\n",
            "Epoch: 61 batch: 60 | loss: 0.0014047612203285098\n",
            "Epoch: 61 batch: 70 | loss: 0.001718925777822733\n",
            "Epoch: 61 batch: 80 | loss: 0.0011167465709149837\n",
            "Epoch: 61 batch: 90 | loss: 0.0012103021144866943\n",
            "Epoch: 61 batch: 100 | loss: 0.0010650398908182979\n",
            "Epoch: 61 batch: 110 | loss: 0.0024293060414493084\n",
            "Epoch: 61 valLoss: 0.001136717834276533\n"
          ]
        },
        {
          "output_type": "stream",
          "name": "stderr",
          "text": [
            "/usr/local/lib/python3.10/dist-packages/torch/utils/data/dataloader.py:617: UserWarning: This DataLoader will create 4 worker processes in total. Our suggested max number of worker in current system is 2, which is smaller than what this DataLoader is going to create. Please be aware that excessive worker creation might get DataLoader running slow or even freeze, lower the worker number to avoid potential slowness/freeze if necessary.\n",
            "  warnings.warn(\n"
          ]
        },
        {
          "output_type": "stream",
          "name": "stdout",
          "text": [
            "Epoch: 62 batch: 0 | loss: 0.002161090960726142\n",
            "Epoch: 62 batch: 10 | loss: 0.0016768660861998796\n",
            "Epoch: 62 batch: 20 | loss: 0.002876599784940481\n",
            "Epoch: 62 batch: 30 | loss: 0.0011730850674211979\n",
            "Epoch: 62 batch: 40 | loss: 0.0021448032930493355\n",
            "Epoch: 62 batch: 50 | loss: 0.002173962537199259\n",
            "Epoch: 62 batch: 60 | loss: 0.001338573987595737\n",
            "Epoch: 62 batch: 70 | loss: 0.0017592005897313356\n",
            "Epoch: 62 batch: 80 | loss: 0.0011996990069746971\n",
            "Epoch: 62 batch: 90 | loss: 0.0014979983679950237\n",
            "Epoch: 62 batch: 100 | loss: 0.0013668907340615988\n",
            "Epoch: 62 batch: 110 | loss: 0.0017928940942510962\n",
            "Epoch: 62 valLoss: 0.0011001472551044906\n"
          ]
        },
        {
          "output_type": "stream",
          "name": "stderr",
          "text": [
            "/usr/local/lib/python3.10/dist-packages/torch/utils/data/dataloader.py:617: UserWarning: This DataLoader will create 4 worker processes in total. Our suggested max number of worker in current system is 2, which is smaller than what this DataLoader is going to create. Please be aware that excessive worker creation might get DataLoader running slow or even freeze, lower the worker number to avoid potential slowness/freeze if necessary.\n",
            "  warnings.warn(\n"
          ]
        },
        {
          "output_type": "stream",
          "name": "stdout",
          "text": [
            "Epoch: 63 batch: 0 | loss: 0.002185602905228734\n",
            "Epoch: 63 batch: 10 | loss: 0.002168961800634861\n",
            "Epoch: 63 batch: 20 | loss: 0.0025155774783343077\n",
            "Epoch: 63 batch: 30 | loss: 0.0011113985674455762\n",
            "Epoch: 63 batch: 40 | loss: 0.0025068498216569424\n",
            "Epoch: 63 batch: 50 | loss: 0.0020825958345085382\n",
            "Epoch: 63 batch: 60 | loss: 0.0013032680144533515\n",
            "Epoch: 63 batch: 70 | loss: 0.0021154710557311773\n",
            "Epoch: 63 batch: 80 | loss: 0.000990839907899499\n",
            "Epoch: 63 batch: 90 | loss: 0.0013903093058615923\n",
            "Epoch: 63 batch: 100 | loss: 0.001220374251715839\n",
            "Epoch: 63 batch: 110 | loss: 0.002060680417343974\n",
            "Epoch: 63 valLoss: 0.0010936900319325994\n"
          ]
        },
        {
          "output_type": "stream",
          "name": "stderr",
          "text": [
            "/usr/local/lib/python3.10/dist-packages/torch/utils/data/dataloader.py:617: UserWarning: This DataLoader will create 4 worker processes in total. Our suggested max number of worker in current system is 2, which is smaller than what this DataLoader is going to create. Please be aware that excessive worker creation might get DataLoader running slow or even freeze, lower the worker number to avoid potential slowness/freeze if necessary.\n",
            "  warnings.warn(\n"
          ]
        },
        {
          "output_type": "stream",
          "name": "stdout",
          "text": [
            "Epoch: 64 batch: 0 | loss: 0.0022335429675877094\n",
            "Epoch: 64 batch: 10 | loss: 0.0015146052464842796\n",
            "Epoch: 64 batch: 20 | loss: 0.002698049880564213\n",
            "Epoch: 64 batch: 30 | loss: 0.0012242746306583285\n",
            "Epoch: 64 batch: 40 | loss: 0.002161090960726142\n",
            "Epoch: 64 batch: 50 | loss: 0.0025551547296345234\n",
            "Epoch: 64 batch: 60 | loss: 0.0011716812150552869\n",
            "Epoch: 64 batch: 70 | loss: 0.0021212645806372166\n",
            "Epoch: 64 batch: 80 | loss: 0.0010046504903584719\n",
            "Epoch: 64 batch: 90 | loss: 0.0011385935358703136\n",
            "Epoch: 64 batch: 100 | loss: 0.0015487137716263533\n",
            "Epoch: 64 batch: 110 | loss: 0.0018380607943981886\n",
            "Epoch: 64 valLoss: 0.0011220747098119597\n"
          ]
        },
        {
          "output_type": "stream",
          "name": "stderr",
          "text": [
            "/usr/local/lib/python3.10/dist-packages/torch/utils/data/dataloader.py:617: UserWarning: This DataLoader will create 4 worker processes in total. Our suggested max number of worker in current system is 2, which is smaller than what this DataLoader is going to create. Please be aware that excessive worker creation might get DataLoader running slow or even freeze, lower the worker number to avoid potential slowness/freeze if necessary.\n",
            "  warnings.warn(\n"
          ]
        },
        {
          "output_type": "stream",
          "name": "stdout",
          "text": [
            "Epoch: 65 batch: 0 | loss: 0.0021059613209217787\n",
            "Epoch: 65 batch: 10 | loss: 0.0014863143442198634\n",
            "Epoch: 65 batch: 20 | loss: 0.0025792319793254137\n",
            "Epoch: 65 batch: 30 | loss: 0.0011909699533134699\n",
            "Epoch: 65 batch: 40 | loss: 0.002290405798703432\n",
            "Epoch: 65 batch: 50 | loss: 0.002069466980174184\n",
            "Epoch: 65 batch: 60 | loss: 0.0016318652778863907\n",
            "Epoch: 65 batch: 70 | loss: 0.0018139444291591644\n",
            "Epoch: 65 batch: 80 | loss: 0.0009496273123659194\n",
            "Epoch: 65 batch: 90 | loss: 0.0013528978452086449\n",
            "Epoch: 65 batch: 100 | loss: 0.0012329561868682504\n",
            "Epoch: 65 batch: 110 | loss: 0.0013565091649070382\n",
            "Epoch: 65 valLoss: 0.0011073715356129895\n"
          ]
        },
        {
          "output_type": "stream",
          "name": "stderr",
          "text": [
            "/usr/local/lib/python3.10/dist-packages/torch/utils/data/dataloader.py:617: UserWarning: This DataLoader will create 4 worker processes in total. Our suggested max number of worker in current system is 2, which is smaller than what this DataLoader is going to create. Please be aware that excessive worker creation might get DataLoader running slow or even freeze, lower the worker number to avoid potential slowness/freeze if necessary.\n",
            "  warnings.warn(\n"
          ]
        },
        {
          "output_type": "stream",
          "name": "stdout",
          "text": [
            "Epoch: 66 batch: 0 | loss: 0.0018366941949352622\n",
            "Epoch: 66 batch: 10 | loss: 0.0018581708427518606\n",
            "Epoch: 66 batch: 20 | loss: 0.002606067806482315\n",
            "Epoch: 66 batch: 30 | loss: 0.0010757956188172102\n",
            "Epoch: 66 batch: 40 | loss: 0.0023524947464466095\n",
            "Epoch: 66 batch: 50 | loss: 0.0022933168802410364\n",
            "Epoch: 66 batch: 60 | loss: 0.0016391306417062879\n",
            "Epoch: 66 batch: 70 | loss: 0.0018688538111746311\n",
            "Epoch: 66 batch: 80 | loss: 0.0010159621015191078\n",
            "Epoch: 66 batch: 90 | loss: 0.001433925935998559\n",
            "Epoch: 66 batch: 100 | loss: 0.0010629902826622128\n",
            "Epoch: 66 batch: 110 | loss: 0.0018692194717004895\n",
            "Epoch: 66 valLoss: 0.0010807768496285943\n"
          ]
        },
        {
          "output_type": "stream",
          "name": "stderr",
          "text": [
            "/usr/local/lib/python3.10/dist-packages/torch/utils/data/dataloader.py:617: UserWarning: This DataLoader will create 4 worker processes in total. Our suggested max number of worker in current system is 2, which is smaller than what this DataLoader is going to create. Please be aware that excessive worker creation might get DataLoader running slow or even freeze, lower the worker number to avoid potential slowness/freeze if necessary.\n",
            "  warnings.warn(\n"
          ]
        },
        {
          "output_type": "stream",
          "name": "stdout",
          "text": [
            "Epoch: 67 batch: 0 | loss: 0.001923888921737671\n",
            "Epoch: 67 batch: 10 | loss: 0.001841982826590538\n",
            "Epoch: 67 batch: 20 | loss: 0.0022536441683769226\n",
            "Epoch: 67 batch: 30 | loss: 0.0014089721953496337\n",
            "Epoch: 67 batch: 40 | loss: 0.0024674669839441776\n",
            "Epoch: 67 batch: 50 | loss: 0.001926044700667262\n",
            "Epoch: 67 batch: 60 | loss: 0.001482788473367691\n",
            "Epoch: 67 batch: 70 | loss: 0.00173843652009964\n",
            "Epoch: 67 batch: 80 | loss: 0.0010744602186605334\n",
            "Epoch: 67 batch: 90 | loss: 0.0011949590407311916\n",
            "Epoch: 67 batch: 100 | loss: 0.001048422884196043\n",
            "Epoch: 67 batch: 110 | loss: 0.0016602417454123497\n",
            "Epoch: 67 valLoss: 0.0010727409583318973\n"
          ]
        },
        {
          "output_type": "stream",
          "name": "stderr",
          "text": [
            "/usr/local/lib/python3.10/dist-packages/torch/utils/data/dataloader.py:617: UserWarning: This DataLoader will create 4 worker processes in total. Our suggested max number of worker in current system is 2, which is smaller than what this DataLoader is going to create. Please be aware that excessive worker creation might get DataLoader running slow or even freeze, lower the worker number to avoid potential slowness/freeze if necessary.\n",
            "  warnings.warn(\n"
          ]
        },
        {
          "output_type": "stream",
          "name": "stdout",
          "text": [
            "Epoch: 68 batch: 0 | loss: 0.002276816638186574\n",
            "Epoch: 68 batch: 10 | loss: 0.0020074923522770405\n",
            "Epoch: 68 batch: 20 | loss: 0.0020771424751728773\n",
            "Epoch: 68 batch: 30 | loss: 0.0011655506677925587\n",
            "Epoch: 68 batch: 40 | loss: 0.0022547768894582987\n",
            "Epoch: 68 batch: 50 | loss: 0.0015774710336700082\n",
            "Epoch: 68 batch: 60 | loss: 0.0011896383948624134\n",
            "Epoch: 68 batch: 70 | loss: 0.0018713906174525619\n",
            "Epoch: 68 batch: 80 | loss: 0.0010841869516298175\n",
            "Epoch: 68 batch: 90 | loss: 0.0009999980684369802\n",
            "Epoch: 68 batch: 100 | loss: 0.0014944083523005247\n",
            "Epoch: 68 batch: 110 | loss: 0.0020387175027281046\n",
            "Epoch: 68 valLoss: 0.0010816723064070242\n"
          ]
        },
        {
          "output_type": "stream",
          "name": "stderr",
          "text": [
            "/usr/local/lib/python3.10/dist-packages/torch/utils/data/dataloader.py:617: UserWarning: This DataLoader will create 4 worker processes in total. Our suggested max number of worker in current system is 2, which is smaller than what this DataLoader is going to create. Please be aware that excessive worker creation might get DataLoader running slow or even freeze, lower the worker number to avoid potential slowness/freeze if necessary.\n",
            "  warnings.warn(\n"
          ]
        },
        {
          "output_type": "stream",
          "name": "stdout",
          "text": [
            "Epoch: 69 batch: 0 | loss: 0.0021616006270051003\n",
            "Epoch: 69 batch: 10 | loss: 0.0018456156831234694\n",
            "Epoch: 69 batch: 20 | loss: 0.0017751652048900723\n",
            "Epoch: 69 batch: 30 | loss: 0.001409135409630835\n",
            "Epoch: 69 batch: 40 | loss: 0.0023530758917331696\n",
            "Epoch: 69 batch: 50 | loss: 0.0021367245353758335\n",
            "Epoch: 69 batch: 60 | loss: 0.0014994887169450521\n",
            "Epoch: 69 batch: 70 | loss: 0.002009935909882188\n",
            "Epoch: 69 batch: 80 | loss: 0.0009607772808521986\n",
            "Epoch: 69 batch: 90 | loss: 0.0013563601532950997\n",
            "Epoch: 69 batch: 100 | loss: 0.001400969224050641\n",
            "Epoch: 69 batch: 110 | loss: 0.0014639733126387\n",
            "Epoch: 69 valLoss: 0.0010764799989408545\n"
          ]
        },
        {
          "output_type": "stream",
          "name": "stderr",
          "text": [
            "/usr/local/lib/python3.10/dist-packages/torch/utils/data/dataloader.py:617: UserWarning: This DataLoader will create 4 worker processes in total. Our suggested max number of worker in current system is 2, which is smaller than what this DataLoader is going to create. Please be aware that excessive worker creation might get DataLoader running slow or even freeze, lower the worker number to avoid potential slowness/freeze if necessary.\n",
            "  warnings.warn(\n"
          ]
        },
        {
          "output_type": "stream",
          "name": "stdout",
          "text": [
            "Epoch: 70 batch: 0 | loss: 0.0021255556493997574\n",
            "Epoch: 70 batch: 10 | loss: 0.0017235834384337068\n",
            "Epoch: 70 batch: 20 | loss: 0.0016967694973573089\n",
            "Epoch: 70 batch: 30 | loss: 0.0010368289658799767\n",
            "Epoch: 70 batch: 40 | loss: 0.0018751147435978055\n",
            "Epoch: 70 batch: 50 | loss: 0.0020297407172620296\n",
            "Epoch: 70 batch: 60 | loss: 0.0015370239270851016\n",
            "Epoch: 70 batch: 70 | loss: 0.0017125834710896015\n",
            "Epoch: 70 batch: 80 | loss: 0.0011821513762697577\n",
            "Epoch: 70 batch: 90 | loss: 0.0010929286945611238\n",
            "Epoch: 70 batch: 100 | loss: 0.001158491475507617\n",
            "Epoch: 70 batch: 110 | loss: 0.0022060612682253122\n",
            "Epoch: 70 valLoss: 0.001058614153649404\n"
          ]
        },
        {
          "output_type": "stream",
          "name": "stderr",
          "text": [
            "/usr/local/lib/python3.10/dist-packages/torch/utils/data/dataloader.py:617: UserWarning: This DataLoader will create 4 worker processes in total. Our suggested max number of worker in current system is 2, which is smaller than what this DataLoader is going to create. Please be aware that excessive worker creation might get DataLoader running slow or even freeze, lower the worker number to avoid potential slowness/freeze if necessary.\n",
            "  warnings.warn(\n"
          ]
        },
        {
          "output_type": "stream",
          "name": "stdout",
          "text": [
            "Epoch: 71 batch: 0 | loss: 0.002134433016180992\n",
            "Epoch: 71 batch: 10 | loss: 0.00147322250995785\n",
            "Epoch: 71 batch: 20 | loss: 0.0025237025693058968\n",
            "Epoch: 71 batch: 30 | loss: 0.0012181929778307676\n",
            "Epoch: 71 batch: 40 | loss: 0.002152790315449238\n",
            "Epoch: 71 batch: 50 | loss: 0.0016083033988252282\n",
            "Epoch: 71 batch: 60 | loss: 0.0015335429925471544\n",
            "Epoch: 71 batch: 70 | loss: 0.001379734487272799\n",
            "Epoch: 71 batch: 80 | loss: 0.0009187388350255787\n",
            "Epoch: 71 batch: 90 | loss: 0.0009979704627767205\n",
            "Epoch: 71 batch: 100 | loss: 0.001312129432335496\n",
            "Epoch: 71 batch: 110 | loss: 0.0015395279042422771\n",
            "Epoch: 71 valLoss: 0.0010664317859947364\n"
          ]
        },
        {
          "output_type": "stream",
          "name": "stderr",
          "text": [
            "/usr/local/lib/python3.10/dist-packages/torch/utils/data/dataloader.py:617: UserWarning: This DataLoader will create 4 worker processes in total. Our suggested max number of worker in current system is 2, which is smaller than what this DataLoader is going to create. Please be aware that excessive worker creation might get DataLoader running slow or even freeze, lower the worker number to avoid potential slowness/freeze if necessary.\n",
            "  warnings.warn(\n"
          ]
        },
        {
          "output_type": "stream",
          "name": "stdout",
          "text": [
            "Epoch: 72 batch: 0 | loss: 0.0020221818704158068\n",
            "Epoch: 72 batch: 10 | loss: 0.0018878974951803684\n",
            "Epoch: 72 batch: 20 | loss: 0.0021162296179682016\n",
            "Epoch: 72 batch: 30 | loss: 0.0012966053327545524\n",
            "Epoch: 72 batch: 40 | loss: 0.002368354704231024\n",
            "Epoch: 72 batch: 50 | loss: 0.002012193202972412\n",
            "Epoch: 72 batch: 60 | loss: 0.0015392628265544772\n",
            "Epoch: 72 batch: 70 | loss: 0.0015284132678061724\n",
            "Epoch: 72 batch: 80 | loss: 0.0008262742194347084\n",
            "Epoch: 72 batch: 90 | loss: 0.0011587857734411955\n",
            "Epoch: 72 batch: 100 | loss: 0.0012917672283947468\n",
            "Epoch: 72 batch: 110 | loss: 0.0016827620565891266\n",
            "Epoch: 72 valLoss: 0.0010427778619822702\n"
          ]
        },
        {
          "output_type": "stream",
          "name": "stderr",
          "text": [
            "/usr/local/lib/python3.10/dist-packages/torch/utils/data/dataloader.py:617: UserWarning: This DataLoader will create 4 worker processes in total. Our suggested max number of worker in current system is 2, which is smaller than what this DataLoader is going to create. Please be aware that excessive worker creation might get DataLoader running slow or even freeze, lower the worker number to avoid potential slowness/freeze if necessary.\n",
            "  warnings.warn(\n"
          ]
        },
        {
          "output_type": "stream",
          "name": "stdout",
          "text": [
            "Epoch: 73 batch: 0 | loss: 0.0019500848138704896\n",
            "Epoch: 73 batch: 10 | loss: 0.0016448559472337365\n",
            "Epoch: 73 batch: 20 | loss: 0.0016671448247507215\n",
            "Epoch: 73 batch: 30 | loss: 0.001292526489123702\n",
            "Epoch: 73 batch: 40 | loss: 0.0017393677262589335\n",
            "Epoch: 73 batch: 50 | loss: 0.0017316455487161875\n",
            "Epoch: 73 batch: 60 | loss: 0.0015008817426860332\n",
            "Epoch: 73 batch: 70 | loss: 0.0015677136834710836\n",
            "Epoch: 73 batch: 80 | loss: 0.0009295207564719021\n",
            "Epoch: 73 batch: 90 | loss: 0.0008423373219557106\n",
            "Epoch: 73 batch: 100 | loss: 0.001266198931261897\n",
            "Epoch: 73 batch: 110 | loss: 0.0013870340771973133\n",
            "Epoch: 73 valLoss: 0.0010562829490405859\n"
          ]
        },
        {
          "output_type": "stream",
          "name": "stderr",
          "text": [
            "/usr/local/lib/python3.10/dist-packages/torch/utils/data/dataloader.py:617: UserWarning: This DataLoader will create 4 worker processes in total. Our suggested max number of worker in current system is 2, which is smaller than what this DataLoader is going to create. Please be aware that excessive worker creation might get DataLoader running slow or even freeze, lower the worker number to avoid potential slowness/freeze if necessary.\n",
            "  warnings.warn(\n"
          ]
        },
        {
          "output_type": "stream",
          "name": "stdout",
          "text": [
            "Epoch: 74 batch: 0 | loss: 0.0018158159218728542\n",
            "Epoch: 74 batch: 10 | loss: 0.001697446103207767\n",
            "Epoch: 74 batch: 20 | loss: 0.0022965699899941683\n",
            "Epoch: 74 batch: 30 | loss: 0.001251532812602818\n",
            "Epoch: 74 batch: 40 | loss: 0.002398681128397584\n",
            "Epoch: 74 batch: 50 | loss: 0.001602860982529819\n",
            "Epoch: 74 batch: 60 | loss: 0.0014133201912045479\n",
            "Epoch: 74 batch: 70 | loss: 0.0014462912222370505\n",
            "Epoch: 74 batch: 80 | loss: 0.0008574448875151575\n",
            "Epoch: 74 batch: 90 | loss: 0.0011422006646171212\n",
            "Epoch: 74 batch: 100 | loss: 0.0010850521503016353\n",
            "Epoch: 74 batch: 110 | loss: 0.0013408246450126171\n",
            "Epoch: 74 valLoss: 0.0010407430333606044\n"
          ]
        },
        {
          "output_type": "stream",
          "name": "stderr",
          "text": [
            "/usr/local/lib/python3.10/dist-packages/torch/utils/data/dataloader.py:617: UserWarning: This DataLoader will create 4 worker processes in total. Our suggested max number of worker in current system is 2, which is smaller than what this DataLoader is going to create. Please be aware that excessive worker creation might get DataLoader running slow or even freeze, lower the worker number to avoid potential slowness/freeze if necessary.\n",
            "  warnings.warn(\n"
          ]
        },
        {
          "output_type": "stream",
          "name": "stdout",
          "text": [
            "Epoch: 75 batch: 0 | loss: 0.001717902603559196\n",
            "Epoch: 75 batch: 10 | loss: 0.0016246035229414701\n",
            "Epoch: 75 batch: 20 | loss: 0.0025314190424978733\n",
            "Epoch: 75 batch: 30 | loss: 0.0015062449965626001\n",
            "Epoch: 75 batch: 40 | loss: 0.0023744902573525906\n",
            "Epoch: 75 batch: 50 | loss: 0.0018982668407261372\n",
            "Epoch: 75 batch: 60 | loss: 0.0015384760918095708\n",
            "Epoch: 75 batch: 70 | loss: 0.0013048604596406221\n",
            "Epoch: 75 batch: 80 | loss: 0.0010578111978247762\n",
            "Epoch: 75 batch: 90 | loss: 0.0013681581476703286\n",
            "Epoch: 75 batch: 100 | loss: 0.0013737627305090427\n",
            "Epoch: 75 batch: 110 | loss: 0.0014697739388793707\n",
            "Epoch: 75 valLoss: 0.001032489268465402\n"
          ]
        },
        {
          "output_type": "stream",
          "name": "stderr",
          "text": [
            "/usr/local/lib/python3.10/dist-packages/torch/utils/data/dataloader.py:617: UserWarning: This DataLoader will create 4 worker processes in total. Our suggested max number of worker in current system is 2, which is smaller than what this DataLoader is going to create. Please be aware that excessive worker creation might get DataLoader running slow or even freeze, lower the worker number to avoid potential slowness/freeze if necessary.\n",
            "  warnings.warn(\n"
          ]
        },
        {
          "output_type": "stream",
          "name": "stdout",
          "text": [
            "Epoch: 76 batch: 0 | loss: 0.001954559702426195\n",
            "Epoch: 76 batch: 10 | loss: 0.0013256026431918144\n",
            "Epoch: 76 batch: 20 | loss: 0.001978350570425391\n",
            "Epoch: 76 batch: 30 | loss: 0.0011898477096110582\n",
            "Epoch: 76 batch: 40 | loss: 0.002034131670370698\n",
            "Epoch: 76 batch: 50 | loss: 0.0016499223420396447\n",
            "Epoch: 76 batch: 60 | loss: 0.0013842093758285046\n",
            "Epoch: 76 batch: 70 | loss: 0.0014169755158945918\n",
            "Epoch: 76 batch: 80 | loss: 0.0011996799148619175\n",
            "Epoch: 76 batch: 90 | loss: 0.0013321342412382364\n",
            "Epoch: 76 batch: 100 | loss: 0.0009753720369189978\n",
            "Epoch: 76 batch: 110 | loss: 0.0019535960163921118\n",
            "Epoch: 76 valLoss: 0.00106150448431433\n"
          ]
        },
        {
          "output_type": "stream",
          "name": "stderr",
          "text": [
            "/usr/local/lib/python3.10/dist-packages/torch/utils/data/dataloader.py:617: UserWarning: This DataLoader will create 4 worker processes in total. Our suggested max number of worker in current system is 2, which is smaller than what this DataLoader is going to create. Please be aware that excessive worker creation might get DataLoader running slow or even freeze, lower the worker number to avoid potential slowness/freeze if necessary.\n",
            "  warnings.warn(\n"
          ]
        },
        {
          "output_type": "stream",
          "name": "stdout",
          "text": [
            "Epoch: 77 batch: 0 | loss: 0.0018171957926824689\n",
            "Epoch: 77 batch: 10 | loss: 0.0019677900709211826\n",
            "Epoch: 77 batch: 20 | loss: 0.0026400876231491566\n",
            "Epoch: 77 batch: 30 | loss: 0.00141681800596416\n",
            "Epoch: 77 batch: 40 | loss: 0.0023051786702126265\n",
            "Epoch: 77 batch: 50 | loss: 0.001851735869422555\n",
            "Epoch: 77 batch: 60 | loss: 0.0010991912567988038\n",
            "Epoch: 77 batch: 70 | loss: 0.0012149983085691929\n",
            "Epoch: 77 batch: 80 | loss: 0.0009521768079139292\n",
            "Epoch: 77 batch: 90 | loss: 0.0012444505700841546\n",
            "Epoch: 77 batch: 100 | loss: 0.0011634820839390159\n",
            "Epoch: 77 batch: 110 | loss: 0.0015637021278962493\n",
            "Epoch: 77 valLoss: 0.0010298508335999635\n"
          ]
        },
        {
          "output_type": "stream",
          "name": "stderr",
          "text": [
            "/usr/local/lib/python3.10/dist-packages/torch/utils/data/dataloader.py:617: UserWarning: This DataLoader will create 4 worker processes in total. Our suggested max number of worker in current system is 2, which is smaller than what this DataLoader is going to create. Please be aware that excessive worker creation might get DataLoader running slow or even freeze, lower the worker number to avoid potential slowness/freeze if necessary.\n",
            "  warnings.warn(\n"
          ]
        },
        {
          "output_type": "stream",
          "name": "stdout",
          "text": [
            "Epoch: 78 batch: 0 | loss: 0.0018487022025510669\n",
            "Epoch: 78 batch: 10 | loss: 0.0010384558700025082\n",
            "Epoch: 78 batch: 20 | loss: 0.001923233736306429\n",
            "Epoch: 78 batch: 30 | loss: 0.0011089310282841325\n",
            "Epoch: 78 batch: 40 | loss: 0.0024337703362107277\n",
            "Epoch: 78 batch: 50 | loss: 0.0016271204221993685\n",
            "Epoch: 78 batch: 60 | loss: 0.001295452588237822\n",
            "Epoch: 78 batch: 70 | loss: 0.0016642307164147496\n",
            "Epoch: 78 batch: 80 | loss: 0.000916825607419014\n",
            "Epoch: 78 batch: 90 | loss: 0.00115605304017663\n",
            "Epoch: 78 batch: 100 | loss: 0.0011981057468801737\n",
            "Epoch: 78 batch: 110 | loss: 0.0014371569268405437\n",
            "Epoch: 78 valLoss: 0.0010309352674413832\n"
          ]
        },
        {
          "output_type": "stream",
          "name": "stderr",
          "text": [
            "/usr/local/lib/python3.10/dist-packages/torch/utils/data/dataloader.py:617: UserWarning: This DataLoader will create 4 worker processes in total. Our suggested max number of worker in current system is 2, which is smaller than what this DataLoader is going to create. Please be aware that excessive worker creation might get DataLoader running slow or even freeze, lower the worker number to avoid potential slowness/freeze if necessary.\n",
            "  warnings.warn(\n"
          ]
        },
        {
          "output_type": "stream",
          "name": "stdout",
          "text": [
            "Epoch: 79 batch: 0 | loss: 0.0016441128682345152\n",
            "Epoch: 79 batch: 10 | loss: 0.0013158845249563456\n",
            "Epoch: 79 batch: 20 | loss: 0.0016365901101380587\n",
            "Epoch: 79 batch: 30 | loss: 0.0012739895610138774\n",
            "Epoch: 79 batch: 40 | loss: 0.0019335257820785046\n",
            "Epoch: 79 batch: 50 | loss: 0.0017050213646143675\n",
            "Epoch: 79 batch: 60 | loss: 0.0014289180980995297\n",
            "Epoch: 79 batch: 70 | loss: 0.0012215091846883297\n",
            "Epoch: 79 batch: 80 | loss: 0.0009012827649712563\n",
            "Epoch: 79 batch: 90 | loss: 0.0014889906160533428\n",
            "Epoch: 79 batch: 100 | loss: 0.0010102010564878583\n",
            "Epoch: 79 batch: 110 | loss: 0.0018307672580704093\n",
            "Epoch: 79 valLoss: 0.0010156458842870205\n"
          ]
        },
        {
          "output_type": "stream",
          "name": "stderr",
          "text": [
            "/usr/local/lib/python3.10/dist-packages/torch/utils/data/dataloader.py:617: UserWarning: This DataLoader will create 4 worker processes in total. Our suggested max number of worker in current system is 2, which is smaller than what this DataLoader is going to create. Please be aware that excessive worker creation might get DataLoader running slow or even freeze, lower the worker number to avoid potential slowness/freeze if necessary.\n",
            "  warnings.warn(\n"
          ]
        },
        {
          "output_type": "stream",
          "name": "stdout",
          "text": [
            "Epoch: 80 batch: 0 | loss: 0.0015805416041985154\n",
            "Epoch: 80 batch: 10 | loss: 0.0012368775205686688\n",
            "Epoch: 80 batch: 20 | loss: 0.002042603911831975\n",
            "Epoch: 80 batch: 30 | loss: 0.0015232681762427092\n",
            "Epoch: 80 batch: 40 | loss: 0.0021353967022150755\n",
            "Epoch: 80 batch: 50 | loss: 0.0018096854910254478\n",
            "Epoch: 80 batch: 60 | loss: 0.0013672662898898125\n",
            "Epoch: 80 batch: 70 | loss: 0.0015034186653792858\n",
            "Epoch: 80 batch: 80 | loss: 0.000971037894487381\n",
            "Epoch: 80 batch: 90 | loss: 0.0010442245984449983\n",
            "Epoch: 80 batch: 100 | loss: 0.0008792469743639231\n",
            "Epoch: 80 batch: 110 | loss: 0.0016274565132334828\n",
            "Epoch: 80 valLoss: 0.0010019901627447557\n"
          ]
        },
        {
          "output_type": "stream",
          "name": "stderr",
          "text": [
            "/usr/local/lib/python3.10/dist-packages/torch/utils/data/dataloader.py:617: UserWarning: This DataLoader will create 4 worker processes in total. Our suggested max number of worker in current system is 2, which is smaller than what this DataLoader is going to create. Please be aware that excessive worker creation might get DataLoader running slow or even freeze, lower the worker number to avoid potential slowness/freeze if necessary.\n",
            "  warnings.warn(\n"
          ]
        },
        {
          "output_type": "stream",
          "name": "stdout",
          "text": [
            "Epoch: 81 batch: 0 | loss: 0.0019985544495284557\n",
            "Epoch: 81 batch: 10 | loss: 0.001591700711287558\n",
            "Epoch: 81 batch: 20 | loss: 0.0022533966694027185\n",
            "Epoch: 81 batch: 30 | loss: 0.0012869408819824457\n",
            "Epoch: 81 batch: 40 | loss: 0.002326039131730795\n",
            "Epoch: 81 batch: 50 | loss: 0.0014928579330444336\n",
            "Epoch: 81 batch: 60 | loss: 0.0011585577158257365\n",
            "Epoch: 81 batch: 70 | loss: 0.001216038828715682\n",
            "Epoch: 81 batch: 80 | loss: 0.0008862406248226762\n",
            "Epoch: 81 batch: 90 | loss: 0.0011683946941047907\n",
            "Epoch: 81 batch: 100 | loss: 0.001248605432920158\n",
            "Epoch: 81 batch: 110 | loss: 0.0013957940973341465\n",
            "Epoch: 81 valLoss: 0.0010041892211326603\n"
          ]
        },
        {
          "output_type": "stream",
          "name": "stderr",
          "text": [
            "/usr/local/lib/python3.10/dist-packages/torch/utils/data/dataloader.py:617: UserWarning: This DataLoader will create 4 worker processes in total. Our suggested max number of worker in current system is 2, which is smaller than what this DataLoader is going to create. Please be aware that excessive worker creation might get DataLoader running slow or even freeze, lower the worker number to avoid potential slowness/freeze if necessary.\n",
            "  warnings.warn(\n"
          ]
        },
        {
          "output_type": "stream",
          "name": "stdout",
          "text": [
            "Epoch: 82 batch: 0 | loss: 0.0016523987287655473\n",
            "Epoch: 82 batch: 10 | loss: 0.0007183646666817367\n",
            "Epoch: 82 batch: 20 | loss: 0.0025742589496076107\n",
            "Epoch: 82 batch: 30 | loss: 0.0011983367148786783\n",
            "Epoch: 82 batch: 40 | loss: 0.00233099446631968\n",
            "Epoch: 82 batch: 50 | loss: 0.001503191888332367\n",
            "Epoch: 82 batch: 60 | loss: 0.0012477131094783545\n",
            "Epoch: 82 batch: 70 | loss: 0.0013932412257418036\n",
            "Epoch: 82 batch: 80 | loss: 0.0010301874717697501\n",
            "Epoch: 82 batch: 90 | loss: 0.000799382571130991\n",
            "Epoch: 82 batch: 100 | loss: 0.0011706578079611063\n",
            "Epoch: 82 batch: 110 | loss: 0.0015533638652414083\n",
            "Epoch: 82 valLoss: 0.0010209019133442711\n"
          ]
        },
        {
          "output_type": "stream",
          "name": "stderr",
          "text": [
            "/usr/local/lib/python3.10/dist-packages/torch/utils/data/dataloader.py:617: UserWarning: This DataLoader will create 4 worker processes in total. Our suggested max number of worker in current system is 2, which is smaller than what this DataLoader is going to create. Please be aware that excessive worker creation might get DataLoader running slow or even freeze, lower the worker number to avoid potential slowness/freeze if necessary.\n",
            "  warnings.warn(\n"
          ]
        },
        {
          "output_type": "stream",
          "name": "stdout",
          "text": [
            "Epoch: 83 batch: 0 | loss: 0.0017469224985688925\n",
            "Epoch: 83 batch: 10 | loss: 0.0011726992670446634\n",
            "Epoch: 83 batch: 20 | loss: 0.0018199157202616334\n",
            "Epoch: 83 batch: 30 | loss: 0.0013381411554291844\n",
            "Epoch: 83 batch: 40 | loss: 0.0019935383461415768\n",
            "Epoch: 83 batch: 50 | loss: 0.0012815871741622686\n",
            "Epoch: 83 batch: 60 | loss: 0.0012796418741345406\n",
            "Epoch: 83 batch: 70 | loss: 0.0015346244908869267\n",
            "Epoch: 83 batch: 80 | loss: 0.001070269732736051\n",
            "Epoch: 83 batch: 90 | loss: 0.0011326399398967624\n",
            "Epoch: 83 batch: 100 | loss: 0.0009638631017878652\n",
            "Epoch: 83 batch: 110 | loss: 0.0014658634318038821\n",
            "Epoch: 83 valLoss: 0.0009949202162739524\n"
          ]
        },
        {
          "output_type": "stream",
          "name": "stderr",
          "text": [
            "/usr/local/lib/python3.10/dist-packages/torch/utils/data/dataloader.py:617: UserWarning: This DataLoader will create 4 worker processes in total. Our suggested max number of worker in current system is 2, which is smaller than what this DataLoader is going to create. Please be aware that excessive worker creation might get DataLoader running slow or even freeze, lower the worker number to avoid potential slowness/freeze if necessary.\n",
            "  warnings.warn(\n"
          ]
        },
        {
          "output_type": "stream",
          "name": "stdout",
          "text": [
            "Epoch: 84 batch: 0 | loss: 0.0020881127566099167\n",
            "Epoch: 84 batch: 10 | loss: 0.0013848516391590238\n",
            "Epoch: 84 batch: 20 | loss: 0.0018805480794981122\n",
            "Epoch: 84 batch: 30 | loss: 0.0011376836337149143\n",
            "Epoch: 84 batch: 40 | loss: 0.0019098694901913404\n",
            "Epoch: 84 batch: 50 | loss: 0.0016314955428242683\n",
            "Epoch: 84 batch: 60 | loss: 0.0013082766672596335\n",
            "Epoch: 84 batch: 70 | loss: 0.0012358224485069513\n",
            "Epoch: 84 batch: 80 | loss: 0.0008586338954046369\n",
            "Epoch: 84 batch: 90 | loss: 0.0010532417800277472\n",
            "Epoch: 84 batch: 100 | loss: 0.0012780469842255116\n",
            "Epoch: 84 batch: 110 | loss: 0.0014087146846577525\n",
            "Epoch: 84 valLoss: 0.0009934418804827493\n"
          ]
        },
        {
          "output_type": "stream",
          "name": "stderr",
          "text": [
            "/usr/local/lib/python3.10/dist-packages/torch/utils/data/dataloader.py:617: UserWarning: This DataLoader will create 4 worker processes in total. Our suggested max number of worker in current system is 2, which is smaller than what this DataLoader is going to create. Please be aware that excessive worker creation might get DataLoader running slow or even freeze, lower the worker number to avoid potential slowness/freeze if necessary.\n",
            "  warnings.warn(\n"
          ]
        },
        {
          "output_type": "stream",
          "name": "stdout",
          "text": [
            "Epoch: 85 batch: 0 | loss: 0.001921040820889175\n",
            "Epoch: 85 batch: 10 | loss: 0.0010593297192826867\n",
            "Epoch: 85 batch: 20 | loss: 0.0015981351025402546\n",
            "Epoch: 85 batch: 30 | loss: 0.0012086087372153997\n",
            "Epoch: 85 batch: 40 | loss: 0.0018217589240521193\n",
            "Epoch: 85 batch: 50 | loss: 0.001395069295540452\n",
            "Epoch: 85 batch: 60 | loss: 0.0013386900536715984\n",
            "Epoch: 85 batch: 70 | loss: 0.0015085907652974129\n",
            "Epoch: 85 batch: 80 | loss: 0.0008577260887250304\n",
            "Epoch: 85 batch: 90 | loss: 0.001038639573380351\n",
            "Epoch: 85 batch: 100 | loss: 0.0012130995746701956\n",
            "Epoch: 85 batch: 110 | loss: 0.0017895125783979893\n",
            "Epoch: 85 valLoss: 0.0009868573997162354\n"
          ]
        },
        {
          "output_type": "stream",
          "name": "stderr",
          "text": [
            "/usr/local/lib/python3.10/dist-packages/torch/utils/data/dataloader.py:617: UserWarning: This DataLoader will create 4 worker processes in total. Our suggested max number of worker in current system is 2, which is smaller than what this DataLoader is going to create. Please be aware that excessive worker creation might get DataLoader running slow or even freeze, lower the worker number to avoid potential slowness/freeze if necessary.\n",
            "  warnings.warn(\n"
          ]
        },
        {
          "output_type": "stream",
          "name": "stdout",
          "text": [
            "Epoch: 86 batch: 0 | loss: 0.0018443848239257932\n",
            "Epoch: 86 batch: 10 | loss: 0.0013211779296398163\n",
            "Epoch: 86 batch: 20 | loss: 0.0020960145629942417\n",
            "Epoch: 86 batch: 30 | loss: 0.0013780811568722129\n",
            "Epoch: 86 batch: 40 | loss: 0.0018550649983808398\n",
            "Epoch: 86 batch: 50 | loss: 0.0015884736785665154\n",
            "Epoch: 86 batch: 60 | loss: 0.0012428250629454851\n",
            "Epoch: 86 batch: 70 | loss: 0.0013872722629457712\n",
            "Epoch: 86 batch: 80 | loss: 0.0009001577855087817\n",
            "Epoch: 86 batch: 90 | loss: 0.0011083785211667418\n",
            "Epoch: 86 batch: 100 | loss: 0.0010704546002671123\n",
            "Epoch: 86 batch: 110 | loss: 0.001198034966364503\n",
            "Epoch: 86 valLoss: 0.0010002125233533078\n"
          ]
        },
        {
          "output_type": "stream",
          "name": "stderr",
          "text": [
            "/usr/local/lib/python3.10/dist-packages/torch/utils/data/dataloader.py:617: UserWarning: This DataLoader will create 4 worker processes in total. Our suggested max number of worker in current system is 2, which is smaller than what this DataLoader is going to create. Please be aware that excessive worker creation might get DataLoader running slow or even freeze, lower the worker number to avoid potential slowness/freeze if necessary.\n",
            "  warnings.warn(\n"
          ]
        },
        {
          "output_type": "stream",
          "name": "stdout",
          "text": [
            "Epoch: 87 batch: 0 | loss: 0.0016380525194108486\n",
            "Epoch: 87 batch: 10 | loss: 0.0010714069940149784\n",
            "Epoch: 87 batch: 20 | loss: 0.0017996736569330096\n",
            "Epoch: 87 batch: 30 | loss: 0.0014658948639407754\n",
            "Epoch: 87 batch: 40 | loss: 0.0018278133356943727\n",
            "Epoch: 87 batch: 50 | loss: 0.0014981231652200222\n",
            "Epoch: 87 batch: 60 | loss: 0.0013399922754615545\n",
            "Epoch: 87 batch: 70 | loss: 0.0012653719168156385\n",
            "Epoch: 87 batch: 80 | loss: 0.0008637849823571742\n",
            "Epoch: 87 batch: 90 | loss: 0.0011348903644829988\n",
            "Epoch: 87 batch: 100 | loss: 0.001000052085146308\n",
            "Epoch: 87 batch: 110 | loss: 0.0012811427004635334\n",
            "Epoch: 87 valLoss: 0.0009610412053619635\n"
          ]
        },
        {
          "output_type": "stream",
          "name": "stderr",
          "text": [
            "/usr/local/lib/python3.10/dist-packages/torch/utils/data/dataloader.py:617: UserWarning: This DataLoader will create 4 worker processes in total. Our suggested max number of worker in current system is 2, which is smaller than what this DataLoader is going to create. Please be aware that excessive worker creation might get DataLoader running slow or even freeze, lower the worker number to avoid potential slowness/freeze if necessary.\n",
            "  warnings.warn(\n"
          ]
        },
        {
          "output_type": "stream",
          "name": "stdout",
          "text": [
            "Epoch: 88 batch: 0 | loss: 0.0017620442667976022\n",
            "Epoch: 88 batch: 10 | loss: 0.0011422204552218318\n",
            "Epoch: 88 batch: 20 | loss: 0.0016063099028542638\n",
            "Epoch: 88 batch: 30 | loss: 0.0011432705214247108\n",
            "Epoch: 88 batch: 40 | loss: 0.002414230490103364\n",
            "Epoch: 88 batch: 50 | loss: 0.0015553438570350409\n",
            "Epoch: 88 batch: 60 | loss: 0.0013751671649515629\n",
            "Epoch: 88 batch: 70 | loss: 0.0012070467928424478\n",
            "Epoch: 88 batch: 80 | loss: 0.0008530516643077135\n",
            "Epoch: 88 batch: 90 | loss: 0.0010991706512868404\n",
            "Epoch: 88 batch: 100 | loss: 0.0011886553838849068\n",
            "Epoch: 88 batch: 110 | loss: 0.0017040518578141928\n",
            "Epoch: 88 valLoss: 0.0009806558043008264\n"
          ]
        },
        {
          "output_type": "stream",
          "name": "stderr",
          "text": [
            "/usr/local/lib/python3.10/dist-packages/torch/utils/data/dataloader.py:617: UserWarning: This DataLoader will create 4 worker processes in total. Our suggested max number of worker in current system is 2, which is smaller than what this DataLoader is going to create. Please be aware that excessive worker creation might get DataLoader running slow or even freeze, lower the worker number to avoid potential slowness/freeze if necessary.\n",
            "  warnings.warn(\n"
          ]
        },
        {
          "output_type": "stream",
          "name": "stdout",
          "text": [
            "Epoch: 89 batch: 0 | loss: 0.0017322389176115394\n",
            "Epoch: 89 batch: 10 | loss: 0.0012989597162231803\n",
            "Epoch: 89 batch: 20 | loss: 0.0020377098117023706\n",
            "Epoch: 89 batch: 30 | loss: 0.0012492422247305512\n",
            "Epoch: 89 batch: 40 | loss: 0.001861420925706625\n",
            "Epoch: 89 batch: 50 | loss: 0.0013649393804371357\n",
            "Epoch: 89 batch: 60 | loss: 0.000770139042288065\n",
            "Epoch: 89 batch: 70 | loss: 0.0012678460916504264\n",
            "Epoch: 89 batch: 80 | loss: 0.0009328457526862621\n",
            "Epoch: 89 batch: 90 | loss: 0.001076610991731286\n",
            "Epoch: 89 batch: 100 | loss: 0.0011261141626164317\n",
            "Epoch: 89 batch: 110 | loss: 0.001673710416071117\n",
            "Epoch: 89 valLoss: 0.0010017822548243711\n"
          ]
        },
        {
          "output_type": "stream",
          "name": "stderr",
          "text": [
            "/usr/local/lib/python3.10/dist-packages/torch/utils/data/dataloader.py:617: UserWarning: This DataLoader will create 4 worker processes in total. Our suggested max number of worker in current system is 2, which is smaller than what this DataLoader is going to create. Please be aware that excessive worker creation might get DataLoader running slow or even freeze, lower the worker number to avoid potential slowness/freeze if necessary.\n",
            "  warnings.warn(\n"
          ]
        },
        {
          "output_type": "stream",
          "name": "stdout",
          "text": [
            "Epoch: 90 batch: 0 | loss: 0.001699069980531931\n",
            "Epoch: 90 batch: 10 | loss: 0.0010202826233580709\n",
            "Epoch: 90 batch: 20 | loss: 0.001953917322680354\n",
            "Epoch: 90 batch: 30 | loss: 0.0012151689734309912\n",
            "Epoch: 90 batch: 40 | loss: 0.0017747884849086404\n",
            "Epoch: 90 batch: 50 | loss: 0.0013441670453175902\n",
            "Epoch: 90 batch: 60 | loss: 0.0011487845331430435\n",
            "Epoch: 90 batch: 70 | loss: 0.0014861475210636854\n",
            "Epoch: 90 batch: 80 | loss: 0.0008198200957849622\n",
            "Epoch: 90 batch: 90 | loss: 0.0009821320418268442\n",
            "Epoch: 90 batch: 100 | loss: 0.0011794243473559618\n",
            "Epoch: 90 batch: 110 | loss: 0.0012806880986317992\n",
            "Epoch: 90 valLoss: 0.0009969031307848612\n"
          ]
        },
        {
          "output_type": "stream",
          "name": "stderr",
          "text": [
            "/usr/local/lib/python3.10/dist-packages/torch/utils/data/dataloader.py:617: UserWarning: This DataLoader will create 4 worker processes in total. Our suggested max number of worker in current system is 2, which is smaller than what this DataLoader is going to create. Please be aware that excessive worker creation might get DataLoader running slow or even freeze, lower the worker number to avoid potential slowness/freeze if necessary.\n",
            "  warnings.warn(\n"
          ]
        },
        {
          "output_type": "stream",
          "name": "stdout",
          "text": [
            "Epoch: 91 batch: 0 | loss: 0.0018568881787359715\n",
            "Epoch: 91 batch: 10 | loss: 0.001216597156599164\n",
            "Epoch: 91 batch: 20 | loss: 0.0013779300497844815\n",
            "Epoch: 91 batch: 30 | loss: 0.0010307132033631206\n",
            "Epoch: 91 batch: 40 | loss: 0.0018879144918173552\n",
            "Epoch: 91 batch: 50 | loss: 0.0018864204175770283\n",
            "Epoch: 91 batch: 60 | loss: 0.0011995274107903242\n",
            "Epoch: 91 batch: 70 | loss: 0.001459660124965012\n",
            "Epoch: 91 batch: 80 | loss: 0.0008597634150646627\n",
            "Epoch: 91 batch: 90 | loss: 0.0010032799327746034\n",
            "Epoch: 91 batch: 100 | loss: 0.0007868512184359133\n",
            "Epoch: 91 batch: 110 | loss: 0.0014460118254646659\n",
            "Epoch: 91 valLoss: 0.0009558780693990626\n"
          ]
        },
        {
          "output_type": "stream",
          "name": "stderr",
          "text": [
            "/usr/local/lib/python3.10/dist-packages/torch/utils/data/dataloader.py:617: UserWarning: This DataLoader will create 4 worker processes in total. Our suggested max number of worker in current system is 2, which is smaller than what this DataLoader is going to create. Please be aware that excessive worker creation might get DataLoader running slow or even freeze, lower the worker number to avoid potential slowness/freeze if necessary.\n",
            "  warnings.warn(\n"
          ]
        },
        {
          "output_type": "stream",
          "name": "stdout",
          "text": [
            "Epoch: 92 batch: 0 | loss: 0.0017902831314131618\n",
            "Epoch: 92 batch: 10 | loss: 0.001368294470012188\n",
            "Epoch: 92 batch: 20 | loss: 0.0016212218906730413\n",
            "Epoch: 92 batch: 30 | loss: 0.0012559714959934354\n",
            "Epoch: 92 batch: 40 | loss: 0.001586956437677145\n",
            "Epoch: 92 batch: 50 | loss: 0.001404966926202178\n",
            "Epoch: 92 batch: 60 | loss: 0.0011888707522302866\n",
            "Epoch: 92 batch: 70 | loss: 0.001627931953407824\n",
            "Epoch: 92 batch: 80 | loss: 0.0007982772658579051\n",
            "Epoch: 92 batch: 90 | loss: 0.0011734985746443272\n",
            "Epoch: 92 batch: 100 | loss: 0.0009360009571537375\n",
            "Epoch: 92 batch: 110 | loss: 0.001151081989519298\n",
            "Epoch: 92 valLoss: 0.0009376985086428892\n"
          ]
        },
        {
          "output_type": "stream",
          "name": "stderr",
          "text": [
            "/usr/local/lib/python3.10/dist-packages/torch/utils/data/dataloader.py:617: UserWarning: This DataLoader will create 4 worker processes in total. Our suggested max number of worker in current system is 2, which is smaller than what this DataLoader is going to create. Please be aware that excessive worker creation might get DataLoader running slow or even freeze, lower the worker number to avoid potential slowness/freeze if necessary.\n",
            "  warnings.warn(\n"
          ]
        },
        {
          "output_type": "stream",
          "name": "stdout",
          "text": [
            "Epoch: 93 batch: 0 | loss: 0.0018652365542948246\n",
            "Epoch: 93 batch: 10 | loss: 0.001117849606089294\n",
            "Epoch: 93 batch: 20 | loss: 0.001362456358037889\n",
            "Epoch: 93 batch: 30 | loss: 0.0013153955806046724\n",
            "Epoch: 93 batch: 40 | loss: 0.001585087738931179\n",
            "Epoch: 93 batch: 50 | loss: 0.0015841217245906591\n",
            "Epoch: 93 batch: 60 | loss: 0.0016020741313695908\n",
            "Epoch: 93 batch: 70 | loss: 0.0012979168677702546\n",
            "Epoch: 93 batch: 80 | loss: 0.0008753118454478681\n",
            "Epoch: 93 batch: 90 | loss: 0.0012777140364050865\n",
            "Epoch: 93 batch: 100 | loss: 0.0012151194969192147\n",
            "Epoch: 93 batch: 110 | loss: 0.001511802664026618\n",
            "Epoch: 93 valLoss: 0.000960346831210515\n"
          ]
        },
        {
          "output_type": "stream",
          "name": "stderr",
          "text": [
            "/usr/local/lib/python3.10/dist-packages/torch/utils/data/dataloader.py:617: UserWarning: This DataLoader will create 4 worker processes in total. Our suggested max number of worker in current system is 2, which is smaller than what this DataLoader is going to create. Please be aware that excessive worker creation might get DataLoader running slow or even freeze, lower the worker number to avoid potential slowness/freeze if necessary.\n",
            "  warnings.warn(\n"
          ]
        },
        {
          "output_type": "stream",
          "name": "stdout",
          "text": [
            "Epoch: 94 batch: 0 | loss: 0.0017626537010073662\n",
            "Epoch: 94 batch: 10 | loss: 0.0011958195827901363\n",
            "Epoch: 94 batch: 20 | loss: 0.0017614723183214664\n",
            "Epoch: 94 batch: 30 | loss: 0.0016198738012462854\n",
            "Epoch: 94 batch: 40 | loss: 0.001291358144953847\n",
            "Epoch: 94 batch: 50 | loss: 0.0017623748863115907\n",
            "Epoch: 94 batch: 60 | loss: 0.0013318649725988507\n",
            "Epoch: 94 batch: 70 | loss: 0.0014321052003651857\n",
            "Epoch: 94 batch: 80 | loss: 0.0011311518028378487\n",
            "Epoch: 94 batch: 90 | loss: 0.0009773317724466324\n",
            "Epoch: 94 batch: 100 | loss: 0.0007697914261370897\n",
            "Epoch: 94 batch: 110 | loss: 0.0013198568485677242\n",
            "Epoch: 94 valLoss: 0.0009190859771054358\n"
          ]
        },
        {
          "output_type": "stream",
          "name": "stderr",
          "text": [
            "/usr/local/lib/python3.10/dist-packages/torch/utils/data/dataloader.py:617: UserWarning: This DataLoader will create 4 worker processes in total. Our suggested max number of worker in current system is 2, which is smaller than what this DataLoader is going to create. Please be aware that excessive worker creation might get DataLoader running slow or even freeze, lower the worker number to avoid potential slowness/freeze if necessary.\n",
            "  warnings.warn(\n"
          ]
        },
        {
          "output_type": "stream",
          "name": "stdout",
          "text": [
            "Epoch: 95 batch: 0 | loss: 0.0018143969355151057\n",
            "Epoch: 95 batch: 10 | loss: 0.0015320319216698408\n",
            "Epoch: 95 batch: 20 | loss: 0.0016476366436108947\n",
            "Epoch: 95 batch: 30 | loss: 0.001216109492816031\n",
            "Epoch: 95 batch: 40 | loss: 0.0015858144033700228\n",
            "Epoch: 95 batch: 50 | loss: 0.0012696259655058384\n",
            "Epoch: 95 batch: 60 | loss: 0.001464631874114275\n",
            "Epoch: 95 batch: 70 | loss: 0.0011891957838088274\n",
            "Epoch: 95 batch: 80 | loss: 0.0006932744872756302\n",
            "Epoch: 95 batch: 90 | loss: 0.0011854481417685747\n",
            "Epoch: 95 batch: 100 | loss: 0.0012856635730713606\n",
            "Epoch: 95 batch: 110 | loss: 0.001754955854266882\n",
            "Epoch: 95 valLoss: 0.0009349012390177268\n"
          ]
        },
        {
          "output_type": "stream",
          "name": "stderr",
          "text": [
            "/usr/local/lib/python3.10/dist-packages/torch/utils/data/dataloader.py:617: UserWarning: This DataLoader will create 4 worker processes in total. Our suggested max number of worker in current system is 2, which is smaller than what this DataLoader is going to create. Please be aware that excessive worker creation might get DataLoader running slow or even freeze, lower the worker number to avoid potential slowness/freeze if necessary.\n",
            "  warnings.warn(\n"
          ]
        },
        {
          "output_type": "stream",
          "name": "stdout",
          "text": [
            "Epoch: 96 batch: 0 | loss: 0.0017259306041523814\n",
            "Epoch: 96 batch: 10 | loss: 0.001106054289266467\n",
            "Epoch: 96 batch: 20 | loss: 0.0012862697476521134\n",
            "Epoch: 96 batch: 30 | loss: 0.0012182618957012892\n",
            "Epoch: 96 batch: 40 | loss: 0.0015533643309026957\n",
            "Epoch: 96 batch: 50 | loss: 0.0013451300328597426\n",
            "Epoch: 96 batch: 60 | loss: 0.0012373293284326792\n",
            "Epoch: 96 batch: 70 | loss: 0.0012267578858882189\n",
            "Epoch: 96 batch: 80 | loss: 0.0008322233334183693\n",
            "Epoch: 96 batch: 90 | loss: 0.0008941377163864672\n",
            "Epoch: 96 batch: 100 | loss: 0.0009376727975904942\n",
            "Epoch: 96 batch: 110 | loss: 0.001431120908819139\n",
            "Epoch: 96 valLoss: 0.0009420677285843953\n"
          ]
        },
        {
          "output_type": "stream",
          "name": "stderr",
          "text": [
            "/usr/local/lib/python3.10/dist-packages/torch/utils/data/dataloader.py:617: UserWarning: This DataLoader will create 4 worker processes in total. Our suggested max number of worker in current system is 2, which is smaller than what this DataLoader is going to create. Please be aware that excessive worker creation might get DataLoader running slow or even freeze, lower the worker number to avoid potential slowness/freeze if necessary.\n",
            "  warnings.warn(\n"
          ]
        },
        {
          "output_type": "stream",
          "name": "stdout",
          "text": [
            "Epoch: 97 batch: 0 | loss: 0.0015432143118232489\n",
            "Epoch: 97 batch: 10 | loss: 0.0012734945630654693\n",
            "Epoch: 97 batch: 20 | loss: 0.0022207009606063366\n",
            "Epoch: 97 batch: 30 | loss: 0.0012138455640524626\n",
            "Epoch: 97 batch: 40 | loss: 0.0016935101011767983\n",
            "Epoch: 97 batch: 50 | loss: 0.00127299630548805\n",
            "Epoch: 97 batch: 60 | loss: 0.0010633324272930622\n",
            "Epoch: 97 batch: 70 | loss: 0.0016067908145487309\n",
            "Epoch: 97 batch: 80 | loss: 0.0007492006407119334\n",
            "Epoch: 97 batch: 90 | loss: 0.0010328153148293495\n",
            "Epoch: 97 batch: 100 | loss: 0.0009648436680436134\n",
            "Epoch: 97 batch: 110 | loss: 0.0016871057450771332\n",
            "Epoch: 97 valLoss: 0.00090381912391052\n"
          ]
        },
        {
          "output_type": "stream",
          "name": "stderr",
          "text": [
            "/usr/local/lib/python3.10/dist-packages/torch/utils/data/dataloader.py:617: UserWarning: This DataLoader will create 4 worker processes in total. Our suggested max number of worker in current system is 2, which is smaller than what this DataLoader is going to create. Please be aware that excessive worker creation might get DataLoader running slow or even freeze, lower the worker number to avoid potential slowness/freeze if necessary.\n",
            "  warnings.warn(\n"
          ]
        },
        {
          "output_type": "stream",
          "name": "stdout",
          "text": [
            "Epoch: 98 batch: 0 | loss: 0.001506510190665722\n",
            "Epoch: 98 batch: 10 | loss: 0.0011149884667247534\n",
            "Epoch: 98 batch: 20 | loss: 0.0016225313302129507\n",
            "Epoch: 98 batch: 30 | loss: 0.0014431921299546957\n",
            "Epoch: 98 batch: 40 | loss: 0.0014316935557872057\n",
            "Epoch: 98 batch: 50 | loss: 0.0014400739455595613\n",
            "Epoch: 98 batch: 60 | loss: 0.0014216317795217037\n",
            "Epoch: 98 batch: 70 | loss: 0.0013876751763746142\n",
            "Epoch: 98 batch: 80 | loss: 0.0007618777453899384\n",
            "Epoch: 98 batch: 90 | loss: 0.0007030534325167537\n",
            "Epoch: 98 batch: 100 | loss: 0.0012310284655541182\n",
            "Epoch: 98 batch: 110 | loss: 0.0012127368245273829\n",
            "Epoch: 98 valLoss: 0.0009124812805595061\n"
          ]
        },
        {
          "output_type": "stream",
          "name": "stderr",
          "text": [
            "/usr/local/lib/python3.10/dist-packages/torch/utils/data/dataloader.py:617: UserWarning: This DataLoader will create 4 worker processes in total. Our suggested max number of worker in current system is 2, which is smaller than what this DataLoader is going to create. Please be aware that excessive worker creation might get DataLoader running slow or even freeze, lower the worker number to avoid potential slowness/freeze if necessary.\n",
            "  warnings.warn(\n"
          ]
        },
        {
          "output_type": "stream",
          "name": "stdout",
          "text": [
            "Epoch: 99 batch: 0 | loss: 0.001736530801281333\n",
            "Epoch: 99 batch: 10 | loss: 0.0012271835003048182\n",
            "Epoch: 99 batch: 20 | loss: 0.0014119718689471483\n",
            "Epoch: 99 batch: 30 | loss: 0.0010786388302221894\n",
            "Epoch: 99 batch: 40 | loss: 0.001690093195065856\n",
            "Epoch: 99 batch: 50 | loss: 0.0012631810968741775\n",
            "Epoch: 99 batch: 60 | loss: 0.0010110039729624987\n",
            "Epoch: 99 batch: 70 | loss: 0.0013349377550184727\n",
            "Epoch: 99 batch: 80 | loss: 0.000819553155452013\n",
            "Epoch: 99 batch: 90 | loss: 0.0009685533004812896\n",
            "Epoch: 99 batch: 100 | loss: 0.0010916544124484062\n",
            "Epoch: 99 batch: 110 | loss: 0.0012588894460350275\n",
            "Epoch: 99 valLoss: 0.0009242772268724295\n"
          ]
        },
        {
          "output_type": "display_data",
          "data": {
            "text/plain": [
              "<Figure size 1000x500 with 1 Axes>"
            ],
            "image/png": "[encoded data removed]"
          },
          "metadata": {}
        },
        {
          "output_type": "stream",
          "name": "stdout",
          "text": [
            "Testing...\n",
            "r2Score:  -1.1881539582219363\n",
            "meanSquaredError:  0.05106131343696969\n",
            "RMSE:  0.22596750526783643\n",
            "meanAbsoluteError:  0.1877942617184699\n"
          ]
        },
        {
          "output_type": "display_data",
          "data": {
            "text/plain": [
              "<Figure size 1200x300 with 1 Axes>"
            ],
            "image/png": "[encoded data removed]"
          },
          "metadata": {}
        }
      ]
    },
    {
      "cell_type": "code",
      "source": [
        "import torch\n",
        "from torch.utils.data import DataLoader\n",
        "from config import Config\n",
        "\n",
        "from utils.datatool_autoreg import mydataReader, custom_dataset\n",
        "from utils.model_autoreg import CNNBiLSTM\n",
        "from utils.trainer_autoreg import CNNBiLstm_evaluate, CNNBiLstmtrain\n",
        "\n",
        "if __name__ == '__main__':\n",
        "    config = Config()\n",
        "\n",
        "    print(\"Data loading...\")\n",
        "    dataset = mydataReader(\"./dataProcessed/procan.csv\")\n",
        "\n",
        "    (train_X, train_Y), (val_X, val_Y), (test_X, test_Y) = dataset.split(lookback=config.lookback, trainSet_ratio=0.833, valSet_ratio=0.08)\n",
        "\n",
        "    trainSet = custom_dataset(train_X, train_Y)\n",
        "    valSet = custom_dataset(val_X, val_Y)\n",
        "\n",
        "    train_loader = DataLoader(trainSet, batch_size=config.batch_size,\n",
        "                              shuffle=False, pin_memory=True, num_workers=4, drop_last=True)\n",
        "    val_loader = DataLoader(valSet, batch_size=config.batch_size,\n",
        "                            shuffle=False, pin_memory=True, num_workers=4, drop_last=False)\n",
        "\n",
        "    print(\"Model loading...\")\n",
        "    model = CNNBiLSTM(hidden_size=24, num_layers=4).to(config.device)\n",
        "    criterion = torch.nn.MSELoss()\n",
        "    optimizer = torch.optim.AdamW(model.parameters(),\n",
        "                                  lr=config.learning_rate, weight_decay=config.weight_decay)\n",
        "    print(f\"Configuration Parameters:\")\n",
        "    print(f\" - Batch size: {config.batch_size}\")\n",
        "    print(f\" - Lookback: {config.lookback}\")\n",
        "    print(f\" - Epochs: {config.epoch_size}\")\n",
        "    print(f\" - Learning rate: {config.learning_rate}\")\n",
        "    print(f\" - Weight decay: {config.weight_decay}\")\n",
        "\n",
        "    print(\"Training...\")\n",
        "    model = CNNBiLstmtrain(model,\n",
        "                           trainloader=train_loader,\n",
        "                           valloader=val_loader,\n",
        "                           criterion=criterion,\n",
        "                           optimizer=optimizer,\n",
        "                           config=config)\n",
        "\n",
        "    print(\"Testing...\")\n",
        "    initial_sequence = test_X[0]\n",
        "\n",
        "    y_pred, y_true = CNNBiLstm_evaluate(model, initial_sequence, test_Y, config)"
      ],
      "metadata": {
        "colab": {
          "base_uri": "https://localhost:8080/",
          "height": 1000
        },
        "id": "w7FiJjyU_XZR",
        "outputId": "fbf48762-7d8a-4cf2-a4cf-a5fc018d663c"
      },
      "execution_count": null,
      "outputs": [
        {
          "output_type": "stream",
          "name": "stdout",
          "text": [
            "Data loading...\n"
          ]
        },
        {
          "output_type": "stream",
          "name": "stderr",
          "text": [
            "100%|██████████| 8712/8712 [00:00<00:00, 365433.34it/s]"
          ]
        },
        {
          "output_type": "stream",
          "name": "stdout",
          "text": [
            "测试集大小为759\n",
            "Model loading...\n"
          ]
        },
        {
          "output_type": "stream",
          "name": "stderr",
          "text": [
            "\n",
            "/usr/local/lib/python3.10/dist-packages/torch/utils/data/dataloader.py:617: UserWarning: This DataLoader will create 4 worker processes in total. Our suggested max number of worker in current system is 2, which is smaller than what this DataLoader is going to create. Please be aware that excessive worker creation might get DataLoader running slow or even freeze, lower the worker number to avoid potential slowness/freeze if necessary.\n",
            "  warnings.warn(\n"
          ]
        },
        {
          "output_type": "stream",
          "name": "stdout",
          "text": [
            "Configuration Parameters:\n",
            " - Batch size: 64\n",
            " - Lookback: 48\n",
            " - Epochs: 100\n",
            " - Learning rate: 0.001\n",
            " - Weight decay: 1e-05\n",
            "Training...\n"
          ]
        },
        {
          "output_type": "stream",
          "name": "stderr",
          "text": [
            "/usr/local/lib/python3.10/dist-packages/torch/utils/data/dataloader.py:617: UserWarning: This DataLoader will create 4 worker processes in total. Our suggested max number of worker in current system is 2, which is smaller than what this DataLoader is going to create. Please be aware that excessive worker creation might get DataLoader running slow or even freeze, lower the worker number to avoid potential slowness/freeze if necessary.\n",
            "  warnings.warn(\n"
          ]
        },
        {
          "output_type": "stream",
          "name": "stdout",
          "text": [
            "Epoch: 0 batch: 0 | loss: 0.07697251439094543\n",
            "Epoch: 0 batch: 10 | loss: 0.04585012048482895\n",
            "Epoch: 0 batch: 20 | loss: 0.06750626116991043\n",
            "Epoch: 0 batch: 30 | loss: 0.057919323444366455\n",
            "Epoch: 0 batch: 40 | loss: 0.01569155976176262\n",
            "Epoch: 0 batch: 50 | loss: 0.017182793468236923\n",
            "Epoch: 0 batch: 60 | loss: 0.03120284155011177\n",
            "Epoch: 0 batch: 70 | loss: 0.04201636463403702\n",
            "Epoch: 0 batch: 80 | loss: 0.027174459770321846\n",
            "Epoch: 0 batch: 90 | loss: 0.015895772725343704\n",
            "Epoch: 0 batch: 100 | loss: 0.011770563200116158\n",
            "Epoch: 0 batch: 110 | loss: 0.026620589196681976\n",
            "Epoch: 0 valLoss: 0.02356636369099418\n"
          ]
        },
        {
          "output_type": "stream",
          "name": "stderr",
          "text": [
            "/usr/local/lib/python3.10/dist-packages/torch/utils/data/dataloader.py:617: UserWarning: This DataLoader will create 4 worker processes in total. Our suggested max number of worker in current system is 2, which is smaller than what this DataLoader is going to create. Please be aware that excessive worker creation might get DataLoader running slow or even freeze, lower the worker number to avoid potential slowness/freeze if necessary.\n",
            "  warnings.warn(\n"
          ]
        },
        {
          "output_type": "stream",
          "name": "stdout",
          "text": [
            "Epoch: 1 batch: 0 | loss: 0.01529897004365921\n",
            "Epoch: 1 batch: 10 | loss: 0.035388242453336716\n",
            "Epoch: 1 batch: 20 | loss: 0.05060058459639549\n",
            "Epoch: 1 batch: 30 | loss: 0.05060398206114769\n",
            "Epoch: 1 batch: 40 | loss: 0.01609724387526512\n",
            "Epoch: 1 batch: 50 | loss: 0.01846744492650032\n",
            "Epoch: 1 batch: 60 | loss: 0.03236700966954231\n",
            "Epoch: 1 batch: 70 | loss: 0.03929387405514717\n",
            "Epoch: 1 batch: 80 | loss: 0.026887282729148865\n",
            "Epoch: 1 batch: 90 | loss: 0.015206392854452133\n",
            "Epoch: 1 batch: 100 | loss: 0.011609543114900589\n",
            "Epoch: 1 batch: 110 | loss: 0.02655278518795967\n",
            "Epoch: 1 valLoss: 0.023445212171500075\n"
          ]
        },
        {
          "output_type": "stream",
          "name": "stderr",
          "text": [
            "/usr/local/lib/python3.10/dist-packages/torch/utils/data/dataloader.py:617: UserWarning: This DataLoader will create 4 worker processes in total. Our suggested max number of worker in current system is 2, which is smaller than what this DataLoader is going to create. Please be aware that excessive worker creation might get DataLoader running slow or even freeze, lower the worker number to avoid potential slowness/freeze if necessary.\n",
            "  warnings.warn(\n"
          ]
        },
        {
          "output_type": "stream",
          "name": "stdout",
          "text": [
            "Epoch: 2 batch: 0 | loss: 0.015651840716600418\n",
            "Epoch: 2 batch: 10 | loss: 0.03541843593120575\n",
            "Epoch: 2 batch: 20 | loss: 0.049972545355558395\n",
            "Epoch: 2 batch: 30 | loss: 0.05052405968308449\n",
            "Epoch: 2 batch: 40 | loss: 0.016304517164826393\n",
            "Epoch: 2 batch: 50 | loss: 0.018307344987988472\n",
            "Epoch: 2 batch: 60 | loss: 0.03198422119021416\n",
            "Epoch: 2 batch: 70 | loss: 0.04015917703509331\n",
            "Epoch: 2 batch: 80 | loss: 0.027551081031560898\n",
            "Epoch: 2 batch: 90 | loss: 0.015659676864743233\n",
            "Epoch: 2 batch: 100 | loss: 0.010999701917171478\n",
            "Epoch: 2 batch: 110 | loss: 0.026905817911028862\n",
            "Epoch: 2 valLoss: 0.023424816949271392\n"
          ]
        },
        {
          "output_type": "stream",
          "name": "stderr",
          "text": [
            "/usr/local/lib/python3.10/dist-packages/torch/utils/data/dataloader.py:617: UserWarning: This DataLoader will create 4 worker processes in total. Our suggested max number of worker in current system is 2, which is smaller than what this DataLoader is going to create. Please be aware that excessive worker creation might get DataLoader running slow or even freeze, lower the worker number to avoid potential slowness/freeze if necessary.\n",
            "  warnings.warn(\n"
          ]
        },
        {
          "output_type": "stream",
          "name": "stdout",
          "text": [
            "Epoch: 3 batch: 0 | loss: 0.016171688213944435\n",
            "Epoch: 3 batch: 10 | loss: 0.03498807176947594\n",
            "Epoch: 3 batch: 20 | loss: 0.05143178254365921\n",
            "Epoch: 3 batch: 30 | loss: 0.04938160255551338\n",
            "Epoch: 3 batch: 40 | loss: 0.015613816678524017\n",
            "Epoch: 3 batch: 50 | loss: 0.017820490524172783\n",
            "Epoch: 3 batch: 60 | loss: 0.03135383874177933\n",
            "Epoch: 3 batch: 70 | loss: 0.03816032409667969\n",
            "Epoch: 3 batch: 80 | loss: 0.026967031881213188\n",
            "Epoch: 3 batch: 90 | loss: 0.014611735008656979\n",
            "Epoch: 3 batch: 100 | loss: 0.00994801428169012\n",
            "Epoch: 3 batch: 110 | loss: 0.02509201690554619\n",
            "Epoch: 3 valLoss: 0.02008925289884553\n"
          ]
        },
        {
          "output_type": "stream",
          "name": "stderr",
          "text": [
            "/usr/local/lib/python3.10/dist-packages/torch/utils/data/dataloader.py:617: UserWarning: This DataLoader will create 4 worker processes in total. Our suggested max number of worker in current system is 2, which is smaller than what this DataLoader is going to create. Please be aware that excessive worker creation might get DataLoader running slow or even freeze, lower the worker number to avoid potential slowness/freeze if necessary.\n",
            "  warnings.warn(\n"
          ]
        },
        {
          "output_type": "stream",
          "name": "stdout",
          "text": [
            "Epoch: 4 batch: 0 | loss: 0.014089129865169525\n",
            "Epoch: 4 batch: 10 | loss: 0.02942466363310814\n",
            "Epoch: 4 batch: 20 | loss: 0.03868310898542404\n",
            "Epoch: 4 batch: 30 | loss: 0.039365701377391815\n",
            "Epoch: 4 batch: 40 | loss: 0.01147480495274067\n",
            "Epoch: 4 batch: 50 | loss: 0.009099004790186882\n",
            "Epoch: 4 batch: 60 | loss: 0.016176017001271248\n",
            "Epoch: 4 batch: 70 | loss: 0.023371167480945587\n",
            "Epoch: 4 batch: 80 | loss: 0.018546760082244873\n",
            "Epoch: 4 batch: 90 | loss: 0.007728127762675285\n",
            "Epoch: 4 batch: 100 | loss: 0.005548479035496712\n",
            "Epoch: 4 batch: 110 | loss: 0.014172157272696495\n",
            "Epoch: 4 valLoss: 0.01219691167052063\n"
          ]
        },
        {
          "output_type": "stream",
          "name": "stderr",
          "text": [
            "/usr/local/lib/python3.10/dist-packages/torch/utils/data/dataloader.py:617: UserWarning: This DataLoader will create 4 worker processes in total. Our suggested max number of worker in current system is 2, which is smaller than what this DataLoader is going to create. Please be aware that excessive worker creation might get DataLoader running slow or even freeze, lower the worker number to avoid potential slowness/freeze if necessary.\n",
            "  warnings.warn(\n"
          ]
        },
        {
          "output_type": "stream",
          "name": "stdout",
          "text": [
            "Epoch: 5 batch: 0 | loss: 0.008344258181750774\n",
            "Epoch: 5 batch: 10 | loss: 0.019854005426168442\n",
            "Epoch: 5 batch: 20 | loss: 0.027887899428606033\n",
            "Epoch: 5 batch: 30 | loss: 0.021428924053907394\n",
            "Epoch: 5 batch: 40 | loss: 0.009219104424118996\n",
            "Epoch: 5 batch: 50 | loss: 0.006660436280071735\n",
            "Epoch: 5 batch: 60 | loss: 0.011762511916458607\n",
            "Epoch: 5 batch: 70 | loss: 0.014365232549607754\n",
            "Epoch: 5 batch: 80 | loss: 0.010291973128914833\n",
            "Epoch: 5 batch: 90 | loss: 0.0045942459255456924\n",
            "Epoch: 5 batch: 100 | loss: 0.005647473037242889\n",
            "Epoch: 5 batch: 110 | loss: 0.005103979259729385\n",
            "Epoch: 5 valLoss: 0.003024917852158124\n"
          ]
        },
        {
          "output_type": "stream",
          "name": "stderr",
          "text": [
            "/usr/local/lib/python3.10/dist-packages/torch/utils/data/dataloader.py:617: UserWarning: This DataLoader will create 4 worker processes in total. Our suggested max number of worker in current system is 2, which is smaller than what this DataLoader is going to create. Please be aware that excessive worker creation might get DataLoader running slow or even freeze, lower the worker number to avoid potential slowness/freeze if necessary.\n",
            "  warnings.warn(\n"
          ]
        },
        {
          "output_type": "stream",
          "name": "stdout",
          "text": [
            "Epoch: 6 batch: 0 | loss: 0.004792326129972935\n",
            "Epoch: 6 batch: 10 | loss: 0.006165136583149433\n",
            "Epoch: 6 batch: 20 | loss: 0.006338082253932953\n",
            "Epoch: 6 batch: 30 | loss: 0.008026010356843472\n",
            "Epoch: 6 batch: 40 | loss: 0.005755450576543808\n",
            "Epoch: 6 batch: 50 | loss: 0.002619728911668062\n",
            "Epoch: 6 batch: 60 | loss: 0.0042749494314193726\n",
            "Epoch: 6 batch: 70 | loss: 0.005749007221311331\n",
            "Epoch: 6 batch: 80 | loss: 0.0034863168839365244\n",
            "Epoch: 6 batch: 90 | loss: 0.0027067603077739477\n",
            "Epoch: 6 batch: 100 | loss: 0.002996408613398671\n",
            "Epoch: 6 batch: 110 | loss: 0.003413074417039752\n",
            "Epoch: 6 valLoss: 0.0017882943871423067\n"
          ]
        },
        {
          "output_type": "stream",
          "name": "stderr",
          "text": [
            "/usr/local/lib/python3.10/dist-packages/torch/utils/data/dataloader.py:617: UserWarning: This DataLoader will create 4 worker processes in total. Our suggested max number of worker in current system is 2, which is smaller than what this DataLoader is going to create. Please be aware that excessive worker creation might get DataLoader running slow or even freeze, lower the worker number to avoid potential slowness/freeze if necessary.\n",
            "  warnings.warn(\n"
          ]
        },
        {
          "output_type": "stream",
          "name": "stdout",
          "text": [
            "Epoch: 7 batch: 0 | loss: 0.004550529178231955\n",
            "Epoch: 7 batch: 10 | loss: 0.003610586980357766\n",
            "Epoch: 7 batch: 20 | loss: 0.005578756332397461\n",
            "Epoch: 7 batch: 30 | loss: 0.0048036109656095505\n",
            "Epoch: 7 batch: 40 | loss: 0.003447778755798936\n",
            "Epoch: 7 batch: 50 | loss: 0.003155916929244995\n",
            "Epoch: 7 batch: 60 | loss: 0.0039032544009387493\n",
            "Epoch: 7 batch: 70 | loss: 0.0033929264172911644\n",
            "Epoch: 7 batch: 80 | loss: 0.002770785242319107\n",
            "Epoch: 7 batch: 90 | loss: 0.002828959608450532\n",
            "Epoch: 7 batch: 100 | loss: 0.0027338468935340643\n",
            "Epoch: 7 batch: 110 | loss: 0.00293321767821908\n",
            "Epoch: 7 valLoss: 0.0015541036413061903\n"
          ]
        },
        {
          "output_type": "stream",
          "name": "stderr",
          "text": [
            "/usr/local/lib/python3.10/dist-packages/torch/utils/data/dataloader.py:617: UserWarning: This DataLoader will create 4 worker processes in total. Our suggested max number of worker in current system is 2, which is smaller than what this DataLoader is going to create. Please be aware that excessive worker creation might get DataLoader running slow or even freeze, lower the worker number to avoid potential slowness/freeze if necessary.\n",
            "  warnings.warn(\n"
          ]
        },
        {
          "output_type": "stream",
          "name": "stdout",
          "text": [
            "Epoch: 8 batch: 0 | loss: 0.0039409371092915535\n",
            "Epoch: 8 batch: 10 | loss: 0.0026792865246534348\n",
            "Epoch: 8 batch: 20 | loss: 0.004092868883162737\n",
            "Epoch: 8 batch: 30 | loss: 0.005024475511163473\n",
            "Epoch: 8 batch: 40 | loss: 0.00381770939566195\n",
            "Epoch: 8 batch: 50 | loss: 0.0027098357677459717\n",
            "Epoch: 8 batch: 60 | loss: 0.003947976976633072\n",
            "Epoch: 8 batch: 70 | loss: 0.003916603047400713\n",
            "Epoch: 8 batch: 80 | loss: 0.002113843336701393\n",
            "Epoch: 8 batch: 90 | loss: 0.0019270956981927156\n",
            "Epoch: 8 batch: 100 | loss: 0.0028048227541148663\n",
            "Epoch: 8 batch: 110 | loss: 0.0019641760736703873\n",
            "Epoch: 8 valLoss: 0.0016504682453527817\n"
          ]
        },
        {
          "output_type": "stream",
          "name": "stderr",
          "text": [
            "/usr/local/lib/python3.10/dist-packages/torch/utils/data/dataloader.py:617: UserWarning: This DataLoader will create 4 worker processes in total. Our suggested max number of worker in current system is 2, which is smaller than what this DataLoader is going to create. Please be aware that excessive worker creation might get DataLoader running slow or even freeze, lower the worker number to avoid potential slowness/freeze if necessary.\n",
            "  warnings.warn(\n"
          ]
        },
        {
          "output_type": "stream",
          "name": "stdout",
          "text": [
            "Epoch: 9 batch: 0 | loss: 0.003858113195747137\n",
            "Epoch: 9 batch: 10 | loss: 0.0033262434881180525\n",
            "Epoch: 9 batch: 20 | loss: 0.003061569994315505\n",
            "Epoch: 9 batch: 30 | loss: 0.006238272879272699\n",
            "Epoch: 9 batch: 40 | loss: 0.004704250022768974\n",
            "Epoch: 9 batch: 50 | loss: 0.0029505472630262375\n",
            "Epoch: 9 batch: 60 | loss: 0.002563826972618699\n",
            "Epoch: 9 batch: 70 | loss: 0.003462720662355423\n",
            "Epoch: 9 batch: 80 | loss: 0.001984185306355357\n",
            "Epoch: 9 batch: 90 | loss: 0.001556367496959865\n",
            "Epoch: 9 batch: 100 | loss: 0.0023428567219525576\n",
            "Epoch: 9 batch: 110 | loss: 0.0016019762260839343\n",
            "Epoch: 9 valLoss: 0.0013463885463042445\n"
          ]
        },
        {
          "output_type": "stream",
          "name": "stderr",
          "text": [
            "/usr/local/lib/python3.10/dist-packages/torch/utils/data/dataloader.py:617: UserWarning: This DataLoader will create 4 worker processes in total. Our suggested max number of worker in current system is 2, which is smaller than what this DataLoader is going to create. Please be aware that excessive worker creation might get DataLoader running slow or even freeze, lower the worker number to avoid potential slowness/freeze if necessary.\n",
            "  warnings.warn(\n"
          ]
        },
        {
          "output_type": "stream",
          "name": "stdout",
          "text": [
            "Epoch: 10 batch: 0 | loss: 0.0031792072113603354\n",
            "Epoch: 10 batch: 10 | loss: 0.0029328609816730022\n",
            "Epoch: 10 batch: 20 | loss: 0.00351928872987628\n",
            "Epoch: 10 batch: 30 | loss: 0.00454770028591156\n",
            "Epoch: 10 batch: 40 | loss: 0.003455397440120578\n",
            "Epoch: 10 batch: 50 | loss: 0.0027879069093614817\n",
            "Epoch: 10 batch: 60 | loss: 0.0026243741158396006\n",
            "Epoch: 10 batch: 70 | loss: 0.0038012585137039423\n",
            "Epoch: 10 batch: 80 | loss: 0.0024473867379128933\n",
            "Epoch: 10 batch: 90 | loss: 0.0018943916074931622\n",
            "Epoch: 10 batch: 100 | loss: 0.0021884532179683447\n",
            "Epoch: 10 batch: 110 | loss: 0.0023482327815145254\n",
            "Epoch: 10 valLoss: 0.0013309891369670352\n"
          ]
        },
        {
          "output_type": "stream",
          "name": "stderr",
          "text": [
            "/usr/local/lib/python3.10/dist-packages/torch/utils/data/dataloader.py:617: UserWarning: This DataLoader will create 4 worker processes in total. Our suggested max number of worker in current system is 2, which is smaller than what this DataLoader is going to create. Please be aware that excessive worker creation might get DataLoader running slow or even freeze, lower the worker number to avoid potential slowness/freeze if necessary.\n",
            "  warnings.warn(\n"
          ]
        },
        {
          "output_type": "stream",
          "name": "stdout",
          "text": [
            "Epoch: 11 batch: 0 | loss: 0.003278127172961831\n",
            "Epoch: 11 batch: 10 | loss: 0.0021905507892370224\n",
            "Epoch: 11 batch: 20 | loss: 0.0027044378221035004\n",
            "Epoch: 11 batch: 30 | loss: 0.003751593641936779\n",
            "Epoch: 11 batch: 40 | loss: 0.002567059127613902\n",
            "Epoch: 11 batch: 50 | loss: 0.0025198052171617746\n",
            "Epoch: 11 batch: 60 | loss: 0.0020364767406135798\n",
            "Epoch: 11 batch: 70 | loss: 0.0035779960453510284\n",
            "Epoch: 11 batch: 80 | loss: 0.0018608280224725604\n",
            "Epoch: 11 batch: 90 | loss: 0.0014616380212828517\n",
            "Epoch: 11 batch: 100 | loss: 0.0020595768000930548\n",
            "Epoch: 11 batch: 110 | loss: 0.0017993174260482192\n",
            "Epoch: 11 valLoss: 0.001342356417864727\n"
          ]
        },
        {
          "output_type": "stream",
          "name": "stderr",
          "text": [
            "/usr/local/lib/python3.10/dist-packages/torch/utils/data/dataloader.py:617: UserWarning: This DataLoader will create 4 worker processes in total. Our suggested max number of worker in current system is 2, which is smaller than what this DataLoader is going to create. Please be aware that excessive worker creation might get DataLoader running slow or even freeze, lower the worker number to avoid potential slowness/freeze if necessary.\n",
            "  warnings.warn(\n"
          ]
        },
        {
          "output_type": "stream",
          "name": "stdout",
          "text": [
            "Epoch: 12 batch: 0 | loss: 0.002900121733546257\n",
            "Epoch: 12 batch: 10 | loss: 0.0023029185831546783\n",
            "Epoch: 12 batch: 20 | loss: 0.0023208358325064182\n",
            "Epoch: 12 batch: 30 | loss: 0.003969836514443159\n",
            "Epoch: 12 batch: 40 | loss: 0.0037949990946799517\n",
            "Epoch: 12 batch: 50 | loss: 0.0018918380374088883\n",
            "Epoch: 12 batch: 60 | loss: 0.0018342811381444335\n",
            "Epoch: 12 batch: 70 | loss: 0.002581150969490409\n",
            "Epoch: 12 batch: 80 | loss: 0.001806661719456315\n",
            "Epoch: 12 batch: 90 | loss: 0.0013873660936951637\n",
            "Epoch: 12 batch: 100 | loss: 0.0021239593625068665\n",
            "Epoch: 12 batch: 110 | loss: 0.0016672321362420917\n",
            "Epoch: 12 valLoss: 0.0010909255415080422\n"
          ]
        },
        {
          "output_type": "stream",
          "name": "stderr",
          "text": [
            "/usr/local/lib/python3.10/dist-packages/torch/utils/data/dataloader.py:617: UserWarning: This DataLoader will create 4 worker processes in total. Our suggested max number of worker in current system is 2, which is smaller than what this DataLoader is going to create. Please be aware that excessive worker creation might get DataLoader running slow or even freeze, lower the worker number to avoid potential slowness/freeze if necessary.\n",
            "  warnings.warn(\n"
          ]
        },
        {
          "output_type": "stream",
          "name": "stdout",
          "text": [
            "Epoch: 13 batch: 0 | loss: 0.002316415775567293\n",
            "Epoch: 13 batch: 10 | loss: 0.0014589551137760282\n",
            "Epoch: 13 batch: 20 | loss: 0.003043234348297119\n",
            "Epoch: 13 batch: 30 | loss: 0.004718889947980642\n",
            "Epoch: 13 batch: 40 | loss: 0.00368709210306406\n",
            "Epoch: 13 batch: 50 | loss: 0.002133023226633668\n",
            "Epoch: 13 batch: 60 | loss: 0.0024214175064116716\n",
            "Epoch: 13 batch: 70 | loss: 0.0034922370687127113\n",
            "Epoch: 13 batch: 80 | loss: 0.001216727658174932\n",
            "Epoch: 13 batch: 90 | loss: 0.0012567779049277306\n",
            "Epoch: 13 batch: 100 | loss: 0.0018203145591542125\n",
            "Epoch: 13 batch: 110 | loss: 0.0017324844375252724\n",
            "Epoch: 13 valLoss: 0.001270562111592276\n"
          ]
        },
        {
          "output_type": "stream",
          "name": "stderr",
          "text": [
            "/usr/local/lib/python3.10/dist-packages/torch/utils/data/dataloader.py:617: UserWarning: This DataLoader will create 4 worker processes in total. Our suggested max number of worker in current system is 2, which is smaller than what this DataLoader is going to create. Please be aware that excessive worker creation might get DataLoader running slow or even freeze, lower the worker number to avoid potential slowness/freeze if necessary.\n",
            "  warnings.warn(\n"
          ]
        },
        {
          "output_type": "stream",
          "name": "stdout",
          "text": [
            "Epoch: 14 batch: 0 | loss: 0.003125456627458334\n",
            "Epoch: 14 batch: 10 | loss: 0.0024575479328632355\n",
            "Epoch: 14 batch: 20 | loss: 0.002980542369186878\n",
            "Epoch: 14 batch: 30 | loss: 0.004366750363260508\n",
            "Epoch: 14 batch: 40 | loss: 0.002362629631534219\n",
            "Epoch: 14 batch: 50 | loss: 0.002449417719617486\n",
            "Epoch: 14 batch: 60 | loss: 0.002593938959762454\n",
            "Epoch: 14 batch: 70 | loss: 0.0026004654355347157\n",
            "Epoch: 14 batch: 80 | loss: 0.0012563570635393262\n",
            "Epoch: 14 batch: 90 | loss: 0.0013995192712172866\n",
            "Epoch: 14 batch: 100 | loss: 0.001520743127912283\n",
            "Epoch: 14 batch: 110 | loss: 0.0015751916216686368\n",
            "Epoch: 14 valLoss: 0.001167329677939675\n"
          ]
        },
        {
          "output_type": "stream",
          "name": "stderr",
          "text": [
            "/usr/local/lib/python3.10/dist-packages/torch/utils/data/dataloader.py:617: UserWarning: This DataLoader will create 4 worker processes in total. Our suggested max number of worker in current system is 2, which is smaller than what this DataLoader is going to create. Please be aware that excessive worker creation might get DataLoader running slow or even freeze, lower the worker number to avoid potential slowness/freeze if necessary.\n",
            "  warnings.warn(\n"
          ]
        },
        {
          "output_type": "stream",
          "name": "stdout",
          "text": [
            "Epoch: 15 batch: 0 | loss: 0.0019125033868476748\n",
            "Epoch: 15 batch: 10 | loss: 0.0018999155145138502\n",
            "Epoch: 15 batch: 20 | loss: 0.0024921572767198086\n",
            "Epoch: 15 batch: 30 | loss: 0.0040031978860497475\n",
            "Epoch: 15 batch: 40 | loss: 0.003801677143201232\n",
            "Epoch: 15 batch: 50 | loss: 0.0028342490550130606\n",
            "Epoch: 15 batch: 60 | loss: 0.0033432270865887403\n",
            "Epoch: 15 batch: 70 | loss: 0.0035118451341986656\n",
            "Epoch: 15 batch: 80 | loss: 0.0022131416480988264\n",
            "Epoch: 15 batch: 90 | loss: 0.0009630916174501181\n",
            "Epoch: 15 batch: 100 | loss: 0.002154052024707198\n",
            "Epoch: 15 batch: 110 | loss: 0.0016070499550551176\n",
            "Epoch: 15 valLoss: 0.0010394601813003333\n"
          ]
        },
        {
          "output_type": "stream",
          "name": "stderr",
          "text": [
            "/usr/local/lib/python3.10/dist-packages/torch/utils/data/dataloader.py:617: UserWarning: This DataLoader will create 4 worker processes in total. Our suggested max number of worker in current system is 2, which is smaller than what this DataLoader is going to create. Please be aware that excessive worker creation might get DataLoader running slow or even freeze, lower the worker number to avoid potential slowness/freeze if necessary.\n",
            "  warnings.warn(\n"
          ]
        },
        {
          "output_type": "stream",
          "name": "stdout",
          "text": [
            "Epoch: 16 batch: 0 | loss: 0.0023597683757543564\n",
            "Epoch: 16 batch: 10 | loss: 0.0020653181709349155\n",
            "Epoch: 16 batch: 20 | loss: 0.0021191020496189594\n",
            "Epoch: 16 batch: 30 | loss: 0.003275626804679632\n",
            "Epoch: 16 batch: 40 | loss: 0.002773202722892165\n",
            "Epoch: 16 batch: 50 | loss: 0.002102143131196499\n",
            "Epoch: 16 batch: 60 | loss: 0.0017711074324324727\n",
            "Epoch: 16 batch: 70 | loss: 0.002981651807203889\n",
            "Epoch: 16 batch: 80 | loss: 0.0015652237925678492\n",
            "Epoch: 16 batch: 90 | loss: 0.0009709391742944717\n",
            "Epoch: 16 batch: 100 | loss: 0.002374707255512476\n",
            "Epoch: 16 batch: 110 | loss: 0.0017449477454647422\n",
            "Epoch: 16 valLoss: 0.0010367377221763572\n"
          ]
        },
        {
          "output_type": "stream",
          "name": "stderr",
          "text": [
            "/usr/local/lib/python3.10/dist-packages/torch/utils/data/dataloader.py:617: UserWarning: This DataLoader will create 4 worker processes in total. Our suggested max number of worker in current system is 2, which is smaller than what this DataLoader is going to create. Please be aware that excessive worker creation might get DataLoader running slow or even freeze, lower the worker number to avoid potential slowness/freeze if necessary.\n",
            "  warnings.warn(\n"
          ]
        },
        {
          "output_type": "stream",
          "name": "stdout",
          "text": [
            "Epoch: 17 batch: 0 | loss: 0.002068184083327651\n",
            "Epoch: 17 batch: 10 | loss: 0.00152787275146693\n",
            "Epoch: 17 batch: 20 | loss: 0.001996726728975773\n",
            "Epoch: 17 batch: 30 | loss: 0.004293257836252451\n",
            "Epoch: 17 batch: 40 | loss: 0.0032748186495155096\n",
            "Epoch: 17 batch: 50 | loss: 0.0025315931998193264\n",
            "Epoch: 17 batch: 60 | loss: 0.002386582549661398\n",
            "Epoch: 17 batch: 70 | loss: 0.002864775015041232\n",
            "Epoch: 17 batch: 80 | loss: 0.0013945227256044745\n",
            "Epoch: 17 batch: 90 | loss: 0.0014202927704900503\n",
            "Epoch: 17 batch: 100 | loss: 0.0020036224741488695\n",
            "Epoch: 17 batch: 110 | loss: 0.0017962544225156307\n",
            "Epoch: 17 valLoss: 0.001045342813268967\n"
          ]
        },
        {
          "output_type": "stream",
          "name": "stderr",
          "text": [
            "/usr/local/lib/python3.10/dist-packages/torch/utils/data/dataloader.py:617: UserWarning: This DataLoader will create 4 worker processes in total. Our suggested max number of worker in current system is 2, which is smaller than what this DataLoader is going to create. Please be aware that excessive worker creation might get DataLoader running slow or even freeze, lower the worker number to avoid potential slowness/freeze if necessary.\n",
            "  warnings.warn(\n"
          ]
        },
        {
          "output_type": "stream",
          "name": "stdout",
          "text": [
            "Epoch: 18 batch: 0 | loss: 0.0022928337566554546\n",
            "Epoch: 18 batch: 10 | loss: 0.001963165355846286\n",
            "Epoch: 18 batch: 20 | loss: 0.00154852494597435\n",
            "Epoch: 18 batch: 30 | loss: 0.0031498705502599478\n",
            "Epoch: 18 batch: 40 | loss: 0.0032590737100690603\n",
            "Epoch: 18 batch: 50 | loss: 0.002326913410797715\n",
            "Epoch: 18 batch: 60 | loss: 0.0017017851350829005\n",
            "Epoch: 18 batch: 70 | loss: 0.0029065718408674\n",
            "Epoch: 18 batch: 80 | loss: 0.0011675575515255332\n",
            "Epoch: 18 batch: 90 | loss: 0.0008897345396690071\n",
            "Epoch: 18 batch: 100 | loss: 0.0020379326306283474\n",
            "Epoch: 18 batch: 110 | loss: 0.0013549019349738955\n",
            "Epoch: 18 valLoss: 0.001117895667598057\n"
          ]
        },
        {
          "output_type": "stream",
          "name": "stderr",
          "text": [
            "/usr/local/lib/python3.10/dist-packages/torch/utils/data/dataloader.py:617: UserWarning: This DataLoader will create 4 worker processes in total. Our suggested max number of worker in current system is 2, which is smaller than what this DataLoader is going to create. Please be aware that excessive worker creation might get DataLoader running slow or even freeze, lower the worker number to avoid potential slowness/freeze if necessary.\n",
            "  warnings.warn(\n"
          ]
        },
        {
          "output_type": "stream",
          "name": "stdout",
          "text": [
            "Epoch: 19 batch: 0 | loss: 0.0026434208266437054\n",
            "Epoch: 19 batch: 10 | loss: 0.001325201359577477\n",
            "Epoch: 19 batch: 20 | loss: 0.002160211093723774\n",
            "Epoch: 19 batch: 30 | loss: 0.003153644734993577\n",
            "Epoch: 19 batch: 40 | loss: 0.003052318003028631\n",
            "Epoch: 19 batch: 50 | loss: 0.002627526642754674\n",
            "Epoch: 19 batch: 60 | loss: 0.002206995850428939\n",
            "Epoch: 19 batch: 70 | loss: 0.002766936318948865\n",
            "Epoch: 19 batch: 80 | loss: 0.0012668302515521646\n",
            "Epoch: 19 batch: 90 | loss: 0.0010833340929821134\n",
            "Epoch: 19 batch: 100 | loss: 0.001628571655601263\n",
            "Epoch: 19 batch: 110 | loss: 0.0013750590151175857\n",
            "Epoch: 19 valLoss: 0.0009888694600350921\n"
          ]
        },
        {
          "output_type": "stream",
          "name": "stderr",
          "text": [
            "/usr/local/lib/python3.10/dist-packages/torch/utils/data/dataloader.py:617: UserWarning: This DataLoader will create 4 worker processes in total. Our suggested max number of worker in current system is 2, which is smaller than what this DataLoader is going to create. Please be aware that excessive worker creation might get DataLoader running slow or even freeze, lower the worker number to avoid potential slowness/freeze if necessary.\n",
            "  warnings.warn(\n"
          ]
        },
        {
          "output_type": "stream",
          "name": "stdout",
          "text": [
            "Epoch: 20 batch: 0 | loss: 0.0019724047742784023\n",
            "Epoch: 20 batch: 10 | loss: 0.0016478030011057854\n",
            "Epoch: 20 batch: 20 | loss: 0.0018258820055052638\n",
            "Epoch: 20 batch: 30 | loss: 0.0025632197503000498\n",
            "Epoch: 20 batch: 40 | loss: 0.0024855241645127535\n",
            "Epoch: 20 batch: 50 | loss: 0.0019546044059097767\n",
            "Epoch: 20 batch: 60 | loss: 0.0021374716889113188\n",
            "Epoch: 20 batch: 70 | loss: 0.002526565920561552\n",
            "Epoch: 20 batch: 80 | loss: 0.0011653194669634104\n",
            "Epoch: 20 batch: 90 | loss: 0.0011125241871923208\n",
            "Epoch: 20 batch: 100 | loss: 0.0015782099217176437\n",
            "Epoch: 20 batch: 110 | loss: 0.001711936783976853\n",
            "Epoch: 20 valLoss: 0.001023729112382527\n"
          ]
        },
        {
          "output_type": "stream",
          "name": "stderr",
          "text": [
            "/usr/local/lib/python3.10/dist-packages/torch/utils/data/dataloader.py:617: UserWarning: This DataLoader will create 4 worker processes in total. Our suggested max number of worker in current system is 2, which is smaller than what this DataLoader is going to create. Please be aware that excessive worker creation might get DataLoader running slow or even freeze, lower the worker number to avoid potential slowness/freeze if necessary.\n",
            "  warnings.warn(\n"
          ]
        },
        {
          "output_type": "stream",
          "name": "stdout",
          "text": [
            "Epoch: 21 batch: 0 | loss: 0.0018065011827275157\n",
            "Epoch: 21 batch: 10 | loss: 0.0014579351991415024\n",
            "Epoch: 21 batch: 20 | loss: 0.0017775276210159063\n",
            "Epoch: 21 batch: 30 | loss: 0.002497476525604725\n",
            "Epoch: 21 batch: 40 | loss: 0.002278862986713648\n",
            "Epoch: 21 batch: 50 | loss: 0.002608668291941285\n",
            "Epoch: 21 batch: 60 | loss: 0.002561655594035983\n",
            "Epoch: 21 batch: 70 | loss: 0.0024701596703380346\n",
            "Epoch: 21 batch: 80 | loss: 0.0014057725202292204\n",
            "Epoch: 21 batch: 90 | loss: 0.0009479292784817517\n",
            "Epoch: 21 batch: 100 | loss: 0.0016300969291478395\n",
            "Epoch: 21 batch: 110 | loss: 0.0015982980839908123\n",
            "Epoch: 21 valLoss: 0.0009493227255022969\n"
          ]
        },
        {
          "output_type": "stream",
          "name": "stderr",
          "text": [
            "/usr/local/lib/python3.10/dist-packages/torch/utils/data/dataloader.py:617: UserWarning: This DataLoader will create 4 worker processes in total. Our suggested max number of worker in current system is 2, which is smaller than what this DataLoader is going to create. Please be aware that excessive worker creation might get DataLoader running slow or even freeze, lower the worker number to avoid potential slowness/freeze if necessary.\n",
            "  warnings.warn(\n"
          ]
        },
        {
          "output_type": "stream",
          "name": "stdout",
          "text": [
            "Epoch: 22 batch: 0 | loss: 0.0014829229330644011\n",
            "Epoch: 22 batch: 10 | loss: 0.0016473188297823071\n",
            "Epoch: 22 batch: 20 | loss: 0.0015665700193494558\n",
            "Epoch: 22 batch: 30 | loss: 0.002734346082434058\n",
            "Epoch: 22 batch: 40 | loss: 0.0029369767289608717\n",
            "Epoch: 22 batch: 50 | loss: 0.0024906564503908157\n",
            "Epoch: 22 batch: 60 | loss: 0.0018271110020577908\n",
            "Epoch: 22 batch: 70 | loss: 0.0024618455208837986\n",
            "Epoch: 22 batch: 80 | loss: 0.0012649863492697477\n",
            "Epoch: 22 batch: 90 | loss: 0.0009500231826677918\n",
            "Epoch: 22 batch: 100 | loss: 0.001776070799678564\n",
            "Epoch: 22 batch: 110 | loss: 0.001984452595934272\n",
            "Epoch: 22 valLoss: 0.0010533689728116054\n"
          ]
        },
        {
          "output_type": "stream",
          "name": "stderr",
          "text": [
            "/usr/local/lib/python3.10/dist-packages/torch/utils/data/dataloader.py:617: UserWarning: This DataLoader will create 4 worker processes in total. Our suggested max number of worker in current system is 2, which is smaller than what this DataLoader is going to create. Please be aware that excessive worker creation might get DataLoader running slow or even freeze, lower the worker number to avoid potential slowness/freeze if necessary.\n",
            "  warnings.warn(\n"
          ]
        },
        {
          "output_type": "stream",
          "name": "stdout",
          "text": [
            "Epoch: 23 batch: 0 | loss: 0.001723519992083311\n",
            "Epoch: 23 batch: 10 | loss: 0.001560479518957436\n",
            "Epoch: 23 batch: 20 | loss: 0.0015371628105640411\n",
            "Epoch: 23 batch: 30 | loss: 0.002578388201072812\n",
            "Epoch: 23 batch: 40 | loss: 0.002748738508671522\n",
            "Epoch: 23 batch: 50 | loss: 0.0020614732056856155\n",
            "Epoch: 23 batch: 60 | loss: 0.0017675396520644426\n",
            "Epoch: 23 batch: 70 | loss: 0.002101379679515958\n",
            "Epoch: 23 batch: 80 | loss: 0.0011038192315027118\n",
            "Epoch: 23 batch: 90 | loss: 0.001494798343628645\n",
            "Epoch: 23 batch: 100 | loss: 0.0020298564340919256\n",
            "Epoch: 23 batch: 110 | loss: 0.001491008442826569\n",
            "Epoch: 23 valLoss: 0.0009787163541495776\n"
          ]
        },
        {
          "output_type": "stream",
          "name": "stderr",
          "text": [
            "/usr/local/lib/python3.10/dist-packages/torch/utils/data/dataloader.py:617: UserWarning: This DataLoader will create 4 worker processes in total. Our suggested max number of worker in current system is 2, which is smaller than what this DataLoader is going to create. Please be aware that excessive worker creation might get DataLoader running slow or even freeze, lower the worker number to avoid potential slowness/freeze if necessary.\n",
            "  warnings.warn(\n"
          ]
        },
        {
          "output_type": "stream",
          "name": "stdout",
          "text": [
            "Epoch: 24 batch: 0 | loss: 0.001653257175348699\n",
            "Epoch: 24 batch: 10 | loss: 0.0018031623912975192\n",
            "Epoch: 24 batch: 20 | loss: 0.001978246495127678\n",
            "Epoch: 24 batch: 30 | loss: 0.0037117276806384325\n",
            "Epoch: 24 batch: 40 | loss: 0.004159597679972649\n",
            "Epoch: 24 batch: 50 | loss: 0.002672161441296339\n",
            "Epoch: 24 batch: 60 | loss: 0.0032124854624271393\n",
            "Epoch: 24 batch: 70 | loss: 0.0030166320502758026\n",
            "Epoch: 24 batch: 80 | loss: 0.0015023635933175683\n",
            "Epoch: 24 batch: 90 | loss: 0.001127462601289153\n",
            "Epoch: 24 batch: 100 | loss: 0.0019775857217609882\n",
            "Epoch: 24 batch: 110 | loss: 0.0016695578815415502\n",
            "Epoch: 24 valLoss: 0.0010869490501523387\n"
          ]
        },
        {
          "output_type": "stream",
          "name": "stderr",
          "text": [
            "/usr/local/lib/python3.10/dist-packages/torch/utils/data/dataloader.py:617: UserWarning: This DataLoader will create 4 worker processes in total. Our suggested max number of worker in current system is 2, which is smaller than what this DataLoader is going to create. Please be aware that excessive worker creation might get DataLoader running slow or even freeze, lower the worker number to avoid potential slowness/freeze if necessary.\n",
            "  warnings.warn(\n"
          ]
        },
        {
          "output_type": "stream",
          "name": "stdout",
          "text": [
            "Epoch: 25 batch: 0 | loss: 0.0025699243415147066\n",
            "Epoch: 25 batch: 10 | loss: 0.0018435704987496138\n",
            "Epoch: 25 batch: 20 | loss: 0.0017238998552784324\n",
            "Epoch: 25 batch: 30 | loss: 0.0028432244434952736\n",
            "Epoch: 25 batch: 40 | loss: 0.003950517158955336\n",
            "Epoch: 25 batch: 50 | loss: 0.0026368210092186928\n",
            "Epoch: 25 batch: 60 | loss: 0.0029822951182723045\n",
            "Epoch: 25 batch: 70 | loss: 0.0029463479295372963\n",
            "Epoch: 25 batch: 80 | loss: 0.0013028946705162525\n",
            "Epoch: 25 batch: 90 | loss: 0.0011789090931415558\n",
            "Epoch: 25 batch: 100 | loss: 0.0016546730184927583\n",
            "Epoch: 25 batch: 110 | loss: 0.0014850582228973508\n",
            "Epoch: 25 valLoss: 0.0009820259970318046\n"
          ]
        },
        {
          "output_type": "stream",
          "name": "stderr",
          "text": [
            "/usr/local/lib/python3.10/dist-packages/torch/utils/data/dataloader.py:617: UserWarning: This DataLoader will create 4 worker processes in total. Our suggested max number of worker in current system is 2, which is smaller than what this DataLoader is going to create. Please be aware that excessive worker creation might get DataLoader running slow or even freeze, lower the worker number to avoid potential slowness/freeze if necessary.\n",
            "  warnings.warn(\n"
          ]
        },
        {
          "output_type": "stream",
          "name": "stdout",
          "text": [
            "Epoch: 26 batch: 0 | loss: 0.0019480983028188348\n",
            "Epoch: 26 batch: 10 | loss: 0.001461009494960308\n",
            "Epoch: 26 batch: 20 | loss: 0.0015626454260200262\n",
            "Epoch: 26 batch: 30 | loss: 0.0028106465470045805\n",
            "Epoch: 26 batch: 40 | loss: 0.0025527910329401493\n",
            "Epoch: 26 batch: 50 | loss: 0.002389894099906087\n",
            "Epoch: 26 batch: 60 | loss: 0.0023522600531578064\n",
            "Epoch: 26 batch: 70 | loss: 0.0024895884562283754\n",
            "Epoch: 26 batch: 80 | loss: 0.001321770017966628\n",
            "Epoch: 26 batch: 90 | loss: 0.0011752417776733637\n",
            "Epoch: 26 batch: 100 | loss: 0.0015351691981777549\n",
            "Epoch: 26 batch: 110 | loss: 0.001878521405160427\n",
            "Epoch: 26 valLoss: 0.0009450270030622289\n"
          ]
        },
        {
          "output_type": "stream",
          "name": "stderr",
          "text": [
            "/usr/local/lib/python3.10/dist-packages/torch/utils/data/dataloader.py:617: UserWarning: This DataLoader will create 4 worker processes in total. Our suggested max number of worker in current system is 2, which is smaller than what this DataLoader is going to create. Please be aware that excessive worker creation might get DataLoader running slow or even freeze, lower the worker number to avoid potential slowness/freeze if necessary.\n",
            "  warnings.warn(\n"
          ]
        },
        {
          "output_type": "stream",
          "name": "stdout",
          "text": [
            "Epoch: 27 batch: 0 | loss: 0.0019289698684588075\n",
            "Epoch: 27 batch: 10 | loss: 0.001932477462105453\n",
            "Epoch: 27 batch: 20 | loss: 0.0015580926556140184\n",
            "Epoch: 27 batch: 30 | loss: 0.002172869862988591\n",
            "Epoch: 27 batch: 40 | loss: 0.0024002613499760628\n",
            "Epoch: 27 batch: 50 | loss: 0.002262682653963566\n",
            "Epoch: 27 batch: 60 | loss: 0.002199724316596985\n",
            "Epoch: 27 batch: 70 | loss: 0.0024863150902092457\n",
            "Epoch: 27 batch: 80 | loss: 0.0014288293896242976\n",
            "Epoch: 27 batch: 90 | loss: 0.0010722854640334845\n",
            "Epoch: 27 batch: 100 | loss: 0.0021289095748215914\n",
            "Epoch: 27 batch: 110 | loss: 0.0016025194199755788\n",
            "Epoch: 27 valLoss: 0.0009703304070155002\n"
          ]
        },
        {
          "output_type": "stream",
          "name": "stderr",
          "text": [
            "/usr/local/lib/python3.10/dist-packages/torch/utils/data/dataloader.py:617: UserWarning: This DataLoader will create 4 worker processes in total. Our suggested max number of worker in current system is 2, which is smaller than what this DataLoader is going to create. Please be aware that excessive worker creation might get DataLoader running slow or even freeze, lower the worker number to avoid potential slowness/freeze if necessary.\n",
            "  warnings.warn(\n"
          ]
        },
        {
          "output_type": "stream",
          "name": "stdout",
          "text": [
            "Epoch: 28 batch: 0 | loss: 0.0022409402299672365\n",
            "Epoch: 28 batch: 10 | loss: 0.0013906152453273535\n",
            "Epoch: 28 batch: 20 | loss: 0.0015662797959521413\n",
            "Epoch: 28 batch: 30 | loss: 0.0027630941476672888\n",
            "Epoch: 28 batch: 40 | loss: 0.0020183399319648743\n",
            "Epoch: 28 batch: 50 | loss: 0.002011665143072605\n",
            "Epoch: 28 batch: 60 | loss: 0.0017999100964516401\n",
            "Epoch: 28 batch: 70 | loss: 0.0026298868469893932\n",
            "Epoch: 28 batch: 80 | loss: 0.0011961887357756495\n",
            "Epoch: 28 batch: 90 | loss: 0.0009020557627081871\n",
            "Epoch: 28 batch: 100 | loss: 0.001766652800142765\n",
            "Epoch: 28 batch: 110 | loss: 0.0018315449124202132\n",
            "Epoch: 28 valLoss: 0.0010611475656228057\n"
          ]
        },
        {
          "output_type": "stream",
          "name": "stderr",
          "text": [
            "/usr/local/lib/python3.10/dist-packages/torch/utils/data/dataloader.py:617: UserWarning: This DataLoader will create 4 worker processes in total. Our suggested max number of worker in current system is 2, which is smaller than what this DataLoader is going to create. Please be aware that excessive worker creation might get DataLoader running slow or even freeze, lower the worker number to avoid potential slowness/freeze if necessary.\n",
            "  warnings.warn(\n"
          ]
        },
        {
          "output_type": "stream",
          "name": "stdout",
          "text": [
            "Epoch: 29 batch: 0 | loss: 0.0018193908035755157\n",
            "Epoch: 29 batch: 10 | loss: 0.0012850722996518016\n",
            "Epoch: 29 batch: 20 | loss: 0.0015092676039785147\n",
            "Epoch: 29 batch: 30 | loss: 0.002912512281909585\n",
            "Epoch: 29 batch: 40 | loss: 0.0025400882586836815\n",
            "Epoch: 29 batch: 50 | loss: 0.002071134280413389\n",
            "Epoch: 29 batch: 60 | loss: 0.0022213200572878122\n",
            "Epoch: 29 batch: 70 | loss: 0.0031189266592264175\n",
            "Epoch: 29 batch: 80 | loss: 0.0013856446603313088\n",
            "Epoch: 29 batch: 90 | loss: 0.00106567342299968\n",
            "Epoch: 29 batch: 100 | loss: 0.0015936978161334991\n",
            "Epoch: 29 batch: 110 | loss: 0.0018978430889546871\n",
            "Epoch: 29 valLoss: 0.0010833030557051567\n"
          ]
        },
        {
          "output_type": "stream",
          "name": "stderr",
          "text": [
            "/usr/local/lib/python3.10/dist-packages/torch/utils/data/dataloader.py:617: UserWarning: This DataLoader will create 4 worker processes in total. Our suggested max number of worker in current system is 2, which is smaller than what this DataLoader is going to create. Please be aware that excessive worker creation might get DataLoader running slow or even freeze, lower the worker number to avoid potential slowness/freeze if necessary.\n",
            "  warnings.warn(\n"
          ]
        },
        {
          "output_type": "stream",
          "name": "stdout",
          "text": [
            "Epoch: 30 batch: 0 | loss: 0.0017760074697434902\n",
            "Epoch: 30 batch: 10 | loss: 0.0014559670817106962\n",
            "Epoch: 30 batch: 20 | loss: 0.00138466851785779\n",
            "Epoch: 30 batch: 30 | loss: 0.0014983953442424536\n",
            "Epoch: 30 batch: 40 | loss: 0.0018280065851286054\n",
            "Epoch: 30 batch: 50 | loss: 0.0017664292827248573\n",
            "Epoch: 30 batch: 60 | loss: 0.0012860430870205164\n",
            "Epoch: 30 batch: 70 | loss: 0.001773863099515438\n",
            "Epoch: 30 batch: 80 | loss: 0.0010659134713932872\n",
            "Epoch: 30 batch: 90 | loss: 0.0012916045961901546\n",
            "Epoch: 30 batch: 100 | loss: 0.0022947886027395725\n",
            "Epoch: 30 batch: 110 | loss: 0.0011509337928146124\n",
            "Epoch: 30 valLoss: 0.0011703053193250553\n"
          ]
        },
        {
          "output_type": "stream",
          "name": "stderr",
          "text": [
            "/usr/local/lib/python3.10/dist-packages/torch/utils/data/dataloader.py:617: UserWarning: This DataLoader will create 4 worker processes in total. Our suggested max number of worker in current system is 2, which is smaller than what this DataLoader is going to create. Please be aware that excessive worker creation might get DataLoader running slow or even freeze, lower the worker number to avoid potential slowness/freeze if necessary.\n",
            "  warnings.warn(\n"
          ]
        },
        {
          "output_type": "stream",
          "name": "stdout",
          "text": [
            "Epoch: 31 batch: 0 | loss: 0.0013444848591461778\n",
            "Epoch: 31 batch: 10 | loss: 0.0014531764900311828\n",
            "Epoch: 31 batch: 20 | loss: 0.0016304629389196634\n",
            "Epoch: 31 batch: 30 | loss: 0.0019358138088136911\n",
            "Epoch: 31 batch: 40 | loss: 0.002035983372479677\n",
            "Epoch: 31 batch: 50 | loss: 0.0016228090971708298\n",
            "Epoch: 31 batch: 60 | loss: 0.0013784534530714154\n",
            "Epoch: 31 batch: 70 | loss: 0.0024023856967687607\n",
            "Epoch: 31 batch: 80 | loss: 0.0011937234085053205\n",
            "Epoch: 31 batch: 90 | loss: 0.0009787206072360277\n",
            "Epoch: 31 batch: 100 | loss: 0.0018202876672148705\n",
            "Epoch: 31 batch: 110 | loss: 0.001245688064955175\n",
            "Epoch: 31 valLoss: 0.000988780689012832\n"
          ]
        },
        {
          "output_type": "stream",
          "name": "stderr",
          "text": [
            "/usr/local/lib/python3.10/dist-packages/torch/utils/data/dataloader.py:617: UserWarning: This DataLoader will create 4 worker processes in total. Our suggested max number of worker in current system is 2, which is smaller than what this DataLoader is going to create. Please be aware that excessive worker creation might get DataLoader running slow or even freeze, lower the worker number to avoid potential slowness/freeze if necessary.\n",
            "  warnings.warn(\n"
          ]
        },
        {
          "output_type": "stream",
          "name": "stdout",
          "text": [
            "Epoch: 32 batch: 0 | loss: 0.0016472700517624617\n",
            "Epoch: 32 batch: 10 | loss: 0.0014993846416473389\n",
            "Epoch: 32 batch: 20 | loss: 0.0015459294663742185\n",
            "Epoch: 32 batch: 30 | loss: 0.0018059848807752132\n",
            "Epoch: 32 batch: 40 | loss: 0.0022670398466289043\n",
            "Epoch: 32 batch: 50 | loss: 0.001847623847424984\n",
            "Epoch: 32 batch: 60 | loss: 0.0018629711121320724\n",
            "Epoch: 32 batch: 70 | loss: 0.0028064907528460026\n",
            "Epoch: 32 batch: 80 | loss: 0.001160834333859384\n",
            "Epoch: 32 batch: 90 | loss: 0.001171954907476902\n",
            "Epoch: 32 batch: 100 | loss: 0.0017321393825113773\n",
            "Epoch: 32 batch: 110 | loss: 0.001581470831297338\n",
            "Epoch: 32 valLoss: 0.0009517433589585611\n"
          ]
        },
        {
          "output_type": "stream",
          "name": "stderr",
          "text": [
            "/usr/local/lib/python3.10/dist-packages/torch/utils/data/dataloader.py:617: UserWarning: This DataLoader will create 4 worker processes in total. Our suggested max number of worker in current system is 2, which is smaller than what this DataLoader is going to create. Please be aware that excessive worker creation might get DataLoader running slow or even freeze, lower the worker number to avoid potential slowness/freeze if necessary.\n",
            "  warnings.warn(\n"
          ]
        },
        {
          "output_type": "stream",
          "name": "stdout",
          "text": [
            "Epoch: 33 batch: 0 | loss: 0.0015855818055570126\n",
            "Epoch: 33 batch: 10 | loss: 0.0015303191030398011\n",
            "Epoch: 33 batch: 20 | loss: 0.0015834291698411107\n",
            "Epoch: 33 batch: 30 | loss: 0.0020436758641153574\n",
            "Epoch: 33 batch: 40 | loss: 0.002068370347842574\n",
            "Epoch: 33 batch: 50 | loss: 0.0018854010850191116\n",
            "Epoch: 33 batch: 60 | loss: 0.0013828279916197062\n",
            "Epoch: 33 batch: 70 | loss: 0.0020308797247707844\n",
            "Epoch: 33 batch: 80 | loss: 0.001221831887960434\n",
            "Epoch: 33 batch: 90 | loss: 0.0009654625318944454\n",
            "Epoch: 33 batch: 100 | loss: 0.001753819640725851\n",
            "Epoch: 33 batch: 110 | loss: 0.0014492276823148131\n",
            "Epoch: 33 valLoss: 0.0010734296403484118\n"
          ]
        },
        {
          "output_type": "stream",
          "name": "stderr",
          "text": [
            "/usr/local/lib/python3.10/dist-packages/torch/utils/data/dataloader.py:617: UserWarning: This DataLoader will create 4 worker processes in total. Our suggested max number of worker in current system is 2, which is smaller than what this DataLoader is going to create. Please be aware that excessive worker creation might get DataLoader running slow or even freeze, lower the worker number to avoid potential slowness/freeze if necessary.\n",
            "  warnings.warn(\n"
          ]
        },
        {
          "output_type": "stream",
          "name": "stdout",
          "text": [
            "Epoch: 34 batch: 0 | loss: 0.0019600430969148874\n",
            "Epoch: 34 batch: 10 | loss: 0.001655869884416461\n",
            "Epoch: 34 batch: 20 | loss: 0.0017354991286993027\n",
            "Epoch: 34 batch: 30 | loss: 0.002199049573391676\n",
            "Epoch: 34 batch: 40 | loss: 0.0022907473612576723\n",
            "Epoch: 34 batch: 50 | loss: 0.001852317713201046\n",
            "Epoch: 34 batch: 60 | loss: 0.002487440127879381\n",
            "Epoch: 34 batch: 70 | loss: 0.002394952578470111\n",
            "Epoch: 34 batch: 80 | loss: 0.0013747758930549026\n",
            "Epoch: 34 batch: 90 | loss: 0.0009362695273011923\n",
            "Epoch: 34 batch: 100 | loss: 0.0019776509143412113\n",
            "Epoch: 34 batch: 110 | loss: 0.0013940333155915141\n",
            "Epoch: 34 valLoss: 0.0011090347228953086\n"
          ]
        },
        {
          "output_type": "stream",
          "name": "stderr",
          "text": [
            "/usr/local/lib/python3.10/dist-packages/torch/utils/data/dataloader.py:617: UserWarning: This DataLoader will create 4 worker processes in total. Our suggested max number of worker in current system is 2, which is smaller than what this DataLoader is going to create. Please be aware that excessive worker creation might get DataLoader running slow or even freeze, lower the worker number to avoid potential slowness/freeze if necessary.\n",
            "  warnings.warn(\n"
          ]
        },
        {
          "output_type": "stream",
          "name": "stdout",
          "text": [
            "Epoch: 35 batch: 0 | loss: 0.0020154553931206465\n",
            "Epoch: 35 batch: 10 | loss: 0.0017370580462738872\n",
            "Epoch: 35 batch: 20 | loss: 0.0018807281740009785\n",
            "Epoch: 35 batch: 30 | loss: 0.0022828723303973675\n",
            "Epoch: 35 batch: 40 | loss: 0.002432209439575672\n",
            "Epoch: 35 batch: 50 | loss: 0.0021120731253176928\n",
            "Epoch: 35 batch: 60 | loss: 0.002338127698749304\n",
            "Epoch: 35 batch: 70 | loss: 0.0029040095396339893\n",
            "Epoch: 35 batch: 80 | loss: 0.0016407414805144072\n",
            "Epoch: 35 batch: 90 | loss: 0.0010394568089395761\n",
            "Epoch: 35 batch: 100 | loss: 0.0014715187717229128\n",
            "Epoch: 35 batch: 110 | loss: 0.001417824998497963\n",
            "Epoch: 35 valLoss: 0.0009579128358034239\n"
          ]
        },
        {
          "output_type": "stream",
          "name": "stderr",
          "text": [
            "/usr/local/lib/python3.10/dist-packages/torch/utils/data/dataloader.py:617: UserWarning: This DataLoader will create 4 worker processes in total. Our suggested max number of worker in current system is 2, which is smaller than what this DataLoader is going to create. Please be aware that excessive worker creation might get DataLoader running slow or even freeze, lower the worker number to avoid potential slowness/freeze if necessary.\n",
            "  warnings.warn(\n"
          ]
        },
        {
          "output_type": "stream",
          "name": "stdout",
          "text": [
            "Epoch: 36 batch: 0 | loss: 0.001619586837477982\n",
            "Epoch: 36 batch: 10 | loss: 0.0013167844153940678\n",
            "Epoch: 36 batch: 20 | loss: 0.0015090926317498088\n",
            "Epoch: 36 batch: 30 | loss: 0.0015398284886032343\n",
            "Epoch: 36 batch: 40 | loss: 0.0018002968281507492\n",
            "Epoch: 36 batch: 50 | loss: 0.0016516608884558082\n",
            "Epoch: 36 batch: 60 | loss: 0.0010403512278571725\n",
            "Epoch: 36 batch: 70 | loss: 0.002523545641452074\n",
            "Epoch: 36 batch: 80 | loss: 0.0010082859080284834\n",
            "Epoch: 36 batch: 90 | loss: 0.0007235488737933338\n",
            "Epoch: 36 batch: 100 | loss: 0.0017087585292756557\n",
            "Epoch: 36 batch: 110 | loss: 0.0013040765188634396\n",
            "Epoch: 36 valLoss: 0.0011491148257235652\n"
          ]
        },
        {
          "output_type": "stream",
          "name": "stderr",
          "text": [
            "/usr/local/lib/python3.10/dist-packages/torch/utils/data/dataloader.py:617: UserWarning: This DataLoader will create 4 worker processes in total. Our suggested max number of worker in current system is 2, which is smaller than what this DataLoader is going to create. Please be aware that excessive worker creation might get DataLoader running slow or even freeze, lower the worker number to avoid potential slowness/freeze if necessary.\n",
            "  warnings.warn(\n"
          ]
        },
        {
          "output_type": "stream",
          "name": "stdout",
          "text": [
            "Epoch: 37 batch: 0 | loss: 0.0015974726993590593\n",
            "Epoch: 37 batch: 10 | loss: 0.0012559726601466537\n",
            "Epoch: 37 batch: 20 | loss: 0.0016080818604677916\n",
            "Epoch: 37 batch: 30 | loss: 0.0017455198103561997\n",
            "Epoch: 37 batch: 40 | loss: 0.003046206431463361\n",
            "Epoch: 37 batch: 50 | loss: 0.00237079756334424\n",
            "Epoch: 37 batch: 60 | loss: 0.0017329035326838493\n",
            "Epoch: 37 batch: 70 | loss: 0.0019474554574117064\n",
            "Epoch: 37 batch: 80 | loss: 0.001380264526233077\n",
            "Epoch: 37 batch: 90 | loss: 0.000830512959510088\n",
            "Epoch: 37 batch: 100 | loss: 0.0015972903929650784\n",
            "Epoch: 37 batch: 110 | loss: 0.0010241338750347495\n",
            "Epoch: 37 valLoss: 0.0011776820413470495\n"
          ]
        },
        {
          "output_type": "stream",
          "name": "stderr",
          "text": [
            "/usr/local/lib/python3.10/dist-packages/torch/utils/data/dataloader.py:617: UserWarning: This DataLoader will create 4 worker processes in total. Our suggested max number of worker in current system is 2, which is smaller than what this DataLoader is going to create. Please be aware that excessive worker creation might get DataLoader running slow or even freeze, lower the worker number to avoid potential slowness/freeze if necessary.\n",
            "  warnings.warn(\n"
          ]
        },
        {
          "output_type": "stream",
          "name": "stdout",
          "text": [
            "Epoch: 38 batch: 0 | loss: 0.0021311799064278603\n",
            "Epoch: 38 batch: 10 | loss: 0.0012194568989798427\n",
            "Epoch: 38 batch: 20 | loss: 0.001235990202985704\n",
            "Epoch: 38 batch: 30 | loss: 0.0025294336955994368\n",
            "Epoch: 38 batch: 40 | loss: 0.0020161408465355635\n",
            "Epoch: 38 batch: 50 | loss: 0.0016129813157022\n",
            "Epoch: 38 batch: 60 | loss: 0.0017444719560444355\n",
            "Epoch: 38 batch: 70 | loss: 0.0021477409172803164\n",
            "Epoch: 38 batch: 80 | loss: 0.0008908247109502554\n",
            "Epoch: 38 batch: 90 | loss: 0.0012107465881854296\n",
            "Epoch: 38 batch: 100 | loss: 0.001985038397833705\n",
            "Epoch: 38 batch: 110 | loss: 0.001391189405694604\n",
            "Epoch: 38 valLoss: 0.0010420865425371812\n"
          ]
        },
        {
          "output_type": "stream",
          "name": "stderr",
          "text": [
            "/usr/local/lib/python3.10/dist-packages/torch/utils/data/dataloader.py:617: UserWarning: This DataLoader will create 4 worker processes in total. Our suggested max number of worker in current system is 2, which is smaller than what this DataLoader is going to create. Please be aware that excessive worker creation might get DataLoader running slow or even freeze, lower the worker number to avoid potential slowness/freeze if necessary.\n",
            "  warnings.warn(\n"
          ]
        },
        {
          "output_type": "stream",
          "name": "stdout",
          "text": [
            "Epoch: 39 batch: 0 | loss: 0.0017965362640097737\n",
            "Epoch: 39 batch: 10 | loss: 0.0016606475692242384\n",
            "Epoch: 39 batch: 20 | loss: 0.0016007579397410154\n",
            "Epoch: 39 batch: 30 | loss: 0.0021851840429008007\n",
            "Epoch: 39 batch: 40 | loss: 0.0034925718791782856\n",
            "Epoch: 39 batch: 50 | loss: 0.0023249376099556684\n",
            "Epoch: 39 batch: 60 | loss: 0.00291373860090971\n",
            "Epoch: 39 batch: 70 | loss: 0.0031782877631485462\n",
            "Epoch: 39 batch: 80 | loss: 0.0010781498858705163\n",
            "Epoch: 39 batch: 90 | loss: 0.0010738559067249298\n",
            "Epoch: 39 batch: 100 | loss: 0.001601617899723351\n",
            "Epoch: 39 batch: 110 | loss: 0.0010945299873128533\n",
            "Epoch: 39 valLoss: 0.0009773039910066087\n"
          ]
        },
        {
          "output_type": "stream",
          "name": "stderr",
          "text": [
            "/usr/local/lib/python3.10/dist-packages/torch/utils/data/dataloader.py:617: UserWarning: This DataLoader will create 4 worker processes in total. Our suggested max number of worker in current system is 2, which is smaller than what this DataLoader is going to create. Please be aware that excessive worker creation might get DataLoader running slow or even freeze, lower the worker number to avoid potential slowness/freeze if necessary.\n",
            "  warnings.warn(\n"
          ]
        },
        {
          "output_type": "stream",
          "name": "stdout",
          "text": [
            "Epoch: 40 batch: 0 | loss: 0.0014607845805585384\n",
            "Epoch: 40 batch: 10 | loss: 0.0012968346709385514\n",
            "Epoch: 40 batch: 20 | loss: 0.0014662903267890215\n",
            "Epoch: 40 batch: 30 | loss: 0.00223722355440259\n",
            "Epoch: 40 batch: 40 | loss: 0.001941692316904664\n",
            "Epoch: 40 batch: 50 | loss: 0.0016265986487269402\n",
            "Epoch: 40 batch: 60 | loss: 0.0017107290914282203\n",
            "Epoch: 40 batch: 70 | loss: 0.00201831990852952\n",
            "Epoch: 40 batch: 80 | loss: 0.001043066382408142\n",
            "Epoch: 40 batch: 90 | loss: 0.0010592070175334811\n",
            "Epoch: 40 batch: 100 | loss: 0.0016547793056815863\n",
            "Epoch: 40 batch: 110 | loss: 0.0013885542284697294\n",
            "Epoch: 40 valLoss: 0.0011008086972587251\n"
          ]
        },
        {
          "output_type": "stream",
          "name": "stderr",
          "text": [
            "/usr/local/lib/python3.10/dist-packages/torch/utils/data/dataloader.py:617: UserWarning: This DataLoader will create 4 worker processes in total. Our suggested max number of worker in current system is 2, which is smaller than what this DataLoader is going to create. Please be aware that excessive worker creation might get DataLoader running slow or even freeze, lower the worker number to avoid potential slowness/freeze if necessary.\n",
            "  warnings.warn(\n"
          ]
        },
        {
          "output_type": "stream",
          "name": "stdout",
          "text": [
            "Epoch: 41 batch: 0 | loss: 0.0015161135233938694\n",
            "Epoch: 41 batch: 10 | loss: 0.0016820963937789202\n",
            "Epoch: 41 batch: 20 | loss: 0.001554819056764245\n",
            "Epoch: 41 batch: 30 | loss: 0.0018281808588653803\n",
            "Epoch: 41 batch: 40 | loss: 0.0023356948513537645\n",
            "Epoch: 41 batch: 50 | loss: 0.0015286579728126526\n",
            "Epoch: 41 batch: 60 | loss: 0.001773541560396552\n",
            "Epoch: 41 batch: 70 | loss: 0.0021284795366227627\n",
            "Epoch: 41 batch: 80 | loss: 0.0008531277417205274\n",
            "Epoch: 41 batch: 90 | loss: 0.001339743030257523\n",
            "Epoch: 41 batch: 100 | loss: 0.0015565042849630117\n",
            "Epoch: 41 batch: 110 | loss: 0.001380810048431158\n",
            "Epoch: 41 valLoss: 0.0009430296942812358\n"
          ]
        },
        {
          "output_type": "stream",
          "name": "stderr",
          "text": [
            "/usr/local/lib/python3.10/dist-packages/torch/utils/data/dataloader.py:617: UserWarning: This DataLoader will create 4 worker processes in total. Our suggested max number of worker in current system is 2, which is smaller than what this DataLoader is going to create. Please be aware that excessive worker creation might get DataLoader running slow or even freeze, lower the worker number to avoid potential slowness/freeze if necessary.\n",
            "  warnings.warn(\n"
          ]
        },
        {
          "output_type": "stream",
          "name": "stdout",
          "text": [
            "Epoch: 42 batch: 0 | loss: 0.0016748879570513964\n",
            "Epoch: 42 batch: 10 | loss: 0.0012151310220360756\n",
            "Epoch: 42 batch: 20 | loss: 0.0012295811902731657\n",
            "Epoch: 42 batch: 30 | loss: 0.0018252654699608684\n",
            "Epoch: 42 batch: 40 | loss: 0.002207212382927537\n",
            "Epoch: 42 batch: 50 | loss: 0.0022372500970959663\n",
            "Epoch: 42 batch: 60 | loss: 0.002611804287880659\n",
            "Epoch: 42 batch: 70 | loss: 0.0022006831131875515\n",
            "Epoch: 42 batch: 80 | loss: 0.0010934295132756233\n",
            "Epoch: 42 batch: 90 | loss: 0.0006672608433291316\n",
            "Epoch: 42 batch: 100 | loss: 0.0016772440867498517\n",
            "Epoch: 42 batch: 110 | loss: 0.0013102635275572538\n",
            "Epoch: 42 valLoss: 0.0010162692230097914\n"
          ]
        },
        {
          "output_type": "stream",
          "name": "stderr",
          "text": [
            "/usr/local/lib/python3.10/dist-packages/torch/utils/data/dataloader.py:617: UserWarning: This DataLoader will create 4 worker processes in total. Our suggested max number of worker in current system is 2, which is smaller than what this DataLoader is going to create. Please be aware that excessive worker creation might get DataLoader running slow or even freeze, lower the worker number to avoid potential slowness/freeze if necessary.\n",
            "  warnings.warn(\n"
          ]
        },
        {
          "output_type": "stream",
          "name": "stdout",
          "text": [
            "Epoch: 43 batch: 0 | loss: 0.0018052490195259452\n",
            "Epoch: 43 batch: 10 | loss: 0.0015516829444095492\n",
            "Epoch: 43 batch: 20 | loss: 0.001419084263034165\n",
            "Epoch: 43 batch: 30 | loss: 0.0018657245673239231\n",
            "Epoch: 43 batch: 40 | loss: 0.002421658718958497\n",
            "Epoch: 43 batch: 50 | loss: 0.0018010801868513227\n",
            "Epoch: 43 batch: 60 | loss: 0.0019406324718147516\n",
            "Epoch: 43 batch: 70 | loss: 0.001950479461811483\n",
            "Epoch: 43 batch: 80 | loss: 0.0010804457124322653\n",
            "Epoch: 43 batch: 90 | loss: 0.0008259927853941917\n",
            "Epoch: 43 batch: 100 | loss: 0.0014739593025296926\n",
            "Epoch: 43 batch: 110 | loss: 0.001092520891688764\n",
            "Epoch: 43 valLoss: 0.0011277663248777058\n"
          ]
        },
        {
          "output_type": "stream",
          "name": "stderr",
          "text": [
            "/usr/local/lib/python3.10/dist-packages/torch/utils/data/dataloader.py:617: UserWarning: This DataLoader will create 4 worker processes in total. Our suggested max number of worker in current system is 2, which is smaller than what this DataLoader is going to create. Please be aware that excessive worker creation might get DataLoader running slow or even freeze, lower the worker number to avoid potential slowness/freeze if necessary.\n",
            "  warnings.warn(\n"
          ]
        },
        {
          "output_type": "stream",
          "name": "stdout",
          "text": [
            "Epoch: 44 batch: 0 | loss: 0.0021258569322526455\n",
            "Epoch: 44 batch: 10 | loss: 0.0013002564664930105\n",
            "Epoch: 44 batch: 20 | loss: 0.0015964913181960583\n",
            "Epoch: 44 batch: 30 | loss: 0.0018157882150262594\n",
            "Epoch: 44 batch: 40 | loss: 0.002878636121749878\n",
            "Epoch: 44 batch: 50 | loss: 0.002206597477197647\n",
            "Epoch: 44 batch: 60 | loss: 0.0023459680378437042\n",
            "Epoch: 44 batch: 70 | loss: 0.002729796338826418\n",
            "Epoch: 44 batch: 80 | loss: 0.0012578708119690418\n",
            "Epoch: 44 batch: 90 | loss: 0.0007055888418108225\n",
            "Epoch: 44 batch: 100 | loss: 0.001621139352209866\n",
            "Epoch: 44 batch: 110 | loss: 0.0013142788084223866\n",
            "Epoch: 44 valLoss: 0.0010892818689289122\n"
          ]
        },
        {
          "output_type": "stream",
          "name": "stderr",
          "text": [
            "/usr/local/lib/python3.10/dist-packages/torch/utils/data/dataloader.py:617: UserWarning: This DataLoader will create 4 worker processes in total. Our suggested max number of worker in current system is 2, which is smaller than what this DataLoader is going to create. Please be aware that excessive worker creation might get DataLoader running slow or even freeze, lower the worker number to avoid potential slowness/freeze if necessary.\n",
            "  warnings.warn(\n"
          ]
        },
        {
          "output_type": "stream",
          "name": "stdout",
          "text": [
            "Epoch: 45 batch: 0 | loss: 0.001630270155146718\n",
            "Epoch: 45 batch: 10 | loss: 0.0011795617174357176\n",
            "Epoch: 45 batch: 20 | loss: 0.0009161498164758086\n",
            "Epoch: 45 batch: 30 | loss: 0.0020886631682515144\n",
            "Epoch: 45 batch: 40 | loss: 0.0023959765676409006\n",
            "Epoch: 45 batch: 50 | loss: 0.0016939538763836026\n",
            "Epoch: 45 batch: 60 | loss: 0.0018338686786592007\n",
            "Epoch: 45 batch: 70 | loss: 0.0022148825228214264\n",
            "Epoch: 45 batch: 80 | loss: 0.0011320741614326835\n",
            "Epoch: 45 batch: 90 | loss: 0.0009595621377229691\n",
            "Epoch: 45 batch: 100 | loss: 0.001321278978139162\n",
            "Epoch: 45 batch: 110 | loss: 0.0011323606595396996\n",
            "Epoch: 45 valLoss: 0.000914198768878208\n"
          ]
        },
        {
          "output_type": "stream",
          "name": "stderr",
          "text": [
            "/usr/local/lib/python3.10/dist-packages/torch/utils/data/dataloader.py:617: UserWarning: This DataLoader will create 4 worker processes in total. Our suggested max number of worker in current system is 2, which is smaller than what this DataLoader is going to create. Please be aware that excessive worker creation might get DataLoader running slow or even freeze, lower the worker number to avoid potential slowness/freeze if necessary.\n",
            "  warnings.warn(\n"
          ]
        },
        {
          "output_type": "stream",
          "name": "stdout",
          "text": [
            "Epoch: 46 batch: 0 | loss: 0.0016853173729032278\n",
            "Epoch: 46 batch: 10 | loss: 0.0013392160180956125\n",
            "Epoch: 46 batch: 20 | loss: 0.0013718700502067804\n",
            "Epoch: 46 batch: 30 | loss: 0.0023708208464086056\n",
            "Epoch: 46 batch: 40 | loss: 0.0019406945211812854\n",
            "Epoch: 46 batch: 50 | loss: 0.0020234445109963417\n",
            "Epoch: 46 batch: 60 | loss: 0.0014995371457189322\n",
            "Epoch: 46 batch: 70 | loss: 0.0020988855976611376\n",
            "Epoch: 46 batch: 80 | loss: 0.0010953110177069902\n",
            "Epoch: 46 batch: 90 | loss: 0.0011383810779079795\n",
            "Epoch: 46 batch: 100 | loss: 0.0017904482083395123\n",
            "Epoch: 46 batch: 110 | loss: 0.0012280637165531516\n",
            "Epoch: 46 valLoss: 0.0009836783512021142\n"
          ]
        },
        {
          "output_type": "stream",
          "name": "stderr",
          "text": [
            "/usr/local/lib/python3.10/dist-packages/torch/utils/data/dataloader.py:617: UserWarning: This DataLoader will create 4 worker processes in total. Our suggested max number of worker in current system is 2, which is smaller than what this DataLoader is going to create. Please be aware that excessive worker creation might get DataLoader running slow or even freeze, lower the worker number to avoid potential slowness/freeze if necessary.\n",
            "  warnings.warn(\n"
          ]
        },
        {
          "output_type": "stream",
          "name": "stdout",
          "text": [
            "Epoch: 47 batch: 0 | loss: 0.0019617811776697636\n",
            "Epoch: 47 batch: 10 | loss: 0.0011597295524552464\n",
            "Epoch: 47 batch: 20 | loss: 0.0016252174973487854\n",
            "Epoch: 47 batch: 30 | loss: 0.0018031166400760412\n",
            "Epoch: 47 batch: 40 | loss: 0.0024233374278992414\n",
            "Epoch: 47 batch: 50 | loss: 0.0016404002672061324\n",
            "Epoch: 47 batch: 60 | loss: 0.0016559397336095572\n",
            "Epoch: 47 batch: 70 | loss: 0.0021974232513457537\n",
            "Epoch: 47 batch: 80 | loss: 0.001007830142043531\n",
            "Epoch: 47 batch: 90 | loss: 0.0008642559987492859\n",
            "Epoch: 47 batch: 100 | loss: 0.0015899465652182698\n",
            "Epoch: 47 batch: 110 | loss: 0.0011781271314248443\n",
            "Epoch: 47 valLoss: 0.0010610429151028144\n"
          ]
        },
        {
          "output_type": "stream",
          "name": "stderr",
          "text": [
            "/usr/local/lib/python3.10/dist-packages/torch/utils/data/dataloader.py:617: UserWarning: This DataLoader will create 4 worker processes in total. Our suggested max number of worker in current system is 2, which is smaller than what this DataLoader is going to create. Please be aware that excessive worker creation might get DataLoader running slow or even freeze, lower the worker number to avoid potential slowness/freeze if necessary.\n",
            "  warnings.warn(\n"
          ]
        },
        {
          "output_type": "stream",
          "name": "stdout",
          "text": [
            "Epoch: 48 batch: 0 | loss: 0.0021663145162165165\n",
            "Epoch: 48 batch: 10 | loss: 0.00149197643622756\n",
            "Epoch: 48 batch: 20 | loss: 0.0009959088638424873\n",
            "Epoch: 48 batch: 30 | loss: 0.0017071786569431424\n",
            "Epoch: 48 batch: 40 | loss: 0.0017850447911769152\n",
            "Epoch: 48 batch: 50 | loss: 0.0013492924626916647\n",
            "Epoch: 48 batch: 60 | loss: 0.0014777820324525237\n",
            "Epoch: 48 batch: 70 | loss: 0.0016517614712938666\n",
            "Epoch: 48 batch: 80 | loss: 0.0010319227585569024\n",
            "Epoch: 48 batch: 90 | loss: 0.0008253490086644888\n",
            "Epoch: 48 batch: 100 | loss: 0.001556925941258669\n",
            "Epoch: 48 batch: 110 | loss: 0.0012429917696863413\n",
            "Epoch: 48 valLoss: 0.0009449296206695236\n"
          ]
        },
        {
          "output_type": "stream",
          "name": "stderr",
          "text": [
            "/usr/local/lib/python3.10/dist-packages/torch/utils/data/dataloader.py:617: UserWarning: This DataLoader will create 4 worker processes in total. Our suggested max number of worker in current system is 2, which is smaller than what this DataLoader is going to create. Please be aware that excessive worker creation might get DataLoader running slow or even freeze, lower the worker number to avoid potential slowness/freeze if necessary.\n",
            "  warnings.warn(\n"
          ]
        },
        {
          "output_type": "stream",
          "name": "stdout",
          "text": [
            "Epoch: 49 batch: 0 | loss: 0.0014689229428768158\n",
            "Epoch: 49 batch: 10 | loss: 0.0013373281108215451\n",
            "Epoch: 49 batch: 20 | loss: 0.0012126145884394646\n",
            "Epoch: 49 batch: 30 | loss: 0.0019701917190104723\n",
            "Epoch: 49 batch: 40 | loss: 0.0019038880709558725\n",
            "Epoch: 49 batch: 50 | loss: 0.0017875521443784237\n",
            "Epoch: 49 batch: 60 | loss: 0.001424142043106258\n",
            "Epoch: 49 batch: 70 | loss: 0.0021587058436125517\n",
            "Epoch: 49 batch: 80 | loss: 0.0007863143691793084\n",
            "Epoch: 49 batch: 90 | loss: 0.0008612944511696696\n",
            "Epoch: 49 batch: 100 | loss: 0.001589116989634931\n",
            "Epoch: 49 batch: 110 | loss: 0.001183524844236672\n",
            "Epoch: 49 valLoss: 0.0010723089123867802\n"
          ]
        },
        {
          "output_type": "stream",
          "name": "stderr",
          "text": [
            "/usr/local/lib/python3.10/dist-packages/torch/utils/data/dataloader.py:617: UserWarning: This DataLoader will create 4 worker processes in total. Our suggested max number of worker in current system is 2, which is smaller than what this DataLoader is going to create. Please be aware that excessive worker creation might get DataLoader running slow or even freeze, lower the worker number to avoid potential slowness/freeze if necessary.\n",
            "  warnings.warn(\n"
          ]
        },
        {
          "output_type": "stream",
          "name": "stdout",
          "text": [
            "Epoch: 50 batch: 0 | loss: 0.0016517710173502564\n",
            "Epoch: 50 batch: 10 | loss: 0.0014287920203059912\n",
            "Epoch: 50 batch: 20 | loss: 0.0011622501770034432\n",
            "Epoch: 50 batch: 30 | loss: 0.0015343260020017624\n",
            "Epoch: 50 batch: 40 | loss: 0.0027051649522036314\n",
            "Epoch: 50 batch: 50 | loss: 0.001708660158328712\n",
            "Epoch: 50 batch: 60 | loss: 0.0017530929762870073\n",
            "Epoch: 50 batch: 70 | loss: 0.0018172278068959713\n",
            "Epoch: 50 batch: 80 | loss: 0.0011148906778544188\n",
            "Epoch: 50 batch: 90 | loss: 0.000792244914919138\n",
            "Epoch: 50 batch: 100 | loss: 0.0015369668835774064\n",
            "Epoch: 50 batch: 110 | loss: 0.001541192876175046\n",
            "Epoch: 50 valLoss: 0.000899613321553855\n"
          ]
        },
        {
          "output_type": "stream",
          "name": "stderr",
          "text": [
            "/usr/local/lib/python3.10/dist-packages/torch/utils/data/dataloader.py:617: UserWarning: This DataLoader will create 4 worker processes in total. Our suggested max number of worker in current system is 2, which is smaller than what this DataLoader is going to create. Please be aware that excessive worker creation might get DataLoader running slow or even freeze, lower the worker number to avoid potential slowness/freeze if necessary.\n",
            "  warnings.warn(\n"
          ]
        },
        {
          "output_type": "stream",
          "name": "stdout",
          "text": [
            "Epoch: 51 batch: 0 | loss: 0.0015256482874974608\n",
            "Epoch: 51 batch: 10 | loss: 0.0013110954314470291\n",
            "Epoch: 51 batch: 20 | loss: 0.0012586521916091442\n",
            "Epoch: 51 batch: 30 | loss: 0.0024632809218019247\n",
            "Epoch: 51 batch: 40 | loss: 0.002504287753254175\n",
            "Epoch: 51 batch: 50 | loss: 0.0019709423650056124\n",
            "Epoch: 51 batch: 60 | loss: 0.002241094596683979\n",
            "Epoch: 51 batch: 70 | loss: 0.0019347851630300283\n",
            "Epoch: 51 batch: 80 | loss: 0.0009394048829562962\n",
            "Epoch: 51 batch: 90 | loss: 0.0008600084111094475\n",
            "Epoch: 51 batch: 100 | loss: 0.0020989631302654743\n",
            "Epoch: 51 batch: 110 | loss: 0.0020362676586955786\n",
            "Epoch: 51 valLoss: 0.0008655449916639967\n"
          ]
        },
        {
          "output_type": "stream",
          "name": "stderr",
          "text": [
            "/usr/local/lib/python3.10/dist-packages/torch/utils/data/dataloader.py:617: UserWarning: This DataLoader will create 4 worker processes in total. Our suggested max number of worker in current system is 2, which is smaller than what this DataLoader is going to create. Please be aware that excessive worker creation might get DataLoader running slow or even freeze, lower the worker number to avoid potential slowness/freeze if necessary.\n",
            "  warnings.warn(\n"
          ]
        },
        {
          "output_type": "stream",
          "name": "stdout",
          "text": [
            "Epoch: 52 batch: 0 | loss: 0.0016214664792641997\n",
            "Epoch: 52 batch: 10 | loss: 0.0012404158478602767\n",
            "Epoch: 52 batch: 20 | loss: 0.0014481741236522794\n",
            "Epoch: 52 batch: 30 | loss: 0.0025960325729101896\n",
            "Epoch: 52 batch: 40 | loss: 0.002282368019223213\n",
            "Epoch: 52 batch: 50 | loss: 0.0019053745782002807\n",
            "Epoch: 52 batch: 60 | loss: 0.0017415059264749289\n",
            "Epoch: 52 batch: 70 | loss: 0.002260253531858325\n",
            "Epoch: 52 batch: 80 | loss: 0.0010665947338566184\n",
            "Epoch: 52 batch: 90 | loss: 0.0007008778629824519\n",
            "Epoch: 52 batch: 100 | loss: 0.0016616281354799867\n",
            "Epoch: 52 batch: 110 | loss: 0.0013070347486063838\n",
            "Epoch: 52 valLoss: 0.001005539155222503\n"
          ]
        },
        {
          "output_type": "stream",
          "name": "stderr",
          "text": [
            "/usr/local/lib/python3.10/dist-packages/torch/utils/data/dataloader.py:617: UserWarning: This DataLoader will create 4 worker processes in total. Our suggested max number of worker in current system is 2, which is smaller than what this DataLoader is going to create. Please be aware that excessive worker creation might get DataLoader running slow or even freeze, lower the worker number to avoid potential slowness/freeze if necessary.\n",
            "  warnings.warn(\n"
          ]
        },
        {
          "output_type": "stream",
          "name": "stdout",
          "text": [
            "Epoch: 53 batch: 0 | loss: 0.0019546854309737682\n",
            "Epoch: 53 batch: 10 | loss: 0.0013257601531222463\n",
            "Epoch: 53 batch: 20 | loss: 0.001251385547220707\n",
            "Epoch: 53 batch: 30 | loss: 0.0014022275572642684\n",
            "Epoch: 53 batch: 40 | loss: 0.0020412548910826445\n",
            "Epoch: 53 batch: 50 | loss: 0.0017797255422919989\n",
            "Epoch: 53 batch: 60 | loss: 0.0013372814282774925\n",
            "Epoch: 53 batch: 70 | loss: 0.0019283858127892017\n",
            "Epoch: 53 batch: 80 | loss: 0.001336343353614211\n",
            "Epoch: 53 batch: 90 | loss: 0.0009245109977200627\n",
            "Epoch: 53 batch: 100 | loss: 0.0012860812712460756\n",
            "Epoch: 53 batch: 110 | loss: 0.001590999774634838\n",
            "Epoch: 53 valLoss: 0.0009583299109701385\n"
          ]
        },
        {
          "output_type": "stream",
          "name": "stderr",
          "text": [
            "/usr/local/lib/python3.10/dist-packages/torch/utils/data/dataloader.py:617: UserWarning: This DataLoader will create 4 worker processes in total. Our suggested max number of worker in current system is 2, which is smaller than what this DataLoader is going to create. Please be aware that excessive worker creation might get DataLoader running slow or even freeze, lower the worker number to avoid potential slowness/freeze if necessary.\n",
            "  warnings.warn(\n"
          ]
        },
        {
          "output_type": "stream",
          "name": "stdout",
          "text": [
            "Epoch: 54 batch: 0 | loss: 0.0018601109040901065\n",
            "Epoch: 54 batch: 10 | loss: 0.0014127262402325869\n",
            "Epoch: 54 batch: 20 | loss: 0.001255428302101791\n",
            "Epoch: 54 batch: 30 | loss: 0.001975549617782235\n",
            "Epoch: 54 batch: 40 | loss: 0.002224414609372616\n",
            "Epoch: 54 batch: 50 | loss: 0.0017950591864064336\n",
            "Epoch: 54 batch: 60 | loss: 0.0016440397594124079\n",
            "Epoch: 54 batch: 70 | loss: 0.0018036914989352226\n",
            "Epoch: 54 batch: 80 | loss: 0.0010023225331678987\n",
            "Epoch: 54 batch: 90 | loss: 0.0010320997098460793\n",
            "Epoch: 54 batch: 100 | loss: 0.0017431490123271942\n",
            "Epoch: 54 batch: 110 | loss: 0.0014050271129235625\n",
            "Epoch: 54 valLoss: 0.0009573996210307618\n"
          ]
        },
        {
          "output_type": "stream",
          "name": "stderr",
          "text": [
            "/usr/local/lib/python3.10/dist-packages/torch/utils/data/dataloader.py:617: UserWarning: This DataLoader will create 4 worker processes in total. Our suggested max number of worker in current system is 2, which is smaller than what this DataLoader is going to create. Please be aware that excessive worker creation might get DataLoader running slow or even freeze, lower the worker number to avoid potential slowness/freeze if necessary.\n",
            "  warnings.warn(\n"
          ]
        },
        {
          "output_type": "stream",
          "name": "stdout",
          "text": [
            "Epoch: 55 batch: 0 | loss: 0.0016938053304329515\n",
            "Epoch: 55 batch: 10 | loss: 0.0015013694064691663\n",
            "Epoch: 55 batch: 20 | loss: 0.0010910986457020044\n",
            "Epoch: 55 batch: 30 | loss: 0.0015800698893144727\n",
            "Epoch: 55 batch: 40 | loss: 0.0019283941946923733\n",
            "Epoch: 55 batch: 50 | loss: 0.0016826351638883352\n",
            "Epoch: 55 batch: 60 | loss: 0.0013197122607380152\n",
            "Epoch: 55 batch: 70 | loss: 0.002082463353872299\n",
            "Epoch: 55 batch: 80 | loss: 0.0008217153372243047\n",
            "Epoch: 55 batch: 90 | loss: 0.001255234470590949\n",
            "Epoch: 55 batch: 100 | loss: 0.0017129944171756506\n",
            "Epoch: 55 batch: 110 | loss: 0.0012896894477307796\n",
            "Epoch: 55 valLoss: 0.0009019565658612533\n"
          ]
        },
        {
          "output_type": "stream",
          "name": "stderr",
          "text": [
            "/usr/local/lib/python3.10/dist-packages/torch/utils/data/dataloader.py:617: UserWarning: This DataLoader will create 4 worker processes in total. Our suggested max number of worker in current system is 2, which is smaller than what this DataLoader is going to create. Please be aware that excessive worker creation might get DataLoader running slow or even freeze, lower the worker number to avoid potential slowness/freeze if necessary.\n",
            "  warnings.warn(\n"
          ]
        },
        {
          "output_type": "stream",
          "name": "stdout",
          "text": [
            "Epoch: 56 batch: 0 | loss: 0.0017287608934566379\n",
            "Epoch: 56 batch: 10 | loss: 0.000994224101305008\n",
            "Epoch: 56 batch: 20 | loss: 0.0008635313133709133\n",
            "Epoch: 56 batch: 30 | loss: 0.001959814690053463\n",
            "Epoch: 56 batch: 40 | loss: 0.00183197483420372\n",
            "Epoch: 56 batch: 50 | loss: 0.0017816232284530997\n",
            "Epoch: 56 batch: 60 | loss: 0.0013256797101348639\n",
            "Epoch: 56 batch: 70 | loss: 0.0015547260409221053\n",
            "Epoch: 56 batch: 80 | loss: 0.0009266638662666082\n",
            "Epoch: 56 batch: 90 | loss: 0.0007254413212649524\n",
            "Epoch: 56 batch: 100 | loss: 0.0015381829580292106\n",
            "Epoch: 56 batch: 110 | loss: 0.0012841075658798218\n",
            "Epoch: 56 valLoss: 0.000957254378878174\n"
          ]
        },
        {
          "output_type": "stream",
          "name": "stderr",
          "text": [
            "/usr/local/lib/python3.10/dist-packages/torch/utils/data/dataloader.py:617: UserWarning: This DataLoader will create 4 worker processes in total. Our suggested max number of worker in current system is 2, which is smaller than what this DataLoader is going to create. Please be aware that excessive worker creation might get DataLoader running slow or even freeze, lower the worker number to avoid potential slowness/freeze if necessary.\n",
            "  warnings.warn(\n"
          ]
        },
        {
          "output_type": "stream",
          "name": "stdout",
          "text": [
            "Epoch: 57 batch: 0 | loss: 0.0013960631331428885\n",
            "Epoch: 57 batch: 10 | loss: 0.0013574237236753106\n",
            "Epoch: 57 batch: 20 | loss: 0.0012615856248885393\n",
            "Epoch: 57 batch: 30 | loss: 0.0020656913984566927\n",
            "Epoch: 57 batch: 40 | loss: 0.0024218307808041573\n",
            "Epoch: 57 batch: 50 | loss: 0.0017708512023091316\n",
            "Epoch: 57 batch: 60 | loss: 0.0016885068034753203\n",
            "Epoch: 57 batch: 70 | loss: 0.002077328972518444\n",
            "Epoch: 57 batch: 80 | loss: 0.000853136763907969\n",
            "Epoch: 57 batch: 90 | loss: 0.0008814725442789495\n",
            "Epoch: 57 batch: 100 | loss: 0.0015559024177491665\n",
            "Epoch: 57 batch: 110 | loss: 0.0011816008482128382\n",
            "Epoch: 57 valLoss: 0.0008525602804151764\n"
          ]
        },
        {
          "output_type": "stream",
          "name": "stderr",
          "text": [
            "/usr/local/lib/python3.10/dist-packages/torch/utils/data/dataloader.py:617: UserWarning: This DataLoader will create 4 worker processes in total. Our suggested max number of worker in current system is 2, which is smaller than what this DataLoader is going to create. Please be aware that excessive worker creation might get DataLoader running slow or even freeze, lower the worker number to avoid potential slowness/freeze if necessary.\n",
            "  warnings.warn(\n"
          ]
        },
        {
          "output_type": "stream",
          "name": "stdout",
          "text": [
            "Epoch: 58 batch: 0 | loss: 0.0018345775315538049\n",
            "Epoch: 58 batch: 10 | loss: 0.0014108606847003102\n",
            "Epoch: 58 batch: 20 | loss: 0.0013257856480777264\n",
            "Epoch: 58 batch: 30 | loss: 0.0019939527846872807\n",
            "Epoch: 58 batch: 40 | loss: 0.0022106613032519817\n",
            "Epoch: 58 batch: 50 | loss: 0.002088510198518634\n",
            "Epoch: 58 batch: 60 | loss: 0.001778920879587531\n",
            "Epoch: 58 batch: 70 | loss: 0.0018404455622658134\n",
            "Epoch: 58 batch: 80 | loss: 0.0007371053798124194\n",
            "Epoch: 58 batch: 90 | loss: 0.0014125097077339888\n",
            "Epoch: 58 batch: 100 | loss: 0.0019249494653195143\n",
            "Epoch: 58 batch: 110 | loss: 0.0013196248328313231\n",
            "Epoch: 58 valLoss: 0.0008612410824693728\n"
          ]
        },
        {
          "output_type": "stream",
          "name": "stderr",
          "text": [
            "/usr/local/lib/python3.10/dist-packages/torch/utils/data/dataloader.py:617: UserWarning: This DataLoader will create 4 worker processes in total. Our suggested max number of worker in current system is 2, which is smaller than what this DataLoader is going to create. Please be aware that excessive worker creation might get DataLoader running slow or even freeze, lower the worker number to avoid potential slowness/freeze if necessary.\n",
            "  warnings.warn(\n"
          ]
        },
        {
          "output_type": "stream",
          "name": "stdout",
          "text": [
            "Epoch: 59 batch: 0 | loss: 0.001498935860581696\n",
            "Epoch: 59 batch: 10 | loss: 0.0011431858874857426\n",
            "Epoch: 59 batch: 20 | loss: 0.0011051150504499674\n",
            "Epoch: 59 batch: 30 | loss: 0.0017449738224968314\n",
            "Epoch: 59 batch: 40 | loss: 0.002038708422333002\n",
            "Epoch: 59 batch: 50 | loss: 0.0017028400907292962\n",
            "Epoch: 59 batch: 60 | loss: 0.001253793714568019\n",
            "Epoch: 59 batch: 70 | loss: 0.0015876356046646833\n",
            "Epoch: 59 batch: 80 | loss: 0.0010563365649431944\n",
            "Epoch: 59 batch: 90 | loss: 0.0010181148536503315\n",
            "Epoch: 59 batch: 100 | loss: 0.001725921407341957\n",
            "Epoch: 59 batch: 110 | loss: 0.0015466947806999087\n",
            "Epoch: 59 valLoss: 0.0010061294102544536\n"
          ]
        },
        {
          "output_type": "stream",
          "name": "stderr",
          "text": [
            "/usr/local/lib/python3.10/dist-packages/torch/utils/data/dataloader.py:617: UserWarning: This DataLoader will create 4 worker processes in total. Our suggested max number of worker in current system is 2, which is smaller than what this DataLoader is going to create. Please be aware that excessive worker creation might get DataLoader running slow or even freeze, lower the worker number to avoid potential slowness/freeze if necessary.\n",
            "  warnings.warn(\n"
          ]
        },
        {
          "output_type": "stream",
          "name": "stdout",
          "text": [
            "Epoch: 60 batch: 0 | loss: 0.0018661936046555638\n",
            "Epoch: 60 batch: 10 | loss: 0.0013239857507869601\n",
            "Epoch: 60 batch: 20 | loss: 0.0014041076647117734\n",
            "Epoch: 60 batch: 30 | loss: 0.0016532324953004718\n",
            "Epoch: 60 batch: 40 | loss: 0.0028567914851009846\n",
            "Epoch: 60 batch: 50 | loss: 0.0021017715334892273\n",
            "Epoch: 60 batch: 60 | loss: 0.0014817591290920973\n",
            "Epoch: 60 batch: 70 | loss: 0.0021543081384152174\n",
            "Epoch: 60 batch: 80 | loss: 0.0011603373568505049\n",
            "Epoch: 60 batch: 90 | loss: 0.0008514076471328735\n",
            "Epoch: 60 batch: 100 | loss: 0.0015938611468300223\n",
            "Epoch: 60 batch: 110 | loss: 0.001135938335210085\n",
            "Epoch: 60 valLoss: 0.0008667037524040603\n"
          ]
        },
        {
          "output_type": "stream",
          "name": "stderr",
          "text": [
            "/usr/local/lib/python3.10/dist-packages/torch/utils/data/dataloader.py:617: UserWarning: This DataLoader will create 4 worker processes in total. Our suggested max number of worker in current system is 2, which is smaller than what this DataLoader is going to create. Please be aware that excessive worker creation might get DataLoader running slow or even freeze, lower the worker number to avoid potential slowness/freeze if necessary.\n",
            "  warnings.warn(\n"
          ]
        },
        {
          "output_type": "stream",
          "name": "stdout",
          "text": [
            "Epoch: 61 batch: 0 | loss: 0.001610569772310555\n",
            "Epoch: 61 batch: 10 | loss: 0.0011312917340546846\n",
            "Epoch: 61 batch: 20 | loss: 0.0013143953401595354\n",
            "Epoch: 61 batch: 30 | loss: 0.0017664388287812471\n",
            "Epoch: 61 batch: 40 | loss: 0.0018119539599865675\n",
            "Epoch: 61 batch: 50 | loss: 0.0015557955484837294\n",
            "Epoch: 61 batch: 60 | loss: 0.0012990777613595128\n",
            "Epoch: 61 batch: 70 | loss: 0.0020089375320822\n",
            "Epoch: 61 batch: 80 | loss: 0.0009528780356049538\n",
            "Epoch: 61 batch: 90 | loss: 0.0010250023333355784\n",
            "Epoch: 61 batch: 100 | loss: 0.0016769923968240619\n",
            "Epoch: 61 batch: 110 | loss: 0.0012246549595147371\n",
            "Epoch: 61 valLoss: 0.00085945499970108\n"
          ]
        },
        {
          "output_type": "stream",
          "name": "stderr",
          "text": [
            "/usr/local/lib/python3.10/dist-packages/torch/utils/data/dataloader.py:617: UserWarning: This DataLoader will create 4 worker processes in total. Our suggested max number of worker in current system is 2, which is smaller than what this DataLoader is going to create. Please be aware that excessive worker creation might get DataLoader running slow or even freeze, lower the worker number to avoid potential slowness/freeze if necessary.\n",
            "  warnings.warn(\n"
          ]
        },
        {
          "output_type": "stream",
          "name": "stdout",
          "text": [
            "Epoch: 62 batch: 0 | loss: 0.0015788646414875984\n",
            "Epoch: 62 batch: 10 | loss: 0.0013813566183671355\n",
            "Epoch: 62 batch: 20 | loss: 0.0014697378501296043\n",
            "Epoch: 62 batch: 30 | loss: 0.002427272964268923\n",
            "Epoch: 62 batch: 40 | loss: 0.002320061204954982\n",
            "Epoch: 62 batch: 50 | loss: 0.0018752512987703085\n",
            "Epoch: 62 batch: 60 | loss: 0.0016801761230453849\n",
            "Epoch: 62 batch: 70 | loss: 0.0018041959265246987\n",
            "Epoch: 62 batch: 80 | loss: 0.0008308653486892581\n",
            "Epoch: 62 batch: 90 | loss: 0.0008200297015719116\n",
            "Epoch: 62 batch: 100 | loss: 0.001375422696582973\n",
            "Epoch: 62 batch: 110 | loss: 0.0014221505261957645\n",
            "Epoch: 62 valLoss: 0.0009406899429062399\n"
          ]
        },
        {
          "output_type": "stream",
          "name": "stderr",
          "text": [
            "/usr/local/lib/python3.10/dist-packages/torch/utils/data/dataloader.py:617: UserWarning: This DataLoader will create 4 worker processes in total. Our suggested max number of worker in current system is 2, which is smaller than what this DataLoader is going to create. Please be aware that excessive worker creation might get DataLoader running slow or even freeze, lower the worker number to avoid potential slowness/freeze if necessary.\n",
            "  warnings.warn(\n"
          ]
        },
        {
          "output_type": "stream",
          "name": "stdout",
          "text": [
            "Epoch: 63 batch: 0 | loss: 0.0016423127381131053\n",
            "Epoch: 63 batch: 10 | loss: 0.0010584177216514945\n",
            "Epoch: 63 batch: 20 | loss: 0.0014021426904946566\n",
            "Epoch: 63 batch: 30 | loss: 0.0018816449446603656\n",
            "Epoch: 63 batch: 40 | loss: 0.0016719477716833353\n",
            "Epoch: 63 batch: 50 | loss: 0.002258068649098277\n",
            "Epoch: 63 batch: 60 | loss: 0.0015644030645489693\n",
            "Epoch: 63 batch: 70 | loss: 0.0018618481699377298\n",
            "Epoch: 63 batch: 80 | loss: 0.001019381219521165\n",
            "Epoch: 63 batch: 90 | loss: 0.0010351486271247268\n",
            "Epoch: 63 batch: 100 | loss: 0.0015329570742323995\n",
            "Epoch: 63 batch: 110 | loss: 0.00142021500505507\n",
            "Epoch: 63 valLoss: 0.0009003640835246609\n"
          ]
        },
        {
          "output_type": "stream",
          "name": "stderr",
          "text": [
            "/usr/local/lib/python3.10/dist-packages/torch/utils/data/dataloader.py:617: UserWarning: This DataLoader will create 4 worker processes in total. Our suggested max number of worker in current system is 2, which is smaller than what this DataLoader is going to create. Please be aware that excessive worker creation might get DataLoader running slow or even freeze, lower the worker number to avoid potential slowness/freeze if necessary.\n",
            "  warnings.warn(\n"
          ]
        },
        {
          "output_type": "stream",
          "name": "stdout",
          "text": [
            "Epoch: 64 batch: 0 | loss: 0.0013763902243226767\n",
            "Epoch: 64 batch: 10 | loss: 0.0012559725437313318\n",
            "Epoch: 64 batch: 20 | loss: 0.0011218261206522584\n",
            "Epoch: 64 batch: 30 | loss: 0.0015777949010953307\n",
            "Epoch: 64 batch: 40 | loss: 0.0015356767689809203\n",
            "Epoch: 64 batch: 50 | loss: 0.0017383922822773457\n",
            "Epoch: 64 batch: 60 | loss: 0.0013548226561397314\n",
            "Epoch: 64 batch: 70 | loss: 0.0019587483257055283\n",
            "Epoch: 64 batch: 80 | loss: 0.0008736819145269692\n",
            "Epoch: 64 batch: 90 | loss: 0.0009094177512452006\n",
            "Epoch: 64 batch: 100 | loss: 0.0015246118418872356\n",
            "Epoch: 64 batch: 110 | loss: 0.0013081792276352644\n",
            "Epoch: 64 valLoss: 0.000889175631851687\n"
          ]
        },
        {
          "output_type": "stream",
          "name": "stderr",
          "text": [
            "/usr/local/lib/python3.10/dist-packages/torch/utils/data/dataloader.py:617: UserWarning: This DataLoader will create 4 worker processes in total. Our suggested max number of worker in current system is 2, which is smaller than what this DataLoader is going to create. Please be aware that excessive worker creation might get DataLoader running slow or even freeze, lower the worker number to avoid potential slowness/freeze if necessary.\n",
            "  warnings.warn(\n"
          ]
        },
        {
          "output_type": "stream",
          "name": "stdout",
          "text": [
            "Epoch: 65 batch: 0 | loss: 0.0017173528904095292\n",
            "Epoch: 65 batch: 10 | loss: 0.0012069684453308582\n",
            "Epoch: 65 batch: 20 | loss: 0.0012613924918696284\n",
            "Epoch: 65 batch: 30 | loss: 0.001492158742621541\n",
            "Epoch: 65 batch: 40 | loss: 0.0021893063094466925\n",
            "Epoch: 65 batch: 50 | loss: 0.001913878950290382\n",
            "Epoch: 65 batch: 60 | loss: 0.0015035370597615838\n",
            "Epoch: 65 batch: 70 | loss: 0.0017136958194896579\n",
            "Epoch: 65 batch: 80 | loss: 0.0008826866396702826\n",
            "Epoch: 65 batch: 90 | loss: 0.0007088735001161695\n",
            "Epoch: 65 batch: 100 | loss: 0.001403649803251028\n",
            "Epoch: 65 batch: 110 | loss: 0.0011123382719233632\n",
            "Epoch: 65 valLoss: 0.0008791600632620889\n"
          ]
        },
        {
          "output_type": "stream",
          "name": "stderr",
          "text": [
            "/usr/local/lib/python3.10/dist-packages/torch/utils/data/dataloader.py:617: UserWarning: This DataLoader will create 4 worker processes in total. Our suggested max number of worker in current system is 2, which is smaller than what this DataLoader is going to create. Please be aware that excessive worker creation might get DataLoader running slow or even freeze, lower the worker number to avoid potential slowness/freeze if necessary.\n",
            "  warnings.warn(\n"
          ]
        },
        {
          "output_type": "stream",
          "name": "stdout",
          "text": [
            "Epoch: 66 batch: 0 | loss: 0.0012921914458274841\n",
            "Epoch: 66 batch: 10 | loss: 0.0011443940456956625\n",
            "Epoch: 66 batch: 20 | loss: 0.0012541634496301413\n",
            "Epoch: 66 batch: 30 | loss: 0.0019118308555334806\n",
            "Epoch: 66 batch: 40 | loss: 0.0024412672501057386\n",
            "Epoch: 66 batch: 50 | loss: 0.0023421423975378275\n",
            "Epoch: 66 batch: 60 | loss: 0.0017129727639257908\n",
            "Epoch: 66 batch: 70 | loss: 0.0018983373884111643\n",
            "Epoch: 66 batch: 80 | loss: 0.0010176332434639335\n",
            "Epoch: 66 batch: 90 | loss: 0.0009393488289788365\n",
            "Epoch: 66 batch: 100 | loss: 0.001669316436164081\n",
            "Epoch: 66 batch: 110 | loss: 0.0012296383501961827\n",
            "Epoch: 66 valLoss: 0.0008919556484753208\n"
          ]
        },
        {
          "output_type": "stream",
          "name": "stderr",
          "text": [
            "/usr/local/lib/python3.10/dist-packages/torch/utils/data/dataloader.py:617: UserWarning: This DataLoader will create 4 worker processes in total. Our suggested max number of worker in current system is 2, which is smaller than what this DataLoader is going to create. Please be aware that excessive worker creation might get DataLoader running slow or even freeze, lower the worker number to avoid potential slowness/freeze if necessary.\n",
            "  warnings.warn(\n"
          ]
        },
        {
          "output_type": "stream",
          "name": "stdout",
          "text": [
            "Epoch: 67 batch: 0 | loss: 0.0012599823530763388\n",
            "Epoch: 67 batch: 10 | loss: 0.0012765990104526281\n",
            "Epoch: 67 batch: 20 | loss: 0.0013731969520449638\n",
            "Epoch: 67 batch: 30 | loss: 0.0015141773037612438\n",
            "Epoch: 67 batch: 40 | loss: 0.0017618730198591948\n",
            "Epoch: 67 batch: 50 | loss: 0.0018732724711298943\n",
            "Epoch: 67 batch: 60 | loss: 0.0014773862203583121\n",
            "Epoch: 67 batch: 70 | loss: 0.0022970407735556364\n",
            "Epoch: 67 batch: 80 | loss: 0.000867358292452991\n",
            "Epoch: 67 batch: 90 | loss: 0.0011937313247472048\n",
            "Epoch: 67 batch: 100 | loss: 0.0015355277573689818\n",
            "Epoch: 67 batch: 110 | loss: 0.0018323801923543215\n",
            "Epoch: 67 valLoss: 0.0008536625493359276\n"
          ]
        },
        {
          "output_type": "stream",
          "name": "stderr",
          "text": [
            "/usr/local/lib/python3.10/dist-packages/torch/utils/data/dataloader.py:617: UserWarning: This DataLoader will create 4 worker processes in total. Our suggested max number of worker in current system is 2, which is smaller than what this DataLoader is going to create. Please be aware that excessive worker creation might get DataLoader running slow or even freeze, lower the worker number to avoid potential slowness/freeze if necessary.\n",
            "  warnings.warn(\n"
          ]
        },
        {
          "output_type": "stream",
          "name": "stdout",
          "text": [
            "Epoch: 68 batch: 0 | loss: 0.0017041678074747324\n",
            "Epoch: 68 batch: 10 | loss: 0.0014959905529394746\n",
            "Epoch: 68 batch: 20 | loss: 0.0009563215426169336\n",
            "Epoch: 68 batch: 30 | loss: 0.0018745055422186852\n",
            "Epoch: 68 batch: 40 | loss: 0.002067896071821451\n",
            "Epoch: 68 batch: 50 | loss: 0.0020017107017338276\n",
            "Epoch: 68 batch: 60 | loss: 0.0016733782831579447\n",
            "Epoch: 68 batch: 70 | loss: 0.0018047490157186985\n",
            "Epoch: 68 batch: 80 | loss: 0.0008691148832440376\n",
            "Epoch: 68 batch: 90 | loss: 0.0007778932922519743\n",
            "Epoch: 68 batch: 100 | loss: 0.0013714884407818317\n",
            "Epoch: 68 batch: 110 | loss: 0.0013207278680056334\n",
            "Epoch: 68 valLoss: 0.0008806345576248807\n"
          ]
        },
        {
          "output_type": "stream",
          "name": "stderr",
          "text": [
            "/usr/local/lib/python3.10/dist-packages/torch/utils/data/dataloader.py:617: UserWarning: This DataLoader will create 4 worker processes in total. Our suggested max number of worker in current system is 2, which is smaller than what this DataLoader is going to create. Please be aware that excessive worker creation might get DataLoader running slow or even freeze, lower the worker number to avoid potential slowness/freeze if necessary.\n",
            "  warnings.warn(\n"
          ]
        },
        {
          "output_type": "stream",
          "name": "stdout",
          "text": [
            "Epoch: 69 batch: 0 | loss: 0.0015544092748314142\n",
            "Epoch: 69 batch: 10 | loss: 0.0012674753088504076\n",
            "Epoch: 69 batch: 20 | loss: 0.0010560853406786919\n",
            "Epoch: 69 batch: 30 | loss: 0.0017473690677434206\n",
            "Epoch: 69 batch: 40 | loss: 0.0011265575885772705\n",
            "Epoch: 69 batch: 50 | loss: 0.0016176796052604914\n",
            "Epoch: 69 batch: 60 | loss: 0.0016266657039523125\n",
            "Epoch: 69 batch: 70 | loss: 0.0014615663094446063\n",
            "Epoch: 69 batch: 80 | loss: 0.0008152859518304467\n",
            "Epoch: 69 batch: 90 | loss: 0.0008285378571599722\n",
            "Epoch: 69 batch: 100 | loss: 0.0014291389379650354\n",
            "Epoch: 69 batch: 110 | loss: 0.0014263448538258672\n",
            "Epoch: 69 valLoss: 0.0008440608746105349\n"
          ]
        },
        {
          "output_type": "stream",
          "name": "stderr",
          "text": [
            "/usr/local/lib/python3.10/dist-packages/torch/utils/data/dataloader.py:617: UserWarning: This DataLoader will create 4 worker processes in total. Our suggested max number of worker in current system is 2, which is smaller than what this DataLoader is going to create. Please be aware that excessive worker creation might get DataLoader running slow or even freeze, lower the worker number to avoid potential slowness/freeze if necessary.\n",
            "  warnings.warn(\n"
          ]
        },
        {
          "output_type": "stream",
          "name": "stdout",
          "text": [
            "Epoch: 70 batch: 0 | loss: 0.0015946821076795459\n",
            "Epoch: 70 batch: 10 | loss: 0.0011434670304879546\n",
            "Epoch: 70 batch: 20 | loss: 0.0010837891604751348\n",
            "Epoch: 70 batch: 30 | loss: 0.0015627131797373295\n",
            "Epoch: 70 batch: 40 | loss: 0.0018352140905335546\n",
            "Epoch: 70 batch: 50 | loss: 0.0019648740999400616\n",
            "Epoch: 70 batch: 60 | loss: 0.0011911675101146102\n",
            "Epoch: 70 batch: 70 | loss: 0.0020123820286244154\n",
            "Epoch: 70 batch: 80 | loss: 0.0010113633470609784\n",
            "Epoch: 70 batch: 90 | loss: 0.0007761999149806798\n",
            "Epoch: 70 batch: 100 | loss: 0.0015233326703310013\n",
            "Epoch: 70 batch: 110 | loss: 0.0010874888394027948\n",
            "Epoch: 70 valLoss: 0.0010656633516518826\n"
          ]
        },
        {
          "output_type": "stream",
          "name": "stderr",
          "text": [
            "/usr/local/lib/python3.10/dist-packages/torch/utils/data/dataloader.py:617: UserWarning: This DataLoader will create 4 worker processes in total. Our suggested max number of worker in current system is 2, which is smaller than what this DataLoader is going to create. Please be aware that excessive worker creation might get DataLoader running slow or even freeze, lower the worker number to avoid potential slowness/freeze if necessary.\n",
            "  warnings.warn(\n"
          ]
        },
        {
          "output_type": "stream",
          "name": "stdout",
          "text": [
            "Epoch: 71 batch: 0 | loss: 0.001485328539274633\n",
            "Epoch: 71 batch: 10 | loss: 0.0012283407850190997\n",
            "Epoch: 71 batch: 20 | loss: 0.0010116125922650099\n",
            "Epoch: 71 batch: 30 | loss: 0.002722223289310932\n",
            "Epoch: 71 batch: 40 | loss: 0.002619742648676038\n",
            "Epoch: 71 batch: 50 | loss: 0.0020473464392125607\n",
            "Epoch: 71 batch: 60 | loss: 0.0016267175087705255\n",
            "Epoch: 71 batch: 70 | loss: 0.0018434759695082903\n",
            "Epoch: 71 batch: 80 | loss: 0.0008827611454762518\n",
            "Epoch: 71 batch: 90 | loss: 0.0008459006203338504\n",
            "Epoch: 71 batch: 100 | loss: 0.0014912646729499102\n",
            "Epoch: 71 batch: 110 | loss: 0.0011961782583966851\n",
            "Epoch: 71 valLoss: 0.0008739314062765544\n"
          ]
        },
        {
          "output_type": "stream",
          "name": "stderr",
          "text": [
            "/usr/local/lib/python3.10/dist-packages/torch/utils/data/dataloader.py:617: UserWarning: This DataLoader will create 4 worker processes in total. Our suggested max number of worker in current system is 2, which is smaller than what this DataLoader is going to create. Please be aware that excessive worker creation might get DataLoader running slow or even freeze, lower the worker number to avoid potential slowness/freeze if necessary.\n",
            "  warnings.warn(\n"
          ]
        },
        {
          "output_type": "stream",
          "name": "stdout",
          "text": [
            "Epoch: 72 batch: 0 | loss: 0.0015600606566295028\n",
            "Epoch: 72 batch: 10 | loss: 0.0012173063587397337\n",
            "Epoch: 72 batch: 20 | loss: 0.0013942315708845854\n",
            "Epoch: 72 batch: 30 | loss: 0.0019612337928265333\n",
            "Epoch: 72 batch: 40 | loss: 0.0019284583395347\n",
            "Epoch: 72 batch: 50 | loss: 0.0016906363889575005\n",
            "Epoch: 72 batch: 60 | loss: 0.001419740030542016\n",
            "Epoch: 72 batch: 70 | loss: 0.0016107235569506884\n",
            "Epoch: 72 batch: 80 | loss: 0.0008517951937392354\n",
            "Epoch: 72 batch: 90 | loss: 0.000781417649704963\n",
            "Epoch: 72 batch: 100 | loss: 0.0015734235057607293\n",
            "Epoch: 72 batch: 110 | loss: 0.0010725222527980804\n",
            "Epoch: 72 valLoss: 0.0008373778593343431\n"
          ]
        },
        {
          "output_type": "stream",
          "name": "stderr",
          "text": [
            "/usr/local/lib/python3.10/dist-packages/torch/utils/data/dataloader.py:617: UserWarning: This DataLoader will create 4 worker processes in total. Our suggested max number of worker in current system is 2, which is smaller than what this DataLoader is going to create. Please be aware that excessive worker creation might get DataLoader running slow or even freeze, lower the worker number to avoid potential slowness/freeze if necessary.\n",
            "  warnings.warn(\n"
          ]
        },
        {
          "output_type": "stream",
          "name": "stdout",
          "text": [
            "Epoch: 73 batch: 0 | loss: 0.0015377220697700977\n",
            "Epoch: 73 batch: 10 | loss: 0.0010418456513434649\n",
            "Epoch: 73 batch: 20 | loss: 0.0011860462836921215\n",
            "Epoch: 73 batch: 30 | loss: 0.0017847541021183133\n",
            "Epoch: 73 batch: 40 | loss: 0.0013666892191395164\n",
            "Epoch: 73 batch: 50 | loss: 0.002024958608672023\n",
            "Epoch: 73 batch: 60 | loss: 0.001406340510584414\n",
            "Epoch: 73 batch: 70 | loss: 0.0019413615809753537\n",
            "Epoch: 73 batch: 80 | loss: 0.0009088627411983907\n",
            "Epoch: 73 batch: 90 | loss: 0.0007827546796761453\n",
            "Epoch: 73 batch: 100 | loss: 0.0015920590376481414\n",
            "Epoch: 73 batch: 110 | loss: 0.0012724120169878006\n",
            "Epoch: 73 valLoss: 0.0012766622269123412\n"
          ]
        },
        {
          "output_type": "stream",
          "name": "stderr",
          "text": [
            "/usr/local/lib/python3.10/dist-packages/torch/utils/data/dataloader.py:617: UserWarning: This DataLoader will create 4 worker processes in total. Our suggested max number of worker in current system is 2, which is smaller than what this DataLoader is going to create. Please be aware that excessive worker creation might get DataLoader running slow or even freeze, lower the worker number to avoid potential slowness/freeze if necessary.\n",
            "  warnings.warn(\n"
          ]
        },
        {
          "output_type": "stream",
          "name": "stdout",
          "text": [
            "Epoch: 74 batch: 0 | loss: 0.002005359623581171\n",
            "Epoch: 74 batch: 10 | loss: 0.001695904997177422\n",
            "Epoch: 74 batch: 20 | loss: 0.001128850388340652\n",
            "Epoch: 74 batch: 30 | loss: 0.002206843113526702\n",
            "Epoch: 74 batch: 40 | loss: 0.001925155520439148\n",
            "Epoch: 74 batch: 50 | loss: 0.0018279546638950706\n",
            "Epoch: 74 batch: 60 | loss: 0.0015632950235158205\n",
            "Epoch: 74 batch: 70 | loss: 0.0014134488301351666\n",
            "Epoch: 74 batch: 80 | loss: 0.0008116471581161022\n",
            "Epoch: 74 batch: 90 | loss: 0.0008466757135465741\n",
            "Epoch: 74 batch: 100 | loss: 0.0015331944450736046\n",
            "Epoch: 74 batch: 110 | loss: 0.0012047991622239351\n",
            "Epoch: 74 valLoss: 0.0008822556359276558\n"
          ]
        },
        {
          "output_type": "stream",
          "name": "stderr",
          "text": [
            "/usr/local/lib/python3.10/dist-packages/torch/utils/data/dataloader.py:617: UserWarning: This DataLoader will create 4 worker processes in total. Our suggested max number of worker in current system is 2, which is smaller than what this DataLoader is going to create. Please be aware that excessive worker creation might get DataLoader running slow or even freeze, lower the worker number to avoid potential slowness/freeze if necessary.\n",
            "  warnings.warn(\n"
          ]
        },
        {
          "output_type": "stream",
          "name": "stdout",
          "text": [
            "Epoch: 75 batch: 0 | loss: 0.001499267527833581\n",
            "Epoch: 75 batch: 10 | loss: 0.001394533785060048\n",
            "Epoch: 75 batch: 20 | loss: 0.0008996339747682214\n",
            "Epoch: 75 batch: 30 | loss: 0.0022948156110942364\n",
            "Epoch: 75 batch: 40 | loss: 0.001615963876247406\n",
            "Epoch: 75 batch: 50 | loss: 0.001700832974165678\n",
            "Epoch: 75 batch: 60 | loss: 0.0014461986720561981\n",
            "Epoch: 75 batch: 70 | loss: 0.0013689813204109669\n",
            "Epoch: 75 batch: 80 | loss: 0.0010719606652855873\n",
            "Epoch: 75 batch: 90 | loss: 0.0006833726656623185\n",
            "Epoch: 75 batch: 100 | loss: 0.0013776347041130066\n",
            "Epoch: 75 batch: 110 | loss: 0.0013217652449384332\n",
            "Epoch: 75 valLoss: 0.0008956224022168777\n"
          ]
        },
        {
          "output_type": "stream",
          "name": "stderr",
          "text": [
            "/usr/local/lib/python3.10/dist-packages/torch/utils/data/dataloader.py:617: UserWarning: This DataLoader will create 4 worker processes in total. Our suggested max number of worker in current system is 2, which is smaller than what this DataLoader is going to create. Please be aware that excessive worker creation might get DataLoader running slow or even freeze, lower the worker number to avoid potential slowness/freeze if necessary.\n",
            "  warnings.warn(\n"
          ]
        },
        {
          "output_type": "stream",
          "name": "stdout",
          "text": [
            "Epoch: 76 batch: 0 | loss: 0.0017512593185529113\n",
            "Epoch: 76 batch: 10 | loss: 0.001332998275756836\n",
            "Epoch: 76 batch: 20 | loss: 0.0013770746299996972\n",
            "Epoch: 76 batch: 30 | loss: 0.0023128630127757788\n",
            "Epoch: 76 batch: 40 | loss: 0.001460862928070128\n",
            "Epoch: 76 batch: 50 | loss: 0.0017403631936758757\n",
            "Epoch: 76 batch: 60 | loss: 0.0014855061890557408\n",
            "Epoch: 76 batch: 70 | loss: 0.0018645559903234243\n",
            "Epoch: 76 batch: 80 | loss: 0.0009444552124477923\n",
            "Epoch: 76 batch: 90 | loss: 0.0007177894003689289\n",
            "Epoch: 76 batch: 100 | loss: 0.0013450963888317347\n",
            "Epoch: 76 batch: 110 | loss: 0.0011683214688673615\n",
            "Epoch: 76 valLoss: 0.0009104204984853862\n"
          ]
        },
        {
          "output_type": "stream",
          "name": "stderr",
          "text": [
            "/usr/local/lib/python3.10/dist-packages/torch/utils/data/dataloader.py:617: UserWarning: This DataLoader will create 4 worker processes in total. Our suggested max number of worker in current system is 2, which is smaller than what this DataLoader is going to create. Please be aware that excessive worker creation might get DataLoader running slow or even freeze, lower the worker number to avoid potential slowness/freeze if necessary.\n",
            "  warnings.warn(\n"
          ]
        },
        {
          "output_type": "stream",
          "name": "stdout",
          "text": [
            "Epoch: 77 batch: 0 | loss: 0.0016177428187802434\n",
            "Epoch: 77 batch: 10 | loss: 0.0012695640325546265\n",
            "Epoch: 77 batch: 20 | loss: 0.0011189564829692245\n",
            "Epoch: 77 batch: 30 | loss: 0.0019393805414438248\n",
            "Epoch: 77 batch: 40 | loss: 0.001911061117425561\n",
            "Epoch: 77 batch: 50 | loss: 0.002162960125133395\n",
            "Epoch: 77 batch: 60 | loss: 0.0017228696960955858\n",
            "Epoch: 77 batch: 70 | loss: 0.0016947868280112743\n",
            "Epoch: 77 batch: 80 | loss: 0.0008181769517250359\n",
            "Epoch: 77 batch: 90 | loss: 0.0007049411069601774\n",
            "Epoch: 77 batch: 100 | loss: 0.0014120558043941855\n",
            "Epoch: 77 batch: 110 | loss: 0.0012363980058580637\n",
            "Epoch: 77 valLoss: 0.000933227549020782\n"
          ]
        },
        {
          "output_type": "stream",
          "name": "stderr",
          "text": [
            "/usr/local/lib/python3.10/dist-packages/torch/utils/data/dataloader.py:617: UserWarning: This DataLoader will create 4 worker processes in total. Our suggested max number of worker in current system is 2, which is smaller than what this DataLoader is going to create. Please be aware that excessive worker creation might get DataLoader running slow or even freeze, lower the worker number to avoid potential slowness/freeze if necessary.\n",
            "  warnings.warn(\n"
          ]
        },
        {
          "output_type": "stream",
          "name": "stdout",
          "text": [
            "Epoch: 78 batch: 0 | loss: 0.0014395698672160506\n",
            "Epoch: 78 batch: 10 | loss: 0.0012893035309389234\n",
            "Epoch: 78 batch: 20 | loss: 0.0012651910074055195\n",
            "Epoch: 78 batch: 30 | loss: 0.0017572552897036076\n",
            "Epoch: 78 batch: 40 | loss: 0.002128915162757039\n",
            "Epoch: 78 batch: 50 | loss: 0.0020882762037217617\n",
            "Epoch: 78 batch: 60 | loss: 0.0016663321293890476\n",
            "Epoch: 78 batch: 70 | loss: 0.0018996698781847954\n",
            "Epoch: 78 batch: 80 | loss: 0.0010582946706563234\n",
            "Epoch: 78 batch: 90 | loss: 0.0008430779562331736\n",
            "Epoch: 78 batch: 100 | loss: 0.0014337669126689434\n",
            "Epoch: 78 batch: 110 | loss: 0.0011955820955336094\n",
            "Epoch: 78 valLoss: 0.0009685583179201758\n"
          ]
        },
        {
          "output_type": "stream",
          "name": "stderr",
          "text": [
            "/usr/local/lib/python3.10/dist-packages/torch/utils/data/dataloader.py:617: UserWarning: This DataLoader will create 4 worker processes in total. Our suggested max number of worker in current system is 2, which is smaller than what this DataLoader is going to create. Please be aware that excessive worker creation might get DataLoader running slow or even freeze, lower the worker number to avoid potential slowness/freeze if necessary.\n",
            "  warnings.warn(\n"
          ]
        },
        {
          "output_type": "stream",
          "name": "stdout",
          "text": [
            "Epoch: 79 batch: 0 | loss: 0.0016847957158461213\n",
            "Epoch: 79 batch: 10 | loss: 0.0010526512051001191\n",
            "Epoch: 79 batch: 20 | loss: 0.0009444412426091731\n",
            "Epoch: 79 batch: 30 | loss: 0.0012255471665412188\n",
            "Epoch: 79 batch: 40 | loss: 0.001984455855563283\n",
            "Epoch: 79 batch: 50 | loss: 0.001640409231185913\n",
            "Epoch: 79 batch: 60 | loss: 0.0014827310806140304\n",
            "Epoch: 79 batch: 70 | loss: 0.0016539143398404121\n",
            "Epoch: 79 batch: 80 | loss: 0.000957725802436471\n",
            "Epoch: 79 batch: 90 | loss: 0.0007640732801519334\n",
            "Epoch: 79 batch: 100 | loss: 0.0012755881762132049\n",
            "Epoch: 79 batch: 110 | loss: 0.001409381628036499\n",
            "Epoch: 79 valLoss: 0.0009553514840948752\n"
          ]
        },
        {
          "output_type": "stream",
          "name": "stderr",
          "text": [
            "/usr/local/lib/python3.10/dist-packages/torch/utils/data/dataloader.py:617: UserWarning: This DataLoader will create 4 worker processes in total. Our suggested max number of worker in current system is 2, which is smaller than what this DataLoader is going to create. Please be aware that excessive worker creation might get DataLoader running slow or even freeze, lower the worker number to avoid potential slowness/freeze if necessary.\n",
            "  warnings.warn(\n"
          ]
        },
        {
          "output_type": "stream",
          "name": "stdout",
          "text": [
            "Epoch: 80 batch: 0 | loss: 0.0020290527027100325\n",
            "Epoch: 80 batch: 10 | loss: 0.0013077965704724193\n",
            "Epoch: 80 batch: 20 | loss: 0.0010064563248306513\n",
            "Epoch: 80 batch: 30 | loss: 0.001675892504863441\n",
            "Epoch: 80 batch: 40 | loss: 0.0016786212800070643\n",
            "Epoch: 80 batch: 50 | loss: 0.00174592318944633\n",
            "Epoch: 80 batch: 60 | loss: 0.0012843853328377008\n",
            "Epoch: 80 batch: 70 | loss: 0.001417101244442165\n",
            "Epoch: 80 batch: 80 | loss: 0.0009016661206260324\n",
            "Epoch: 80 batch: 90 | loss: 0.0009090822422876954\n",
            "Epoch: 80 batch: 100 | loss: 0.0016985047841444612\n",
            "Epoch: 80 batch: 110 | loss: 0.0011534749064594507\n",
            "Epoch: 80 valLoss: 0.0008745444885792736\n"
          ]
        },
        {
          "output_type": "stream",
          "name": "stderr",
          "text": [
            "/usr/local/lib/python3.10/dist-packages/torch/utils/data/dataloader.py:617: UserWarning: This DataLoader will create 4 worker processes in total. Our suggested max number of worker in current system is 2, which is smaller than what this DataLoader is going to create. Please be aware that excessive worker creation might get DataLoader running slow or even freeze, lower the worker number to avoid potential slowness/freeze if necessary.\n",
            "  warnings.warn(\n"
          ]
        },
        {
          "output_type": "stream",
          "name": "stdout",
          "text": [
            "Epoch: 81 batch: 0 | loss: 0.0013889989349991083\n",
            "Epoch: 81 batch: 10 | loss: 0.0011226580245420337\n",
            "Epoch: 81 batch: 20 | loss: 0.0012888703495264053\n",
            "Epoch: 81 batch: 30 | loss: 0.0015483313472941518\n",
            "Epoch: 81 batch: 40 | loss: 0.0020829103887081146\n",
            "Epoch: 81 batch: 50 | loss: 0.0019882041960954666\n",
            "Epoch: 81 batch: 60 | loss: 0.0018627990502864122\n",
            "Epoch: 81 batch: 70 | loss: 0.001886775717139244\n",
            "Epoch: 81 batch: 80 | loss: 0.0008794746245257556\n",
            "Epoch: 81 batch: 90 | loss: 0.000970040971878916\n",
            "Epoch: 81 batch: 100 | loss: 0.0013567858841270208\n",
            "Epoch: 81 batch: 110 | loss: 0.0012060070876032114\n",
            "Epoch: 81 valLoss: 0.0008304117864255105\n"
          ]
        },
        {
          "output_type": "stream",
          "name": "stderr",
          "text": [
            "/usr/local/lib/python3.10/dist-packages/torch/utils/data/dataloader.py:617: UserWarning: This DataLoader will create 4 worker processes in total. Our suggested max number of worker in current system is 2, which is smaller than what this DataLoader is going to create. Please be aware that excessive worker creation might get DataLoader running slow or even freeze, lower the worker number to avoid potential slowness/freeze if necessary.\n",
            "  warnings.warn(\n"
          ]
        },
        {
          "output_type": "stream",
          "name": "stdout",
          "text": [
            "Epoch: 82 batch: 0 | loss: 0.0014558802358806133\n",
            "Epoch: 82 batch: 10 | loss: 0.001277637667953968\n",
            "Epoch: 82 batch: 20 | loss: 0.0010402812622487545\n",
            "Epoch: 82 batch: 30 | loss: 0.0018268793355673552\n",
            "Epoch: 82 batch: 40 | loss: 0.002370578935369849\n",
            "Epoch: 82 batch: 50 | loss: 0.0018602940253913403\n",
            "Epoch: 82 batch: 60 | loss: 0.0015716247726231813\n",
            "Epoch: 82 batch: 70 | loss: 0.0017192763043567538\n",
            "Epoch: 82 batch: 80 | loss: 0.0008807023405097425\n",
            "Epoch: 82 batch: 90 | loss: 0.0008019539527595043\n",
            "Epoch: 82 batch: 100 | loss: 0.0014143846929073334\n",
            "Epoch: 82 batch: 110 | loss: 0.0014038083609193563\n",
            "Epoch: 82 valLoss: 0.0008036103004374317\n"
          ]
        },
        {
          "output_type": "stream",
          "name": "stderr",
          "text": [
            "/usr/local/lib/python3.10/dist-packages/torch/utils/data/dataloader.py:617: UserWarning: This DataLoader will create 4 worker processes in total. Our suggested max number of worker in current system is 2, which is smaller than what this DataLoader is going to create. Please be aware that excessive worker creation might get DataLoader running slow or even freeze, lower the worker number to avoid potential slowness/freeze if necessary.\n",
            "  warnings.warn(\n"
          ]
        },
        {
          "output_type": "stream",
          "name": "stdout",
          "text": [
            "Epoch: 83 batch: 0 | loss: 0.0017342785140499473\n",
            "Epoch: 83 batch: 10 | loss: 0.0012212246656417847\n",
            "Epoch: 83 batch: 20 | loss: 0.001197655452415347\n",
            "Epoch: 83 batch: 30 | loss: 0.001315156347118318\n",
            "Epoch: 83 batch: 40 | loss: 0.0015637974720448256\n",
            "Epoch: 83 batch: 50 | loss: 0.001765300752595067\n",
            "Epoch: 83 batch: 60 | loss: 0.001536238705739379\n",
            "Epoch: 83 batch: 70 | loss: 0.0016776846023276448\n",
            "Epoch: 83 batch: 80 | loss: 0.0008809425635263324\n",
            "Epoch: 83 batch: 90 | loss: 0.001061168615706265\n",
            "Epoch: 83 batch: 100 | loss: 0.0014311042614281178\n",
            "Epoch: 83 batch: 110 | loss: 0.0010487008839845657\n",
            "Epoch: 83 valLoss: 0.0008970232781656912\n"
          ]
        },
        {
          "output_type": "stream",
          "name": "stderr",
          "text": [
            "/usr/local/lib/python3.10/dist-packages/torch/utils/data/dataloader.py:617: UserWarning: This DataLoader will create 4 worker processes in total. Our suggested max number of worker in current system is 2, which is smaller than what this DataLoader is going to create. Please be aware that excessive worker creation might get DataLoader running slow or even freeze, lower the worker number to avoid potential slowness/freeze if necessary.\n",
            "  warnings.warn(\n"
          ]
        },
        {
          "output_type": "stream",
          "name": "stdout",
          "text": [
            "Epoch: 84 batch: 0 | loss: 0.0015647392719984055\n",
            "Epoch: 84 batch: 10 | loss: 0.001081893453374505\n",
            "Epoch: 84 batch: 20 | loss: 0.0009227027767337859\n",
            "Epoch: 84 batch: 30 | loss: 0.0017462217947468162\n",
            "Epoch: 84 batch: 40 | loss: 0.0013213686179369688\n",
            "Epoch: 84 batch: 50 | loss: 0.001649634912610054\n",
            "Epoch: 84 batch: 60 | loss: 0.0013880946207791567\n",
            "Epoch: 84 batch: 70 | loss: 0.0014037765795364976\n",
            "Epoch: 84 batch: 80 | loss: 0.0008885462302714586\n",
            "Epoch: 84 batch: 90 | loss: 0.0008437683572992682\n",
            "Epoch: 84 batch: 100 | loss: 0.0015835354570299387\n",
            "Epoch: 84 batch: 110 | loss: 0.0012249753344804049\n",
            "Epoch: 84 valLoss: 0.0009272046952886028\n"
          ]
        },
        {
          "output_type": "stream",
          "name": "stderr",
          "text": [
            "/usr/local/lib/python3.10/dist-packages/torch/utils/data/dataloader.py:617: UserWarning: This DataLoader will create 4 worker processes in total. Our suggested max number of worker in current system is 2, which is smaller than what this DataLoader is going to create. Please be aware that excessive worker creation might get DataLoader running slow or even freeze, lower the worker number to avoid potential slowness/freeze if necessary.\n",
            "  warnings.warn(\n"
          ]
        },
        {
          "output_type": "stream",
          "name": "stdout",
          "text": [
            "Epoch: 85 batch: 0 | loss: 0.0015118138398975134\n",
            "Epoch: 85 batch: 10 | loss: 0.001132636796683073\n",
            "Epoch: 85 batch: 20 | loss: 0.0010808601509779692\n",
            "Epoch: 85 batch: 30 | loss: 0.0016860070172697306\n",
            "Epoch: 85 batch: 40 | loss: 0.0019057528115808964\n",
            "Epoch: 85 batch: 50 | loss: 0.0017678029835224152\n",
            "Epoch: 85 batch: 60 | loss: 0.0017224866896867752\n",
            "Epoch: 85 batch: 70 | loss: 0.0016266668681055307\n",
            "Epoch: 85 batch: 80 | loss: 0.0009114199201576412\n",
            "Epoch: 85 batch: 90 | loss: 0.0008110477356240153\n",
            "Epoch: 85 batch: 100 | loss: 0.0016718610422685742\n",
            "Epoch: 85 batch: 110 | loss: 0.001040209666825831\n",
            "Epoch: 85 valLoss: 0.0008465818328104277\n"
          ]
        },
        {
          "output_type": "stream",
          "name": "stderr",
          "text": [
            "/usr/local/lib/python3.10/dist-packages/torch/utils/data/dataloader.py:617: UserWarning: This DataLoader will create 4 worker processes in total. Our suggested max number of worker in current system is 2, which is smaller than what this DataLoader is going to create. Please be aware that excessive worker creation might get DataLoader running slow or even freeze, lower the worker number to avoid potential slowness/freeze if necessary.\n",
            "  warnings.warn(\n"
          ]
        },
        {
          "output_type": "stream",
          "name": "stdout",
          "text": [
            "Epoch: 86 batch: 0 | loss: 0.0013923144433647394\n",
            "Epoch: 86 batch: 10 | loss: 0.001358320121653378\n",
            "Epoch: 86 batch: 20 | loss: 0.0010476430179551244\n",
            "Epoch: 86 batch: 30 | loss: 0.001496584853157401\n",
            "Epoch: 86 batch: 40 | loss: 0.0018227602122351527\n",
            "Epoch: 86 batch: 50 | loss: 0.0013706919271498919\n",
            "Epoch: 86 batch: 60 | loss: 0.0013240331318229437\n",
            "Epoch: 86 batch: 70 | loss: 0.0015015196986496449\n",
            "Epoch: 86 batch: 80 | loss: 0.0009119977476075292\n",
            "Epoch: 86 batch: 90 | loss: 0.0009399541886523366\n",
            "Epoch: 86 batch: 100 | loss: 0.0012332058977335691\n",
            "Epoch: 86 batch: 110 | loss: 0.0014523869613185525\n",
            "Epoch: 86 valLoss: 0.0008659445639678852\n"
          ]
        },
        {
          "output_type": "stream",
          "name": "stderr",
          "text": [
            "/usr/local/lib/python3.10/dist-packages/torch/utils/data/dataloader.py:617: UserWarning: This DataLoader will create 4 worker processes in total. Our suggested max number of worker in current system is 2, which is smaller than what this DataLoader is going to create. Please be aware that excessive worker creation might get DataLoader running slow or even freeze, lower the worker number to avoid potential slowness/freeze if necessary.\n",
            "  warnings.warn(\n"
          ]
        },
        {
          "output_type": "stream",
          "name": "stdout",
          "text": [
            "Epoch: 87 batch: 0 | loss: 0.0014509530737996101\n",
            "Epoch: 87 batch: 10 | loss: 0.001285931677557528\n",
            "Epoch: 87 batch: 20 | loss: 0.0007553743780590594\n",
            "Epoch: 87 batch: 30 | loss: 0.0013774081598967314\n",
            "Epoch: 87 batch: 40 | loss: 0.0015895153628662229\n",
            "Epoch: 87 batch: 50 | loss: 0.0017955877119675279\n",
            "Epoch: 87 batch: 60 | loss: 0.0013143394608050585\n",
            "Epoch: 87 batch: 70 | loss: 0.0013710150960832834\n",
            "Epoch: 87 batch: 80 | loss: 0.0007817441946826875\n",
            "Epoch: 87 batch: 90 | loss: 0.000903589534573257\n",
            "Epoch: 87 batch: 100 | loss: 0.001620482187718153\n",
            "Epoch: 87 batch: 110 | loss: 0.0010524929966777563\n",
            "Epoch: 87 valLoss: 0.0008832907707087202\n"
          ]
        },
        {
          "output_type": "stream",
          "name": "stderr",
          "text": [
            "/usr/local/lib/python3.10/dist-packages/torch/utils/data/dataloader.py:617: UserWarning: This DataLoader will create 4 worker processes in total. Our suggested max number of worker in current system is 2, which is smaller than what this DataLoader is going to create. Please be aware that excessive worker creation might get DataLoader running slow or even freeze, lower the worker number to avoid potential slowness/freeze if necessary.\n",
            "  warnings.warn(\n"
          ]
        },
        {
          "output_type": "stream",
          "name": "stdout",
          "text": [
            "Epoch: 88 batch: 0 | loss: 0.0013719802955165505\n",
            "Epoch: 88 batch: 10 | loss: 0.000961417390499264\n",
            "Epoch: 88 batch: 20 | loss: 0.0010342710884287953\n",
            "Epoch: 88 batch: 30 | loss: 0.001466955291107297\n",
            "Epoch: 88 batch: 40 | loss: 0.001530539127998054\n",
            "Epoch: 88 batch: 50 | loss: 0.002060891594737768\n",
            "Epoch: 88 batch: 60 | loss: 0.0014234425034373999\n",
            "Epoch: 88 batch: 70 | loss: 0.001622149720788002\n",
            "Epoch: 88 batch: 80 | loss: 0.0008481683908030391\n",
            "Epoch: 88 batch: 90 | loss: 0.0009709118166938424\n",
            "Epoch: 88 batch: 100 | loss: 0.0015221108915284276\n",
            "Epoch: 88 batch: 110 | loss: 0.0011907530715689063\n",
            "Epoch: 88 valLoss: 0.0007923683940148277\n"
          ]
        },
        {
          "output_type": "stream",
          "name": "stderr",
          "text": [
            "/usr/local/lib/python3.10/dist-packages/torch/utils/data/dataloader.py:617: UserWarning: This DataLoader will create 4 worker processes in total. Our suggested max number of worker in current system is 2, which is smaller than what this DataLoader is going to create. Please be aware that excessive worker creation might get DataLoader running slow or even freeze, lower the worker number to avoid potential slowness/freeze if necessary.\n",
            "  warnings.warn(\n"
          ]
        },
        {
          "output_type": "stream",
          "name": "stdout",
          "text": [
            "Epoch: 89 batch: 0 | loss: 0.001205169246532023\n",
            "Epoch: 89 batch: 10 | loss: 0.0012813913635909557\n",
            "Epoch: 89 batch: 20 | loss: 0.0011190123623237014\n",
            "Epoch: 89 batch: 30 | loss: 0.0019933078438043594\n",
            "Epoch: 89 batch: 40 | loss: 0.0017219600267708302\n",
            "Epoch: 89 batch: 50 | loss: 0.0019212994957342744\n",
            "Epoch: 89 batch: 60 | loss: 0.00136724638286978\n",
            "Epoch: 89 batch: 70 | loss: 0.001606560661457479\n",
            "Epoch: 89 batch: 80 | loss: 0.0008602456073276699\n",
            "Epoch: 89 batch: 90 | loss: 0.0008884106646291912\n",
            "Epoch: 89 batch: 100 | loss: 0.0012596198357641697\n",
            "Epoch: 89 batch: 110 | loss: 0.0012730653397738934\n",
            "Epoch: 89 valLoss: 0.000841779337027778\n"
          ]
        },
        {
          "output_type": "stream",
          "name": "stderr",
          "text": [
            "/usr/local/lib/python3.10/dist-packages/torch/utils/data/dataloader.py:617: UserWarning: This DataLoader will create 4 worker processes in total. Our suggested max number of worker in current system is 2, which is smaller than what this DataLoader is going to create. Please be aware that excessive worker creation might get DataLoader running slow or even freeze, lower the worker number to avoid potential slowness/freeze if necessary.\n",
            "  warnings.warn(\n"
          ]
        },
        {
          "output_type": "stream",
          "name": "stdout",
          "text": [
            "Epoch: 90 batch: 0 | loss: 0.001332336338236928\n",
            "Epoch: 90 batch: 10 | loss: 0.0013626331929117441\n",
            "Epoch: 90 batch: 20 | loss: 0.0008355443133041263\n",
            "Epoch: 90 batch: 30 | loss: 0.0013859579339623451\n",
            "Epoch: 90 batch: 40 | loss: 0.002216540277004242\n",
            "Epoch: 90 batch: 50 | loss: 0.0017573469085618854\n",
            "Epoch: 90 batch: 60 | loss: 0.001299555297009647\n",
            "Epoch: 90 batch: 70 | loss: 0.0016842754557728767\n",
            "Epoch: 90 batch: 80 | loss: 0.0009425189346075058\n",
            "Epoch: 90 batch: 90 | loss: 0.0009763165144249797\n",
            "Epoch: 90 batch: 100 | loss: 0.0015957546420395374\n",
            "Epoch: 90 batch: 110 | loss: 0.0009372947970405221\n",
            "Epoch: 90 valLoss: 0.0008979325658799262\n"
          ]
        },
        {
          "output_type": "stream",
          "name": "stderr",
          "text": [
            "/usr/local/lib/python3.10/dist-packages/torch/utils/data/dataloader.py:617: UserWarning: This DataLoader will create 4 worker processes in total. Our suggested max number of worker in current system is 2, which is smaller than what this DataLoader is going to create. Please be aware that excessive worker creation might get DataLoader running slow or even freeze, lower the worker number to avoid potential slowness/freeze if necessary.\n",
            "  warnings.warn(\n"
          ]
        },
        {
          "output_type": "stream",
          "name": "stdout",
          "text": [
            "Epoch: 91 batch: 0 | loss: 0.0013624188723042607\n",
            "Epoch: 91 batch: 10 | loss: 0.0012009734055027366\n",
            "Epoch: 91 batch: 20 | loss: 0.0008372505544684827\n",
            "Epoch: 91 batch: 30 | loss: 0.0015437004622071981\n",
            "Epoch: 91 batch: 40 | loss: 0.0019704215228557587\n",
            "Epoch: 91 batch: 50 | loss: 0.0016642833361402154\n",
            "Epoch: 91 batch: 60 | loss: 0.0012605453375726938\n",
            "Epoch: 91 batch: 70 | loss: 0.0016715434612706304\n",
            "Epoch: 91 batch: 80 | loss: 0.0010151277529075742\n",
            "Epoch: 91 batch: 90 | loss: 0.0009827789617702365\n",
            "Epoch: 91 batch: 100 | loss: 0.0015529673546552658\n",
            "Epoch: 91 batch: 110 | loss: 0.0009816200472414494\n",
            "Epoch: 91 valLoss: 0.0009288455841243193\n"
          ]
        },
        {
          "output_type": "stream",
          "name": "stderr",
          "text": [
            "/usr/local/lib/python3.10/dist-packages/torch/utils/data/dataloader.py:617: UserWarning: This DataLoader will create 4 worker processes in total. Our suggested max number of worker in current system is 2, which is smaller than what this DataLoader is going to create. Please be aware that excessive worker creation might get DataLoader running slow or even freeze, lower the worker number to avoid potential slowness/freeze if necessary.\n",
            "  warnings.warn(\n"
          ]
        },
        {
          "output_type": "stream",
          "name": "stdout",
          "text": [
            "Epoch: 92 batch: 0 | loss: 0.001670238096266985\n",
            "Epoch: 92 batch: 10 | loss: 0.0009327285806648433\n",
            "Epoch: 92 batch: 20 | loss: 0.0007507354021072388\n",
            "Epoch: 92 batch: 30 | loss: 0.0015987816732376814\n",
            "Epoch: 92 batch: 40 | loss: 0.001578674535267055\n",
            "Epoch: 92 batch: 50 | loss: 0.0015917783603072166\n",
            "Epoch: 92 batch: 60 | loss: 0.0011039633536711335\n",
            "Epoch: 92 batch: 70 | loss: 0.0016703198198229074\n",
            "Epoch: 92 batch: 80 | loss: 0.0008335203165188432\n",
            "Epoch: 92 batch: 90 | loss: 0.0007385804201476276\n",
            "Epoch: 92 batch: 100 | loss: 0.0014386017573997378\n",
            "Epoch: 92 batch: 110 | loss: 0.0013119893847033381\n",
            "Epoch: 92 valLoss: 0.0008050771690786599\n"
          ]
        },
        {
          "output_type": "stream",
          "name": "stderr",
          "text": [
            "/usr/local/lib/python3.10/dist-packages/torch/utils/data/dataloader.py:617: UserWarning: This DataLoader will create 4 worker processes in total. Our suggested max number of worker in current system is 2, which is smaller than what this DataLoader is going to create. Please be aware that excessive worker creation might get DataLoader running slow or even freeze, lower the worker number to avoid potential slowness/freeze if necessary.\n",
            "  warnings.warn(\n"
          ]
        },
        {
          "output_type": "stream",
          "name": "stdout",
          "text": [
            "Epoch: 93 batch: 0 | loss: 0.0012610764242708683\n",
            "Epoch: 93 batch: 10 | loss: 0.0008658043807372451\n",
            "Epoch: 93 batch: 20 | loss: 0.000853816804010421\n",
            "Epoch: 93 batch: 30 | loss: 0.0016319991555064917\n",
            "Epoch: 93 batch: 40 | loss: 0.0019395423587411642\n",
            "Epoch: 93 batch: 50 | loss: 0.0014353444566950202\n",
            "Epoch: 93 batch: 60 | loss: 0.0009171997662633657\n",
            "Epoch: 93 batch: 70 | loss: 0.0010831205872818828\n",
            "Epoch: 93 batch: 80 | loss: 0.0007232267525978386\n",
            "Epoch: 93 batch: 90 | loss: 0.0007792511605657637\n",
            "Epoch: 93 batch: 100 | loss: 0.0015103071928024292\n",
            "Epoch: 93 batch: 110 | loss: 0.0011076449882239103\n",
            "Epoch: 93 valLoss: 0.0008197563312367453\n"
          ]
        },
        {
          "output_type": "stream",
          "name": "stderr",
          "text": [
            "/usr/local/lib/python3.10/dist-packages/torch/utils/data/dataloader.py:617: UserWarning: This DataLoader will create 4 worker processes in total. Our suggested max number of worker in current system is 2, which is smaller than what this DataLoader is going to create. Please be aware that excessive worker creation might get DataLoader running slow or even freeze, lower the worker number to avoid potential slowness/freeze if necessary.\n",
            "  warnings.warn(\n"
          ]
        },
        {
          "output_type": "stream",
          "name": "stdout",
          "text": [
            "Epoch: 94 batch: 0 | loss: 0.0012383698485791683\n",
            "Epoch: 94 batch: 10 | loss: 0.0012904310133308172\n",
            "Epoch: 94 batch: 20 | loss: 0.001225389540195465\n",
            "Epoch: 94 batch: 30 | loss: 0.001356631750240922\n",
            "Epoch: 94 batch: 40 | loss: 0.0014023191761225462\n",
            "Epoch: 94 batch: 50 | loss: 0.0015973063418641686\n",
            "Epoch: 94 batch: 60 | loss: 0.0009903009049594402\n",
            "Epoch: 94 batch: 70 | loss: 0.00163665518630296\n",
            "Epoch: 94 batch: 80 | loss: 0.0007678134134039283\n",
            "Epoch: 94 batch: 90 | loss: 0.0007098381756804883\n",
            "Epoch: 94 batch: 100 | loss: 0.0014582937583327293\n",
            "Epoch: 94 batch: 110 | loss: 0.0010360396699979901\n",
            "Epoch: 94 valLoss: 0.0008272039496112672\n"
          ]
        },
        {
          "output_type": "stream",
          "name": "stderr",
          "text": [
            "/usr/local/lib/python3.10/dist-packages/torch/utils/data/dataloader.py:617: UserWarning: This DataLoader will create 4 worker processes in total. Our suggested max number of worker in current system is 2, which is smaller than what this DataLoader is going to create. Please be aware that excessive worker creation might get DataLoader running slow or even freeze, lower the worker number to avoid potential slowness/freeze if necessary.\n",
            "  warnings.warn(\n"
          ]
        },
        {
          "output_type": "stream",
          "name": "stdout",
          "text": [
            "Epoch: 95 batch: 0 | loss: 0.0013115465408191085\n",
            "Epoch: 95 batch: 10 | loss: 0.0011047014268115163\n",
            "Epoch: 95 batch: 20 | loss: 0.000864101923070848\n",
            "Epoch: 95 batch: 30 | loss: 0.0018789840396493673\n",
            "Epoch: 95 batch: 40 | loss: 0.001741890562698245\n",
            "Epoch: 95 batch: 50 | loss: 0.002076319418847561\n",
            "Epoch: 95 batch: 60 | loss: 0.0013464128132909536\n",
            "Epoch: 95 batch: 70 | loss: 0.00160549720749259\n",
            "Epoch: 95 batch: 80 | loss: 0.0008639604784548283\n",
            "Epoch: 95 batch: 90 | loss: 0.0008918459061533213\n",
            "Epoch: 95 batch: 100 | loss: 0.0013316025724634528\n",
            "Epoch: 95 batch: 110 | loss: 0.0012288743164390326\n",
            "Epoch: 95 valLoss: 0.0008159766561855507\n"
          ]
        },
        {
          "output_type": "stream",
          "name": "stderr",
          "text": [
            "/usr/local/lib/python3.10/dist-packages/torch/utils/data/dataloader.py:617: UserWarning: This DataLoader will create 4 worker processes in total. Our suggested max number of worker in current system is 2, which is smaller than what this DataLoader is going to create. Please be aware that excessive worker creation might get DataLoader running slow or even freeze, lower the worker number to avoid potential slowness/freeze if necessary.\n",
            "  warnings.warn(\n"
          ]
        },
        {
          "output_type": "stream",
          "name": "stdout",
          "text": [
            "Epoch: 96 batch: 0 | loss: 0.0015011022333055735\n",
            "Epoch: 96 batch: 10 | loss: 0.0012537710135802627\n",
            "Epoch: 96 batch: 20 | loss: 0.0011547578033059835\n",
            "Epoch: 96 batch: 30 | loss: 0.0015276179183274508\n",
            "Epoch: 96 batch: 40 | loss: 0.001610888633877039\n",
            "Epoch: 96 batch: 50 | loss: 0.0020057344809174538\n",
            "Epoch: 96 batch: 60 | loss: 0.0012692122254520655\n",
            "Epoch: 96 batch: 70 | loss: 0.0015374929644167423\n",
            "Epoch: 96 batch: 80 | loss: 0.0006810851045884192\n",
            "Epoch: 96 batch: 90 | loss: 0.0009304443374276161\n",
            "Epoch: 96 batch: 100 | loss: 0.0014816105831414461\n",
            "Epoch: 96 batch: 110 | loss: 0.001065172255039215\n",
            "Epoch: 96 valLoss: 0.0008410882576100789\n"
          ]
        },
        {
          "output_type": "stream",
          "name": "stderr",
          "text": [
            "/usr/local/lib/python3.10/dist-packages/torch/utils/data/dataloader.py:617: UserWarning: This DataLoader will create 4 worker processes in total. Our suggested max number of worker in current system is 2, which is smaller than what this DataLoader is going to create. Please be aware that excessive worker creation might get DataLoader running slow or even freeze, lower the worker number to avoid potential slowness/freeze if necessary.\n",
            "  warnings.warn(\n"
          ]
        },
        {
          "output_type": "stream",
          "name": "stdout",
          "text": [
            "Epoch: 97 batch: 0 | loss: 0.0014242121251299977\n",
            "Epoch: 97 batch: 10 | loss: 0.0011550941271707416\n",
            "Epoch: 97 batch: 20 | loss: 0.0010332321980968118\n",
            "Epoch: 97 batch: 30 | loss: 0.0015230593271553516\n",
            "Epoch: 97 batch: 40 | loss: 0.0018185651861131191\n",
            "Epoch: 97 batch: 50 | loss: 0.0017847242997959256\n",
            "Epoch: 97 batch: 60 | loss: 0.0013321137521415949\n",
            "Epoch: 97 batch: 70 | loss: 0.0015177481109276414\n",
            "Epoch: 97 batch: 80 | loss: 0.0008109838236123323\n",
            "Epoch: 97 batch: 90 | loss: 0.0008043705020099878\n",
            "Epoch: 97 batch: 100 | loss: 0.001257573370821774\n",
            "Epoch: 97 batch: 110 | loss: 0.001184894354082644\n",
            "Epoch: 97 valLoss: 0.000805516370492057\n"
          ]
        },
        {
          "output_type": "stream",
          "name": "stderr",
          "text": [
            "/usr/local/lib/python3.10/dist-packages/torch/utils/data/dataloader.py:617: UserWarning: This DataLoader will create 4 worker processes in total. Our suggested max number of worker in current system is 2, which is smaller than what this DataLoader is going to create. Please be aware that excessive worker creation might get DataLoader running slow or even freeze, lower the worker number to avoid potential slowness/freeze if necessary.\n",
            "  warnings.warn(\n"
          ]
        },
        {
          "output_type": "stream",
          "name": "stdout",
          "text": [
            "Epoch: 98 batch: 0 | loss: 0.0014136721147224307\n",
            "Epoch: 98 batch: 10 | loss: 0.0011277960147708654\n",
            "Epoch: 98 batch: 20 | loss: 0.0008946001180447638\n",
            "Epoch: 98 batch: 30 | loss: 0.0019313140073791146\n",
            "Epoch: 98 batch: 40 | loss: 0.0015075625851750374\n",
            "Epoch: 98 batch: 50 | loss: 0.0016154281329363585\n",
            "Epoch: 98 batch: 60 | loss: 0.0011819936335086823\n",
            "Epoch: 98 batch: 70 | loss: 0.0014305198565125465\n",
            "Epoch: 98 batch: 80 | loss: 0.0007656580419279635\n",
            "Epoch: 98 batch: 90 | loss: 0.0009334076312370598\n",
            "Epoch: 98 batch: 100 | loss: 0.0012597196036949754\n",
            "Epoch: 98 batch: 110 | loss: 0.0011223910842090845\n",
            "Epoch: 98 valLoss: 0.0007992765425917474\n"
          ]
        },
        {
          "output_type": "stream",
          "name": "stderr",
          "text": [
            "/usr/local/lib/python3.10/dist-packages/torch/utils/data/dataloader.py:617: UserWarning: This DataLoader will create 4 worker processes in total. Our suggested max number of worker in current system is 2, which is smaller than what this DataLoader is going to create. Please be aware that excessive worker creation might get DataLoader running slow or even freeze, lower the worker number to avoid potential slowness/freeze if necessary.\n",
            "  warnings.warn(\n"
          ]
        },
        {
          "output_type": "stream",
          "name": "stdout",
          "text": [
            "Epoch: 99 batch: 0 | loss: 0.001358385430648923\n",
            "Epoch: 99 batch: 10 | loss: 0.0012645939132198691\n",
            "Epoch: 99 batch: 20 | loss: 0.0009684741962701082\n",
            "Epoch: 99 batch: 30 | loss: 0.001850438304245472\n",
            "Epoch: 99 batch: 40 | loss: 0.002337999176234007\n",
            "Epoch: 99 batch: 50 | loss: 0.002070129383355379\n",
            "Epoch: 99 batch: 60 | loss: 0.001667876378633082\n",
            "Epoch: 99 batch: 70 | loss: 0.001901610754430294\n",
            "Epoch: 99 batch: 80 | loss: 0.0007152234320528805\n",
            "Epoch: 99 batch: 90 | loss: 0.0010263199219480157\n",
            "Epoch: 99 batch: 100 | loss: 0.001265803468413651\n",
            "Epoch: 99 batch: 110 | loss: 0.0011482486734166741\n",
            "Epoch: 99 valLoss: 0.000919940368600576\n"
          ]
        },
        {
          "output_type": "display_data",
          "data": {
            "text/plain": [
              "<Figure size 1000x500 with 1 Axes>"
            ],
            "image/png": "[encoded data removed]"
          },
          "metadata": {}
        },
        {
          "output_type": "stream",
          "name": "stdout",
          "text": [
            "Testing...\n",
            "r2Score:  -1.4487976236903406\n",
            "meanSquaredError:  0.05690383478589887\n",
            "RMSE:  0.23854524683149497\n",
            "meanAbsoluteError:  0.19275306285958987\n"
          ]
        },
        {
          "output_type": "display_data",
          "data": {
            "text/plain": [
              "<Figure size 1200x300 with 1 Axes>"
            ],
            "image/png": "[encoded data removed]"
          },
          "metadata": {}
        }
      ]
    }
  ]
}