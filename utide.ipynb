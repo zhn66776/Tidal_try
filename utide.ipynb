{
 "cells": [
  {
   "cell_type": "code",
   "execution_count": null,
   "metadata": {},
   "outputs": [],
   "source": [
    "%matplotlib inline\n",
    "\n",
    "import datetime\n",
    "\n",
    "import numpy as np\n",
    "import matplotlib.pyplot as plt\n",
    "\n",
    "import pandas as pd\n",
    "\n",
    "import utide\n",
    "\n",
    "print(utide.__version__)"
   ]
  },
  {
   "cell_type": "code",
   "execution_count": null,
   "metadata": {},
   "outputs": [],
   "source": [
    "# prompt: !pip install utide\n",
    "\n",
    "import os\n",
    "\n",
    "# Check if UTide directory exists, if not, clone it\n",
    "if not os.path.exists('UTide'):\n",
    "    !git clone https://github.com/wesleybowman/UTide.git\n",
    "\n",
    "# Add UTide to the Python path\n",
    "import sys\n",
    "sys.path.insert(0, 'UTide')\n",
    "\n",
    "import utide\n",
    "\n",
    "utide.__version__"
   ]
  },
  {
   "cell_type": "code",
   "execution_count": null,
   "metadata": {},
   "outputs": [],
   "source": [
    "!pip install utide"
   ]
  },
  {
   "cell_type": "code",
   "execution_count": null,
   "metadata": {},
   "outputs": [],
   "source": [
    "with open(\"./notebooks/can1998.dtf\") as f:\n",
    "    lines = f.readlines()\n",
    "\n",
    "print(\"\".join(lines[:5]))"
   ]
  },
  {
   "cell_type": "code",
   "execution_count": null,
   "metadata": {},
   "outputs": [],
   "source": [
    "names = [\"seconds\", \"year\", \"month\", \"day\", \"hour\", \"elev\", \"flag\"]\n",
    "\n",
    "obs = pd.read_csv(\n",
    "    \"./notebooks/can1998.dtf\",\n",
    "    names=names,\n",
    "    skipinitialspace=True,\n",
    "    delim_whitespace=True,\n",
    "    na_values=\"9.990\",\n",
    ")\n",
    "\n",
    "\n",
    "date_cols = [\"year\", \"month\", \"day\", \"hour\"]\n",
    "index = pd.to_datetime(obs[date_cols])\n",
    "obs = obs.drop(date_cols, axis=1)\n",
    "obs.index = index\n",
    "\n",
    "obs.head(5)"
   ]
  },
  {
   "cell_type": "code",
   "execution_count": null,
   "metadata": {},
   "outputs": [],
   "source": [
    "bad = obs[\"flag\"] == 2\n",
    "corrected = obs[\"flag\"] == 1\n",
    "\n",
    "obs.loc[bad, \"elev\"] = np.nan\n",
    "obs[\"anomaly\"] = obs[\"elev\"] - obs[\"elev\"].mean()\n",
    "obs[\"anomaly\"] = obs[\"anomaly\"].interpolate()\n",
    "print(f\"{bad.sum()} points were flagged 'bad' and interpolated\")\n",
    "print(f\"{corrected.sum()} points were flagged 'corrected' and left unchanged\")"
   ]
  },
  {
   "cell_type": "code",
   "execution_count": null,
   "metadata": {},
   "outputs": [],
   "source": [
    "coef = utide.solve(\n",
    "    obs.index,\n",
    "    obs[\"anomaly\"],\n",
    "    lat=-25,\n",
    "    method=\"ols\",\n",
    "    conf_int=\"MC\",\n",
    "    verbose=False,\n",
    ")"
   ]
  },
  {
   "cell_type": "code",
   "execution_count": null,
   "metadata": {},
   "outputs": [],
   "source": [
    "print(coef.keys())"
   ]
  },
  {
   "cell_type": "code",
   "execution_count": null,
   "metadata": {},
   "outputs": [],
   "source": [
    "tide = utide.reconstruct(obs.index, coef, verbose=False)"
   ]
  },
  {
   "cell_type": "code",
   "execution_count": null,
   "metadata": {},
   "outputs": [],
   "source": [
    "print(tide.keys())"
   ]
  },
  {
   "cell_type": "code",
   "execution_count": null,
   "metadata": {},
   "outputs": [],
   "source": [
    "t = obs.index.to_pydatetime()\n",
    "\n",
    "fig, (ax0, ax1, ax2) = plt.subplots(figsize=(17, 5), nrows=3, sharey=True, sharex=True)\n",
    "\n",
    "ax0.plot(t, obs.anomaly, label=\"Observations\", color=\"C0\")\n",
    "ax1.plot(t, tide.h, label=\"Prediction\", color=\"C1\")\n",
    "ax2.plot(t, obs.anomaly - tide.h, label=\"Residual\", color=\"C2\")\n",
    "fig.legend(ncol=3, loc=\"upper center\");"
   ]
  },
  {
   "cell_type": "code",
   "execution_count": null,
   "metadata": {},
   "outputs": [],
   "source": [
    "last_month = obs.loc['1998-12-01':'1999-01-01']\n",
    "# 确保 last_month.index 与 obs.index 对齐，并找到索引位置\n",
    "index_positions = obs.index.get_indexer(last_month.index)\n",
    "\n",
    "# 使用这些索引位置从 tide.h 中提取对应的预测数据\n",
    "pred_last_month = tide.h[index_positions]\n",
    "t_last = last_month.index.to_pydatetime()\n",
    "#pred_last_month = tide.h[last_month.index]\n",
    "fig, (ax0, ax1, ax2) = plt.subplots(figsize=(17, 5), nrows=3, sharey=True, sharex=True)\n",
    "plt.plot(t_last, last_month.anomaly, label=\"Observations\", color=\"C0\")\n",
    "plt.plot(t_last, pred_last_month, label=\"Prediction\", color=\"C1\")\n",
    "plt.legend()\n",
    "plt.show()"
   ]
  },
  {
   "cell_type": "code",
   "execution_count": null,
   "metadata": {},
   "outputs": [],
   "source": [
    "# 确保 last_month.index 与 obs.index 对齐，并找到索引位置\n",
    "index_positions = obs.index.get_indexer(last_month.index)\n",
    "\n",
    "# 使用这些索引位置从 tide.h 中提取对应的预测数据\n",
    "pred_last_month = tide.h[index_positions]\n",
    "\n",
    "# 计算最后一个月的残差\n",
    "residual_last_month = last_month.anomaly - pred_last_month\n",
    "\n",
    "# 绘制图像\n",
    "t_last = last_month.index.to_pydatetime()\n",
    "fig, (ax0, ax1, ax2) = plt.subplots(figsize=(17, 5), nrows=3, sharey=True, sharex=True)\n",
    "\n",
    "ax0.plot(t_last, last_month.anomaly, label=\"Observations\", color=\"C0\")\n",
    "ax1.plot(t_last, pred_last_month, label=\"Prediction\", color=\"C1\")\n",
    "ax2.plot(t_last, residual_last_month, label=\"Residual\", color=\"C2\")\n",
    "\n",
    "fig.legend(ncol=3, loc=\"upper center\")\n",
    "plt.show()"
   ]
  },
  {
   "cell_type": "code",
   "execution_count": null,
   "metadata": {},
   "outputs": [],
   "source": [
    "import numpy as np\n",
    "\n",
    "# 确保 last_month.index 与 obs.index 对齐，并找到索引位置\n",
    "index_positions = obs.index.get_indexer(last_month.index)\n",
    "\n",
    "# 使用这些索引位置从 tide.h 中提取对应的预测数据\n",
    "pred_last_month = tide.h[index_positions]\n",
    "\n",
    "# 计算最后一个月的残差\n",
    "residual_last_month = last_month.anomaly - pred_last_month\n",
    "\n",
    "# 计算残差的平方（即误差平方）\n",
    "mse_last_month = residual_last_month ** 2\n",
    "\n",
    "# 计算整个时间段的平均 MSE\n",
    "avg_mse = np.mean(mse_last_month)\n",
    "print(f\"Average MSE for last month: {avg_mse}\")\n",
    "\n",
    "# 绘制图像\n",
    "t_last = last_month.index.to_pydatetime()\n",
    "fig, (ax0, ax1, ax2, ax3) = plt.subplots(figsize=(17, 8), nrows=4, sharey=False, sharex=True)\n",
    "\n",
    "ax0.plot(t_last, last_month.anomaly, label=\"Observations\", color=\"C0\")\n",
    "ax1.plot(t_last, pred_last_month, label=\"Prediction\", color=\"C1\")\n",
    "ax2.plot(t_last, residual_last_month, label=\"Residual\", color=\"C2\")\n",
    "ax3.plot(t_last, mse_last_month, label=\"MSE\", color=\"C3\")\n",
    "\n",
    "fig.legend(ncol=4, loc=\"upper center\")\n",
    "plt.show()\n"
   ]
  }
 ],
 "metadata": {
  "language_info": {
   "name": "python"
  }
 },
 "nbformat": 4,
 "nbformat_minor": 2
}
